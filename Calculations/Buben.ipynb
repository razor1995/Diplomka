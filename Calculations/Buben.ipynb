{
 "metadata": {
  "language_info": {
   "codemirror_mode": {
    "name": "ipython",
    "version": 3
   },
   "file_extension": ".py",
   "mimetype": "text/x-python",
   "name": "python",
   "nbconvert_exporter": "python",
   "pygments_lexer": "ipython3",
   "version": "3.8.1"
  },
  "orig_nbformat": 2,
  "kernelspec": {
   "name": "python381jvsc74a57bd05d51d6ae34598c0fb6c991a1d00f12281f94b7bdfbe904ddf7a4d1c958631cdc",
   "display_name": "Python 3.8.1 64-bit"
  }
 },
 "nbformat": 4,
 "nbformat_minor": 2,
 "cells": [
  {
   "cell_type": "code",
   "execution_count": 4,
   "metadata": {},
   "outputs": [],
   "source": [
    "import pandas as pd\n",
    "import handcalcs.render\n",
    "from math import pi\n",
    "\n",
    "pd.set_option(\"display.precision\", 4)"
   ]
  },
  {
   "cell_type": "code",
   "execution_count": 5,
   "metadata": {},
   "outputs": [
    {
     "output_type": "display_data",
     "data": {
      "text/plain": "<IPython.core.display.Latex object>",
      "text/latex": "\\[\n\\begin{aligned}\nm_{p} &= \\frac{ 76 \\cdot 1000 }{ 3600 } &= 21.111 \\; \\;\\textrm{(kg/s)}\n\\\\[10pt]\nm_{vst} &= 0.36 \\; \\;\\textrm{(kg/s)}\n\\\\[10pt]\nm_{p2} &= m_{p} - m_{vst}  = 21.111 - 0.36 &= 20.751 \\; \\;\\textrm{(kg/s)}\n\\end{aligned}\n\\]"
     },
     "metadata": {}
    }
   ],
   "source": [
    "%%render\n",
    "m_p = (76*1000)/3600        #kg/s\n",
    "m_vst = 0.36                #kg/s\n",
    "m_p2 = m_p - m_vst          #kg/s"
   ]
  },
  {
   "cell_type": "code",
   "execution_count": 34,
   "metadata": {},
   "outputs": [
    {
     "output_type": "display_data",
     "data": {
      "text/plain": "<IPython.core.display.Latex object>",
      "text/latex": "\\[\n\\begin{aligned}\nD_{B} &= 2 \\; \\;\\textrm{(m)}\n\\\\[10pt]\nt_{B} &= 0.036 \\; \\;\\textrm{(m)}\n\\\\[10pt]\nd_{B} &= D_{B} - 2 \\cdot t_{B}  = 2 - 2 \\cdot 0.036 &= 1.928 \\; \\;\\textrm{(m)}\n\\\\[10pt]\nl_{B} &= 6.8 \\; \\;\\textrm{(m)}\n\\end{aligned}\n\\]"
     },
     "metadata": {}
    }
   ],
   "source": [
    "%%render\n",
    "D_B = 2             #m\n",
    "t_B = 0.036         #m\n",
    "d_B = D_B - 2*t_B   #m\n",
    "l_B = 6.8           #m"
   ]
  },
  {
   "source": [
    "Tlak v bubnu je roven tlaku ve výparníku"
   ],
   "cell_type": "markdown",
   "metadata": {}
  },
  {
   "cell_type": "code",
   "execution_count": 7,
   "metadata": {},
   "outputs": [
    {
     "output_type": "display_data",
     "data": {
      "text/plain": "<IPython.core.display.Latex object>",
      "text/latex": "\\[\n\\begin{aligned}\np_{B} &= 3.38 \\; \\;\\textrm{(MPa)}\n\\end{aligned}\n\\]"
     },
     "metadata": {}
    }
   ],
   "source": [
    "%%render\n",
    "p_B = 3.38      #MPa"
   ]
  },
  {
   "source": [
    "Objem kotlové vody v bubnu při poloviční hladině"
   ],
   "cell_type": "markdown",
   "metadata": {}
  },
  {
   "cell_type": "code",
   "execution_count": 9,
   "metadata": {},
   "outputs": [
    {
     "output_type": "display_data",
     "data": {
      "text/plain": "<IPython.core.display.Latex object>",
      "text/latex": "\\[\n\\begin{aligned}\nV_{B} &= \\frac{ \\pi \\cdot d_{B} }{ 4 } \\cdot \\frac{ l_{B} }{ 2 }  = \\frac{ 3.142 \\cdot 1.928 }{ 4 } \\cdot \\frac{ 6.8 }{ 2 } &= 5.148 \\; \\;\\textrm{(m3)}\n\\end{aligned}\n\\]"
     },
     "metadata": {}
    }
   ],
   "source": [
    "%%render\n",
    "V_B = (pi*d_B)/4 * l_B/2    #m3"
   ]
  },
  {
   "source": [
    "Zatížení bubnu (teče tam nižší m_p, kvůli odebranému vstřiku)"
   ],
   "cell_type": "markdown",
   "metadata": {}
  },
  {
   "cell_type": "code",
   "execution_count": 12,
   "metadata": {},
   "outputs": [
    {
     "output_type": "display_data",
     "data": {
      "text/plain": "<IPython.core.display.Latex object>",
      "text/latex": "\\[\n\\begin{aligned}\nz_{B} &= \\frac{ m_{p} }{ V_{B} }  = \\frac{ 21.111 }{ 5.148 } &= 4.1 \\; \\;\\textrm{(kg/s/m3)}\n\\end{aligned}\n\\]"
     },
     "metadata": {}
    }
   ],
   "source": [
    "%%render\n",
    "z_B = m_p / V_B     #kg/s/m3"
   ]
  },
  {
   "source": [
    "Zatížení pro daný tlak - určeno interpolací z tabulek PBS od Ing. Křeminského"
   ],
   "cell_type": "markdown",
   "metadata": {}
  },
  {
   "cell_type": "code",
   "execution_count": 27,
   "metadata": {},
   "outputs": [
    {
     "output_type": "display_data",
     "data": {
      "text/plain": "<IPython.core.display.Latex object>",
      "text/latex": "\\[\n\\begin{aligned}\nz_{bezne} &= 4.86 \\; \\;\\textrm{(kg/s/m3)}\n\\end{aligned}\n\\]"
     },
     "metadata": {}
    }
   ],
   "source": [
    "%%render\n",
    "z_bezne = 4.86      #kg/s/m3"
   ]
  },
  {
   "cell_type": "code",
   "execution_count": 28,
   "metadata": {},
   "outputs": [
    {
     "output_type": "stream",
     "name": "stdout",
     "text": [
      "VYHOVUJE\n"
     ]
    }
   ],
   "source": [
    "if z_B < z_bezne:\n",
    "    print('VYHOVUJE')\n",
    "else:\n",
    "    print('Nevyhovuje')"
   ]
  },
  {
   "cell_type": "code",
   "execution_count": 35,
   "metadata": {},
   "outputs": [
    {
     "output_type": "display_data",
     "data": {
      "text/plain": "<IPython.core.display.Latex object>",
      "text/latex": "\\[\n\\begin{aligned}\n&\\text{Since, } z_{B} \\lt z_{bezne} \\rightarrow \\left( 4.1 \\lt 4.86 \\right) :   \\end{aligned}\n\\]\n\\[\n\\begin{aligned}\n\\\\[10pt]\nz_{B} &= 4.1 \\; \n\\end{aligned}\n\\]"
     },
     "metadata": {}
    }
   ],
   "source": [
    "%%render\n",
    "if z_B < z_bezne:\n",
    "    z_B"
   ]
  },
  {
   "cell_type": "code",
   "execution_count": 36,
   "metadata": {},
   "outputs": [],
   "source": [
    "MEZERA = ''\n",
    "material_plaste = 'P355GH'\n",
    "material_v = '13CrMo44'\n",
    "data_buben = {\n",
    "    'Hodnota':\n",
    "    [D_B*1000, t_B*1000, d_B*1000, l_B*1000, z_B, z_bezne, material_plaste, material_v],\n",
    "\n",
    "    'Jednotka': \n",
    "    ['mm','mm','mm','mm','kg/s/m3','kg/s/m3','-','-']\n",
    "\n",
    "    }\n",
    "zkratky = ['D_B','t_B','d_B','l_B','z_B','z_běžné','Materiál pláště','Materiál vestaveb']\n",
    "output_table = pd.DataFrame(data_buben, index = zkratky)"
   ]
  },
  {
   "cell_type": "code",
   "execution_count": 39,
   "metadata": {},
   "outputs": [
    {
     "output_type": "execute_result",
     "data": {
      "text/plain": [
       "                    Hodnota Jednotka\n",
       "D_B                    2000       mm\n",
       "t_B                      36       mm\n",
       "d_B                    1928       mm\n",
       "l_B                    6800       mm\n",
       "z_B                     4.1  kg/s/m3\n",
       "z_běžné                4.86  kg/s/m3\n",
       "Materiál pláště      P355GH        -\n",
       "Materiál vestaveb  13CrMo44        -"
      ],
      "text/html": "<div>\n<style scoped>\n    .dataframe tbody tr th:only-of-type {\n        vertical-align: middle;\n    }\n\n    .dataframe tbody tr th {\n        vertical-align: top;\n    }\n\n    .dataframe thead th {\n        text-align: right;\n    }\n</style>\n<table border=\"1\" class=\"dataframe\">\n  <thead>\n    <tr style=\"text-align: right;\">\n      <th></th>\n      <th>Hodnota</th>\n      <th>Jednotka</th>\n    </tr>\n  </thead>\n  <tbody>\n    <tr>\n      <th>D_B</th>\n      <td>2000</td>\n      <td>mm</td>\n    </tr>\n    <tr>\n      <th>t_B</th>\n      <td>36</td>\n      <td>mm</td>\n    </tr>\n    <tr>\n      <th>d_B</th>\n      <td>1928</td>\n      <td>mm</td>\n    </tr>\n    <tr>\n      <th>l_B</th>\n      <td>6800</td>\n      <td>mm</td>\n    </tr>\n    <tr>\n      <th>z_B</th>\n      <td>4.1</td>\n      <td>kg/s/m3</td>\n    </tr>\n    <tr>\n      <th>z_běžné</th>\n      <td>4.86</td>\n      <td>kg/s/m3</td>\n    </tr>\n    <tr>\n      <th>Materiál pláště</th>\n      <td>P355GH</td>\n      <td>-</td>\n    </tr>\n    <tr>\n      <th>Materiál vestaveb</th>\n      <td>13CrMo44</td>\n      <td>-</td>\n    </tr>\n  </tbody>\n</table>\n</div>"
     },
     "metadata": {},
     "execution_count": 39
    }
   ],
   "source": [
    "output_table\n",
    "\n",
    "# print(output_table.to_latex())"
   ]
  },
  {
   "cell_type": "code",
   "execution_count": 26,
   "metadata": {},
   "outputs": [
    {
     "output_type": "display_data",
     "data": {
      "text/plain": "<IPython.core.display.Latex object>",
      "text/latex": "\\[\n\\begin{aligned}\nv_{steam} &= 0.059 \\; \\;\\textrm{(m3/kg)}\n\\\\[10pt]\nv_{voda} &= 1.200 \\times 10 ^ {-3 } \\; \\;\\textrm{(m3/kg)}\n\\\\[10pt]\nV_{pary} &= v_{steam} \\cdot m_{p}  = 0.059 \\cdot 21.111 &= 1.246 \\; \\;\\textrm{(m3/s)}\n\\\\[10pt]\n\\mathrm{zatizeni} &= \\frac{ V_{pary} }{ V_{B} }  = \\frac{ 1.246 }{ 5.148 } &= 2.419 \\times 10 ^ {-1 } \\; \\;\\textrm{(m3/m3s)}\n\\end{aligned}\n\\]"
     },
     "metadata": {}
    }
   ],
   "source": [
    "%%render    \n",
    "v_steam = 5.9e-02   #m3/kg\n",
    "v_voda = 1.20e-03   #m3/kg\n",
    "V_pary = v_steam*m_p    #m3/s\n",
    "zatizeni = V_pary / V_B     #m3/m3s"
   ]
  },
  {
   "cell_type": "code",
   "execution_count": null,
   "metadata": {},
   "outputs": [],
   "source": []
  }
 ]
}