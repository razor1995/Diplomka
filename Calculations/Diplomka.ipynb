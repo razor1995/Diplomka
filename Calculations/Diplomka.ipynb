{
 "cells": [
  {
   "source": [
    "***\n",
    "# **Diplomová práce - výpočty**\n",
    "***\n",
    "### **Jméno:** Alois Primes\n",
    "### **Název práce:** MODULARNÍ HORIZONTÁLNÍ KOTEL – HRSG\n",
    "### **Zadání**\n",
    "**Stručná charakteristika problematiky úkolu:**\n",
    "\n",
    "Práce je zaměřena na návrh horizontálního kotle využívajícího spaliny za plynovou spalovací turbínou pro produkci páry k dalšímu energetickému využití. Kotel by měl být moderní konstrukce, zahrnující\n",
    "maximální prefabrikaci transportních bloků (modulů), která je ovlivněna podmínkami dopravního profilu na místo stavby. Kotel bude řešen jako modulární, s horizontálním prouděním spalin, konvekčním\n",
    "výparníkem, výhřevnými plochami ohříváku vody (ekonomizéry) a přehříváky páry s regulací teploty páry vstřikem napájecí vody, odebírané mezi dvěma ekonomizéry.\n",
    "\n",
    "**Základní parametry kotle jsou:** parní výkon 76 t/h, tlak 3,1 MPa, výstupní teplota 370 °C. Teplota\n",
    "napájecí vody kotle je 71°C. Další parametry kotle a odpadních spalin budou upřesněny v rámci\n",
    "realizace práce.\n",
    "\n",
    "**Cíle diplomové práce:**\n",
    "\n",
    "Zpracovat tepelný výpočet kotle.\n",
    "Zpracovat rozměrový návrh kotle, včetně základní výkresové dokumentace kotle a dispozičního\n",
    "řešení.\n",
    "Vyčíslit dosaženou účinnost kotle při vztažné teplotě 25 °C, použijte přímou metodu.\n",
    "Zpracovat diagram průběhu teploty pracovního média a spalin a stanovit bilanci vstřiku."
   ],
   "cell_type": "markdown",
   "metadata": {}
  },
  {
   "cell_type": "code",
   "execution_count": 58,
   "metadata": {},
   "outputs": [],
   "source": [
    "# Instalace a aktualizace modulů\n",
    "\n",
    "# !pip install --upgrade pip\n",
    "# !pip install --upgrade tabulate\n",
    "# !pip install --upgrade forallpeople\n",
    "# !pip install --upgrade handcalcs\n",
    "# !pip install --upgrade pytexit\n",
    "# !pip install --upgrade pyXSteam\n",
    "# !pip install --upgrade CoolProp"
   ]
  },
  {
   "cell_type": "code",
   "execution_count": 59,
   "metadata": {},
   "outputs": [],
   "source": [
    "# Import knihoven a modulů\n",
    "\n",
    "import pandas as pd\n",
    "from CoolProp.CoolProp import PropsSI\n",
    "import handcalcs.render\n",
    "from math import pi, e, sqrt\n",
    "from pyXSteam.XSteam import XSteam\n",
    "from tabulate import tabulate\n",
    "import pyromat as pm"
   ]
  },
  {
   "cell_type": "code",
   "execution_count": 60,
   "metadata": {},
   "outputs": [],
   "source": [
    "# Nastavení prostředí a modulů\n",
    "\n",
    "%decimal_separator ,\n",
    "steam = XSteam(XSteam.UNIT_SYSTEM_MKS) # Jednotky: m/kg/sec/°C/bar/W\n",
    "pd.set_option(\"display.precision\", 1)\n",
    "\n",
    "pm.config['unit_temperature'] = 'C'"
   ]
  },
  {
   "source": [
    "***\n",
    "## Základní parametry kotle\n",
    "***"
   ],
   "cell_type": "markdown",
   "metadata": {}
  },
  {
   "cell_type": "code",
   "execution_count": 61,
   "metadata": {},
   "outputs": [
    {
     "output_type": "display_data",
     "data": {
      "text/plain": "<IPython.core.display.Latex object>",
      "text/latex": "\\[\n\\begin{aligned}\nm_{p} &= 21{,}111 \\; \\;\\textrm{(kg/s)}\n &p_{out} &= 3{,}1 \\; \\;\\textrm{(MPa)}\n &t_{out} &= 370 \\; \\;\\textrm{(°C)}\n\\\\[10pt]\n t_{nv} &= 71 \\; \\;\\textrm{(°C)}\n &m_{vst} &= 0{,}36 \\; \\;\\textrm{(kg/s)}\n &t_{vst} &= 217 \\; \\;\\textrm{(°C)}\n\\\\[10pt]\\end{aligned}\n\\]"
     },
     "metadata": {}
    }
   ],
   "source": [
    "%%render params 3\n",
    "m_p = (76*1000)/3600        #kg/s\n",
    "p_out = 3.1                 #MPa\n",
    "t_out = 370                 #°C\n",
    "t_nv = 71                   #°C\n",
    "m_vst = 0.36                #kg/s\n",
    "t_vst = 217                 #°C"
   ]
  },
  {
   "source": [
    "***\n",
    "## Parametry spalin ze spalovací turbíny\n",
    "***"
   ],
   "cell_type": "markdown",
   "metadata": {}
  },
  {
   "cell_type": "code",
   "execution_count": 62,
   "metadata": {},
   "outputs": [],
   "source": [
    "R = 8.314462618 #J/kg/mol\n",
    "T = 273.15 #K"
   ]
  },
  {
   "source": [
    "#### koeficienty polynomů pro výpočet entalpií spalin"
   ],
   "cell_type": "markdown",
   "metadata": {}
  },
  {
   "cell_type": "code",
   "execution_count": 63,
   "metadata": {},
   "outputs": [],
   "source": [
    "# N2\n",
    "a_1_N2 = 0.3694063e+01\n",
    "a_2_N2 = -0.1334139e-02\n",
    "a_3_N2 = 0.2652067e-05\n",
    "a_4_N2 = -0.9775312e-09\n",
    "a_5_N2 = -0.9983837e-13\n",
    "a_6_N2 = -0.9758881e+03\n",
    "\n",
    "# O2\n",
    "a_1_O2 = 0.3721461e+01\n",
    "a_2_O2 = -0.2518398e-02\n",
    "a_3_O2 = 0.8589429e-05\n",
    "a_4_O2 = -0.8305377e-08\n",
    "a_5_O2 = 0.2710013e-11\n",
    "a_6_O2 = -0.9701834e+03\n",
    "\n",
    "# CO2\n",
    "a_1_CO2 = 0.2171539e+01\n",
    "a_2_CO2 = 0.1038499e-01\n",
    "a_3_CO2 = -0.1074106e-04\n",
    "a_4_CO2 = 0.6350127e-08\n",
    "a_5_CO2 = -0.1629149e-11\n",
    "a_6_CO2 = -0.9159472e+03\n",
    "\n",
    "# Ar\n",
    "a_1_Ar = 2.501658\n",
    "a_2_Ar = 0\n",
    "a_3_Ar = 0\n",
    "a_4_Ar = 0\n",
    "a_5_Ar = 0\n",
    "a_6_Ar = -683.328\n",
    "\n",
    "# H2O\n",
    "a_1_H2O = 4.159259\n",
    "a_2_H2O = -0.001725577\n",
    "a_3_H2O = 5.70201e-06\n",
    "a_4_H2O = -4.59605e-09\n",
    "a_5_H2O = 1.42431e-12\n",
    "a_6_H2O = -1104.501\n"
   ]
  },
  {
   "source": [
    "#### Objemové složení spalin, hmotnostní průtok a teplota na vstupu do hořáku"
   ],
   "cell_type": "markdown",
   "metadata": {}
  },
  {
   "cell_type": "code",
   "execution_count": 64,
   "metadata": {},
   "outputs": [
    {
     "output_type": "display_data",
     "data": {
      "text/plain": "<IPython.core.display.Latex object>",
      "text/latex": "\\[\n\\begin{aligned}\nm_{sp} &= 130{,}1 \\; \\;\\textrm{(kg/s)}\n &t_{sp} &= 562{,}0 \\; \\;\\textrm{(°C)}\n &x_{N2} &= 7{,}457 \\times 10 ^ {-1 } \\; \n\\\\[10pt]\n x_{O2} &= 1{,}289 \\times 10 ^ {-1 } \\; \n &x_{H2O} &= 8{,}010 \\times 10 ^ {-2 } \\; \n &x_{CO2} &= 3{,}640 \\times 10 ^ {-2 } \\; \n\\\\[10pt]\n x_{Ar} &= 8{,}900 \\times 10 ^ {-3 } \\;\\end{aligned}\n\\]"
     },
     "metadata": {}
    }
   ],
   "source": [
    "%%render params 3\n",
    "m_sp = 130.1    #kg/s\n",
    "t_sp = 562.0    #°C\n",
    "\n",
    "# Objemové složení spalin\n",
    "x_N2 = 0.7457\n",
    "x_O2 = 0.1289\n",
    "x_H2O = 0.0801\n",
    "x_CO2 = 0.0364\n",
    "x_Ar = 0.0089"
   ]
  },
  {
   "source": [
    "#### Molární hmotnosti spalin"
   ],
   "cell_type": "markdown",
   "metadata": {}
  },
  {
   "cell_type": "code",
   "execution_count": 65,
   "metadata": {},
   "outputs": [
    {
     "output_type": "display_data",
     "data": {
      "text/plain": "<IPython.core.display.Latex object>",
      "text/latex": "\\[\n\\begin{aligned}\nM_{N2} &= 0{,}028 \\; \\;\\textrm{(kg/kmol)}\n &M_{O2} &= 0{,}032 \\; \\;\\textrm{(kg/kmol)}\n &M_{H2O} &= 0{,}018 \\; \\;\\textrm{(kg/kmol)}\n\\\\[10pt]\n M_{CO2} &= 0{,}044 \\; \\;\\textrm{(kg/kmol)}\n &M_{Ar} &= 3{,}995 \\times 10 ^ {-2 } \\; \\;\\textrm{(kg/kmol)}\\end{aligned}\n\\]"
     },
     "metadata": {}
    }
   ],
   "source": [
    "%%render params 3\n",
    "\n",
    "# Molární hmotnost složek spalin (z podkladů)\n",
    "M_N2 = 28.0134e-03      #kg/kmol\n",
    "M_O2 = 31.9988e-03      #kg/kmol\n",
    "M_H2O = 18.0152e-03     #kg/kmol\n",
    "M_CO2 = 44.0095e-03     #kg/kmol\n",
    "M_Ar = 39.9480e-03      #kg/kmol"
   ]
  },
  {
   "source": [
    "#### Hustota složek spalin (z podkladů)"
   ],
   "cell_type": "markdown",
   "metadata": {}
  },
  {
   "cell_type": "code",
   "execution_count": 66,
   "metadata": {},
   "outputs": [
    {
     "output_type": "display_data",
     "data": {
      "text/plain": "<IPython.core.display.Latex object>",
      "text/latex": "\\[\n\\begin{aligned}\n\\rho_{N2} &= 1{,}25 \\; \\;\\textrm{(kg/m3)}\n &\\rho_{O2} &= 1{,}429 \\; \\;\\textrm{(kg/m3)}\n &\\rho_{H2O} &= 8{,}038 \\times 10 ^ {-1 } \\; \\;\\textrm{(kg/m3)}\n\\\\[10pt]\n \\rho_{CO2} &= 1{,}977 \\; \\;\\textrm{(kg/m3)}\n &\\rho_{Ar} &= 1{,}784 \\; \\;\\textrm{(kg/m3)}\n &\\rho_{sp} &= 1{,}269 \\; \\;\\textrm{(kg/m3)}\n\\\\[10pt]\\end{aligned}\n\\]"
     },
     "metadata": {}
    }
   ],
   "source": [
    "%%render params\n",
    "rho_N2 = 1.2504     #kg/m3\n",
    "rho_O2 = 1.4290     #kg/m3\n",
    "rho_H2O = 0.8038    #kg/m3\n",
    "rho_CO2 = 1.9772    #kg/m3\n",
    "rho_Ar = 1.7840     #kg/m3\n",
    "rho_sp = x_N2*rho_N2 + x_O2*rho_O2 + x_H2O*rho_H2O + x_CO2*rho_CO2 + x_Ar*rho_Ar #kg/m3"
   ]
  },
  {
   "source": [
    "#### Hmotnostní procenta (-)"
   ],
   "cell_type": "markdown",
   "metadata": {}
  },
  {
   "cell_type": "code",
   "execution_count": 67,
   "metadata": {},
   "outputs": [],
   "source": [
    "# Hmotnosti\n",
    "m_N2 = x_N2*rho_N2                      #kg\n",
    "m_O2 = x_O2*rho_O2                      #kg\n",
    "m_H2O = x_H2O*rho_H2O                   #kg\n",
    "m_CO2 = x_CO2*rho_CO2                   #kg\n",
    "m_Ar = x_Ar*rho_Ar                      #kg"
   ]
  },
  {
   "cell_type": "code",
   "execution_count": 68,
   "metadata": {},
   "outputs": [],
   "source": [
    "# Hmotnostní podíl\n",
    "w_N2 = m_N2/rho_sp                        #kg\n",
    "w_O2 = m_O2/rho_sp                        #kg\n",
    "w_H2O = m_H2O/rho_sp                      #kg\n",
    "w_CO2 = m_CO2/rho_sp                      #kg\n",
    "w_Ar = m_Ar/rho_sp                        #kg"
   ]
  },
  {
   "source": [
    "#### Objemový průtok spalin"
   ],
   "cell_type": "markdown",
   "metadata": {}
  },
  {
   "cell_type": "code",
   "execution_count": 69,
   "metadata": {},
   "outputs": [
    {
     "output_type": "display_data",
     "data": {
      "text/plain": "<IPython.core.display.Latex object>",
      "text/latex": "\\[\n\\begin{aligned}\nV_{sp} &= \\frac{ m_{sp} }{ \\rho_{sp} }  = \\frac{ 130{,}1 }{ 1{,}269 } &= 102{,}534 \\; \\;\\textrm{(m3n/s)}\n\\end{aligned}\n\\]"
     },
     "metadata": {}
    }
   ],
   "source": [
    "%%render\n",
    "V_sp = m_sp/rho_sp #m3n/s"
   ]
  },
  {
   "cell_type": "code",
   "execution_count": 70,
   "metadata": {},
   "outputs": [
    {
     "output_type": "display_data",
     "data": {
      "text/plain": "<IPython.core.display.Latex object>",
      "text/latex": "\\[\n\\begin{aligned}\nv_{N2} &= 22{,}403 \\; \\;\\textrm{(m3/kg)}\n &v_{O2} &= 22{,}392 \\; \\;\\textrm{(m3/kg)}\n &v_{H2O} &= 22{,}414 \\; \\;\\textrm{(m3/kg)}\n\\\\[10pt]\n v_{CO2} &= 22{,}258 \\; \\;\\textrm{(m3/kg)}\n &v_{Ar} &= 22{,}393 \\; \\;\\textrm{(m3/kg)}\\end{aligned}\n\\]"
     },
     "metadata": {}
    }
   ],
   "source": [
    "%%render params 3\n",
    "\n",
    "# Měrný objem složek spalin (z podkladů)\n",
    "v_N2 = 22.403     #m3/kg\n",
    "v_O2 = 22.392     #m3/kg\n",
    "v_H2O = 22.414    #m3/kg\n",
    "v_CO2 = 22.258    #m3/kg\n",
    "v_Ar = 22.393     #m3/kg"
   ]
  },
  {
   "source": [
    "#### Entalpie spalin (z modulu PyroMat - shodné s poskytnutými materiály)"
   ],
   "cell_type": "markdown",
   "metadata": {}
  },
  {
   "cell_type": "code",
   "execution_count": 71,
   "metadata": {},
   "outputs": [],
   "source": [
    "N2 = pm.get('ig.N2')\n",
    "O2 = pm.get('ig.O2')\n",
    "H2O = pm.get('ig.H2O')\n",
    "CO2 = pm.get('ig.CO2')\n",
    "Ar = pm.get('ig.Ar')"
   ]
  },
  {
   "cell_type": "code",
   "execution_count": 72,
   "metadata": {},
   "outputs": [],
   "source": [
    "def entalpie_sp(teplota, jednotka):\n",
    "\n",
    "    \"\"\"\n",
    "    teplota = zadávat ve °C\n",
    "    jednotka = 'kg' / 'm3n'\n",
    "\n",
    "    Vypočítá entalpii [kJ/kg nebo kJ/m3n] spalin při dané teplotě [°C] vzhledem k entalpii daného prvku při 0°C. Výstupem je dictionary. Pro zobrazení entalpie dané teploty je nutné vybrat daný prvek nebo spaliny ['N2', 'O2', 'H2O', 'CO2', 'Ar', 'sp'].\n",
    "    \"\"\"\n",
    "\n",
    "    h_N2 = float(N2.h(teplota)-N2.h(0)) #kJ/kg\n",
    "    I_N2 = h_N2*rho_sp\n",
    "\n",
    "    h_O2 = float(O2.h(teplota)-O2.h(0)) #kJ/kg\n",
    "    I_O2 = h_O2*rho_sp\n",
    "\n",
    "    h_H2O = float(H2O.h(teplota)-H2O.h(0)) #kJ/kg\n",
    "    I_H2O = h_H2O*rho_sp\n",
    "\n",
    "    h_CO2 = float(CO2.h(teplota)-CO2.h(0)) #kJ/kg\n",
    "    I_CO2 = h_CO2*rho_sp\n",
    "\n",
    "    h_Ar = float(Ar.h(teplota)-Ar.h(0)) #kJ/kg\n",
    "    I_Ar = h_Ar*rho_sp\n",
    "\n",
    "    h_spalin = w_N2*h_N2 + w_O2*h_O2 + w_H2O*h_H2O + w_CO2*h_CO2 + w_Ar*h_Ar #kJ/kg\n",
    "    I_spalin = w_N2*I_N2 + w_O2*I_O2 + w_H2O*I_H2O + w_CO2*I_CO2 + w_Ar*I_Ar #kJ/m3n\n",
    "\n",
    "\n",
    "    if jednotka == 'kg':\n",
    "        return {'N2': h_N2, 'O2': h_O2, 'H2O': h_H2O , 'CO2': h_CO2, 'Ar': h_Ar, 'sp': h_spalin}\n",
    "    elif jednotka == 'm3n':\n",
    "        return {'N2': I_N2, 'O2': I_O2, 'H2O': I_H2O , 'CO2': I_CO2, 'Ar': I_Ar, 'sp': I_spalin}\n",
    "    else:\n",
    "        print('Nutno zadat jednotku - kg / m3n!')"
   ]
  },
  {
   "source": [
    "### <u>Bod A (Vstup spalin - za hořákem)"
   ],
   "cell_type": "markdown",
   "metadata": {}
  },
  {
   "cell_type": "code",
   "execution_count": 73,
   "metadata": {},
   "outputs": [
    {
     "output_type": "display_data",
     "data": {
      "text/plain": "<IPython.core.display.Latex object>",
      "text/latex": "\\[\n\\begin{aligned}\nt_{A} &= 562{,}0 \\; \\;\\textrm{(°C)}\n\\\\[10pt]\nI_{A_{sp}} &= 782{,}789 \\; \\;\\textrm{(kJ/m3n)}\n\\end{aligned}\n\\]"
     },
     "metadata": {}
    }
   ],
   "source": [
    "%%render\n",
    "t_A = t_sp #°C\n",
    "I_A_sp = entalpie_sp(t_A, 'm3n')['sp']  #kJ/m3n"
   ]
  },
  {
   "source": [
    "### Bod B (za druhým přehřívákem)"
   ],
   "cell_type": "markdown",
   "metadata": {}
  },
  {
   "cell_type": "code",
   "execution_count": 74,
   "metadata": {},
   "outputs": [
    {
     "output_type": "display_data",
     "data": {
      "text/plain": "<IPython.core.display.Latex object>",
      "text/latex": "\\[\n\\begin{aligned}\nt_{B} &= 549 \\; \\;\\textrm{(°C)}\n\\\\[10pt]\nI_{B_{sp}} &= 763{,}535 \\; \\;\\textrm{(kJ/m3n)}\n\\end{aligned}\n\\]"
     },
     "metadata": {}
    }
   ],
   "source": [
    "%%render\n",
    "t_B = 549 #°C\n",
    "I_B_sp = entalpie_sp(t_B, 'm3n')['sp'] #kJ/m3n"
   ]
  },
  {
   "source": [
    "### Bod C (za prvním přehřívákem)"
   ],
   "cell_type": "markdown",
   "metadata": {}
  },
  {
   "cell_type": "code",
   "execution_count": 75,
   "metadata": {},
   "outputs": [
    {
     "output_type": "display_data",
     "data": {
      "text/plain": "<IPython.core.display.Latex object>",
      "text/latex": "\\[\n\\begin{aligned}\nt_{C} &= 507 \\; \\;\\textrm{(°C)}\n\\\\[10pt]\nI_{C_{sp}} &= 701{,}73 \\; \\;\\textrm{(kJ/m3n)}\n\\end{aligned}\n\\]"
     },
     "metadata": {}
    }
   ],
   "source": [
    "%%render\n",
    "t_C = 507 #°C\n",
    "I_C_sp = entalpie_sp(t_C, 'm3n')['sp'] #kJ/m3n"
   ]
  },
  {
   "source": [
    "### Bod D (za druhým výparníkem)"
   ],
   "cell_type": "markdown",
   "metadata": {}
  },
  {
   "cell_type": "code",
   "execution_count": 76,
   "metadata": {},
   "outputs": [
    {
     "output_type": "display_data",
     "data": {
      "text/plain": "<IPython.core.display.Latex object>",
      "text/latex": "\\[\n\\begin{aligned}\nt_{D} &= 366 \\; \\;\\textrm{(°C)}\n\\\\[10pt]\nI_{D_{sp}} &= 498{,}778 \\; \\;\\textrm{(kJ/m3n)}\n\\end{aligned}\n\\]"
     },
     "metadata": {}
    }
   ],
   "source": [
    "%%render\n",
    "t_D = 366 #°C\n",
    "I_D_sp = entalpie_sp(t_D, 'm3n')['sp'] #kJ/m3n"
   ]
  },
  {
   "source": [
    "### Bod E (za prvním výparníkem)"
   ],
   "cell_type": "markdown",
   "metadata": {}
  },
  {
   "cell_type": "code",
   "execution_count": 77,
   "metadata": {},
   "outputs": [
    {
     "output_type": "display_data",
     "data": {
      "text/plain": "<IPython.core.display.Latex object>",
      "text/latex": "\\[\n\\begin{aligned}\nt_{E} &= 254 \\; \\;\\textrm{(°C)}\n\\\\[10pt]\nI_{E_{sp}} &= 342{,}368 \\; \\;\\textrm{(kJ/m3n)}\n\\end{aligned}\n\\]"
     },
     "metadata": {}
    }
   ],
   "source": [
    "%%render\n",
    "t_E = 254 #°C\n",
    "I_E_sp = entalpie_sp(t_E, 'm3n')['sp'] #kJ/m3n"
   ]
  },
  {
   "source": [
    "### Bod F (za druhým ekonomizérem)"
   ],
   "cell_type": "markdown",
   "metadata": {}
  },
  {
   "cell_type": "code",
   "execution_count": 78,
   "metadata": {},
   "outputs": [
    {
     "output_type": "display_data",
     "data": {
      "text/plain": "<IPython.core.display.Latex object>",
      "text/latex": "\\[\n\\begin{aligned}\nt_{F} &= 241 \\; \\;\\textrm{(°C)}\n\\\\[10pt]\nI_{F_{sp}} &= 324{,}466 \\; \\;\\textrm{(kJ/m3n)}\n\\end{aligned}\n\\]"
     },
     "metadata": {}
    }
   ],
   "source": [
    "%%render\n",
    "t_F = 241 #°C\n",
    "I_F_sp = entalpie_sp(t_F, 'm3n')['sp'] #kJ/m3n"
   ]
  },
  {
   "source": [
    "### Bod G (za prvním ekonomizérem, výstup spalin)"
   ],
   "cell_type": "markdown",
   "metadata": {}
  },
  {
   "cell_type": "code",
   "execution_count": 79,
   "metadata": {},
   "outputs": [
    {
     "output_type": "display_data",
     "data": {
      "text/plain": "<IPython.core.display.Latex object>",
      "text/latex": "\\[\n\\begin{aligned}\nt_{G} &= 145 \\; \\;\\textrm{(°C)}\n\\\\[10pt]\nI_{G_{sp}} &= 193{,}696 \\; \\;\\textrm{(kJ/m3n)}\n\\end{aligned}\n\\]"
     },
     "metadata": {}
    }
   ],
   "source": [
    "%%render\n",
    "t_G = 145 #°C\n",
    "I_G_sp = entalpie_sp(t_G, 'm3n')['sp'] #kJ/m3n"
   ]
  },
  {
   "source": [
    "***\n",
    "## Výpočty ze strany vody a vodní páry\n",
    "***"
   ],
   "cell_type": "markdown",
   "metadata": {}
  },
  {
   "source": [
    "#### Bod 1 (Konec druhého přehříváku, výstupní pára)"
   ],
   "cell_type": "markdown",
   "metadata": {}
  },
  {
   "cell_type": "code",
   "execution_count": 81,
   "metadata": {},
   "outputs": [
    {
     "output_type": "display_data",
     "data": {
      "text/plain": "<IPython.core.display.Latex object>",
      "text/latex": "\\[\n\\begin{aligned}\nt_{1} &= 370 \\; \\;\\textrm{(°C)}\n &p_{1} &= 3{,}1 \\; \\;\\textrm{(MPa)}\n &h_{1} &= 3160{,}749 \\; \\;\\textrm{(kJ/kg)}\n\\\\[10pt]\n v_{1} &= 9{,}093 \\times 10 ^ {-2 } \\; \\;\\textrm{(m3/kg)}\n &x_{1} &= 1{,}0 \\; \\;\\textrm{(-)}\\end{aligned}\n\\]"
     },
     "metadata": {}
    }
   ],
   "source": [
    "%%render params\n",
    "t_1 = t_out                     #°C\n",
    "p_1 = p_out                     #MPa\n",
    "h_1 = steam.h_pt(p_1*10,t_1)    #kJ/kg\n",
    "v_1 = steam.v_pt(p_1*10,t_1)    #m3/kg\n",
    "x_1 = steam.x_ph(p_1*10,i_1)    #-"
   ]
  },
  {
   "source": [
    "#### Bod 3 (Konec prvního přehříváku, před vstřikem)"
   ],
   "cell_type": "markdown",
   "metadata": {}
  },
  {
   "cell_type": "code",
   "execution_count": 82,
   "metadata": {},
   "outputs": [
    {
     "output_type": "display_data",
     "data": {
      "text/plain": "<IPython.core.display.Latex object>",
      "text/latex": "\\[\n\\begin{aligned}\nt_{3} &= 348 \\; \\;\\textrm{(°C)}\n &p_{3} &= 3{,}33 \\; \\;\\textrm{(MPa)}\n &h_{3} &= 3103{,}888 \\; \\;\\textrm{(kJ/kg)}\n\\\\[10pt]\n v_{3} &= 8{,}069 \\times 10 ^ {-2 } \\; \\;\\textrm{(m3/kg)}\n &x_{3} &= 1{,}0 \\; \\;\\textrm{(-)}\\end{aligned}\n\\]"
     },
     "metadata": {}
    }
   ],
   "source": [
    "%%render params\n",
    "t_3 = 348                       #°C\n",
    "p_3 = 3.33                      #MPa\n",
    "h_3 = steam.h_pt(p_3*10,t_3)    #kJ/kg\n",
    "v_3 = steam.v_pt(p_3*10,t_3)    #m3/kg\n",
    "x_3 = steam.x_ph(p_3*10,i_3)    #-"
   ]
  },
  {
   "source": [
    "#### Bod 4 (Začátek prvního přehříváku, po druhém výparníku)"
   ],
   "cell_type": "markdown",
   "metadata": {}
  },
  {
   "cell_type": "code",
   "execution_count": 83,
   "metadata": {},
   "outputs": [
    {
     "output_type": "display_data",
     "data": {
      "text/plain": "<IPython.core.display.Latex object>",
      "text/latex": "\\[\n\\begin{aligned}\np_{4} &= 3{,}38 \\; \\;\\textrm{(MPa)}\n &t_{4} &= 240{,}565 \\; \\;\\textrm{(°C)}\n &h_{4} &= 2803{,}002 \\; \\;\\textrm{(kJ/kg)}\n\\\\[10pt]\n v_{4} &= 5{,}911 \\times 10 ^ {-2 } \\; \\;\\textrm{(m3/kg)}\n &x_{4} &= 1{,}0 \\; \\;\\textrm{(-)}\\end{aligned}\n\\]"
     },
     "metadata": {}
    }
   ],
   "source": [
    "%%render params\n",
    "p_4 = 3.38                      #MPa\n",
    "t_4 = steam.tsat_p(p_4*10)      #°C\n",
    "h_4 = steam.hV_p(p_4*10)        #kJ/kg\n",
    "v_4 = steam.vV_p(p_4*10)        #m3/kg\n",
    "x_4 = steam.x_ph(p_4*10,i_4)    #-"
   ]
  },
  {
   "source": [
    "#### Bod 5 (začátek prvního výparníku, kde je sytá kapalina)"
   ],
   "cell_type": "markdown",
   "metadata": {}
  },
  {
   "cell_type": "code",
   "execution_count": 84,
   "metadata": {},
   "outputs": [
    {
     "output_type": "display_data",
     "data": {
      "text/plain": "<IPython.core.display.Latex object>",
      "text/latex": "\\[\n\\begin{aligned}\np_{5} &= 3{,}38 \\; \\;\\textrm{(MPa)}\n &t_{5} &= 240{,}565 \\; \\;\\textrm{(°C)}\n &h_{5} &= 1040{,}219 \\; \\;\\textrm{(kJ/kg)}\n\\\\[10pt]\n v_{5} &= 1{,}231 \\times 10 ^ {-3 } \\; \\;\\textrm{(m3/kg)}\n &x_{5} &= 0{,}0 \\; \\;\\textrm{(-)}\\end{aligned}\n\\]"
     },
     "metadata": {}
    }
   ],
   "source": [
    "%%render params\n",
    "p_5 = 3.38                      #MPa\n",
    "t_5 = steam.tsat_p(p_5*10)      #°C\n",
    "h_5 = steam.hL_p(p_5*10)        #kJ/kg\n",
    "v_5 = steam.vL_p(p_5*10)        #m3/kg\n",
    "x_5 = steam.x_ph(p_5*10,i_5)    #-"
   ]
  },
  {
   "source": [
    "#### Bod 6 (Za posledním ekonomizérem, před vstupem do výparníku)"
   ],
   "cell_type": "markdown",
   "metadata": {}
  },
  {
   "cell_type": "code",
   "execution_count": 85,
   "metadata": {},
   "outputs": [
    {
     "output_type": "display_data",
     "data": {
      "text/plain": "<IPython.core.display.Latex object>",
      "text/latex": "\\[\n\\begin{aligned}\np_{6} &= 3{,}68 \\; \\;\\textrm{(MPa)}\n &t_{6} &= 236 \\; \\;\\textrm{(°C)}\n &h_{6} &= 1018{,}575 \\; \\;\\textrm{(kJ/kg)}\n\\\\[10pt]\n v_{6} &= 1{,}220 \\times 10 ^ {-3 } \\; \\;\\textrm{(m3/kg)}\n &x_{6} &= 0{,}0 \\; \\;\\textrm{(-)}\\end{aligned}\n\\]"
     },
     "metadata": {}
    }
   ],
   "source": [
    "%%render params\n",
    "p_6 = 3.68                      #MPa\n",
    "t_6 = 236                       #°C\n",
    "h_6 = steam.h_pt(p_6*10, t_6)   #kJ/kg\n",
    "v_6 = steam.v_pt(p_6*10, t_6)   #m3/kg\n",
    "x_6 = steam.x_ph(p_6*10,i_6)    #-"
   ]
  },
  {
   "source": [
    "#### Bod 7 (mezi ekonomizéry)"
   ],
   "cell_type": "markdown",
   "metadata": {}
  },
  {
   "cell_type": "code",
   "execution_count": 86,
   "metadata": {},
   "outputs": [
    {
     "output_type": "display_data",
     "data": {
      "text/plain": "<IPython.core.display.Latex object>",
      "text/latex": "\\[\n\\begin{aligned}\np_{7} &= 3{,}74 \\; \\;\\textrm{(MPa)}\n &t_{7} &= 217 \\; \\;\\textrm{(°C)}\n &h_{7} &= 930{,}261 \\; \\;\\textrm{(kJ/kg)}\n\\\\[10pt]\n v_{7} &= 1{,}183 \\times 10 ^ {-3 } \\; \\;\\textrm{(m3/kg)}\n &x_{7} &= 0{,}0 \\; \\;\\textrm{(-)}\\end{aligned}\n\\]"
     },
     "metadata": {}
    }
   ],
   "source": [
    "%%render params\n",
    "p_7 = 3.74                      #MPa\n",
    "t_7 = 217                       #°C\n",
    "h_7 = steam.h_pt(p_7*10, t_7)   #kJ/kg\n",
    "v_7 = steam.v_pt(p_7*10, t_7)   #m3/kg\n",
    "x_7 = steam.x_ph(p_7*10,i_7)    #-\n"
   ]
  },
  {
   "source": [
    "#### Bod 2 (Začátek druhého přehříváku, po vstřiku)"
   ],
   "cell_type": "markdown",
   "metadata": {}
  },
  {
   "cell_type": "code",
   "execution_count": 87,
   "metadata": {},
   "outputs": [
    {
     "output_type": "display_data",
     "data": {
      "text/plain": "<IPython.core.display.Latex object>",
      "text/latex": "\\[\n\\begin{aligned}\np_{2} &= 3{,}33 \\; \\;\\textrm{(MPa)}\n &h_{2} &= 3066{,}802 \\; \\;\\textrm{(kJ/kg)}\n &t_{2} &= 332{,}731 \\; \\;\\textrm{(°C)}\n\\\\[10pt]\n v_{2} &= 7{,}811 \\times 10 ^ {-2 } \\; \\;\\textrm{(m3/kg)}\n &x_{2} &= 1{,}0 \\; \\;\\textrm{(-)}\\end{aligned}\n\\]"
     },
     "metadata": {}
    }
   ],
   "source": [
    "%%render params\n",
    "p_2 = p_3                           #MPa\n",
    "h_2 = (20.74*i_3 + 0.36*i_7)/21.10  #kJ/kg\n",
    "t_2 = steam.t_ph(p_2*10, i_2)       #°C\n",
    "v_2 = steam.v_ph(p_2*10, i_2)       #m3/kg\n",
    "x_2 = steam.x_ph(p_2*10,i_2)        #-"
   ]
  },
  {
   "source": [
    "#### Bod 8 (Před začátkem ekonomizéru, vstup napájecí vody)"
   ],
   "cell_type": "markdown",
   "metadata": {}
  },
  {
   "cell_type": "code",
   "execution_count": 111,
   "metadata": {},
   "outputs": [
    {
     "output_type": "display_data",
     "data": {
      "text/plain": "<IPython.core.display.Latex object>",
      "text/latex": "\\[\n\\begin{aligned}\nt_{8} &= 71 \\; \\;\\textrm{(°C)}\n &p_{8} &= 4{,}2 \\; \\;\\textrm{(MPa)}\n &h_{8} &= 300{,}606 \\; \\;\\textrm{(kJ/kg)}\n\\\\[10pt]\n v_{8} &= 0{,}001 \\; \\;\\textrm{(m3/kg)}\n &x_{8} &= 0{,}0 \\; \\;\\textrm{(-)}\\end{aligned}\n\\]"
     },
     "metadata": {}
    }
   ],
   "source": [
    "%%render params\n",
    "t_8 = 71                         #°C\n",
    "p_8 = 4.2                        #MPa\n",
    "h_8 = steam.h_pt(p_8*10,t_8)     #kJ/kg\n",
    "v_8 = steam.v_pt(p_8*10,t_8)     #m3/kg\n",
    "x_8 = steam.x_ph(p_8*10,i_8)     #-"
   ]
  },
  {
   "source": [
    "### Tabulka bodová pro vodu a páru"
   ],
   "cell_type": "markdown",
   "metadata": {}
  },
  {
   "cell_type": "code",
   "execution_count": 89,
   "metadata": {},
   "outputs": [],
   "source": [
    "bodova_tabulka = pd.DataFrame(\n",
    "    {\n",
    "        \"T [°C]\": (t_1, t_2, t_3, t_4, t_5, t_6, t_7, t_8),\n",
    "        \"p [MPa]\": (p_1, p_2, p_3, p_4, p_5, p_6, p_7, p_8),\n",
    "        \"h [kJ/kg]\": (h_1, h_2, h_3, h_4, h_5, h_6, h_7, h_8),\n",
    "        \"v [m3/kg]\": (v_1, v_2, v_3, v_4, v_5, v_6, v_7, v_8),\n",
    "        \"x [-]\": (x_1, x_2, x_3, x_4, x_5, x_6, x_7, x_8),\n",
    "    },\n",
    "    index = ['1','2','3','4','5','6','7','8']\n",
    ")"
   ]
  },
  {
   "cell_type": "code",
   "execution_count": 90,
   "metadata": {},
   "outputs": [
    {
     "output_type": "execute_result",
     "data": {
      "text/plain": [
       "   T [°C]  p [MPa]  h [kJ/kg]  v [m3/kg]  x [-]\n",
       "1   370.0      3.1     3160.7    9.1e-02    1.0\n",
       "2   332.7      3.3     3066.8    7.8e-02    1.0\n",
       "3   348.0      3.3     3103.9    8.1e-02    1.0\n",
       "4   240.6      3.4     2803.0    5.9e-02    1.0\n",
       "5   240.6      3.4     1040.2    1.2e-03    0.0\n",
       "6   236.0      3.7     1018.6    1.2e-03    0.0\n",
       "7   217.0      3.7      930.3    1.2e-03    0.0\n",
       "8    71.0      4.0      300.4    1.0e-03    0.0"
      ],
      "text/html": "<div>\n<style scoped>\n    .dataframe tbody tr th:only-of-type {\n        vertical-align: middle;\n    }\n\n    .dataframe tbody tr th {\n        vertical-align: top;\n    }\n\n    .dataframe thead th {\n        text-align: right;\n    }\n</style>\n<table border=\"1\" class=\"dataframe\">\n  <thead>\n    <tr style=\"text-align: right;\">\n      <th></th>\n      <th>T [°C]</th>\n      <th>p [MPa]</th>\n      <th>h [kJ/kg]</th>\n      <th>v [m3/kg]</th>\n      <th>x [-]</th>\n    </tr>\n  </thead>\n  <tbody>\n    <tr>\n      <th>1</th>\n      <td>370.0</td>\n      <td>3.1</td>\n      <td>3160.7</td>\n      <td>9.1e-02</td>\n      <td>1.0</td>\n    </tr>\n    <tr>\n      <th>2</th>\n      <td>332.7</td>\n      <td>3.3</td>\n      <td>3066.8</td>\n      <td>7.8e-02</td>\n      <td>1.0</td>\n    </tr>\n    <tr>\n      <th>3</th>\n      <td>348.0</td>\n      <td>3.3</td>\n      <td>3103.9</td>\n      <td>8.1e-02</td>\n      <td>1.0</td>\n    </tr>\n    <tr>\n      <th>4</th>\n      <td>240.6</td>\n      <td>3.4</td>\n      <td>2803.0</td>\n      <td>5.9e-02</td>\n      <td>1.0</td>\n    </tr>\n    <tr>\n      <th>5</th>\n      <td>240.6</td>\n      <td>3.4</td>\n      <td>1040.2</td>\n      <td>1.2e-03</td>\n      <td>0.0</td>\n    </tr>\n    <tr>\n      <th>6</th>\n      <td>236.0</td>\n      <td>3.7</td>\n      <td>1018.6</td>\n      <td>1.2e-03</td>\n      <td>0.0</td>\n    </tr>\n    <tr>\n      <th>7</th>\n      <td>217.0</td>\n      <td>3.7</td>\n      <td>930.3</td>\n      <td>1.2e-03</td>\n      <td>0.0</td>\n    </tr>\n    <tr>\n      <th>8</th>\n      <td>71.0</td>\n      <td>4.0</td>\n      <td>300.4</td>\n      <td>1.0e-03</td>\n      <td>0.0</td>\n    </tr>\n  </tbody>\n</table>\n</div>"
     },
     "metadata": {},
     "execution_count": 90
    }
   ],
   "source": [
    "bodova_tabulka\n",
    "\n",
    "# print(bodova_tabulka.to_latex())"
   ]
  },
  {
   "source": [
    "***\n",
    "## Výkon kotle a jednotlivých teplosměnných ploch\n",
    "***"
   ],
   "cell_type": "markdown",
   "metadata": {}
  },
  {
   "source": [
    "### Maximální využitelný výkon"
   ],
   "cell_type": "markdown",
   "metadata": {}
  },
  {
   "cell_type": "code",
   "execution_count": 91,
   "metadata": {},
   "outputs": [
    {
     "output_type": "display_data",
     "data": {
      "text/plain": "<IPython.core.display.Latex object>",
      "text/latex": "\\[\n\\begin{aligned}\nQ_{in} &= 76863{,}556 \\; \\;\\textrm{(kW)}\n\\end{aligned}\n\\]"
     },
     "metadata": {}
    }
   ],
   "source": [
    "%%render\n",
    "# Dodaný výkon v palivu\n",
    "Q_in = V_sp*(I_A_sp-entalpie_sp(25, 'm3n')['sp']) #kW"
   ]
  },
  {
   "cell_type": "code",
   "execution_count": 114,
   "metadata": {},
   "outputs": [
    {
     "output_type": "display_data",
     "data": {
      "text/plain": "<IPython.core.display.Latex object>",
      "text/latex": "\\[\n\\begin{aligned}\nQ_{out} &= m_{p} \\cdot h_{1} - m_{p} \\cdot h_{8}  = 21{,}111 \\cdot 3160{,}749 - 21{,}111 \\cdot 300{,}606 &= 60380{,}803  \n\\end{aligned}\n\\]"
     },
     "metadata": {}
    }
   ],
   "source": [
    "%%render\n",
    "# Odebraný výkon vodou a párou\n",
    "Q_out = m_p*h_1-m_p*h_8 #kW"
   ]
  },
  {
   "source": [
    "### Účinnost"
   ],
   "cell_type": "markdown",
   "metadata": {}
  },
  {
   "cell_type": "code",
   "execution_count": 116,
   "metadata": {},
   "outputs": [
    {
     "output_type": "display_data",
     "data": {
      "text/plain": "<IPython.core.display.Latex object>",
      "text/latex": "\\[\n\\begin{aligned}\n\\eta &= \\frac{ Q_{out} }{ Q_{in} }  = \\frac{ 60380{,}803 }{ 76863{,}556 } &= 7{,}856 \\times 10 ^ {-1 } \\; \\;\\textrm{(-)}\n\\end{aligned}\n\\]"
     },
     "metadata": {}
    }
   ],
   "source": [
    "%%render\n",
    "eta = Q_out/Q_in #-"
   ]
  },
  {
   "source": [
    "### Tepelné ztráty (konvekce a sálání)"
   ],
   "cell_type": "markdown",
   "metadata": {}
  },
  {
   "cell_type": "code",
   "execution_count": 93,
   "metadata": {},
   "outputs": [
    {
     "output_type": "display_data",
     "data": {
      "text/plain": "<IPython.core.display.Latex object>",
      "text/latex": "\\[\n\\begin{aligned}\nC &= 1{,}130 \\times 10 ^ {-2 } \\; \n\\\\[10pt]\nQ_{RC} &= \\left( Q_{N} \\right) ^{ 0{,}7 } \\cdot C  = \\left( 80{,}262 \\right) ^{ 0{,}7 } \\cdot 1{,}130 \\times 10 ^ {-2 } &= 2{,}434 \\times 10 ^ {-1 } \\; \\;\\textrm{(MW)}\n\\end{aligned}\n\\]"
     },
     "metadata": {}
    }
   ],
   "source": [
    "%%render\n",
    "C = 0.0113\n",
    "Q_RC = Q_N**0.7*C #MW"
   ]
  },
  {
   "source": [
    "#### Poměrná ztráta sáláním a konvekcí"
   ],
   "cell_type": "markdown",
   "metadata": {}
  },
  {
   "cell_type": "code",
   "execution_count": 94,
   "metadata": {},
   "outputs": [
    {
     "output_type": "display_data",
     "data": {
      "text/plain": "<IPython.core.display.Latex object>",
      "text/latex": "\\[\n\\begin{aligned}\nz_{s} &= \\frac{ Q_{RC} }{ Q_{N} }  = \\frac{ 2{,}434 \\times 10 ^ {-1 } }{ 80{,}262 } &= 0{,}003 \\; \\;\\textrm{(-)}\n\\end{aligned}\n\\]"
     },
     "metadata": {}
    }
   ],
   "source": [
    "%%render\n",
    "z_s = Q_RC/Q_N #-"
   ]
  },
  {
   "source": [
    "### Tepelny vykon odevzdany spalinami mezi body A-E"
   ],
   "cell_type": "markdown",
   "metadata": {}
  },
  {
   "cell_type": "code",
   "execution_count": 95,
   "metadata": {},
   "outputs": [
    {
     "output_type": "display_data",
     "data": {
      "text/plain": "<IPython.core.display.Latex object>",
      "text/latex": "\\[\n\\begin{aligned}\nQ_{AE} &= \\left( I_{A_{sp}} - I_{E_{sp}} \\right) \\cdot V_{sp}  = \\left( 782{,}789 - 342{,}368 \\right) \\cdot 102{,}534 &= 45157{,}961 \\; \\;\\textrm{(kW)}\n\\end{aligned}\n\\]"
     },
     "metadata": {}
    }
   ],
   "source": [
    "%%render\n",
    "Q_AE = (I_A_sp - I_E_sp)*V_sp #kW"
   ]
  },
  {
   "source": [
    "### Tepelny vykon prijaty vodou mezi body 1-6"
   ],
   "cell_type": "markdown",
   "metadata": {}
  },
  {
   "cell_type": "code",
   "execution_count": 96,
   "metadata": {},
   "outputs": [
    {
     "output_type": "display_data",
     "data": {
      "text/plain": "<IPython.core.display.Latex object>",
      "text/latex": "\\[\n\\begin{aligned}\nQ_{16} &= Q_{AE} \\cdot \\left( 1 - z_{s} \\right)  = 45157{,}961 \\cdot \\left( 1 - 0{,}003 \\right) &= 45021{,}043 \\; \\;\\textrm{(kW)}\n\\end{aligned}\n\\]"
     },
     "metadata": {}
    }
   ],
   "source": [
    "%%render\n",
    "Q_16 = Q_AE*(1-z_s) #kW"
   ]
  },
  {
   "source": [
    "### Predane tepelne toky v jednotlivych teplosmennych plochach"
   ],
   "cell_type": "markdown",
   "metadata": {}
  },
  {
   "source": [
    "#### Prehrivak 2"
   ],
   "cell_type": "markdown",
   "metadata": {}
  },
  {
   "cell_type": "code",
   "execution_count": 97,
   "metadata": {},
   "outputs": [
    {
     "output_type": "display_data",
     "data": {
      "text/plain": "<IPython.core.display.Latex object>",
      "text/latex": "\\[\n\\begin{aligned}\nQ_{P2} &= m_{p} \\cdot \\left( i_{1} - i_{2} \\right)  = 21{,}111 \\cdot \\left( 3160{,}749 - 3066{,}802 \\right) &= 1983{,}329 \\; \\;\\textrm{(kW)}\n\\end{aligned}\n\\]"
     },
     "metadata": {}
    }
   ],
   "source": [
    "%%render\n",
    "Q_P2 = m_p*(i_1-i_2) #kW"
   ]
  },
  {
   "source": [
    "#### Prehrivak 1"
   ],
   "cell_type": "markdown",
   "metadata": {}
  },
  {
   "cell_type": "code",
   "execution_count": 98,
   "metadata": {},
   "outputs": [
    {
     "output_type": "display_data",
     "data": {
      "text/plain": "<IPython.core.display.Latex object>",
      "text/latex": "\\[\n\\begin{aligned}\nQ_{P1} &= \\left( m_{p} - m_{vst} \\right) \\cdot \\left( i_{3} - i_{4} \\right)  = \\left( 21{,}111 - 0{,}36 \\right) \\cdot \\left( 3103{,}888 - 2803{,}002 \\right) &= 6243{,}705 \\; \\;\\textrm{(kW)}\n\\end{aligned}\n\\]"
     },
     "metadata": {}
    }
   ],
   "source": [
    "%%render\n",
    "Q_P1 = (m_p-m_vst)*(i_3-i_4) #kW"
   ]
  },
  {
   "source": [
    "#### Vyparnik 1 + 2"
   ],
   "cell_type": "markdown",
   "metadata": {}
  },
  {
   "cell_type": "code",
   "execution_count": 99,
   "metadata": {},
   "outputs": [
    {
     "output_type": "display_data",
     "data": {
      "text/plain": "<IPython.core.display.Latex object>",
      "text/latex": "\\[\n\\begin{aligned}\nQ_{V} &= \\left( m_{p} - m_{vst} \\right) \\cdot \\left( i_{4} - i_{5} \\right)  = \\left( 21{,}111 - 0{,}36 \\right) \\cdot \\left( 2803{,}002 - 1040{,}219 \\right) &= 36579{,}719 \\; \\;\\textrm{(kW)}\n\\end{aligned}\n\\]"
     },
     "metadata": {}
    }
   ],
   "source": [
    "%%render\n",
    "Q_V = (m_p-m_vst)*(i_4-i_5) #kW"
   ]
  },
  {
   "source": [
    "#### Ekonomizer 2"
   ],
   "cell_type": "markdown",
   "metadata": {}
  },
  {
   "cell_type": "code",
   "execution_count": 100,
   "metadata": {},
   "outputs": [
    {
     "output_type": "display_data",
     "data": {
      "text/plain": "<IPython.core.display.Latex object>",
      "text/latex": "\\[\n\\begin{aligned}\nQ_{EKO_{2}} &= \\left( m_{p} - m_{vst} \\right) \\cdot \\left( i_{6} - i_{7} \\right)  = \\left( 21{,}111 - 0{,}36 \\right) \\cdot \\left( 1018{,}575 - 930{,}261 \\right) &= 1832{,}609 \\; \\;\\textrm{(kW)}\n\\end{aligned}\n\\]"
     },
     "metadata": {}
    }
   ],
   "source": [
    "%%render\n",
    "Q_EKO_2 = (m_p-m_vst)*(i_6-i_7) #kW"
   ]
  },
  {
   "source": [
    "#### Ekonomizer 1"
   ],
   "cell_type": "markdown",
   "metadata": {}
  },
  {
   "cell_type": "code",
   "execution_count": 101,
   "metadata": {},
   "outputs": [
    {
     "output_type": "display_data",
     "data": {
      "text/plain": "<IPython.core.display.Latex object>",
      "text/latex": "\\[\n\\begin{aligned}\nQ_{EKO_{1}} &= m_{p} \\cdot \\left( i_{7} - i_{8} \\right)  = 21{,}111 \\cdot \\left( 930{,}261 - 300{,}443 \\right) &= 13296{,}173 \\; \\;\\textrm{(kW)}\n\\end{aligned}\n\\]"
     },
     "metadata": {}
    }
   ],
   "source": [
    "%%render\n",
    "Q_EKO_1 = m_p*(i_7-i_8) #kW"
   ]
  },
  {
   "source": [
    "***\n",
    "SPATNE, NEVYCHAZI KONTROLA - JSOU SPATNE ENTALPIE (tabulka entalpii spalin ze semestralky ma odlisne hodnoty ==> po dosazeni hodnot ze semestralky kontrola vychazi, STALE ALE NUTNE ZJISTIT, KDE JE PROBLEM)\n",
    "***"
   ],
   "cell_type": "markdown",
   "metadata": {}
  },
  {
   "source": [
    "#### Kontrolni vypocet"
   ],
   "cell_type": "markdown",
   "metadata": {}
  },
  {
   "cell_type": "code",
   "execution_count": 102,
   "metadata": {},
   "outputs": [
    {
     "output_type": "display_data",
     "data": {
      "text/plain": "<IPython.core.display.Latex object>",
      "text/latex": "\\[\n\\begin{aligned}\nQ_{16} &= 45021{,}043 \\; \n\\\\[10pt]\nQ_{kontrolni} &= Q_{V} + Q_{P1} + Q_{P2}  = 36579{,}719 + 6243{,}705 + 1983{,}329 &= 44806{,}754  \n\\end{aligned}\n\\]"
     },
     "metadata": {}
    }
   ],
   "source": [
    "%%render\n",
    "Q_16\n",
    "Q_kontrolni = Q_V + Q_P1 + Q_P2"
   ]
  },
  {
   "source": [
    "***\n",
    "# Návrh teplosměnných ploch\n",
    "***"
   ],
   "cell_type": "markdown",
   "metadata": {}
  },
  {
   "source": [
    "**Označení veličin**\n",
    "\n",
    "D = vnější průměr\n",
    "\n",
    "t<sub>tr</sub> = tloušťka trubky\n",
    "\n",
    "d = vnitřní průměr\n",
    "\n",
    "h<sub>ž</sub> = výška žebra\n",
    "\n",
    "t<sub>ž</sub> = tloušťka žebra\n",
    "\n",
    "n<sub>ž</sub> = počet žeber na 1 m<sup>2</sup>\n",
    "\n",
    "s<sub>1</sub> = příčná rozteč\n",
    "\n",
    "s<sub>2</sub> = podélná rozteč"
   ],
   "cell_type": "markdown",
   "metadata": {}
  },
  {
   "source": [
    "## Přehřívák 2 (bez žebrování)\n",
    "***"
   ],
   "cell_type": "markdown",
   "metadata": {}
  },
  {
   "cell_type": "code",
   "execution_count": 103,
   "metadata": {},
   "outputs": [
    {
     "output_type": "display_data",
     "data": {
      "text/plain": "<IPython.core.display.Latex object>",
      "text/latex": "\\[\n\\begin{aligned}\nD &= 4{,}450 \\times 10 ^ {-2 } \\; \\;\\textrm{(m)}\n &t_{tr} &= 2{,}900 \\times 10 ^ {-3 } \\; \\;\\textrm{(m)}\n &d &= 3{,}870 \\times 10 ^ {-2 } \\; \\;\\textrm{(m)}\n\\\\[10pt]\n s_{1} &= 0{,}088 \\; \\;\\textrm{(m)}\n &s_{2} &= 0{,}117 \\; \\;\\textrm{(m)}\\end{aligned}\n\\]"
     },
     "metadata": {}
    }
   ],
   "source": [
    "%%render params\n",
    "D = 0.0445      #m\n",
    "t_tr = 0.0029   #m\n",
    "d = D-2*t_tr    #m\n",
    "s_1 = 0.088     #m\n",
    "s_2 = 0.117     #m"
   ]
  },
  {
   "source": [
    "### Rozměry trubek"
   ],
   "cell_type": "markdown",
   "metadata": {}
  },
  {
   "source": [
    "Zvolená rychlost"
   ],
   "cell_type": "markdown",
   "metadata": {}
  },
  {
   "cell_type": "code",
   "execution_count": 104,
   "metadata": {},
   "outputs": [
    {
     "output_type": "display_data",
     "data": {
      "text/plain": "<IPython.core.display.Latex object>",
      "text/latex": "\\[\n\\begin{aligned}\nw_{p} &= 22 \\; \\;\\textrm{(m/s)}\\end{aligned}\n\\]"
     },
     "metadata": {}
    }
   ],
   "source": [
    "%%render params\n",
    "w_p = 22    #m/s"
   ]
  },
  {
   "source": [
    "Střední hodnoty"
   ],
   "cell_type": "markdown",
   "metadata": {}
  },
  {
   "cell_type": "code",
   "execution_count": 105,
   "metadata": {},
   "outputs": [
    {
     "output_type": "display_data",
     "data": {
      "text/plain": "<IPython.core.display.Latex object>",
      "text/latex": "\\[\n\\begin{aligned}\nt_{12} &= \\frac{ t_{1} + t_{2} }{ 2 }  = \\frac{ 370 + 332{,}731 }{ 2 } &= 351{,}366 \\; \\;\\textrm{(°C)}\n\\\\[10pt]\np_{12} &= \\frac{ p_{1} + p_{2} }{ 2 }  = \\frac{ 3{,}1 + 3{,}33 }{ 2 } &= 3{,}215 \\; \\;\\textrm{(MPa)}\n\\end{aligned}\n\\]"
     },
     "metadata": {}
    }
   ],
   "source": [
    "%%render\n",
    "t_12 = (t_1+t_2)/2  #°C\n",
    "p_12 = (p_1+p_2)/2  #MPa"
   ]
  },
  {
   "cell_type": "code",
   "execution_count": 106,
   "metadata": {},
   "outputs": [
    {
     "output_type": "display_data",
     "data": {
      "text/plain": "<IPython.core.display.Latex object>",
      "text/latex": "\\[\n\\begin{aligned}\nv_{12} &= 8{,}435 \\times 10 ^ {-2 } \\; \\;\\textrm{(m3/kg)}\\end{aligned}\n\\]"
     },
     "metadata": {}
    }
   ],
   "source": [
    "%%render params\n",
    "v_12 = steam.v_pt(p_12*10,t_12)    #m3/kg"
   ]
  },
  {
   "source": [
    "Průtočný průřez"
   ],
   "cell_type": "markdown",
   "metadata": {}
  },
  {
   "cell_type": "code",
   "execution_count": 107,
   "metadata": {},
   "outputs": [
    {
     "output_type": "display_data",
     "data": {
      "text/plain": "<IPython.core.display.Latex object>",
      "text/latex": "\\[\n\\begin{aligned}\nS_{p} &= \\frac{ m_{p} \\cdot v_{12} }{ w_{p} }  = \\frac{ 21{,}111 \\cdot 8{,}435 \\times 10 ^ {-2 } }{ 22 } &= 8{,}095 \\times 10 ^ {-2 } \\; \\;\\textrm{(m2)}\n\\end{aligned}\n\\]"
     },
     "metadata": {}
    }
   ],
   "source": [
    "%%render\n",
    "S_p = (m_p*v_12)/w_p    #m2"
   ]
  },
  {
   "source": [
    "Počet trubek"
   ],
   "cell_type": "markdown",
   "metadata": {}
  },
  {
   "cell_type": "code",
   "execution_count": 108,
   "metadata": {},
   "outputs": [
    {
     "output_type": "display_data",
     "data": {
      "text/plain": "<IPython.core.display.Latex object>",
      "text/latex": "\\[\n\\begin{aligned}\nn_{tr} &= \\frac{ 4 \\cdot S_{p} }{ \\pi \\cdot \\left( d \\right) ^{ 2 } }  = \\frac{ 4 \\cdot 8{,}095 \\times 10 ^ {-2 } }{ 3{,}142 \\cdot \\left( 3{,}870 \\times 10 ^ {-2 } \\right) ^{ 2 } } &= 68  \n\\\\[10pt]\nn_{tr} &= \\operatorname{int} { \\left( n_{tr} \\right) }  = \\operatorname{int} { \\left( 68 \\right) } &= 68  \n\\end{aligned}\n\\]"
     },
     "metadata": {}
    }
   ],
   "source": [
    "%%render\n",
    "n_tr = (4*S_p)/(pi*d**2)\n",
    "n_tr = int(n_tr)"
   ]
  },
  {
   "source": [
    "Skutečná rychlost páry"
   ],
   "cell_type": "markdown",
   "metadata": {}
  },
  {
   "cell_type": "code",
   "execution_count": 109,
   "metadata": {},
   "outputs": [
    {
     "output_type": "display_data",
     "data": {
      "text/plain": "<IPython.core.display.Latex object>",
      "text/latex": "\\[\n\\begin{aligned}\nw_{p_{skut}} &= \\frac{ m_{p} \\cdot v_{12} \\cdot 4 }{ n_{tr} \\cdot \\pi \\cdot \\left( d \\right) ^{ 2 } }  = \\frac{ 21{,}111 \\cdot 8{,}435 \\times 10 ^ {-2 } \\cdot 4 }{ 68 \\cdot 3{,}142 \\cdot \\left( 3{,}870 \\times 10 ^ {-2 } \\right) ^{ 2 } } &= 22{,}263 \\; \\;\\textrm{(m/s)}\n\\end{aligned}\n\\]"
     },
     "metadata": {}
    }
   ],
   "source": [
    "%%render\n",
    "w_p_skut = (m_p*v_12*4)/(n_tr*pi*d**2)  #m/s"
   ]
  },
  {
   "cell_type": "code",
   "execution_count": null,
   "metadata": {},
   "outputs": [],
   "source": []
  }
 ],
 "metadata": {
  "kernelspec": {
   "display_name": "Python 3",
   "language": "python",
   "name": "python3"
  },
  "language_info": {
   "codemirror_mode": {
    "name": "ipython",
    "version": 3
   },
   "file_extension": ".py",
   "mimetype": "text/x-python",
   "name": "python",
   "nbconvert_exporter": "python",
   "pygments_lexer": "ipython3",
   "version": "3.8.1"
  }
 },
 "nbformat": 4,
 "nbformat_minor": 4
}