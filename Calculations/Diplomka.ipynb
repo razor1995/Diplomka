{
 "cells": [
  {
   "source": [
    "***\n",
    "# **Diplomová práce - výpočty**\n",
    "***\n",
    "### **Jméno:** Alois Primes\n",
    "### **Název práce:** MODULARNÍ HORIZONTÁLNÍ KOTEL – HRSG\n",
    "### **Zadání**\n",
    "**Stručná charakteristika problematiky úkolu:**\n",
    "\n",
    "Práce je zaměřena na návrh horizontálního kotle využívajícího spaliny za plynovou spalovací turbínou pro produkci páry k dalšímu energetickému využití. Kotel by měl být moderní konstrukce, zahrnující\n",
    "maximální prefabrikaci transportních bloků (modulů), která je ovlivněna podmínkami dopravního profilu na místo stavby. Kotel bude řešen jako modulární, s horizontálním prouděním spalin, konvekčním\n",
    "výparníkem, výhřevnými plochami ohříváku vody (ekonomizéry) a přehříváky páry s regulací teploty páry vstřikem napájecí vody, odebírané mezi dvěma ekonomizéry.\n",
    "\n",
    "**Základní parametry kotle jsou:** parní výkon 76 t/h, tlak 3,1 MPa, výstupní teplota 370 °C. Teplota\n",
    "napájecí vody kotle je 71°C. Další parametry kotle a odpadních spalin budou upřesněny v rámci\n",
    "realizace práce.\n",
    "\n",
    "**Cíle diplomové práce:**\n",
    "\n",
    "Zpracovat tepelný výpočet kotle.\n",
    "Zpracovat rozměrový návrh kotle, včetně základní výkresové dokumentace kotle a dispozičního\n",
    "řešení.\n",
    "Vyčíslit dosaženou účinnost kotle při vztažné teplotě 25 °C, použijte přímou metodu.\n",
    "Zpracovat diagram průběhu teploty pracovního média a spalin a stanovit bilanci vstřiku."
   ],
   "cell_type": "markdown",
   "metadata": {}
  },
  {
   "cell_type": "code",
   "execution_count": 1,
   "metadata": {},
   "outputs": [],
   "source": [
    "# Instalace a aktualizace modulů\n",
    "\n",
    "# !pip install --upgrade pip\n",
    "# !pip install --upgrade tabulate\n",
    "# !pip install --upgrade forallpeople\n",
    "# !pip install --upgrade handcalcs\n",
    "# !pip install --upgrade pytexit\n",
    "# !pip install --upgrade pyXSteam\n",
    "# !pip install --upgrade CoolProp"
   ]
  },
  {
   "cell_type": "code",
   "execution_count": 2,
   "metadata": {},
   "outputs": [],
   "source": [
    "# Import knihoven a modulů\n",
    "\n",
    "import pandas as pd\n",
    "from CoolProp.CoolProp import PropsSI\n",
    "import handcalcs.render\n",
    "from math import pi, e, sqrt, log\n",
    "from pyXSteam.XSteam import XSteam\n",
    "from tabulate import tabulate\n",
    "import pyromat as pm"
   ]
  },
  {
   "cell_type": "code",
   "execution_count": 3,
   "metadata": {},
   "outputs": [],
   "source": [
    "# Nastavení prostředí a modulů\n",
    "\n",
    "%decimal_separator ,\n",
    "steam = XSteam(XSteam.UNIT_SYSTEM_MKS) # Jednotky: m/kg/sec/°C/bar/W\n",
    "pd.set_option(\"display.precision\", 3)\n",
    "\n",
    "pm.config['unit_temperature'] = 'C'"
   ]
  },
  {
   "source": [
    "***\n",
    "## Základní parametry kotle\n",
    "***"
   ],
   "cell_type": "markdown",
   "metadata": {}
  },
  {
   "cell_type": "code",
   "execution_count": 4,
   "metadata": {},
   "outputs": [
    {
     "output_type": "display_data",
     "data": {
      "text/plain": "<IPython.core.display.Latex object>",
      "text/latex": "\\[\n\\begin{aligned}\nm_{p} &= 21{,}111 \\; \\;\\textrm{(kg/s)}\n &p_{out} &= 3{,}1 \\; \\;\\textrm{(MPa)}\n &t_{out} &= 370 \\; \\;\\textrm{(°C)}\n\\\\[10pt]\n t_{nv} &= 71 \\; \\;\\textrm{(°C)}\n &m_{vst} &= 0{,}36 \\; \\;\\textrm{(kg/s)}\n &t_{vst} &= 217 \\; \\;\\textrm{(°C)}\n\\\\[10pt]\\end{aligned}\n\\]"
     },
     "metadata": {}
    }
   ],
   "source": [
    "%%render params 3\n",
    "m_p = (76*1000)/3600        #kg/s\n",
    "p_out = 3.1                 #MPa\n",
    "t_out = 370                 #°C\n",
    "t_nv = 71                   #°C\n",
    "m_vst = 0.36                #kg/s\n",
    "t_vst = 217                 #°C"
   ]
  },
  {
   "source": [
    "***\n",
    "## Parametry spalin ze spalovací turbíny\n",
    "***"
   ],
   "cell_type": "markdown",
   "metadata": {}
  },
  {
   "cell_type": "code",
   "execution_count": 5,
   "metadata": {},
   "outputs": [],
   "source": [
    "R = 8.314462618 #J/kg/mol\n",
    "T = 273.15 #K"
   ]
  },
  {
   "source": [
    "#### Objemové složení spalin, hmotnostní průtok a teplota na vstupu do hořáku"
   ],
   "cell_type": "markdown",
   "metadata": {}
  },
  {
   "cell_type": "code",
   "execution_count": 6,
   "metadata": {},
   "outputs": [
    {
     "output_type": "display_data",
     "data": {
      "text/plain": "<IPython.core.display.Latex object>",
      "text/latex": "\\[\n\\begin{aligned}\nm_{sp} &= 130{,}1 \\; \\;\\textrm{(kg/s)}\n &t_{sp} &= 562{,}0 \\; \\;\\textrm{(°C)}\n &x_{N2} &= 7{,}457 \\times 10 ^ {-1 } \\; \n\\\\[10pt]\n x_{O2} &= 1{,}289 \\times 10 ^ {-1 } \\; \n &x_{H2O} &= 8{,}010 \\times 10 ^ {-2 } \\; \n &x_{CO2} &= 3{,}640 \\times 10 ^ {-2 } \\; \n\\\\[10pt]\n x_{Ar} &= 8{,}900 \\times 10 ^ {-3 } \\;\\end{aligned}\n\\]"
     },
     "metadata": {}
    }
   ],
   "source": [
    "%%render params 3\n",
    "m_sp = 130.1    #kg/s\n",
    "t_sp = 562.0    #°C\n",
    "\n",
    "# Objemové složení spalin\n",
    "x_N2 = 0.7457\n",
    "x_O2 = 0.1289\n",
    "x_H2O = 0.0801\n",
    "x_CO2 = 0.0364\n",
    "x_Ar = 0.0089"
   ]
  },
  {
   "source": [
    "#### Molární hmotnosti spalin"
   ],
   "cell_type": "markdown",
   "metadata": {}
  },
  {
   "cell_type": "code",
   "execution_count": 7,
   "metadata": {},
   "outputs": [
    {
     "output_type": "display_data",
     "data": {
      "text/plain": "<IPython.core.display.Latex object>",
      "text/latex": "\\[\n\\begin{aligned}\nM_{N2} &= 0{,}028 \\; \\;\\textrm{(kg/mol)}\n &M_{O2} &= 0{,}032 \\; \\;\\textrm{(kg/mol)}\n &M_{H2O} &= 0{,}018 \\; \\;\\textrm{(kg/mol)}\n\\\\[10pt]\n M_{CO2} &= 0{,}044 \\; \\;\\textrm{(kg/mol)}\n &M_{Ar} &= 3{,}995 \\times 10 ^ {-2 } \\; \\;\\textrm{(kg/mol)}\\end{aligned}\n\\]"
     },
     "metadata": {}
    }
   ],
   "source": [
    "%%render params 3\n",
    "\n",
    "# Molární hmotnost složek spalin (z podkladů)\n",
    "M_N2 = 28.0134e-03      #kg/mol\n",
    "M_O2 = 31.9988e-03      #kg/mol\n",
    "M_H2O = 18.0152e-03     #kg/mol\n",
    "M_CO2 = 44.0095e-03     #kg/mol\n",
    "M_Ar = 39.9480e-03      #kg/mol"
   ]
  },
  {
   "source": [
    "#### Hustota složek spalin (z podkladů)"
   ],
   "cell_type": "markdown",
   "metadata": {}
  },
  {
   "cell_type": "code",
   "execution_count": 8,
   "metadata": {},
   "outputs": [
    {
     "output_type": "display_data",
     "data": {
      "text/plain": "<IPython.core.display.Latex object>",
      "text/latex": "\\[\n\\begin{aligned}\n\\rho_{N2} &= 1{,}25 \\; \\;\\textrm{(kg/m3)}\n &\\rho_{O2} &= 1{,}429 \\; \\;\\textrm{(kg/m3)}\n &\\rho_{H2O} &= 8{,}038 \\times 10 ^ {-1 } \\; \\;\\textrm{(kg/m3)}\n\\\\[10pt]\n \\rho_{CO2} &= 1{,}977 \\; \\;\\textrm{(kg/m3)}\n &\\rho_{Ar} &= 1{,}784 \\; \\;\\textrm{(kg/m3)}\n &\\rho_{sp} &= 1{,}269 \\; \\;\\textrm{(kg/m3)}\n\\\\[10pt]\\end{aligned}\n\\]"
     },
     "metadata": {}
    }
   ],
   "source": [
    "%%render params\n",
    "rho_N2 = 1.2504     #kg/m3\n",
    "rho_O2 = 1.4290     #kg/m3\n",
    "rho_H2O = 0.8038    #kg/m3\n",
    "rho_CO2 = 1.9772    #kg/m3\n",
    "rho_Ar = 1.7840     #kg/m3\n",
    "rho_sp = x_N2*rho_N2 + x_O2*rho_O2 + x_H2O*rho_H2O + x_CO2*rho_CO2 + x_Ar*rho_Ar #kg/m3"
   ]
  },
  {
   "source": [
    "#### Hmotnostní procenta (-)"
   ],
   "cell_type": "markdown",
   "metadata": {}
  },
  {
   "cell_type": "code",
   "execution_count": 9,
   "metadata": {},
   "outputs": [],
   "source": [
    "# Hmotnosti\n",
    "m_N2 = x_N2*rho_N2                      #kg\n",
    "m_O2 = x_O2*rho_O2                      #kg\n",
    "m_H2O = x_H2O*rho_H2O                   #kg\n",
    "m_CO2 = x_CO2*rho_CO2                   #kg\n",
    "m_Ar = x_Ar*rho_Ar                      #kg"
   ]
  },
  {
   "cell_type": "code",
   "execution_count": 10,
   "metadata": {},
   "outputs": [],
   "source": [
    "# Hmotnostní podíl\n",
    "w_N2 = m_N2/rho_sp                        #kg\n",
    "w_O2 = m_O2/rho_sp                        #kg\n",
    "w_H2O = m_H2O/rho_sp                      #kg\n",
    "w_CO2 = m_CO2/rho_sp                      #kg\n",
    "w_Ar = m_Ar/rho_sp                        #kg"
   ]
  },
  {
   "source": [
    "#### Objemový průtok spalin"
   ],
   "cell_type": "markdown",
   "metadata": {}
  },
  {
   "cell_type": "code",
   "execution_count": 11,
   "metadata": {},
   "outputs": [
    {
     "output_type": "display_data",
     "data": {
      "text/plain": "<IPython.core.display.Latex object>",
      "text/latex": "\\[\n\\begin{aligned}\nV_{sp} &= \\frac{ m_{sp} }{ \\rho_{sp} }  = \\frac{ 130{,}1 }{ 1{,}269 } &= 102{,}534 \\; \\;\\textrm{(m3n/s)}\n\\end{aligned}\n\\]"
     },
     "metadata": {}
    }
   ],
   "source": [
    "%%render\n",
    "V_sp = m_sp/rho_sp #m3n/s"
   ]
  },
  {
   "cell_type": "code",
   "execution_count": 12,
   "metadata": {},
   "outputs": [
    {
     "output_type": "display_data",
     "data": {
      "text/plain": "<IPython.core.display.Latex object>",
      "text/latex": "\\[\n\\begin{aligned}\nv_{N2} &= 22{,}403 \\; \\;\\textrm{(m3/kg)}\n &v_{O2} &= 22{,}392 \\; \\;\\textrm{(m3/kg)}\n &v_{H2O} &= 22{,}414 \\; \\;\\textrm{(m3/kg)}\n\\\\[10pt]\n v_{CO2} &= 22{,}258 \\; \\;\\textrm{(m3/kg)}\n &v_{Ar} &= 22{,}393 \\; \\;\\textrm{(m3/kg)}\\end{aligned}\n\\]"
     },
     "metadata": {}
    }
   ],
   "source": [
    "%%render params 3\n",
    "\n",
    "# Měrný objem složek spalin (z podkladů)\n",
    "v_N2 = 22.403     #m3/kg\n",
    "v_O2 = 22.392     #m3/kg\n",
    "v_H2O = 22.414    #m3/kg\n",
    "v_CO2 = 22.258    #m3/kg\n",
    "v_Ar = 22.393     #m3/kg"
   ]
  },
  {
   "source": [
    "#### Entalpie spalin (z modulu PyroMat - shodné s poskytnutými materiály)"
   ],
   "cell_type": "markdown",
   "metadata": {}
  },
  {
   "cell_type": "code",
   "execution_count": 13,
   "metadata": {},
   "outputs": [],
   "source": [
    "N2 = pm.get('ig.N2')\n",
    "O2 = pm.get('ig.O2')\n",
    "H2O = pm.get('ig.H2O')\n",
    "CO2 = pm.get('ig.CO2')\n",
    "Ar = pm.get('ig.Ar')"
   ]
  },
  {
   "cell_type": "code",
   "execution_count": 14,
   "metadata": {},
   "outputs": [],
   "source": [
    "def entalpie_sp(teplota, jednotka=''):\n",
    "\n",
    "    \"\"\"\n",
    "    teplota = zadávat ve °C\n",
    "    jednotka = volba mezi 'kg' / 'm3n'\n",
    "\n",
    "    Vypočítá entalpii [kJ/kg nebo kJ/m3n] spalin při dané teplotě [°C] vzhledem k entalpii daného prvku při 0°C. Výstupem je dictionary. Pro zobrazení entalpie prvku  dané teploty je nutné vybrat daný prvek nebo spaliny ['N2', 'O2', 'H2O', 'CO2', 'Ar', 'sp']. Výstupem pro jeden konkrétní prvek je float.\n",
    "    \"\"\"\n",
    "\n",
    "    h_N2 = float(N2.h(teplota)-N2.h(0)) #kJ/kg\n",
    "    I_N2 = h_N2*rho_sp\n",
    "\n",
    "    h_O2 = float(O2.h(teplota)-O2.h(0)) #kJ/kg\n",
    "    I_O2 = h_O2*rho_sp\n",
    "\n",
    "    h_H2O = float(H2O.h(teplota)-H2O.h(0)) #kJ/kg\n",
    "    I_H2O = h_H2O*rho_sp\n",
    "\n",
    "    h_CO2 = float(CO2.h(teplota)-CO2.h(0)) #kJ/kg\n",
    "    I_CO2 = h_CO2*rho_sp\n",
    "\n",
    "    h_Ar = float(Ar.h(teplota)-Ar.h(0)) #kJ/kg\n",
    "    I_Ar = h_Ar*rho_sp\n",
    "\n",
    "    h_spalin = w_N2*h_N2 + w_O2*h_O2 + w_H2O*h_H2O + w_CO2*h_CO2 + w_Ar*h_Ar #kJ/kg\n",
    "    I_spalin = w_N2*I_N2 + w_O2*I_O2 + w_H2O*I_H2O + w_CO2*I_CO2 + w_Ar*I_Ar #kJ/m3n\n",
    "\n",
    "\n",
    "    if jednotka == 'kg':\n",
    "        return {'N2': h_N2, 'O2': h_O2, 'H2O': h_H2O , 'CO2': h_CO2, 'Ar': h_Ar, 'sp': h_spalin}\n",
    "    elif jednotka == 'm3n':\n",
    "        return {'N2': I_N2, 'O2': I_O2, 'H2O': I_H2O , 'CO2': I_CO2, 'Ar': I_Ar, 'sp': I_spalin}\n",
    "    else:\n",
    "        print('Nutno zadat jednotku - kg / m3n!')"
   ]
  },
  {
   "cell_type": "code",
   "execution_count": 194,
   "metadata": {},
   "outputs": [],
   "source": []
  },
  {
   "source": [
    "Interpolace"
   ],
   "cell_type": "markdown",
   "metadata": {}
  },
  {
   "cell_type": "code",
   "execution_count": 15,
   "metadata": {},
   "outputs": [],
   "source": [
    "def lambda_interpolate(teplota):\n",
    "    t_min = (int(teplota/100))*100\n",
    "    t_max = (int(teplota/100)+1)*100\n",
    "\n",
    "    lambda_init = float(lambda_tabulka_print.loc[t_min,\"8 % H2O\"])\n",
    "    delta_T = teplota-t_min\n",
    "    delta_lambda = lambda_tabulka_print.loc[t_max,\"8 % H2O\"]-lambda_tabulka_print.loc[t_min,\"8 % H2O\"]\n",
    "    vysledek = (lambda_init + delta_T*(delta_lambda/(t_max-t_min)))*10**-3\n",
    "    return vysledek"
   ]
  },
  {
   "cell_type": "code",
   "execution_count": 16,
   "metadata": {},
   "outputs": [],
   "source": [
    "def nu_interpolate(teplota):\n",
    "    t_min = (int(teplota/100))*100\n",
    "    t_max = (int(teplota/100)+1)*100\n",
    "\n",
    "    nu_init = float(nu_tabulka_print.loc[t_min,\"8 % H2O\"])\n",
    "    delta_T = teplota-t_min\n",
    "    delta_nu = nu_tabulka_print.loc[t_max,\"8 % H2O\"]-nu_tabulka_print.loc[t_min,\"8 % H2O\"]\n",
    "    vysledek = (nu_init + delta_T*(delta_nu/(t_max-t_min)))*10**-6\n",
    "    return vysledek\n"
   ]
  },
  {
   "cell_type": "code",
   "execution_count": 17,
   "metadata": {},
   "outputs": [],
   "source": [
    "def Pr_interpolate(teplota):\n",
    "    t_min = (int(teplota/100))*100\n",
    "    t_max = (int(teplota/100)+1)*100\n",
    "\n",
    "    Pr_init = float(Pr_tabulka_print.loc[t_min,\"8 % H2O\"])\n",
    "    delta_T = teplota-t_min\n",
    "    delta_Pr = Pr_tabulka_print.loc[t_max,\"8 % H2O\"]-Pr_tabulka_print.loc[t_min,\"8 % H2O\"]\n",
    "    vysledek = (Pr_init + delta_T*(delta_Pr/(t_max-t_min)))\n",
    "    return vysledek"
   ]
  },
  {
   "source": [
    "### <u>Bod A (Vstup spalin - za hořákem)"
   ],
   "cell_type": "markdown",
   "metadata": {}
  },
  {
   "cell_type": "code",
   "execution_count": 18,
   "metadata": {},
   "outputs": [
    {
     "output_type": "display_data",
     "data": {
      "text/plain": "<IPython.core.display.Latex object>",
      "text/latex": "\\[\n\\begin{aligned}\nt_{A} &= 562{,}0 \\; \\;\\textrm{(°C)}\n\\\\[10pt]\nI_{A_{sp}} &= 782{,}789 \\; \\;\\textrm{(kJ/m3n)}\n\\end{aligned}\n\\]"
     },
     "metadata": {}
    }
   ],
   "source": [
    "%%render\n",
    "t_A = t_sp #°C\n",
    "I_A_sp = entalpie_sp(t_A, 'm3n')['sp']  #kJ/m3n"
   ]
  },
  {
   "source": [
    "### Bod B (za druhým přehřívákem)"
   ],
   "cell_type": "markdown",
   "metadata": {}
  },
  {
   "cell_type": "code",
   "execution_count": 19,
   "metadata": {},
   "outputs": [
    {
     "output_type": "display_data",
     "data": {
      "text/plain": "<IPython.core.display.Latex object>",
      "text/latex": "\\[\n\\begin{aligned}\nt_{B} &= 549 \\; \\;\\textrm{(°C)}\n\\\\[10pt]\nI_{B_{sp}} &= 763{,}535 \\; \\;\\textrm{(kJ/m3n)}\n\\end{aligned}\n\\]"
     },
     "metadata": {}
    }
   ],
   "source": [
    "%%render\n",
    "t_B = 549 #°C\n",
    "I_B_sp = entalpie_sp(t_B,'m3n')['sp'] #kJ/m3n"
   ]
  },
  {
   "source": [
    "### Bod C (za prvním přehřívákem)"
   ],
   "cell_type": "markdown",
   "metadata": {}
  },
  {
   "cell_type": "code",
   "execution_count": 20,
   "metadata": {},
   "outputs": [
    {
     "output_type": "display_data",
     "data": {
      "text/plain": "<IPython.core.display.Latex object>",
      "text/latex": "\\[\n\\begin{aligned}\nt_{C} &= 507 \\; \\;\\textrm{(°C)}\n\\\\[10pt]\nI_{C_{sp}} &= 701{,}73 \\; \\;\\textrm{(kJ/m3n)}\n\\end{aligned}\n\\]"
     },
     "metadata": {}
    }
   ],
   "source": [
    "%%render\n",
    "t_C = 507 #°C\n",
    "I_C_sp = entalpie_sp(t_C, 'm3n')['sp'] #kJ/m3n"
   ]
  },
  {
   "source": [
    "### Bod D (za druhým výparníkem)"
   ],
   "cell_type": "markdown",
   "metadata": {}
  },
  {
   "cell_type": "code",
   "execution_count": 21,
   "metadata": {},
   "outputs": [
    {
     "output_type": "display_data",
     "data": {
      "text/plain": "<IPython.core.display.Latex object>",
      "text/latex": "\\[\n\\begin{aligned}\nt_{D} &= 366 \\; \\;\\textrm{(°C)}\n\\\\[10pt]\nI_{D_{sp}} &= 498{,}778 \\; \\;\\textrm{(kJ/m3n)}\n\\end{aligned}\n\\]"
     },
     "metadata": {}
    }
   ],
   "source": [
    "%%render\n",
    "t_D = 366 #°C\n",
    "I_D_sp = entalpie_sp(t_D, 'm3n')['sp'] #kJ/m3n"
   ]
  },
  {
   "source": [
    "### Bod E (za prvním výparníkem)"
   ],
   "cell_type": "markdown",
   "metadata": {}
  },
  {
   "cell_type": "code",
   "execution_count": 22,
   "metadata": {},
   "outputs": [
    {
     "output_type": "display_data",
     "data": {
      "text/plain": "<IPython.core.display.Latex object>",
      "text/latex": "\\[\n\\begin{aligned}\nt_{E} &= 254 \\; \\;\\textrm{(°C)}\n\\\\[10pt]\nI_{E_{sp}} &= 342{,}368 \\; \\;\\textrm{(kJ/m3n)}\n\\end{aligned}\n\\]"
     },
     "metadata": {}
    }
   ],
   "source": [
    "%%render\n",
    "t_E = 254 #°C\n",
    "I_E_sp = entalpie_sp(t_E, 'm3n')['sp'] #kJ/m3n"
   ]
  },
  {
   "source": [
    "### Bod F (za druhým ekonomizérem)"
   ],
   "cell_type": "markdown",
   "metadata": {}
  },
  {
   "cell_type": "code",
   "execution_count": 23,
   "metadata": {},
   "outputs": [
    {
     "output_type": "display_data",
     "data": {
      "text/plain": "<IPython.core.display.Latex object>",
      "text/latex": "\\[\n\\begin{aligned}\nt_{F} &= 241 \\; \\;\\textrm{(°C)}\n\\\\[10pt]\nI_{F_{sp}} &= 324{,}466 \\; \\;\\textrm{(kJ/m3n)}\n\\end{aligned}\n\\]"
     },
     "metadata": {}
    }
   ],
   "source": [
    "%%render\n",
    "t_F = 241 #°C\n",
    "I_F_sp = entalpie_sp(t_F, 'm3n')['sp'] #kJ/m3n"
   ]
  },
  {
   "source": [
    "### Bod G (za prvním ekonomizérem, výstup spalin)"
   ],
   "cell_type": "markdown",
   "metadata": {}
  },
  {
   "cell_type": "code",
   "execution_count": 24,
   "metadata": {},
   "outputs": [
    {
     "output_type": "display_data",
     "data": {
      "text/plain": "<IPython.core.display.Latex object>",
      "text/latex": "\\[\n\\begin{aligned}\nt_{G} &= 145 \\; \\;\\textrm{(°C)}\n\\\\[10pt]\nI_{G_{sp}} &= 193{,}696 \\; \\;\\textrm{(kJ/m3n)}\n\\end{aligned}\n\\]"
     },
     "metadata": {}
    }
   ],
   "source": [
    "%%render\n",
    "t_G = 145 #°C\n",
    "I_G_sp = entalpie_sp(t_G, 'm3n')['sp'] #kJ/m3n"
   ]
  },
  {
   "source": [
    "Tabulka entalpií spalin"
   ],
   "cell_type": "markdown",
   "metadata": {}
  },
  {
   "cell_type": "code",
   "execution_count": 25,
   "metadata": {},
   "outputs": [],
   "source": [
    "spalinova_tabulka = pd.DataFrame(\n",
    "    {\n",
    "        \"T [°C]\": (\"100\",\"200\",\"300\",\"400\",\"500\",\"600\"),\n",
    "        \"N2 [kJ/m3N]\": (entalpie_sp(100, 'm3n')['N2'],entalpie_sp(200, 'm3n')['N2'],entalpie_sp(300, 'm3n')['N2'],entalpie_sp(400, 'm3n')['N2'],entalpie_sp(500, 'm3n')['N2'],entalpie_sp(600, 'm3n')['N2']),\n",
    "        \"O2 [kJ/m3N]\": (entalpie_sp(100, 'm3n')['O2'],entalpie_sp(200, 'm3n')['O2'],entalpie_sp(300, 'm3n')['O2'],entalpie_sp(400, 'm3n')['O2'],entalpie_sp(500, 'm3n')['O2'],entalpie_sp(600, 'm3n')['O2']),\n",
    "        \"H2O [kJ/m3N]\": (entalpie_sp(100, 'm3n')['H2O'],entalpie_sp(200, 'm3n')['H2O'],entalpie_sp(300, 'm3n')['H2O'],entalpie_sp(400, 'm3n')['H2O'],entalpie_sp(500, 'm3n')['H2O'],entalpie_sp(600, 'm3n')['H2O']),\n",
    "        \"CO2 [kJ/m3N]\": (entalpie_sp(100, 'm3n')['CO2'],entalpie_sp(200, 'm3n')['CO2'],entalpie_sp(300, 'm3n')['CO2'],entalpie_sp(400, 'm3n')['CO2'],entalpie_sp(500, 'm3n')['CO2'],entalpie_sp(600, 'm3n')['CO2']),\n",
    "        \"Ar [kJ/m3N]\": (entalpie_sp(100, 'm3n')['Ar'],entalpie_sp(200, 'm3n')['Ar'],entalpie_sp(300, 'm3n')['Ar'],entalpie_sp(400, 'm3n')['Ar'],entalpie_sp(500, 'm3n')['Ar'],entalpie_sp(600, 'm3n')['Ar']),\n",
    "        \"Spaliny [kJ/m3N]\":(entalpie_sp(100, 'm3n')['sp'],entalpie_sp(200, 'm3n')['sp'],entalpie_sp(300, 'm3n')['sp'],entalpie_sp(400, 'm3n')['sp'],entalpie_sp(500, 'm3n')['sp'],entalpie_sp(600, 'm3n')['sp'])\n",
    "    }\n",
    ")\n",
    "spalinova_tabulka_print = spalinova_tabulka.set_index(spalinova_tabulka.columns[0])"
   ]
  },
  {
   "cell_type": "code",
   "execution_count": 26,
   "metadata": {},
   "outputs": [
    {
     "output_type": "execute_result",
     "data": {
      "text/plain": [
       "        N2 [kJ/m3N]  O2 [kJ/m3N]  H2O [kJ/m3N]  CO2 [kJ/m3N]  Ar [kJ/m3N]  \\\n",
       "T [°C]                                                                      \n",
       "100         132.041      117.145       237.610       110.117       66.022   \n",
       "200         264.937      237.449       480.441       231.445      132.045   \n",
       "300         399.482      361.631       730.229       361.991      198.067   \n",
       "400         536.418      489.710       987.963       500.076      264.089   \n",
       "500         676.306      621.261      1254.130       644.326      330.111   \n",
       "600         819.402      755.670      1528.966       793.668      396.134   \n",
       "\n",
       "        Spaliny [kJ/m3N]  \n",
       "T [°C]                    \n",
       "100              133.166  \n",
       "200              268.319  \n",
       "300              406.123  \n",
       "400              547.081  \n",
       "500              691.489  \n",
       "600              839.399  "
      ],
      "text/html": "<div>\n<style scoped>\n    .dataframe tbody tr th:only-of-type {\n        vertical-align: middle;\n    }\n\n    .dataframe tbody tr th {\n        vertical-align: top;\n    }\n\n    .dataframe thead th {\n        text-align: right;\n    }\n</style>\n<table border=\"1\" class=\"dataframe\">\n  <thead>\n    <tr style=\"text-align: right;\">\n      <th></th>\n      <th>N2 [kJ/m3N]</th>\n      <th>O2 [kJ/m3N]</th>\n      <th>H2O [kJ/m3N]</th>\n      <th>CO2 [kJ/m3N]</th>\n      <th>Ar [kJ/m3N]</th>\n      <th>Spaliny [kJ/m3N]</th>\n    </tr>\n    <tr>\n      <th>T [°C]</th>\n      <th></th>\n      <th></th>\n      <th></th>\n      <th></th>\n      <th></th>\n      <th></th>\n    </tr>\n  </thead>\n  <tbody>\n    <tr>\n      <th>100</th>\n      <td>132.041</td>\n      <td>117.145</td>\n      <td>237.610</td>\n      <td>110.117</td>\n      <td>66.022</td>\n      <td>133.166</td>\n    </tr>\n    <tr>\n      <th>200</th>\n      <td>264.937</td>\n      <td>237.449</td>\n      <td>480.441</td>\n      <td>231.445</td>\n      <td>132.045</td>\n      <td>268.319</td>\n    </tr>\n    <tr>\n      <th>300</th>\n      <td>399.482</td>\n      <td>361.631</td>\n      <td>730.229</td>\n      <td>361.991</td>\n      <td>198.067</td>\n      <td>406.123</td>\n    </tr>\n    <tr>\n      <th>400</th>\n      <td>536.418</td>\n      <td>489.710</td>\n      <td>987.963</td>\n      <td>500.076</td>\n      <td>264.089</td>\n      <td>547.081</td>\n    </tr>\n    <tr>\n      <th>500</th>\n      <td>676.306</td>\n      <td>621.261</td>\n      <td>1254.130</td>\n      <td>644.326</td>\n      <td>330.111</td>\n      <td>691.489</td>\n    </tr>\n    <tr>\n      <th>600</th>\n      <td>819.402</td>\n      <td>755.670</td>\n      <td>1528.966</td>\n      <td>793.668</td>\n      <td>396.134</td>\n      <td>839.399</td>\n    </tr>\n  </tbody>\n</table>\n</div>"
     },
     "metadata": {},
     "execution_count": 26
    }
   ],
   "source": [
    "spalinova_tabulka_print\n",
    "# print(spalinova_tabulka_print.to_latex())"
   ]
  },
  {
   "source": [
    "***\n",
    "## Výpočty ze strany vody a vodní páry\n",
    "***"
   ],
   "cell_type": "markdown",
   "metadata": {}
  },
  {
   "source": [
    "#### Bod 1 (Konec druhého přehříváku, výstupní pára)"
   ],
   "cell_type": "markdown",
   "metadata": {}
  },
  {
   "cell_type": "code",
   "execution_count": 27,
   "metadata": {},
   "outputs": [
    {
     "output_type": "display_data",
     "data": {
      "text/plain": "<IPython.core.display.Latex object>",
      "text/latex": "\\[\n\\begin{aligned}\nt_{1} &= 370 \\; \\;\\textrm{(°C)}\n &p_{1} &= 3{,}1 \\; \\;\\textrm{(MPa)}\n &h_{1} &= 3160{,}749 \\; \\;\\textrm{(kJ/kg)}\n\\\\[10pt]\n v_{1} &= 9{,}093 \\times 10 ^ {-2 } \\; \\;\\textrm{(m3/kg)}\n &x_{1} &= 1{,}0 \\; \\;\\textrm{(-)}\\end{aligned}\n\\]"
     },
     "metadata": {}
    }
   ],
   "source": [
    "%%render params\n",
    "t_1 = t_out                     #°C\n",
    "p_1 = p_out                     #MPa\n",
    "h_1 = steam.h_pt(p_1*10,t_1)    #kJ/kg\n",
    "v_1 = steam.v_pt(p_1*10,t_1)    #m3/kg\n",
    "x_1 = steam.x_ph(p_1*10,h_1)    #-"
   ]
  },
  {
   "source": [
    "#### Bod 3 (Konec prvního přehříváku, před vstřikem)"
   ],
   "cell_type": "markdown",
   "metadata": {}
  },
  {
   "cell_type": "code",
   "execution_count": 28,
   "metadata": {},
   "outputs": [
    {
     "output_type": "display_data",
     "data": {
      "text/plain": "<IPython.core.display.Latex object>",
      "text/latex": "\\[\n\\begin{aligned}\nt_{3} &= 348 \\; \\;\\textrm{(°C)}\n &p_{3} &= 3{,}33 \\; \\;\\textrm{(MPa)}\n &h_{3} &= 3103{,}888 \\; \\;\\textrm{(kJ/kg)}\n\\\\[10pt]\n v_{3} &= 8{,}069 \\times 10 ^ {-2 } \\; \\;\\textrm{(m3/kg)}\n &x_{3} &= 1{,}0 \\; \\;\\textrm{(-)}\\end{aligned}\n\\]"
     },
     "metadata": {}
    }
   ],
   "source": [
    "%%render params\n",
    "t_3 = 348                       #°C\n",
    "p_3 = 3.33                      #MPa\n",
    "h_3 = steam.h_pt(p_3*10,t_3)    #kJ/kg\n",
    "v_3 = steam.v_pt(p_3*10,t_3)    #m3/kg\n",
    "x_3 = steam.x_ph(p_3*10,h_3)    #-"
   ]
  },
  {
   "source": [
    "#### Bod 4 (Začátek prvního přehříváku, po druhém výparníku)"
   ],
   "cell_type": "markdown",
   "metadata": {}
  },
  {
   "cell_type": "code",
   "execution_count": 29,
   "metadata": {},
   "outputs": [
    {
     "output_type": "display_data",
     "data": {
      "text/plain": "<IPython.core.display.Latex object>",
      "text/latex": "\\[\n\\begin{aligned}\np_{4} &= 3{,}38 \\; \\;\\textrm{(MPa)}\n &t_{4} &= 240{,}565 \\; \\;\\textrm{(°C)}\n &h_{4} &= 2803{,}002 \\; \\;\\textrm{(kJ/kg)}\n\\\\[10pt]\n v_{4} &= 5{,}911 \\times 10 ^ {-2 } \\; \\;\\textrm{(m3/kg)}\n &x_{4} &= 1{,}0 \\; \\;\\textrm{(-)}\\end{aligned}\n\\]"
     },
     "metadata": {}
    }
   ],
   "source": [
    "%%render params\n",
    "p_4 = 3.38                      #MPa\n",
    "t_4 = steam.tsat_p(p_4*10)      #°C\n",
    "h_4 = steam.hV_p(p_4*10)        #kJ/kg\n",
    "v_4 = steam.vV_p(p_4*10)        #m3/kg\n",
    "x_4 = steam.x_ph(p_4*10,h_4)    #-"
   ]
  },
  {
   "source": [
    "#### Bod 5 (začátek prvního výparníku, kde je sytá kapalina)"
   ],
   "cell_type": "markdown",
   "metadata": {}
  },
  {
   "cell_type": "code",
   "execution_count": 30,
   "metadata": {},
   "outputs": [
    {
     "output_type": "display_data",
     "data": {
      "text/plain": "<IPython.core.display.Latex object>",
      "text/latex": "\\[\n\\begin{aligned}\np_{5} &= 3{,}38 \\; \\;\\textrm{(MPa)}\n &t_{5} &= 240{,}565 \\; \\;\\textrm{(°C)}\n &h_{5} &= 1040{,}219 \\; \\;\\textrm{(kJ/kg)}\n\\\\[10pt]\n v_{5} &= 1{,}231 \\times 10 ^ {-3 } \\; \\;\\textrm{(m3/kg)}\n &x_{5} &= 0{,}0 \\; \\;\\textrm{(-)}\\end{aligned}\n\\]"
     },
     "metadata": {}
    }
   ],
   "source": [
    "%%render params\n",
    "p_5 = 3.38                      #MPa\n",
    "t_5 = steam.tsat_p(p_5*10)      #°C\n",
    "h_5 = steam.hL_p(p_5*10)        #kJ/kg\n",
    "v_5 = steam.vL_p(p_5*10)        #m3/kg\n",
    "x_5 = steam.x_ph(p_5*10,h_5)    #-"
   ]
  },
  {
   "source": [
    "#### Bod 6 (Za posledním ekonomizérem, před vstupem do výparníku)"
   ],
   "cell_type": "markdown",
   "metadata": {}
  },
  {
   "cell_type": "code",
   "execution_count": 31,
   "metadata": {},
   "outputs": [
    {
     "output_type": "display_data",
     "data": {
      "text/plain": "<IPython.core.display.Latex object>",
      "text/latex": "\\[\n\\begin{aligned}\np_{6} &= 3{,}68 \\; \\;\\textrm{(MPa)}\n &t_{6} &= 236 \\; \\;\\textrm{(°C)}\n &h_{6} &= 1018{,}575 \\; \\;\\textrm{(kJ/kg)}\n\\\\[10pt]\n v_{6} &= 1{,}220 \\times 10 ^ {-3 } \\; \\;\\textrm{(m3/kg)}\n &x_{6} &= 0{,}0 \\; \\;\\textrm{(-)}\\end{aligned}\n\\]"
     },
     "metadata": {}
    }
   ],
   "source": [
    "%%render params\n",
    "p_6 = 3.68                      #MPa\n",
    "t_6 = 236                       #°C\n",
    "h_6 = steam.h_pt(p_6*10, t_6)   #kJ/kg\n",
    "v_6 = steam.v_pt(p_6*10, t_6)   #m3/kg\n",
    "x_6 = steam.x_ph(p_6*10,h_6)    #-"
   ]
  },
  {
   "source": [
    "#### Bod 7 (mezi ekonomizéry)"
   ],
   "cell_type": "markdown",
   "metadata": {}
  },
  {
   "cell_type": "code",
   "execution_count": 32,
   "metadata": {},
   "outputs": [
    {
     "output_type": "display_data",
     "data": {
      "text/plain": "<IPython.core.display.Latex object>",
      "text/latex": "\\[\n\\begin{aligned}\np_{7} &= 3{,}74 \\; \\;\\textrm{(MPa)}\n &t_{7} &= 217 \\; \\;\\textrm{(°C)}\n &h_{7} &= 930{,}261 \\; \\;\\textrm{(kJ/kg)}\n\\\\[10pt]\n v_{7} &= 1{,}183 \\times 10 ^ {-3 } \\; \\;\\textrm{(m3/kg)}\n &x_{7} &= 0{,}0 \\; \\;\\textrm{(-)}\\end{aligned}\n\\]"
     },
     "metadata": {}
    }
   ],
   "source": [
    "%%render params\n",
    "p_7 = 3.74                      #MPa\n",
    "t_7 = 217                       #°C\n",
    "h_7 = steam.h_pt(p_7*10, t_7)   #kJ/kg\n",
    "v_7 = steam.v_pt(p_7*10, t_7)   #m3/kg\n",
    "x_7 = steam.x_ph(p_7*10,h_7)    #-\n"
   ]
  },
  {
   "source": [
    "#### Bod 2 (Začátek druhého přehříváku, po vstřiku)"
   ],
   "cell_type": "markdown",
   "metadata": {}
  },
  {
   "cell_type": "code",
   "execution_count": 33,
   "metadata": {},
   "outputs": [
    {
     "output_type": "display_data",
     "data": {
      "text/plain": "<IPython.core.display.Latex object>",
      "text/latex": "\\[\n\\begin{aligned}\np_{2} &= 3{,}33 \\; \\;\\textrm{(MPa)}\n &h_{2} &= 3066{,}802 \\; \\;\\textrm{(kJ/kg)}\n &t_{2} &= 332{,}731 \\; \\;\\textrm{(°C)}\n\\\\[10pt]\n v_{2} &= 7{,}811 \\times 10 ^ {-2 } \\; \\;\\textrm{(m3/kg)}\n &x_{2} &= 1{,}0 \\; \\;\\textrm{(-)}\\end{aligned}\n\\]"
     },
     "metadata": {}
    }
   ],
   "source": [
    "%%render params\n",
    "p_2 = p_3                           #MPa\n",
    "h_2 = (20.74*h_3 + 0.36*h_7)/21.10  #kJ/kg\n",
    "t_2 = steam.t_ph(p_2*10, h_2)       #°C\n",
    "v_2 = steam.v_ph(p_2*10, h_2)       #m3/kg\n",
    "x_2 = steam.x_ph(p_2*10,h_2)        #-"
   ]
  },
  {
   "source": [
    "#### Bod 8 (Před začátkem ekonomizéru, vstup napájecí vody)"
   ],
   "cell_type": "markdown",
   "metadata": {}
  },
  {
   "cell_type": "code",
   "execution_count": 34,
   "metadata": {},
   "outputs": [
    {
     "output_type": "display_data",
     "data": {
      "text/plain": "<IPython.core.display.Latex object>",
      "text/latex": "\\[\n\\begin{aligned}\nt_{8} &= 71 \\; \\;\\textrm{(°C)}\n &p_{8} &= 4{,}2 \\; \\;\\textrm{(MPa)}\n &h_{8} &= 300{,}606 \\; \\;\\textrm{(kJ/kg)}\n\\\\[10pt]\n v_{8} &= 0{,}001 \\; \\;\\textrm{(m3/kg)}\n &x_{8} &= 0{,}0 \\; \\;\\textrm{(-)}\\end{aligned}\n\\]"
     },
     "metadata": {}
    }
   ],
   "source": [
    "%%render params\n",
    "t_8 = 71                         #°C\n",
    "p_8 = 4.2                        #MPa\n",
    "h_8 = steam.h_pt(p_8*10,t_8)     #kJ/kg\n",
    "v_8 = steam.v_pt(p_8*10,t_8)     #m3/kg\n",
    "x_8 = steam.x_ph(p_8*10,h_8)     #-"
   ]
  },
  {
   "source": [
    "### Tabulka bodová pro vodu a páru"
   ],
   "cell_type": "markdown",
   "metadata": {}
  },
  {
   "cell_type": "code",
   "execution_count": 35,
   "metadata": {},
   "outputs": [],
   "source": [
    "bodova_tabulka = pd.DataFrame(\n",
    "    {\n",
    "        \"T [°C]\": (t_1, t_2, t_3, t_4, t_5, t_6, t_7, t_8),\n",
    "        \"p [MPa]\": (p_1, p_2, p_3, p_4, p_5, p_6, p_7, p_8),\n",
    "        \"h [kJ/kg]\": (h_1, h_2, h_3, h_4, h_5, h_6, h_7, h_8),\n",
    "        \"v [m3/kg]\": (v_1, v_2, v_3, v_4, v_5, v_6, v_7, v_8),\n",
    "        \"x [-]\": (x_1, x_2, x_3, x_4, x_5, x_6, x_7, x_8),\n",
    "    },\n",
    "    index = ['1','2','3','4','5','6','7','8']\n",
    ")"
   ]
  },
  {
   "cell_type": "code",
   "execution_count": 36,
   "metadata": {},
   "outputs": [
    {
     "output_type": "execute_result",
     "data": {
      "text/plain": [
       "    T [°C]  p [MPa]  h [kJ/kg]  v [m3/kg]  x [-]\n",
       "1  370.000     3.10   3160.749      0.091    1.0\n",
       "2  332.731     3.33   3066.802      0.078    1.0\n",
       "3  348.000     3.33   3103.888      0.081    1.0\n",
       "4  240.565     3.38   2803.002      0.059    1.0\n",
       "5  240.565     3.38   1040.219      0.001    0.0\n",
       "6  236.000     3.68   1018.575      0.001    0.0\n",
       "7  217.000     3.74    930.261      0.001    0.0\n",
       "8   71.000     4.20    300.606      0.001    0.0"
      ],
      "text/html": "<div>\n<style scoped>\n    .dataframe tbody tr th:only-of-type {\n        vertical-align: middle;\n    }\n\n    .dataframe tbody tr th {\n        vertical-align: top;\n    }\n\n    .dataframe thead th {\n        text-align: right;\n    }\n</style>\n<table border=\"1\" class=\"dataframe\">\n  <thead>\n    <tr style=\"text-align: right;\">\n      <th></th>\n      <th>T [°C]</th>\n      <th>p [MPa]</th>\n      <th>h [kJ/kg]</th>\n      <th>v [m3/kg]</th>\n      <th>x [-]</th>\n    </tr>\n  </thead>\n  <tbody>\n    <tr>\n      <th>1</th>\n      <td>370.000</td>\n      <td>3.10</td>\n      <td>3160.749</td>\n      <td>0.091</td>\n      <td>1.0</td>\n    </tr>\n    <tr>\n      <th>2</th>\n      <td>332.731</td>\n      <td>3.33</td>\n      <td>3066.802</td>\n      <td>0.078</td>\n      <td>1.0</td>\n    </tr>\n    <tr>\n      <th>3</th>\n      <td>348.000</td>\n      <td>3.33</td>\n      <td>3103.888</td>\n      <td>0.081</td>\n      <td>1.0</td>\n    </tr>\n    <tr>\n      <th>4</th>\n      <td>240.565</td>\n      <td>3.38</td>\n      <td>2803.002</td>\n      <td>0.059</td>\n      <td>1.0</td>\n    </tr>\n    <tr>\n      <th>5</th>\n      <td>240.565</td>\n      <td>3.38</td>\n      <td>1040.219</td>\n      <td>0.001</td>\n      <td>0.0</td>\n    </tr>\n    <tr>\n      <th>6</th>\n      <td>236.000</td>\n      <td>3.68</td>\n      <td>1018.575</td>\n      <td>0.001</td>\n      <td>0.0</td>\n    </tr>\n    <tr>\n      <th>7</th>\n      <td>217.000</td>\n      <td>3.74</td>\n      <td>930.261</td>\n      <td>0.001</td>\n      <td>0.0</td>\n    </tr>\n    <tr>\n      <th>8</th>\n      <td>71.000</td>\n      <td>4.20</td>\n      <td>300.606</td>\n      <td>0.001</td>\n      <td>0.0</td>\n    </tr>\n  </tbody>\n</table>\n</div>"
     },
     "metadata": {},
     "execution_count": 36
    }
   ],
   "source": [
    "bodova_tabulka\n",
    "\n",
    "# print(bodova_tabulka.to_latex())"
   ]
  },
  {
   "source": [
    "***\n",
    "## Výkon kotle a jednotlivých teplosměnných ploch\n",
    "***"
   ],
   "cell_type": "markdown",
   "metadata": {}
  },
  {
   "source": [
    "### Maximální využitelný výkon"
   ],
   "cell_type": "markdown",
   "metadata": {}
  },
  {
   "cell_type": "code",
   "execution_count": 37,
   "metadata": {},
   "outputs": [
    {
     "output_type": "display_data",
     "data": {
      "text/plain": "<IPython.core.display.Latex object>",
      "text/latex": "\\[\n\\begin{aligned}\nQ_{in} &= 76863{,}556 \\; \\;\\textrm{(kW)}\n\\end{aligned}\n\\]"
     },
     "metadata": {}
    }
   ],
   "source": [
    "%%render\n",
    "# Dodaný výkon v palivu\n",
    "Q_in = V_sp*(I_A_sp-entalpie_sp(25, 'm3n')['sp']) #kW"
   ]
  },
  {
   "cell_type": "code",
   "execution_count": 38,
   "metadata": {},
   "outputs": [
    {
     "output_type": "display_data",
     "data": {
      "text/plain": "<IPython.core.display.Latex object>",
      "text/latex": "\\[\n\\begin{aligned}\nQ_{out} &= m_{p} \\cdot h_{1} - m_{p} \\cdot h_{8}  = 21{,}111 \\cdot 3160{,}749 - 21{,}111 \\cdot 300{,}606 &= 60380{,}803 \\; \\;\\textrm{(kW)}\n\\end{aligned}\n\\]"
     },
     "metadata": {}
    }
   ],
   "source": [
    "%%render\n",
    "# Odebraný výkon vodou a párou\n",
    "Q_out = m_p*h_1-m_p*h_8 #kW"
   ]
  },
  {
   "source": [
    "### Účinnost"
   ],
   "cell_type": "markdown",
   "metadata": {}
  },
  {
   "cell_type": "code",
   "execution_count": 39,
   "metadata": {},
   "outputs": [
    {
     "output_type": "display_data",
     "data": {
      "text/plain": "<IPython.core.display.Latex object>",
      "text/latex": "\\[\n\\begin{aligned}\n\\eta &= \\frac{ Q_{out} }{ Q_{in} }  = \\frac{ 60380{,}803 }{ 76863{,}556 } &= 7{,}856 \\times 10 ^ {-1 } \\; \\;\\textrm{(-)}\n\\end{aligned}\n\\]"
     },
     "metadata": {}
    }
   ],
   "source": [
    "%%render\n",
    "eta = Q_out/Q_in #-"
   ]
  },
  {
   "source": [
    "### Předaná tepla v jednotlivých teplosměnných plochách"
   ],
   "cell_type": "markdown",
   "metadata": {}
  },
  {
   "cell_type": "code",
   "execution_count": 40,
   "metadata": {},
   "outputs": [
    {
     "output_type": "display_data",
     "data": {
      "text/plain": "<IPython.core.display.Latex object>",
      "text/latex": "\\[\n\\begin{aligned}\nC &= 1{,}130 \\times 10 ^ {-2 } \\; \\;\\textrm{(-)}\n\\\\[10pt]\nQ_{ZS} &= \\left( \\frac{ Q_{in} }{ 1000 } \\right) ^{ 0{,}7 } \\cdot C \\cdot 1000  = \\left( \\frac{ 76863{,}556 }{ 1000 } \\right) ^{ 0{,}7 } \\cdot 1{,}130 \\times 10 ^ {-2 } \\cdot 1000 &= 236{,}093 \\; \\;\\textrm{(kW)}\n\\end{aligned}\n\\]"
     },
     "metadata": {}
    }
   ],
   "source": [
    "%%render\n",
    "# Ztráta sáláním - pro výpočet Q_16\n",
    "C = 0.0113 #-\n",
    "Q_ZS = ((Q_in/1000)**0.7)*C*1000 #kW"
   ]
  },
  {
   "cell_type": "code",
   "execution_count": 41,
   "metadata": {},
   "outputs": [
    {
     "output_type": "display_data",
     "data": {
      "text/plain": "<IPython.core.display.Latex object>",
      "text/latex": "\\[\n\\begin{aligned}\nz_{s} &= \\frac{ Q_{ZS} }{ Q_{in} }  = \\frac{ 236{,}093 }{ 76863{,}556 } &= 3{,}072 \\times 10 ^ {-3 } \\; \\;\\textrm{(-)}\n\\end{aligned}\n\\]"
     },
     "metadata": {}
    }
   ],
   "source": [
    "%%render\n",
    "z_s = Q_ZS/Q_in #-"
   ]
  },
  {
   "source": [
    "#### Předané teplo v bodech A-E"
   ],
   "cell_type": "markdown",
   "metadata": {}
  },
  {
   "cell_type": "code",
   "execution_count": 42,
   "metadata": {},
   "outputs": [
    {
     "output_type": "display_data",
     "data": {
      "text/plain": "<IPython.core.display.Latex object>",
      "text/latex": "\\[\n\\begin{aligned}\nQ_{AE} &= V_{sp} \\cdot \\left( I_{A_{sp}} - I_{E_{sp}} \\right)  = 102{,}534 \\cdot \\left( 782{,}789 - 342{,}368 \\right) &= 45157{,}961 \\; \\;\\textrm{(kW)}\n\\end{aligned}\n\\]"
     },
     "metadata": {}
    }
   ],
   "source": [
    "%%render\n",
    "Q_AE = V_sp*(I_A_sp-I_E_sp) #kW"
   ]
  },
  {
   "source": [
    "#### Předané teplo v bodech 1-6"
   ],
   "cell_type": "markdown",
   "metadata": {}
  },
  {
   "cell_type": "code",
   "execution_count": 43,
   "metadata": {},
   "outputs": [
    {
     "output_type": "display_data",
     "data": {
      "text/plain": "<IPython.core.display.Latex object>",
      "text/latex": "\\[\n\\begin{aligned}\nQ_{16} &= Q_{AE} \\cdot \\left( 1 - z_{s} \\right)  = 45157{,}961 \\cdot \\left( 1 - 3{,}072 \\times 10 ^ {-3 } \\right) &= 45019{,}254  \n\\end{aligned}\n\\]"
     },
     "metadata": {}
    }
   ],
   "source": [
    "%%render\n",
    "Q_16 = Q_AE*(1-z_s)"
   ]
  },
  {
   "source": [
    "#### Množství páry (vypočítané z entalpií a množství vstřiku)"
   ],
   "cell_type": "markdown",
   "metadata": {}
  },
  {
   "cell_type": "code",
   "execution_count": 44,
   "metadata": {},
   "outputs": [
    {
     "output_type": "display_data",
     "data": {
      "text/plain": "<IPython.core.display.Latex object>",
      "text/latex": "\\[\n\\begin{aligned}\nr_{BV} &= \\frac{ 20{,}74 }{ m_{p} }  = \\frac{ 20{,}74 }{ 21{,}111 } &= 9{,}824 \\times 10 ^ {-1 } \\; \\;\\textrm{(poměr hmotnosti páry bez vstřiku ku celé hmotnosti páry)}\n\\\\[10pt]\nr_{V} &= \\frac{ 0{,}36 }{ m_{p} }  = \\frac{ 0{,}36 }{ 21{,}111 } &= 1{,}705 \\times 10 ^ {-2 } \\; \\;\\textrm{(poměr vstřiku ku celé hmotnosti páry)}\n\\\\[10pt]\nm_{pp} &= \\frac{ Q_{16} }{ \\left( h_{1} - h_{2} \\right) + r_{BV} \\cdot \\left( h_{2} - h_{6} \\right) + r_{V} \\cdot \\left( h_{2} - h_{7} \\right) } \\\\&= \\frac{ 45019{,}254 }{ \\left( 3160{,}749 - 3066{,}802 \\right) + 9{,}824 \\times 10 ^ {-1 } \\cdot \\left( 3066{,}802 - 1018{,}575 \\right) + 1{,}705 \\times 10 ^ {-2 } \\cdot \\left( 3066{,}802 - 930{,}261 \\right) } \\\\&= 21{,}011 \\; \\;\\textrm{(kg/s)}\\\\\n\\end{aligned}\n\\]"
     },
     "metadata": {}
    }
   ],
   "source": [
    "%%render\n",
    "r_BV = 20.74/m_p #poměr hmotnosti páry bez vstřiku ku celé hmotnosti páry\n",
    "r_V = 0.36/m_p #poměr vstřiku ku celé hmotnosti páry\n",
    "m_pp = Q_16/((h_1-h_2)+r_BV*(h_2-h_6)+r_V*(h_2-h_7)) #kg/s"
   ]
  },
  {
   "source": [
    "### Predane tepelne toky v jednotlivych teplosmennych plochach"
   ],
   "cell_type": "markdown",
   "metadata": {}
  },
  {
   "source": [
    "#### Prehrivak 2"
   ],
   "cell_type": "markdown",
   "metadata": {}
  },
  {
   "cell_type": "code",
   "execution_count": 45,
   "metadata": {},
   "outputs": [
    {
     "output_type": "display_data",
     "data": {
      "text/plain": "<IPython.core.display.Latex object>",
      "text/latex": "\\[\n\\begin{aligned}\nQ_{P2} &= m_{p} \\cdot \\left( h_{1} - h_{2} \\right)  = 21{,}111 \\cdot \\left( 3160{,}749 - 3066{,}802 \\right) &= 1983{,}329 \\; \\;\\textrm{(kW)}\n\\end{aligned}\n\\]"
     },
     "metadata": {}
    }
   ],
   "source": [
    "%%render\n",
    "Q_P2 = m_p*(h_1-h_2) #kW"
   ]
  },
  {
   "source": [
    "#### Prehrivak 1"
   ],
   "cell_type": "markdown",
   "metadata": {}
  },
  {
   "cell_type": "code",
   "execution_count": 46,
   "metadata": {},
   "outputs": [
    {
     "output_type": "display_data",
     "data": {
      "text/plain": "<IPython.core.display.Latex object>",
      "text/latex": "\\[\n\\begin{aligned}\nQ_{P1} &= \\left( m_{p} - m_{vst} \\right) \\cdot \\left( h_{3} - h_{4} \\right)  = \\left( 21{,}111 - 0{,}36 \\right) \\cdot \\left( 3103{,}888 - 2803{,}002 \\right) &= 6243{,}705 \\; \\;\\textrm{(kW)}\n\\end{aligned}\n\\]"
     },
     "metadata": {}
    }
   ],
   "source": [
    "%%render\n",
    "Q_P1 = (m_p-m_vst)*(h_3-h_4) #kW"
   ]
  },
  {
   "source": [
    "#### Vyparnik 1 + 2"
   ],
   "cell_type": "markdown",
   "metadata": {}
  },
  {
   "cell_type": "code",
   "execution_count": 47,
   "metadata": {},
   "outputs": [
    {
     "output_type": "display_data",
     "data": {
      "text/plain": "<IPython.core.display.Latex object>",
      "text/latex": "\\[\n\\begin{aligned}\nQ_{V} &= \\left( m_{p} - m_{vst} \\right) \\cdot \\left( h_{4} - h_{5} \\right)  = \\left( 21{,}111 - 0{,}36 \\right) \\cdot \\left( 2803{,}002 - 1040{,}219 \\right) &= 36579{,}719 \\; \\;\\textrm{(kW)}\n\\end{aligned}\n\\]"
     },
     "metadata": {}
    }
   ],
   "source": [
    "%%render\n",
    "Q_V = (m_p-m_vst)*(h_4-h_5) #kW"
   ]
  },
  {
   "source": [
    "#### Ekonomizer 2"
   ],
   "cell_type": "markdown",
   "metadata": {}
  },
  {
   "cell_type": "code",
   "execution_count": 48,
   "metadata": {},
   "outputs": [
    {
     "output_type": "display_data",
     "data": {
      "text/plain": "<IPython.core.display.Latex object>",
      "text/latex": "\\[\n\\begin{aligned}\nQ_{EKO_{2}} &= \\left( m_{p} - m_{vst} \\right) \\cdot \\left( h_{6} - h_{7} \\right)  = \\left( 21{,}111 - 0{,}36 \\right) \\cdot \\left( 1018{,}575 - 930{,}261 \\right) &= 1832{,}609 \\; \\;\\textrm{(kW)}\n\\end{aligned}\n\\]"
     },
     "metadata": {}
    }
   ],
   "source": [
    "%%render\n",
    "Q_EKO_2 = (m_p-m_vst)*(h_6-h_7) #kW"
   ]
  },
  {
   "source": [
    "#### Ekonomizer 1"
   ],
   "cell_type": "markdown",
   "metadata": {}
  },
  {
   "cell_type": "code",
   "execution_count": 49,
   "metadata": {},
   "outputs": [
    {
     "output_type": "display_data",
     "data": {
      "text/plain": "<IPython.core.display.Latex object>",
      "text/latex": "\\[\n\\begin{aligned}\nQ_{EKO_{1}} &= m_{p} \\cdot \\left( h_{7} - h_{8} \\right)  = 21{,}111 \\cdot \\left( 930{,}261 - 300{,}606 \\right) &= 13292{,}73 \\; \\;\\textrm{(kW)}\n\\end{aligned}\n\\]"
     },
     "metadata": {}
    }
   ],
   "source": [
    "%%render\n",
    "Q_EKO_1 = m_p*(h_7-h_8) #kW"
   ]
  },
  {
   "source": [
    "#### Kontrolni vypocet"
   ],
   "cell_type": "markdown",
   "metadata": {}
  },
  {
   "cell_type": "code",
   "execution_count": 50,
   "metadata": {},
   "outputs": [
    {
     "output_type": "display_data",
     "data": {
      "text/plain": "<IPython.core.display.Latex object>",
      "text/latex": "\\[\n\\begin{aligned}\nQ_{16} &= 45019{,}254 \\; \\;\\textrm{(kW)}\n\\\\[10pt]\nQ_{kontrolni} &= Q_{V} + Q_{P1} + Q_{P2}  = 36579{,}719 + 6243{,}705 + 1983{,}329 &= 44806{,}754 \\; \\;\\textrm{(kW)}\n\\end{aligned}\n\\]"
     },
     "metadata": {}
    }
   ],
   "source": [
    "%%render\n",
    "Q_16 #kW\n",
    "Q_kontrolni = Q_V + Q_P1 + Q_P2 #kW"
   ]
  },
  {
   "source": [
    "Odchylka musí být do 0,5 %"
   ],
   "cell_type": "markdown",
   "metadata": {}
  },
  {
   "cell_type": "code",
   "execution_count": 51,
   "metadata": {},
   "outputs": [
    {
     "output_type": "display_data",
     "data": {
      "text/plain": "<IPython.core.display.Latex object>",
      "text/latex": "\\[\n\\begin{aligned}\n\\Delta_{Q} &= 0{,}472 \\; \\;\\textrm{(%)}\\end{aligned}\n\\]"
     },
     "metadata": {}
    }
   ],
   "source": [
    "%%render params\n",
    "Delta_Q = 100*(1-(Q_kontrolni/Q_16)) #%"
   ]
  },
  {
   "cell_type": "code",
   "execution_count": 52,
   "metadata": {},
   "outputs": [
    {
     "output_type": "display_data",
     "data": {
      "text/plain": "<IPython.core.display.Latex object>",
      "text/latex": "\\[\n\\begin{aligned}\n\\Delta_{Q} \\lt 0{,}5 &= 0{,}472 \\; \\;\\textrm{(%)}\n\\end{aligned}\n\\]"
     },
     "metadata": {}
    }
   ],
   "source": [
    "%%render\n",
    "Delta_Q < 0.5 #%"
   ]
  },
  {
   "source": [
    "***\n",
    "# Návrh teplosměnných ploch\n",
    "***"
   ],
   "cell_type": "markdown",
   "metadata": {}
  },
  {
   "source": [
    "**Označení veličin**\n",
    "\n",
    "D = vnější průměr\n",
    "\n",
    "t<sub>tr</sub> = tloušťka trubky\n",
    "\n",
    "d = vnitřní průměr\n",
    "\n",
    "h<sub>ž</sub> = výška žebra\n",
    "\n",
    "t<sub>ž</sub> = tloušťka žebra\n",
    "\n",
    "s<sub>ž</sub> = rozteč žeber\n",
    "\n",
    "n<sub>ž</sub> = počet žeber na 1 m<sup>2</sup>\n",
    "\n",
    "s<sub>1</sub> = příčná rozteč\n",
    "\n",
    "s<sub>2</sub> = podélná rozteč"
   ],
   "cell_type": "markdown",
   "metadata": {}
  },
  {
   "source": [
    "## Přehřívák 1 (s žebrováním - pro výpočet spalinového kanálu)\n",
    "***"
   ],
   "cell_type": "markdown",
   "metadata": {}
  },
  {
   "cell_type": "code",
   "execution_count": 53,
   "metadata": {},
   "outputs": [
    {
     "output_type": "display_data",
     "data": {
      "text/plain": "<IPython.core.display.Latex object>",
      "text/latex": "\\[\n\\begin{aligned}\nD &= 4{,}450 \\times 10 ^ {-2 } \\; \\;\\textrm{(m)}\n &t_{tr} &= 2{,}900 \\times 10 ^ {-3 } \\; \\;\\textrm{(m)}\n &d &= 3{,}870 \\times 10 ^ {-2 } \\; \\;\\textrm{(m)}\n\\\\[10pt]\n h_{z} &= 0{,}007 \\; \\;\\textrm{(m)}\n &t_{z} &= 0{,}001 \\; \\;\\textrm{(m)}\n &s_{z} &= 0{,}005 \\; \\;\\textrm{(m)}\n\\\\[10pt]\n n_{z} &= 200 \\; \\;\\textrm{(1/m)}\n &s_{2} &= 0{,}117 \\; \\;\\textrm{(m)}\\end{aligned}\n\\]"
     },
     "metadata": {}
    }
   ],
   "source": [
    "%%render params\n",
    "D = 0.0445      #m\n",
    "t_tr = 0.0029   #m\n",
    "d = D-2*t_tr    #m\n",
    "h_z = 0.007     #m\n",
    "t_z = 0.001     #m\n",
    "s_z = 0.005     #m\n",
    "n_z = 200       #1/m\n",
    "s_2 = 0.117     #m"
   ]
  },
  {
   "cell_type": "code",
   "execution_count": 54,
   "metadata": {},
   "outputs": [],
   "source": [
    "prehrivak1_input = {\n",
    "    'Hodnota':\n",
    "    [1000*D,1000*t_tr,1000*d,1000*h_z,1000*t_z,1000*s_z, n_z],\n",
    "\n",
    "    'Jednotka': \n",
    "    ['mm','mm','mm','mm','mm','mm','-']\n",
    "\n",
    "    }\n",
    "zkratky = ['D','t_tr','d','h_z','t_z','s_z','n_z']\n",
    "prehrivak1_table = pd.DataFrame(prehrivak1_input, index = zkratky)"
   ]
  },
  {
   "cell_type": "code",
   "execution_count": 55,
   "metadata": {},
   "outputs": [
    {
     "output_type": "execute_result",
     "data": {
      "text/plain": [
       "      Hodnota Jednotka\n",
       "D        44.5       mm\n",
       "t_tr      2.9       mm\n",
       "d        38.7       mm\n",
       "h_z       7.0       mm\n",
       "t_z       1.0       mm\n",
       "s_z       5.0       mm\n",
       "n_z     200.0        -"
      ],
      "text/html": "<div>\n<style scoped>\n    .dataframe tbody tr th:only-of-type {\n        vertical-align: middle;\n    }\n\n    .dataframe tbody tr th {\n        vertical-align: top;\n    }\n\n    .dataframe thead th {\n        text-align: right;\n    }\n</style>\n<table border=\"1\" class=\"dataframe\">\n  <thead>\n    <tr style=\"text-align: right;\">\n      <th></th>\n      <th>Hodnota</th>\n      <th>Jednotka</th>\n    </tr>\n  </thead>\n  <tbody>\n    <tr>\n      <th>D</th>\n      <td>44.5</td>\n      <td>mm</td>\n    </tr>\n    <tr>\n      <th>t_tr</th>\n      <td>2.9</td>\n      <td>mm</td>\n    </tr>\n    <tr>\n      <th>d</th>\n      <td>38.7</td>\n      <td>mm</td>\n    </tr>\n    <tr>\n      <th>h_z</th>\n      <td>7.0</td>\n      <td>mm</td>\n    </tr>\n    <tr>\n      <th>t_z</th>\n      <td>1.0</td>\n      <td>mm</td>\n    </tr>\n    <tr>\n      <th>s_z</th>\n      <td>5.0</td>\n      <td>mm</td>\n    </tr>\n    <tr>\n      <th>n_z</th>\n      <td>200.0</td>\n      <td>-</td>\n    </tr>\n  </tbody>\n</table>\n</div>"
     },
     "metadata": {},
     "execution_count": 55
    }
   ],
   "source": [
    "prehrivak1_table\n",
    "\n",
    "# print(prehrivak1_table.to_latex())"
   ]
  },
  {
   "cell_type": "code",
   "execution_count": 56,
   "metadata": {},
   "outputs": [
    {
     "output_type": "display_data",
     "data": {
      "text/plain": "<IPython.core.display.Latex object>",
      "text/latex": "\\[\n\\begin{aligned}\nD_{z} &= D + 2 \\cdot h_{z}  = 4{,}450 \\times 10 ^ {-2 } + 2 \\cdot 0{,}007 &= 5{,}850 \\times 10 ^ {-2 } \\; \\;\\textrm{(m)}\n\\end{aligned}\n\\]"
     },
     "metadata": {}
    }
   ],
   "source": [
    "%%render\n",
    "D_z = D+2*h_z   #m"
   ]
  },
  {
   "source": [
    "### Rozměry trubek"
   ],
   "cell_type": "markdown",
   "metadata": {}
  },
  {
   "source": [
    "#### Pára"
   ],
   "cell_type": "markdown",
   "metadata": {}
  },
  {
   "source": [
    "Zvolená rychlost"
   ],
   "cell_type": "markdown",
   "metadata": {}
  },
  {
   "cell_type": "code",
   "execution_count": 57,
   "metadata": {},
   "outputs": [
    {
     "output_type": "display_data",
     "data": {
      "text/plain": "<IPython.core.display.Latex object>",
      "text/latex": "\\[\n\\begin{aligned}\nw_{p} &= 18{,}7 \\; \\;\\textrm{(m/s)}\\end{aligned}\n\\]"
     },
     "metadata": {}
    }
   ],
   "source": [
    "%%render params\n",
    "w_p = 18.7    #m/s"
   ]
  },
  {
   "source": [
    "Střední hodnoty"
   ],
   "cell_type": "markdown",
   "metadata": {}
  },
  {
   "cell_type": "code",
   "execution_count": 58,
   "metadata": {},
   "outputs": [
    {
     "output_type": "display_data",
     "data": {
      "text/plain": "<IPython.core.display.Latex object>",
      "text/latex": "\\[\n\\begin{aligned}\nt_{34} &= \\frac{ t_{3} + t_{4} }{ 2 }  = \\frac{ 348 + 240{,}565 }{ 2 } &= 294{,}282 \\; \\;\\textrm{(°C)}\n\\\\[10pt]\np_{34} &= \\frac{ p_{3} + p_{4} }{ 2 }  = \\frac{ 3{,}33 + 3{,}38 }{ 2 } &= 3{,}355 \\; \\;\\textrm{(MPa)}\n\\end{aligned}\n\\]"
     },
     "metadata": {}
    }
   ],
   "source": [
    "%%render\n",
    "t_34 = (t_3+t_4)/2  #°C\n",
    "p_34 = (p_3+p_4)/2  #MPa"
   ]
  },
  {
   "cell_type": "code",
   "execution_count": 59,
   "metadata": {},
   "outputs": [
    {
     "output_type": "display_data",
     "data": {
      "text/plain": "<IPython.core.display.Latex object>",
      "text/latex": "\\[\n\\begin{aligned}\nv_{34} &= \\mathrm{steam.v}_{pt} { \\left( p_{34} \\cdot 10 ,\\ t_{34} \\right) }  = steam.v_{pt} { \\left( 3{,}355 \\cdot 10 ,\\ 294{,}282 \\right) } &= 7{,}071 \\times 10 ^ {-2 } \\; \\;\\textrm{(m3/kg)}\n\\end{aligned}\n\\]"
     },
     "metadata": {}
    }
   ],
   "source": [
    "%%render\n",
    "v_34 = steam.v_pt(p_34*10,t_34)    #m3/kg"
   ]
  },
  {
   "source": [
    "Průtočný průřez"
   ],
   "cell_type": "markdown",
   "metadata": {}
  },
  {
   "cell_type": "code",
   "execution_count": 60,
   "metadata": {},
   "outputs": [
    {
     "output_type": "display_data",
     "data": {
      "text/plain": "<IPython.core.display.Latex object>",
      "text/latex": "\\[\n\\begin{aligned}\nS_{p} &= \\frac{ m_{p} \\cdot v_{34} }{ w_{p} }  = \\frac{ 21{,}111 \\cdot 7{,}071 \\times 10 ^ {-2 } }{ 18{,}7 } &= 7{,}983 \\times 10 ^ {-2 } \\; \\;\\textrm{(m2)}\n\\end{aligned}\n\\]"
     },
     "metadata": {}
    }
   ],
   "source": [
    "%%render\n",
    "S_p = (m_p*v_34)/w_p    #m2"
   ]
  },
  {
   "source": [
    "Počet trubek"
   ],
   "cell_type": "markdown",
   "metadata": {}
  },
  {
   "cell_type": "code",
   "execution_count": 61,
   "metadata": {},
   "outputs": [
    {
     "output_type": "display_data",
     "data": {
      "text/plain": "<IPython.core.display.Latex object>",
      "text/latex": "\\[\n\\begin{aligned}\nn_{tr} &= \\frac{ 4 \\cdot S_{p} }{ \\pi \\cdot \\left( d \\right) ^{ 2 } }  = \\frac{ 4 \\cdot 7{,}983 \\times 10 ^ {-2 } }{ 3{,}142 \\cdot \\left( 3{,}870 \\times 10 ^ {-2 } \\right) ^{ 2 } } &= 67{,}863  \n\\end{aligned}\n\\]"
     },
     "metadata": {}
    }
   ],
   "source": [
    "%%render\n",
    "n_tr = (4*S_p)/(pi*d**2)"
   ]
  },
  {
   "cell_type": "code",
   "execution_count": 62,
   "metadata": {},
   "outputs": [],
   "source": [
    "n_tr = round(n_tr,0)\n",
    "n_rad = 2   #Toto je zatím jen odhad\n",
    "n_tr_1rad = n_tr/n_rad"
   ]
  },
  {
   "source": [
    "Skutečná rychlost páry"
   ],
   "cell_type": "markdown",
   "metadata": {}
  },
  {
   "cell_type": "code",
   "execution_count": 63,
   "metadata": {},
   "outputs": [
    {
     "output_type": "display_data",
     "data": {
      "text/plain": "<IPython.core.display.Latex object>",
      "text/latex": "\\[\n\\begin{aligned}\nw_{p_{skut}} &= \\frac{ m_{p} \\cdot v_{34} \\cdot 4 }{ n_{tr} \\cdot \\pi \\cdot \\left( d \\right) ^{ 2 } } \\\\&= \\frac{ 21{,}111 \\cdot 7{,}071 \\times 10 ^ {-2 } \\cdot 4 }{ 68{,}0 \\cdot 3{,}142 \\cdot \\left( 3{,}870 \\times 10 ^ {-2 } \\right) ^{ 2 } } \\\\&= 18{,}662 \\; \\;\\textrm{(m/s)}\\\\\n\\end{aligned}\n\\]"
     },
     "metadata": {}
    }
   ],
   "source": [
    "%%render\n",
    "w_p_skut = (m_p*v_34*4)/(n_tr*pi*d**2)  #m/s"
   ]
  },
  {
   "source": [
    "#### Spaliny"
   ],
   "cell_type": "markdown",
   "metadata": {}
  },
  {
   "cell_type": "code",
   "execution_count": 64,
   "metadata": {},
   "outputs": [
    {
     "output_type": "display_data",
     "data": {
      "text/plain": "<IPython.core.display.Latex object>",
      "text/latex": "\\[\n\\begin{aligned}\nw_{sp} &= 8 \\; \\;\\textrm{(m/s)}\n\\end{aligned}\n\\]"
     },
     "metadata": {}
    }
   ],
   "source": [
    "%%render\n",
    "w_sp = 8   #m/s"
   ]
  },
  {
   "cell_type": "code",
   "execution_count": 65,
   "metadata": {},
   "outputs": [
    {
     "output_type": "display_data",
     "data": {
      "text/plain": "<IPython.core.display.Latex object>",
      "text/latex": "\\[\n\\begin{aligned}\nt_{BC} &= \\frac{ t_{B} + t_{C} }{ 2 }  = \\frac{ 549 + 507 }{ 2 } &= 528{,}0 \\; \\;\\textrm{(°C)}\n\\end{aligned}\n\\]"
     },
     "metadata": {}
    }
   ],
   "source": [
    "%%render\n",
    "t_BC = (t_B+t_C)/2  #°C"
   ]
  },
  {
   "cell_type": "code",
   "execution_count": 66,
   "metadata": {},
   "outputs": [
    {
     "output_type": "display_data",
     "data": {
      "text/plain": "<IPython.core.display.Latex object>",
      "text/latex": "\\[\n\\begin{aligned}\nV_{sp_{skut}} &= V_{sp} \\cdot \\left( \\frac{ t_{BC} + 273{,}15 }{ 273{,}15 } \\right)  = 102{,}534 \\cdot \\left( \\frac{ 528{,}0 + 273{,}15 }{ 273{,}15 } \\right) &= 300{,}731 \\; \\;\\textrm{(m3/s)}\n\\end{aligned}\n\\]"
     },
     "metadata": {}
    }
   ],
   "source": [
    "%%render\n",
    "V_sp_skut = V_sp*((t_BC+273.15)/273.15) #m3/s"
   ]
  },
  {
   "cell_type": "code",
   "execution_count": 67,
   "metadata": {},
   "outputs": [
    {
     "output_type": "display_data",
     "data": {
      "text/plain": "<IPython.core.display.Latex object>",
      "text/latex": "\\[\n\\begin{aligned}\nS_{kan} &= \\frac{ V_{sp_{skut}} }{ w_{sp} }  = \\frac{ 300{,}731 }{ 8 } &= 37{,}591 \\; \\;\\textrm{(m2)}\n\\end{aligned}\n\\]"
     },
     "metadata": {}
    }
   ],
   "source": [
    "%%render\n",
    "S_kan = V_sp_skut/w_sp  #m2"
   ]
  },
  {
   "source": [
    "### Rozměry spalinového kanálu"
   ],
   "cell_type": "markdown",
   "metadata": {}
  },
  {
   "cell_type": "code",
   "execution_count": 68,
   "metadata": {},
   "outputs": [
    {
     "output_type": "display_data",
     "data": {
      "text/plain": "<IPython.core.display.Latex object>",
      "text/latex": "\\[\n\\begin{aligned}\na &= 0{,}029 \\; \\;\\textrm{(m)}\n\\end{aligned}\n\\]"
     },
     "metadata": {}
    }
   ],
   "source": [
    "%%render\n",
    "# Volená hodnota (resp. dopočítana z dodaných podkladů)\n",
    "a = 0.029   #m"
   ]
  },
  {
   "source": [
    "Příčná rozteč trubek v kanálu"
   ],
   "cell_type": "markdown",
   "metadata": {}
  },
  {
   "cell_type": "code",
   "execution_count": 69,
   "metadata": {},
   "outputs": [
    {
     "output_type": "display_data",
     "data": {
      "text/plain": "<IPython.core.display.Latex object>",
      "text/latex": "\\[\n\\begin{aligned}\ns_{1} &= D + 2 \\cdot h_{z} + a  = 4{,}450 \\times 10 ^ {-2 } + 2 \\cdot 0{,}007 + 0{,}029 &= 8{,}750 \\times 10 ^ {-2 } \\; \\;\\textrm{(m)}\n\\end{aligned}\n\\]"
     },
     "metadata": {}
    }
   ],
   "source": [
    "%%render\n",
    "s_1 = D + 2*h_z + a #m"
   ]
  },
  {
   "source": [
    "Výpočet šířky spalinového kanálu"
   ],
   "cell_type": "markdown",
   "metadata": {}
  },
  {
   "cell_type": "code",
   "execution_count": 70,
   "metadata": {},
   "outputs": [
    {
     "output_type": "display_data",
     "data": {
      "text/plain": "<IPython.core.display.Latex object>",
      "text/latex": "\\[\n\\begin{aligned}\n\\mathrm{sirka} &= \\left( \\frac{ 1 }{ 2 } \\right) \\cdot s_{1} + \\left( n_{tr_{1rad}} - 1 \\right) \\cdot s_{1} + \\left( \\frac{ 1 }{ 2 } \\right) \\cdot s_{1} + \\left( \\frac{ 1 }{ 2 } \\right) \\cdot s_{1} \\\\&= \\left( \\frac{ 1 }{ 2 } \\right) \\cdot 8{,}750 \\times 10 ^ {-2 } + \\left( 34{,}0 - 1 \\right) \\cdot 8{,}750 \\times 10 ^ {-2 } + \\left( \\frac{ 1 }{ 2 } \\right) \\cdot 8{,}750 \\times 10 ^ {-2 } + \\left( \\frac{ 1 }{ 2 } \\right) \\cdot 8{,}750 \\times 10 ^ {-2 } \\\\&= 3{,}019 \\; \\;\\textrm{(m)}\\\\\n\\end{aligned}\n\\]"
     },
     "metadata": {}
    }
   ],
   "source": [
    "%%render\n",
    "sirka = (1/2)*s_1+(n_tr_1rad-1)*s_1+(1/2)*s_1+(1/2)*s_1  #m"
   ]
  },
  {
   "cell_type": "code",
   "execution_count": 71,
   "metadata": {},
   "outputs": [
    {
     "output_type": "execute_result",
     "data": {
      "text/plain": [
       "3.0"
      ]
     },
     "metadata": {},
     "execution_count": 71
    }
   ],
   "source": [
    "sirka = round(sirka,1)\n",
    "sirka"
   ]
  },
  {
   "source": [
    "Výpočet výšky spalinového kanálu"
   ],
   "cell_type": "markdown",
   "metadata": {}
  },
  {
   "cell_type": "code",
   "execution_count": 72,
   "metadata": {},
   "outputs": [
    {
     "output_type": "display_data",
     "data": {
      "text/plain": "<IPython.core.display.Latex object>",
      "text/latex": "\\[\n\\begin{aligned}\nH &= \\frac{ S_{kan} }{ \\mathrm{sirka} - D \\cdot n_{tr_{1rad}} - 2 \\cdot h_{z} \\cdot t_{z} \\cdot n_{z} \\cdot n_{tr_{1rad}} }  = \\frac{ 37{,}591 }{ 3{,}0 - 4{,}450 \\times 10 ^ {-2 } \\cdot 34{,}0 - 2 \\cdot 0{,}007 \\cdot 0{,}001 \\cdot 200 \\cdot 34{,}0 } &= 27{,}009 \\; \\;\\textrm{(m)}\n\\end{aligned}\n\\]"
     },
     "metadata": {}
    }
   ],
   "source": [
    "%%render\n",
    "H = S_kan/(sirka-D*n_tr_1rad-2*h_z*t_z*n_z*n_tr_1rad) #m"
   ]
  },
  {
   "cell_type": "code",
   "execution_count": 73,
   "metadata": {},
   "outputs": [
    {
     "output_type": "execute_result",
     "data": {
      "text/plain": [
       "27.0"
      ]
     },
     "metadata": {},
     "execution_count": 73
    }
   ],
   "source": [
    "H = round(H,1)\n",
    "H"
   ]
  },
  {
   "source": [
    "Skutečná rychlost spalin"
   ],
   "cell_type": "markdown",
   "metadata": {}
  },
  {
   "cell_type": "code",
   "execution_count": 74,
   "metadata": {},
   "outputs": [
    {
     "output_type": "display_data",
     "data": {
      "text/plain": "<IPython.core.display.Latex object>",
      "text/latex": "\\[\n\\begin{aligned}\nw_{sp_{skut}} &= \\frac{ V_{sp_{skut}} }{ H \\cdot \\mathrm{sirka} - H \\cdot D \\cdot n_{tr_{1rad}} - 2 \\cdot H \\cdot h_{z} \\cdot t_{z} \\cdot n_{z} \\cdot n_{tr_{1rad}} } \\\\&= \\frac{ 300{,}731 }{ 27{,}0 \\cdot 3{,}0 - 27{,}0 \\cdot 4{,}450 \\times 10 ^ {-2 } \\cdot 34{,}0 - 2 \\cdot 27{,}0 \\cdot 0{,}007 \\cdot 0{,}001 \\cdot 200 \\cdot 34{,}0 } \\\\&= 8{,}003 \\; \\;\\textrm{(m/s)}\\\\\n\\end{aligned}\n\\]"
     },
     "metadata": {}
    }
   ],
   "source": [
    "%%render\n",
    "w_sp_skut = V_sp_skut/(H*sirka-H*D*n_tr_1rad-2*H*h_z*t_z*n_z*n_tr_1rad)   #m/s"
   ]
  },
  {
   "source": [
    "Kontrola - poměr šířky a výšky kanálu"
   ],
   "cell_type": "markdown",
   "metadata": {}
  },
  {
   "cell_type": "code",
   "execution_count": 75,
   "metadata": {},
   "outputs": [
    {
     "output_type": "display_data",
     "data": {
      "text/plain": "<IPython.core.display.Latex object>",
      "text/latex": "\\[\n\\begin{aligned}\n\\mathrm{ratio}_{1} &= 1{,}111 \\times 10 ^ {-1 } \\;\\end{aligned}\n\\]"
     },
     "metadata": {}
    }
   ],
   "source": [
    "%%render params\n",
    "ratio_1 = sirka/H"
   ]
  },
  {
   "source": [
    "# Návrh teplosměnných ploch"
   ],
   "cell_type": "markdown",
   "metadata": {}
  },
  {
   "source": [
    "## Přehřívák 1"
   ],
   "cell_type": "markdown",
   "metadata": {}
  },
  {
   "source": [
    "### Prostup tepla"
   ],
   "cell_type": "markdown",
   "metadata": {}
  },
  {
   "source": [
    "Podíl výhřevných ploch žeber a celkové plochy ze strany spalin:"
   ],
   "cell_type": "markdown",
   "metadata": {}
  },
  {
   "cell_type": "code",
   "execution_count": 76,
   "metadata": {},
   "outputs": [
    {
     "output_type": "display_data",
     "data": {
      "text/plain": "<IPython.core.display.Latex object>",
      "text/latex": "\\[\n\\begin{aligned}\n\\mathrm{ratio}_{2} &= \\frac{ \\left( \\frac{ D_{z} }{ D } \\right) ^{ 2 } - 1 }{ \\left( \\frac{ D_{z} }{ D } \\right) ^{ 2 } - 1 + 2 \\cdot \\left( \\frac{ s_{z} }{ D } - \\frac{ t_{z} }{ D } \\right) } \\\\&= \\frac{ \\left( \\frac{ 5{,}850 \\times 10 ^ {-2 } }{ 4{,}450 \\times 10 ^ {-2 } } \\right) ^{ 2 } - 1 }{ \\left( \\frac{ 5{,}850 \\times 10 ^ {-2 } }{ 4{,}450 \\times 10 ^ {-2 } } \\right) ^{ 2 } - 1 + 2 \\cdot \\left( \\frac{ 0{,}005 }{ 4{,}450 \\times 10 ^ {-2 } } - \\frac{ 0{,}001 }{ 4{,}450 \\times 10 ^ {-2 } } \\right) } \\\\&= 0{,}802 \\; \\;\\textrm{(-)}\\\\\n\\end{aligned}\n\\]"
     },
     "metadata": {}
    }
   ],
   "source": [
    "%%render\n",
    "# pomer S_z/S\n",
    "ratio_2 = ((D_z/D)**2-1) / ((D_z/D)**2-1+2*(s_z/D-t_z/D))   #-"
   ]
  },
  {
   "source": [
    "Podíl volných trubek a celkové plochy"
   ],
   "cell_type": "markdown",
   "metadata": {}
  },
  {
   "cell_type": "code",
   "execution_count": 77,
   "metadata": {},
   "outputs": [
    {
     "output_type": "display_data",
     "data": {
      "text/plain": "<IPython.core.display.Latex object>",
      "text/latex": "\\[\n\\begin{aligned}\n\\mathrm{ratio}_{3} &= 1 - \\mathrm{ratio}_{2}  = 1 - 0{,}802 &= 0{,}198  \n\\end{aligned}\n\\]"
     },
     "metadata": {}
    }
   ],
   "source": [
    "%%render\n",
    "# pomer S_h/S\n",
    "ratio_3 = 1-ratio_2"
   ]
  },
  {
   "source": [
    "#### Tabulka $\\lambda$ pro obsah vody"
   ],
   "cell_type": "markdown",
   "metadata": {}
  },
  {
   "cell_type": "code",
   "execution_count": 78,
   "metadata": {},
   "outputs": [],
   "source": [
    "lambda_0 = 22.5+(8-5)*((22.7-22.5)/(10-5))\n",
    "lambda_100 = 30.5+(8-5)*((31.2-30.5)/(10-5))\n",
    "lambda_200 = 38.7+(8-5)*((39.8-38.7)/(10-5))\n",
    "lambda_300 = 46.4+(8-5)*((48.1-46.4)/(10-5))\n",
    "lambda_400 = 54.3+(8-5)*((56.6-54.3)/(10-5))\n",
    "lambda_500 = 62.2+(8-5)*((65.1-62.2)/(10-5))\n",
    "lambda_600 = 70+(8-5)*((73.5-70)/(10-5))\n",
    "\n",
    "lambda_tabulka = pd.DataFrame(\n",
    "{\n",
    "        \"T [°C]\": (0,100,200,300,400,500,600),\n",
    "        \"5 % H2O\": (22.5,30.5,38.7,46.4,54.3,62.2,70.0),\n",
    "        \"8 % H2O\": (lambda_0,lambda_100,lambda_200,lambda_300,lambda_400,lambda_500,lambda_600),\n",
    "        \"10 % H2O\": (22.7,31.2,39.8,48.1,56.6,65.1,73.5),\n",
    "    }\n",
    ")\n",
    "lambda_tabulka_print = lambda_tabulka.set_index(spalinova_tabulka.columns[0])"
   ]
  },
  {
   "cell_type": "code",
   "execution_count": 79,
   "metadata": {},
   "outputs": [
    {
     "output_type": "execute_result",
     "data": {
      "text/plain": [
       "        5 % H2O  8 % H2O  10 % H2O\n",
       "T [°C]                            \n",
       "0          22.5    22.62      22.7\n",
       "100        30.5    30.92      31.2\n",
       "200        38.7    39.36      39.8\n",
       "300        46.4    47.42      48.1\n",
       "400        54.3    55.68      56.6\n",
       "500        62.2    63.94      65.1\n",
       "600        70.0    72.10      73.5"
      ],
      "text/html": "<div>\n<style scoped>\n    .dataframe tbody tr th:only-of-type {\n        vertical-align: middle;\n    }\n\n    .dataframe tbody tr th {\n        vertical-align: top;\n    }\n\n    .dataframe thead th {\n        text-align: right;\n    }\n</style>\n<table border=\"1\" class=\"dataframe\">\n  <thead>\n    <tr style=\"text-align: right;\">\n      <th></th>\n      <th>5 % H2O</th>\n      <th>8 % H2O</th>\n      <th>10 % H2O</th>\n    </tr>\n    <tr>\n      <th>T [°C]</th>\n      <th></th>\n      <th></th>\n      <th></th>\n    </tr>\n  </thead>\n  <tbody>\n    <tr>\n      <th>0</th>\n      <td>22.5</td>\n      <td>22.62</td>\n      <td>22.7</td>\n    </tr>\n    <tr>\n      <th>100</th>\n      <td>30.5</td>\n      <td>30.92</td>\n      <td>31.2</td>\n    </tr>\n    <tr>\n      <th>200</th>\n      <td>38.7</td>\n      <td>39.36</td>\n      <td>39.8</td>\n    </tr>\n    <tr>\n      <th>300</th>\n      <td>46.4</td>\n      <td>47.42</td>\n      <td>48.1</td>\n    </tr>\n    <tr>\n      <th>400</th>\n      <td>54.3</td>\n      <td>55.68</td>\n      <td>56.6</td>\n    </tr>\n    <tr>\n      <th>500</th>\n      <td>62.2</td>\n      <td>63.94</td>\n      <td>65.1</td>\n    </tr>\n    <tr>\n      <th>600</th>\n      <td>70.0</td>\n      <td>72.10</td>\n      <td>73.5</td>\n    </tr>\n  </tbody>\n</table>\n</div>"
     },
     "metadata": {},
     "execution_count": 79
    }
   ],
   "source": [
    "lambda_tabulka_print\n",
    "\n",
    "# print(lambda_tabulka_print.to_latex())"
   ]
  },
  {
   "source": [
    "#### Tabulka $\\nu$ pro daný obsah vody"
   ],
   "cell_type": "markdown",
   "metadata": {}
  },
  {
   "cell_type": "code",
   "execution_count": 80,
   "metadata": {},
   "outputs": [],
   "source": [
    "nu_0 = 12.2+(8-5)*((12.2-12.2)/(10-5))\n",
    "nu_100 = 21.3+(8-5)*((21.5-21.3)/(10-5))\n",
    "nu_200 = 31.8+(8-5)*((32.8-31.8)/(10-5))\n",
    "nu_300 = 45.0+(8-5)*((45.8-45.0)/(10-5))\n",
    "nu_400 = 59.2+(8-5)*((60.4-59.2)/(10-5))\n",
    "nu_500 = 74.6+(8-5)*((76.3-74.6)/(10-5))\n",
    "nu_600 = 91.4+(8-5)*((93.6-91.4)/(10-5))\n",
    "\n",
    "nu_tabulka = pd.DataFrame(\n",
    "{\n",
    "        \"T [°C]\": (0,100,200,300,400,500,600),\n",
    "        \"5 % H2O\": (12.2,21.3,31.8,45.0,59.2,74.6,91.4),\n",
    "        \"8 % H2O\": (nu_0,nu_100,nu_200,nu_300,nu_400,nu_500,nu_600),\n",
    "        \"10 % H2O\": (12.2,21.5,32.8,45.8,60.4,76.3,93.6),\n",
    "    }\n",
    ")\n",
    "nu_tabulka_print = nu_tabulka.set_index(nu_tabulka.columns[0])"
   ]
  },
  {
   "cell_type": "code",
   "execution_count": 81,
   "metadata": {},
   "outputs": [
    {
     "output_type": "execute_result",
     "data": {
      "text/plain": [
       "        5 % H2O  8 % H2O  10 % H2O\n",
       "T [°C]                            \n",
       "0          12.2    12.20      12.2\n",
       "100        21.3    21.42      21.5\n",
       "200        31.8    32.40      32.8\n",
       "300        45.0    45.48      45.8\n",
       "400        59.2    59.92      60.4\n",
       "500        74.6    75.62      76.3\n",
       "600        91.4    92.72      93.6"
      ],
      "text/html": "<div>\n<style scoped>\n    .dataframe tbody tr th:only-of-type {\n        vertical-align: middle;\n    }\n\n    .dataframe tbody tr th {\n        vertical-align: top;\n    }\n\n    .dataframe thead th {\n        text-align: right;\n    }\n</style>\n<table border=\"1\" class=\"dataframe\">\n  <thead>\n    <tr style=\"text-align: right;\">\n      <th></th>\n      <th>5 % H2O</th>\n      <th>8 % H2O</th>\n      <th>10 % H2O</th>\n    </tr>\n    <tr>\n      <th>T [°C]</th>\n      <th></th>\n      <th></th>\n      <th></th>\n    </tr>\n  </thead>\n  <tbody>\n    <tr>\n      <th>0</th>\n      <td>12.2</td>\n      <td>12.20</td>\n      <td>12.2</td>\n    </tr>\n    <tr>\n      <th>100</th>\n      <td>21.3</td>\n      <td>21.42</td>\n      <td>21.5</td>\n    </tr>\n    <tr>\n      <th>200</th>\n      <td>31.8</td>\n      <td>32.40</td>\n      <td>32.8</td>\n    </tr>\n    <tr>\n      <th>300</th>\n      <td>45.0</td>\n      <td>45.48</td>\n      <td>45.8</td>\n    </tr>\n    <tr>\n      <th>400</th>\n      <td>59.2</td>\n      <td>59.92</td>\n      <td>60.4</td>\n    </tr>\n    <tr>\n      <th>500</th>\n      <td>74.6</td>\n      <td>75.62</td>\n      <td>76.3</td>\n    </tr>\n    <tr>\n      <th>600</th>\n      <td>91.4</td>\n      <td>92.72</td>\n      <td>93.6</td>\n    </tr>\n  </tbody>\n</table>\n</div>"
     },
     "metadata": {},
     "execution_count": 81
    }
   ],
   "source": [
    "nu_tabulka_print\n",
    "\n",
    "# print(nu_tabulka_print.to_latex())"
   ]
  },
  {
   "source": [
    "Poměrná příčná rozteč trubek"
   ],
   "cell_type": "markdown",
   "metadata": {}
  },
  {
   "cell_type": "code",
   "execution_count": 82,
   "metadata": {},
   "outputs": [
    {
     "output_type": "display_data",
     "data": {
      "text/plain": "<IPython.core.display.Latex object>",
      "text/latex": "\\[\n\\begin{aligned}\n\\sigma_{1} &= \\frac{ s_{1} }{ D }  = \\frac{ 8{,}750 \\times 10 ^ {-2 } }{ 4{,}450 \\times 10 ^ {-2 } } &= 1{,}966  \n\\end{aligned}\n\\]"
     },
     "metadata": {}
    }
   ],
   "source": [
    "%%render\n",
    "sigma_1 = s_1/D"
   ]
  },
  {
   "cell_type": "code",
   "execution_count": 83,
   "metadata": {},
   "outputs": [
    {
     "output_type": "display_data",
     "data": {
      "text/plain": "<IPython.core.display.Latex object>",
      "text/latex": "\\[\n\\begin{aligned}\n\\sigma_{2} &= \\frac{ \\sqrt { \\left( \\frac{ s_{1} }{ 2 } \\right) ^{ 2 } + \\left( s_{2} \\right) ^{ 2 } } }{ D } \\\\&= \\frac{ \\sqrt { \\left( \\frac{ 8{,}750 \\times 10 ^ {-2 } }{ 2 } \\right) ^{ 2 } + \\left( 0{,}117 \\right) ^{ 2 } } }{ 4{,}450 \\times 10 ^ {-2 } } \\\\&= 2{,}807  \\\\\n\\end{aligned}\n\\]"
     },
     "metadata": {}
    }
   ],
   "source": [
    "%%render\n",
    "sigma_2 = sqrt((s_1/2)**2+s_2**2)/D"
   ]
  },
  {
   "source": [
    "Součinitel poměrných roztečí"
   ],
   "cell_type": "markdown",
   "metadata": {}
  },
  {
   "cell_type": "code",
   "execution_count": 84,
   "metadata": {},
   "outputs": [
    {
     "output_type": "display_data",
     "data": {
      "text/plain": "<IPython.core.display.Latex object>",
      "text/latex": "\\[\n\\begin{aligned}\n\\phi_{\\sigma} &= \\frac{ \\sigma_{1} - 1 }{ \\sigma_{2} - 1 }  = \\frac{ 1{,}966 - 1 }{ 2{,}807 - 1 } &= 5{,}347 \\times 10 ^ {-1 }  \n\\end{aligned}\n\\]"
     },
     "metadata": {}
    }
   ],
   "source": [
    "%%render\n",
    "phi_sigma = (sigma_1-1)/(sigma_2-1)"
   ]
  },
  {
   "source": [
    "Součinitel přestupu tepla konvekcí"
   ],
   "cell_type": "markdown",
   "metadata": {}
  },
  {
   "cell_type": "code",
   "execution_count": 85,
   "metadata": {},
   "outputs": [],
   "source": [
    "lambda_BC = lambda_interpolate(t_BC)\n",
    "nu_BC = nu_interpolate(t_BC)\n",
    "c_z = 0.95  #NEVIM (Opravný součinitel na počet řad)"
   ]
  },
  {
   "cell_type": "code",
   "execution_count": 86,
   "metadata": {},
   "outputs": [
    {
     "output_type": "display_data",
     "data": {
      "text/plain": "<IPython.core.display.Latex object>",
      "text/latex": "\\[\n\\begin{aligned}\n\\alpha_{k} &= 0{,}23 \\cdot c_{z} \\cdot \\left( \\phi_{\\sigma} \\right) ^{ 0{,}2 } \\cdot \\left( \\frac{ \\mathrm{lambda}_{BC} }{ s_{z} } \\right) \\cdot \\left( \\frac{ D }{ s_{z} } \\right) ^{ -0{,}54 } \\cdot \\left( \\frac{ h_{z} }{ s_{z} } \\right) ^{ -0{,}14 } \\cdot \\left( w_{sp} \\cdot \\frac{ s_{z} }{ \\nu_{BC} } \\right) ^{ 0{,}65 } \\\\&= 0{,}23 \\cdot 0{,}95 \\cdot \\left( 5{,}347 \\times 10 ^ {-1 } \\right) ^{ 0{,}2 } \\cdot \\left( \\frac{ 6{,}622 \\times 10 ^ {-2 } }{ 0{,}005 } \\right) \\cdot \\left( \\frac{ 4{,}450 \\times 10 ^ {-2 } }{ 0{,}005 } \\right) ^{ -0{,}54 } \\cdot \\left( \\frac{ 0{,}007 }{ 0{,}005 } \\right) ^{ -0{,}14 } \\cdot \\left( 8 \\cdot \\frac{ 0{,}005 }{ 8{,}041 \\times 10 ^ {-5 } } \\right) ^{ 0{,}65 } \\\\&= 42{,}354 \\; \\;\\textrm{(W/m2K)}\\\\\n\\end{aligned}\n\\]"
     },
     "metadata": {}
    }
   ],
   "source": [
    "%%render\n",
    "alpha_k = 0.23*c_z*phi_sigma**0.2*(lambda_BC/s_z)*(D/s_z)**-0.54*(h_z/s_z)**-0.14*(w_sp*s_z/nu_BC)**0.65 #W/m2K"
   ]
  },
  {
   "source": [
    "Součinitel $\\beta$"
   ],
   "cell_type": "markdown",
   "metadata": {}
  },
  {
   "cell_type": "code",
   "execution_count": 87,
   "metadata": {},
   "outputs": [
    {
     "output_type": "display_data",
     "data": {
      "text/plain": "<IPython.core.display.Latex object>",
      "text/latex": "\\[\n\\begin{aligned}\n\\psi_{z} &= 0{,}85 \\; \\;\\textrm{(pro kruhová žebra)}\n\\\\[10pt]\n\\mathrm{lambda}_{z} &= 24{,}9 \\; \\;\\textrm{(W/mK)}\n\\\\[10pt]\n\\epsilon &= 4{,}500 \\times 10 ^ {-3 } \\; \\;\\textrm{(pro plynné palivo a žebrované trubky)}\n\\end{aligned}\n\\]"
     },
     "metadata": {}
    }
   ],
   "source": [
    "%%render\n",
    "psi_z = 0.85  # pro kruhová žebra\n",
    "lambda_z = 24.9   #W/mK\n",
    "epsilon = 0.0045    #pro plynné palivo a žebrované trubky"
   ]
  },
  {
   "cell_type": "code",
   "execution_count": 88,
   "metadata": {},
   "outputs": [
    {
     "output_type": "display_data",
     "data": {
      "text/plain": "<IPython.core.display.Latex object>",
      "text/latex": "\\[\n\\begin{aligned}\n\\beta &= \\sqrt { \\frac{ 2 \\cdot \\psi_{z} \\cdot \\alpha_{k} }{ t_{z} \\cdot \\mathrm{lambda}_{z} \\cdot \\left( 1 + \\epsilon \\cdot \\psi_{z} \\cdot \\alpha_{k} \\right) } } \\\\&= \\sqrt { \\frac{ 2 \\cdot 0{,}85 \\cdot 42{,}354 }{ 0{,}001 \\cdot 24{,}9 \\cdot \\left( 1 + 4{,}500 \\times 10 ^ {-3 } \\cdot 0{,}85 \\cdot 42{,}354 \\right) } } \\\\&= 49{,}885  \\\\\n\\end{aligned}\n\\]"
     },
     "metadata": {}
    }
   ],
   "source": [
    "%%render\n",
    "beta = sqrt((2*psi_z*alpha_k)/(t_z*lambda_z*(1+epsilon*psi_z*alpha_k)))"
   ]
  },
  {
   "source": [
    "#### Součinitel efektivnosti žebra E"
   ],
   "cell_type": "markdown",
   "metadata": {}
  },
  {
   "cell_type": "code",
   "execution_count": 89,
   "metadata": {},
   "outputs": [
    {
     "output_type": "display_data",
     "data": {
      "text/plain": "<IPython.core.display.Latex object>",
      "text/latex": "\\[\n\\begin{aligned}\n\\mathrm{ratio}_{4} &= \\frac{ D_{z} }{ D }  = \\frac{ 5{,}850 \\times 10 ^ {-2 } }{ 4{,}450 \\times 10 ^ {-2 } } &= 1{,}315  \n\\\\[10pt]\n\\mathrm{coef}_{1} &= \\beta \\cdot h_{z}  = 49{,}885 \\cdot 0{,}007 &= 3{,}492 \\times 10 ^ {-1 }  \n\\\\[10pt]\nE &= 0{,}84 \\; \n\\end{aligned}\n\\]"
     },
     "metadata": {}
    }
   ],
   "source": [
    "%%render\n",
    "# lze ho odečíst v BUDAJovi na straně 114 - kruhové žebro, kruhový základ\n",
    "ratio_4 = D_z/D\n",
    "coef_1 = beta*h_z\n",
    "E = 0.84"
   ]
  },
  {
   "source": [
    "Součinitel přestupu tepla na straně spalin $\\alpha_1$$_r$"
   ],
   "cell_type": "markdown",
   "metadata": {}
  },
  {
   "cell_type": "code",
   "execution_count": 90,
   "metadata": {},
   "outputs": [],
   "source": [
    "mu = 1  # je 1 pro žebra s konst. průměrem"
   ]
  },
  {
   "cell_type": "code",
   "execution_count": 91,
   "metadata": {},
   "outputs": [
    {
     "output_type": "display_data",
     "data": {
      "text/plain": "<IPython.core.display.Latex object>",
      "text/latex": "\\[\n\\begin{aligned}\n\\alpha_{1r} &= \\left( \\mathrm{ratio}_{2} \\cdot E \\cdot \\mu + \\mathrm{ratio}_{3} \\right) \\cdot \\left( \\frac{ \\psi_{z} \\cdot \\alpha_{k} }{ 1 + \\epsilon \\cdot \\psi_{z} \\cdot \\alpha_{k} } \\right) \\\\&= \\left( 0{,}802 \\cdot 0{,}84 \\cdot 1 + 0{,}198 \\right) \\cdot \\left( \\frac{ 0{,}85 \\cdot 42{,}354 }{ 1 + 4{,}500 \\times 10 ^ {-3 } \\cdot 0{,}85 \\cdot 42{,}354 } \\right) \\\\&= 27{,}006 \\; \\;\\textrm{(W/m2K)}\\\\\n\\end{aligned}\n\\]"
     },
     "metadata": {}
    }
   ],
   "source": [
    "%%render\n",
    "alpha_1r = (ratio_2*E*mu+ratio_3)*((psi_z*alpha_k)/(1+epsilon*psi_z*alpha_k))   #W/m2K"
   ]
  },
  {
   "source": [
    "#### VÝPOČET SOUČINITELE PŘESTUPU TEPLA ZE STRANY PÁRY U PŘEHŘÍVÁKU 1"
   ],
   "cell_type": "markdown",
   "metadata": {}
  },
  {
   "cell_type": "code",
   "execution_count": 92,
   "metadata": {},
   "outputs": [
    {
     "output_type": "display_data",
     "data": {
      "text/plain": "<IPython.core.display.Latex object>",
      "text/latex": "\\[\n\\begin{aligned}\n\\mathrm{lambda}_{34} &= 4{,}825 \\times 10 ^ {-2 } \\; \\;\\textrm{(W/mK)}\n &\\mu_{34} &= 1{,}968 \\times 10 ^ {-5 } \\; \\;\\textrm{(Pas)}\n &\\mathrm{Pr}_{34} &= 1{,}092 \\; \\;\\textrm{(-)}\n\\\\[10pt]\n \\nu_{34} &= 1{,}391 \\times 10 ^ {-6 } \\; \\;\\textrm{(m2/s)}\\end{aligned}\n\\]"
     },
     "metadata": {}
    }
   ],
   "source": [
    "%%render params\n",
    "lambda_34 = steam.tc_pt(p_34*10, t_34)  #W/mK\n",
    "mu_34 = steam.my_pt(p_34*10, t_34)      #Pas\n",
    "Pr_34 = steam.pr_pt(p_34*10, t_34)      #-\n",
    "nu_34 = mu_34*v_34                      #m2/s"
   ]
  },
  {
   "source": [
    "Součinitel přestupu tepla ze strany páry $\\alpha_2$$_r$"
   ],
   "cell_type": "markdown",
   "metadata": {}
  },
  {
   "cell_type": "code",
   "execution_count": 93,
   "metadata": {},
   "outputs": [
    {
     "output_type": "display_data",
     "data": {
      "text/plain": "<IPython.core.display.Latex object>",
      "text/latex": "\\[\n\\begin{aligned}\nc_{t} &= 1 \\; \n\\\\[10pt]\nc_{l} &= 1 \\; \n\\\\[10pt]\nc_{m} &= 1 \\; \n\\end{aligned}\n\\]"
     },
     "metadata": {}
    }
   ],
   "source": [
    "%%render\n",
    "c_t = 1\n",
    "c_l = 1\n",
    "c_m = 1"
   ]
  },
  {
   "cell_type": "code",
   "execution_count": 94,
   "metadata": {},
   "outputs": [
    {
     "output_type": "display_data",
     "data": {
      "text/plain": "<IPython.core.display.Latex object>",
      "text/latex": "\\[\n\\begin{aligned}\n\\alpha_{2r} &= 0{,}023 \\cdot \\left( \\frac{ \\mathrm{lambda}_{34} }{ d } \\right) \\cdot \\left( \\frac{ w_{p} \\cdot d }{ \\nu_{34} } \\right) ^{ 0{,}8 } \\cdot \\left( \\mathrm{Pr}_{34} \\right) ^{ 0{,}4 } \\cdot c_{t} \\cdot c_{l} \\cdot c_{m} \\\\&= 0{,}023 \\cdot \\left( \\frac{ 4{,}825 \\times 10 ^ {-2 } }{ 3{,}870 \\times 10 ^ {-2 } } \\right) \\cdot \\left( \\frac{ 18{,}7 \\cdot 3{,}870 \\times 10 ^ {-2 } }{ 1{,}391 \\times 10 ^ {-6 } } \\right) ^{ 0{,}8 } \\cdot \\left( 1{,}092 \\right) ^{ 0{,}4 } \\cdot 1 \\cdot 1 \\cdot 1 \\\\&= 1110{,}877 \\; \\;\\textrm{(W/m2K)}\\\\\n\\end{aligned}\n\\]"
     },
     "metadata": {}
    }
   ],
   "source": [
    "%%render\n",
    "alpha_2r = 0.023*(lambda_34/d)*((w_p*d)/nu_34)**0.8*Pr_34**0.4*c_t*c_l*c_m  #W/m2K"
   ]
  },
  {
   "source": [
    "#### VÝPOČET SOUČINITELE PROSTUPU TEPLA U PŘEHŘÍVÁKU"
   ],
   "cell_type": "markdown",
   "metadata": {}
  },
  {
   "source": [
    "Povrch jednoho žebra"
   ],
   "cell_type": "markdown",
   "metadata": {}
  },
  {
   "cell_type": "code",
   "execution_count": 95,
   "metadata": {},
   "outputs": [
    {
     "output_type": "display_data",
     "data": {
      "text/plain": "<IPython.core.display.Latex object>",
      "text/latex": "\\[\n\\begin{aligned}\nS_{1z} &= \\left( \\frac{ 2 \\cdot \\pi \\cdot \\left( \\left( D_{z} \\right) ^{ 2 } - \\left( D \\right) ^{ 2 } \\right) }{ 4 } \\right) + \\pi \\cdot D_{z} \\cdot t_{z} \\\\&= \\left( \\frac{ 2 \\cdot 3{,}142 \\cdot \\left( \\left( 5{,}850 \\times 10 ^ {-2 } \\right) ^{ 2 } - \\left( 4{,}450 \\times 10 ^ {-2 } \\right) ^{ 2 } \\right) }{ 4 } \\right) + 3{,}142 \\cdot 5{,}850 \\times 10 ^ {-2 } \\cdot 0{,}001 \\\\&= 2{,}449 \\times 10 ^ {-3 } \\; \\;\\textrm{(m2)}\\\\\n\\end{aligned}\n\\]"
     },
     "metadata": {}
    }
   ],
   "source": [
    "%%render\n",
    "S_1z = ((2*pi*(D_z**2-D**2))/4)+pi*D_z*t_z  #m2"
   ]
  },
  {
   "source": [
    "Celkový vnější povrch jedné jeden metr dlouhé trubky se žebry"
   ],
   "cell_type": "markdown",
   "metadata": {}
  },
  {
   "cell_type": "code",
   "execution_count": 96,
   "metadata": {},
   "outputs": [
    {
     "output_type": "display_data",
     "data": {
      "text/plain": "<IPython.core.display.Latex object>",
      "text/latex": "\\[\n\\begin{aligned}\nS_{1m} &= \\pi \\cdot D \\cdot \\left( 1 - n_{z} \\cdot t_{z} \\right) + n_{z} \\cdot S_{1z} \\\\&= 3{,}142 \\cdot 4{,}450 \\times 10 ^ {-2 } \\cdot \\left( 1 - 200 \\cdot 0{,}001 \\right) + 200 \\cdot 2{,}449 \\times 10 ^ {-3 } \\\\&= 6{,}016 \\times 10 ^ {-1 } \\; \\;\\textrm{(m2)}\\\\\n\\end{aligned}\n\\]"
     },
     "metadata": {}
    }
   ],
   "source": [
    "%%render\n",
    "S_1m = pi*D*(1-n_z*t_z)+n_z*S_1z    #m2"
   ]
  },
  {
   "source": [
    "Celkový vnitřní povrch jedné jeden metr dlouhé trubky se žebry"
   ],
   "cell_type": "markdown",
   "metadata": {}
  },
  {
   "cell_type": "code",
   "execution_count": 97,
   "metadata": {},
   "outputs": [
    {
     "output_type": "display_data",
     "data": {
      "text/plain": "<IPython.core.display.Latex object>",
      "text/latex": "\\[\n\\begin{aligned}\nS_{2m} &= \\pi \\cdot d  = 3{,}142 \\cdot 3{,}870 \\times 10 ^ {-2 } &= 1{,}216 \\times 10 ^ {-1 } \\; \\;\\textrm{(m2)}\n\\end{aligned}\n\\]"
     },
     "metadata": {}
    }
   ],
   "source": [
    "%%render\n",
    "S_2m = pi*d #m2"
   ]
  },
  {
   "source": [
    "Součinitel prostupu tepla k"
   ],
   "cell_type": "markdown",
   "metadata": {}
  },
  {
   "cell_type": "code",
   "execution_count": 98,
   "metadata": {},
   "outputs": [
    {
     "output_type": "display_data",
     "data": {
      "text/plain": "<IPython.core.display.Latex object>",
      "text/latex": "\\[\n\\begin{aligned}\nk &= \\frac{ 1 }{ \\frac{ 1 }{ \\alpha_{1r} } + \\frac{ 1 }{ \\alpha_{2r} } \\cdot \\frac{ S_{1m} }{ S_{2m} } }  = \\frac{ 1 }{ \\frac{ 1 }{ 27{,}006 } + \\frac{ 1 }{ 1110{,}877 } \\cdot \\frac{ 6{,}016 \\times 10 ^ {-1 } }{ 1{,}216 \\times 10 ^ {-1 } } } &= 24{,}106 \\; \\;\\textrm{(W/m2K)}\n\\end{aligned}\n\\]"
     },
     "metadata": {}
    }
   ],
   "source": [
    "%%render\n",
    "k = 1/(1/alpha_1r+1/alpha_2r*S_1m/S_2m) #W/m2K"
   ]
  },
  {
   "source": [
    "#### Počet řad přehříváku 1"
   ],
   "cell_type": "markdown",
   "metadata": {}
  },
  {
   "source": [
    "Rozdíly teplot pro výpočet středního logaritmického spádu:"
   ],
   "cell_type": "markdown",
   "metadata": {}
  },
  {
   "cell_type": "code",
   "execution_count": 99,
   "metadata": {},
   "outputs": [
    {
     "output_type": "display_data",
     "data": {
      "text/plain": "<IPython.core.display.Latex object>",
      "text/latex": "\\[\n\\begin{aligned}\n\\Delta_{t_{1}} &= t_{B} - t_{3}  = 549 - 348 &= 201  \n\\\\[10pt]\n\\Delta_{t_{2}} &= t_{C} - t_{4}  = 507 - 240{,}565 &= 266{,}435  \n\\end{aligned}\n\\]"
     },
     "metadata": {}
    }
   ],
   "source": [
    "%%render\n",
    "Delta_t_1 = t_B-t_3\n",
    "Delta_t_2 = t_C-t_4"
   ]
  },
  {
   "source": [
    "Střední logaritmický teplotní spád"
   ],
   "cell_type": "markdown",
   "metadata": {}
  },
  {
   "cell_type": "code",
   "execution_count": 100,
   "metadata": {},
   "outputs": [
    {
     "output_type": "display_data",
     "data": {
      "text/plain": "<IPython.core.display.Latex object>",
      "text/latex": "\\[\n\\begin{aligned}\n\\Delta_{t_{LN}} &= \\frac{ \\Delta_{t_{1}} - \\Delta_{t_{2}} }{ \\ln \\left( \\frac{ \\Delta_{t_{1}} }{ \\Delta_{t_{2}} } \\right) }  = \\frac{ 201 - 266{,}435 }{ \\ln \\left( \\frac{ 201 }{ 266{,}435 } \\right) } &= 232{,}183 \\; \\;\\textrm{(K)}\n\\end{aligned}\n\\]"
     },
     "metadata": {}
    }
   ],
   "source": [
    "%%render\n",
    "Delta_t_LN = (Delta_t_1-Delta_t_2)/log(Delta_t_1/Delta_t_2) #K"
   ]
  },
  {
   "source": [
    "Vnější teplosměnná plocha"
   ],
   "cell_type": "markdown",
   "metadata": {}
  },
  {
   "cell_type": "code",
   "execution_count": 101,
   "metadata": {},
   "outputs": [
    {
     "output_type": "display_data",
     "data": {
      "text/plain": "<IPython.core.display.Latex object>",
      "text/latex": "\\[\n\\begin{aligned}\nS_{SP} &= \\frac{ 1000 \\cdot Q_{P1} }{ k \\cdot \\Delta_{t_{LN}} }  = \\frac{ 1000 \\cdot 6243{,}705 }{ 24{,}106 \\cdot 232{,}183 } &= 1115{,}528 \\; \\;\\textrm{(m2)}\n\\end{aligned}\n\\]"
     },
     "metadata": {}
    }
   ],
   "source": [
    "%%render\n",
    "S_SP = (1000*Q_P1)/(k*Delta_t_LN)   #m2"
   ]
  },
  {
   "source": [
    "Počet řad"
   ],
   "cell_type": "markdown",
   "metadata": {}
  },
  {
   "cell_type": "code",
   "execution_count": 102,
   "metadata": {},
   "outputs": [
    {
     "output_type": "display_data",
     "data": {
      "text/plain": "<IPython.core.display.Latex object>",
      "text/latex": "\\[\n\\begin{aligned}\nn_{rad} &= \\frac{ S_{SP} }{ H \\cdot S_{1m} \\cdot n_{tr_{1rad}} }  = \\frac{ 1115{,}528 }{ 27{,}0 \\cdot 6{,}016 \\times 10 ^ {-1 } \\cdot 34{,}0 } &= 2{,}02  \n\\end{aligned}\n\\]"
     },
     "metadata": {}
    }
   ],
   "source": [
    "%%render\n",
    "n_rad = S_SP/(H*S_1m*n_tr_1rad)"
   ]
  },
  {
   "cell_type": "code",
   "execution_count": 103,
   "metadata": {},
   "outputs": [],
   "source": [
    "n_rad = round(n_rad,0)"
   ]
  },
  {
   "source": [
    "#### Skutečné teplo předané v přehříváku 1"
   ],
   "cell_type": "markdown",
   "metadata": {}
  },
  {
   "source": [
    "Skutečná vnější teplosměnná plocha S_SP"
   ],
   "cell_type": "markdown",
   "metadata": {}
  },
  {
   "cell_type": "code",
   "execution_count": 104,
   "metadata": {},
   "outputs": [
    {
     "output_type": "display_data",
     "data": {
      "text/plain": "<IPython.core.display.Latex object>",
      "text/latex": "\\[\n\\begin{aligned}\nS_{SP_{skut}} &= n_{rad} \\cdot n_{tr_{1rad}} \\cdot H \\cdot S_{1m}  = 2{,}0 \\cdot 34{,}0 \\cdot 27{,}0 \\cdot 6{,}016 \\times 10 ^ {-1 } &= 1104{,}565 \\; \\;\\textrm{(m2)}\n\\end{aligned}\n\\]"
     },
     "metadata": {}
    }
   ],
   "source": [
    "%%render\n",
    "S_SP_skut = n_rad*n_tr_1rad*H*S_1m   #m2"
   ]
  },
  {
   "source": [
    "Skutečné teplo předané v přehříváku 1"
   ],
   "cell_type": "markdown",
   "metadata": {}
  },
  {
   "cell_type": "code",
   "execution_count": 105,
   "metadata": {},
   "outputs": [
    {
     "output_type": "display_data",
     "data": {
      "text/plain": "<IPython.core.display.Latex object>",
      "text/latex": "\\[\n\\begin{aligned}\nQ_{P1_{skut}} &= \\frac{ k \\cdot S_{SP_{skut}} \\cdot \\Delta_{t_{LN}} }{ 1000 }  = \\frac{ 24{,}106 \\cdot 1104{,}565 \\cdot 232{,}183 }{ 1000 } &= 6182{,}346 \\; \\;\\textrm{(kW)}\n\\end{aligned}\n\\]"
     },
     "metadata": {}
    }
   ],
   "source": [
    "%%render\n",
    "Q_P1_skut = (k*S_SP_skut*Delta_t_LN)/1000   #kW"
   ]
  },
  {
   "source": [
    "Kontrola (rozdíl tepel nesmí překročit 5 %)"
   ],
   "cell_type": "markdown",
   "metadata": {}
  },
  {
   "cell_type": "code",
   "execution_count": 106,
   "metadata": {},
   "outputs": [
    {
     "output_type": "display_data",
     "data": {
      "text/plain": "<IPython.core.display.Latex object>",
      "text/latex": "\\[\n\\begin{aligned}\n\\Delta_{Qcon} &= 100 \\cdot \\operatorname{abs} { \\left( \\frac{ Q_{P1_{skut}} - Q_{P1} }{ Q_{P1_{skut}} } \\right) }  = 100 \\cdot \\operatorname{abs} { \\left( \\frac{ 6182{,}346 - 6243{,}705 }{ 6182{,}346 } \\right) } &= 9{,}925 \\times 10 ^ {-1 } \\; \\;\\textrm{(%)}\n\\end{aligned}\n\\]"
     },
     "metadata": {}
    }
   ],
   "source": [
    "%%render\n",
    "Delta_Qcon = 100*(abs((Q_P1_skut-Q_P1)/Q_P1_skut))    #%"
   ]
  },
  {
   "source": [
    "#### Skutečná teplota a entalpie spalin v bodě C"
   ],
   "cell_type": "markdown",
   "metadata": {}
  },
  {
   "cell_type": "code",
   "execution_count": 107,
   "metadata": {},
   "outputs": [
    {
     "output_type": "display_data",
     "data": {
      "text/plain": "<IPython.core.display.Latex object>",
      "text/latex": "\\[\n\\begin{aligned}\nI_{C_{skut}} &= I_{B_{sp}} - \\frac{ Q_{P1_{skut}} }{ V_{sp} \\cdot \\left( 1 - z_{s} \\right) }  = 763{,}535 - \\frac{ 6182{,}346 }{ 102{,}534 \\cdot \\left( 1 - 3{,}072 \\times 10 ^ {-3 } \\right) } &= 703{,}054 \\; \\;\\textrm{(kJ/m3)}\n\\end{aligned}\n\\]"
     },
     "metadata": {}
    }
   ],
   "source": [
    "%%render\n",
    "I_C_skut = I_B_sp - Q_P1_skut/(V_sp*(1-z_s))    #kJ/m3"
   ]
  },
  {
   "cell_type": "code",
   "execution_count": 108,
   "metadata": {},
   "outputs": [
    {
     "output_type": "display_data",
     "data": {
      "text/plain": "<IPython.core.display.Latex object>",
      "text/latex": "\\[\n\\begin{aligned}\nT_{C_{skut}} &= 500 + \\left( 600 - 500 \\right) &= 507{,}819 \\; \\;\\textrm{(°C)}\n\\end{aligned}\n\\]"
     },
     "metadata": {}
    }
   ],
   "source": [
    "%%render\n",
    "T_C_skut = 500 + (600-500)*((I_C_skut-entalpie_sp(500,'m3n')['sp'])/(entalpie_sp(600,'m3n')['sp']-entalpie_sp(500,'m3n')['sp']))    #°C"
   ]
  },
  {
   "source": [
    "Kontrola - teploty se nesmí lišit o více jak 3°C"
   ],
   "cell_type": "markdown",
   "metadata": {}
  },
  {
   "cell_type": "code",
   "execution_count": 109,
   "metadata": {},
   "outputs": [
    {
     "output_type": "display_data",
     "data": {
      "text/plain": "<IPython.core.display.Latex object>",
      "text/latex": "\\[\n\\begin{aligned}\n\\Delta_{Tcon} &= \\operatorname{abs} { \\left( T_{C_{skut}} - t_{C} \\right) }  = \\operatorname{abs} { \\left( 507{,}819 - 507 \\right) } &= 8{,}185 \\times 10 ^ {-1 } \\; \\;\\textrm{(°C)}\n\\end{aligned}\n\\]"
     },
     "metadata": {}
    }
   ],
   "source": [
    "%%render\n",
    "Delta_Tcon = abs(T_C_skut-t_C)  #°C"
   ]
  },
  {
   "cell_type": "code",
   "execution_count": 110,
   "metadata": {},
   "outputs": [],
   "source": [
    "MEZERA = ''\n",
    "material = '10CrMo9-10'\n",
    "data_P1 = {\n",
    "    'Hodnota':\n",
    "    [1000*D,1000*t_tr,1000*d,1000*h_z,1000*t_z,1000*s_z, n_z,1000*s_1,1000*s_2,D_z,S_1z,S_1m,S_SP, MEZERA,c_z,alpha_k,psi_z,lambda_z,epsilon,beta,E,mu,alpha_1r,alpha_2r,k,Delta_t_LN,MEZERA,Delta_Qcon,Delta_Tcon,MEZERA,n_tr,n_rad,material],\n",
    "\n",
    "    'Jednotka': \n",
    "    ['mm','mm','mm','mm','mm','mm','-','mm','mm','mm','m2','m2','m2',MEZERA,'-','kW/m2K','-','kW/mK','-','-','-','-','kW/m2K','kW/m2K','kW/m2K','K',MEZERA,'%','K',MEZERA,'-','-','-']\n",
    "\n",
    "    }\n",
    "zkratky = ['D','t_tr','d','h_z','t_z','s_z','n_z','s_1','s_2','D_z','S_1z','S_1m','S_SP',MEZERA,'c_z','alpha_k','psi_z','lambda_z','epsilon','beta','E','mu','alpha_1r','alpha_2r','k','Delta_t_LN',MEZERA,'Delta_Qcon','Delta_Tcon',MEZERA,'n_tr','n_rad','Materiál']\n",
    "output_table = pd.DataFrame(data_P1, index = zkratky)"
   ]
  },
  {
   "cell_type": "code",
   "execution_count": 111,
   "metadata": {},
   "outputs": [
    {
     "output_type": "execute_result",
     "data": {
      "text/plain": [
       "               Hodnota Jednotka\n",
       "D                 44.5       mm\n",
       "t_tr               2.9       mm\n",
       "d                 38.7       mm\n",
       "h_z                  7       mm\n",
       "t_z                  1       mm\n",
       "s_z                  5       mm\n",
       "n_z                200        -\n",
       "s_1               87.5       mm\n",
       "s_2                117       mm\n",
       "D_z             0.0585       mm\n",
       "S_1z           0.00245       m2\n",
       "S_1m             0.602       m2\n",
       "S_SP          1.12e+03       m2\n",
       "                               \n",
       "c_z               0.95        -\n",
       "alpha_k           42.4   kW/m2K\n",
       "psi_z             0.85        -\n",
       "lambda_z          24.9    kW/mK\n",
       "epsilon         0.0045        -\n",
       "beta              49.9        -\n",
       "E                 0.84        -\n",
       "mu                   1        -\n",
       "alpha_1r            27   kW/m2K\n",
       "alpha_2r      1.11e+03   kW/m2K\n",
       "k                 24.1   kW/m2K\n",
       "Delta_t_LN         232        K\n",
       "                               \n",
       "Delta_Qcon       0.992        %\n",
       "Delta_Tcon       0.819        K\n",
       "                               \n",
       "n_tr                68        -\n",
       "n_rad                2        -\n",
       "Materiál    10CrMo9-10        -"
      ],
      "text/html": "<div>\n<style scoped>\n    .dataframe tbody tr th:only-of-type {\n        vertical-align: middle;\n    }\n\n    .dataframe tbody tr th {\n        vertical-align: top;\n    }\n\n    .dataframe thead th {\n        text-align: right;\n    }\n</style>\n<table border=\"1\" class=\"dataframe\">\n  <thead>\n    <tr style=\"text-align: right;\">\n      <th></th>\n      <th>Hodnota</th>\n      <th>Jednotka</th>\n    </tr>\n  </thead>\n  <tbody>\n    <tr>\n      <th>D</th>\n      <td>44.5</td>\n      <td>mm</td>\n    </tr>\n    <tr>\n      <th>t_tr</th>\n      <td>2.9</td>\n      <td>mm</td>\n    </tr>\n    <tr>\n      <th>d</th>\n      <td>38.7</td>\n      <td>mm</td>\n    </tr>\n    <tr>\n      <th>h_z</th>\n      <td>7</td>\n      <td>mm</td>\n    </tr>\n    <tr>\n      <th>t_z</th>\n      <td>1</td>\n      <td>mm</td>\n    </tr>\n    <tr>\n      <th>s_z</th>\n      <td>5</td>\n      <td>mm</td>\n    </tr>\n    <tr>\n      <th>n_z</th>\n      <td>200</td>\n      <td>-</td>\n    </tr>\n    <tr>\n      <th>s_1</th>\n      <td>87.5</td>\n      <td>mm</td>\n    </tr>\n    <tr>\n      <th>s_2</th>\n      <td>117</td>\n      <td>mm</td>\n    </tr>\n    <tr>\n      <th>D_z</th>\n      <td>0.0585</td>\n      <td>mm</td>\n    </tr>\n    <tr>\n      <th>S_1z</th>\n      <td>0.00245</td>\n      <td>m2</td>\n    </tr>\n    <tr>\n      <th>S_1m</th>\n      <td>0.602</td>\n      <td>m2</td>\n    </tr>\n    <tr>\n      <th>S_SP</th>\n      <td>1.12e+03</td>\n      <td>m2</td>\n    </tr>\n    <tr>\n      <th></th>\n      <td></td>\n      <td></td>\n    </tr>\n    <tr>\n      <th>c_z</th>\n      <td>0.95</td>\n      <td>-</td>\n    </tr>\n    <tr>\n      <th>alpha_k</th>\n      <td>42.4</td>\n      <td>kW/m2K</td>\n    </tr>\n    <tr>\n      <th>psi_z</th>\n      <td>0.85</td>\n      <td>-</td>\n    </tr>\n    <tr>\n      <th>lambda_z</th>\n      <td>24.9</td>\n      <td>kW/mK</td>\n    </tr>\n    <tr>\n      <th>epsilon</th>\n      <td>0.0045</td>\n      <td>-</td>\n    </tr>\n    <tr>\n      <th>beta</th>\n      <td>49.9</td>\n      <td>-</td>\n    </tr>\n    <tr>\n      <th>E</th>\n      <td>0.84</td>\n      <td>-</td>\n    </tr>\n    <tr>\n      <th>mu</th>\n      <td>1</td>\n      <td>-</td>\n    </tr>\n    <tr>\n      <th>alpha_1r</th>\n      <td>27</td>\n      <td>kW/m2K</td>\n    </tr>\n    <tr>\n      <th>alpha_2r</th>\n      <td>1.11e+03</td>\n      <td>kW/m2K</td>\n    </tr>\n    <tr>\n      <th>k</th>\n      <td>24.1</td>\n      <td>kW/m2K</td>\n    </tr>\n    <tr>\n      <th>Delta_t_LN</th>\n      <td>232</td>\n      <td>K</td>\n    </tr>\n    <tr>\n      <th></th>\n      <td></td>\n      <td></td>\n    </tr>\n    <tr>\n      <th>Delta_Qcon</th>\n      <td>0.992</td>\n      <td>%</td>\n    </tr>\n    <tr>\n      <th>Delta_Tcon</th>\n      <td>0.819</td>\n      <td>K</td>\n    </tr>\n    <tr>\n      <th></th>\n      <td></td>\n      <td></td>\n    </tr>\n    <tr>\n      <th>n_tr</th>\n      <td>68</td>\n      <td>-</td>\n    </tr>\n    <tr>\n      <th>n_rad</th>\n      <td>2</td>\n      <td>-</td>\n    </tr>\n    <tr>\n      <th>Materiál</th>\n      <td>10CrMo9-10</td>\n      <td>-</td>\n    </tr>\n  </tbody>\n</table>\n</div>"
     },
     "metadata": {},
     "execution_count": 111
    }
   ],
   "source": [
    "output_table\n",
    "\n",
    "# print(output_table.to_latex())"
   ]
  },
  {
   "source": [
    "# Přehřívák 2"
   ],
   "cell_type": "markdown",
   "metadata": {}
  },
  {
   "cell_type": "code",
   "execution_count": 112,
   "metadata": {},
   "outputs": [
    {
     "output_type": "display_data",
     "data": {
      "text/plain": "<IPython.core.display.Latex object>",
      "text/latex": "\\[\n\\begin{aligned}\nD &= 4{,}450 \\times 10 ^ {-2 } \\; \\;\\textrm{(m)}\n &t_{tr} &= 2{,}900 \\times 10 ^ {-3 } \\; \\;\\textrm{(m)}\n &d &= 3{,}870 \\times 10 ^ {-2 } \\; \\;\\textrm{(m)}\n\\\\[10pt]\n h_{z} &= 0{,}0 \\; \\;\\textrm{(m)}\n &t_{z} &= 0{,}0 \\; \\;\\textrm{(m)}\n &s_{z} &= 0{,}0 \\; \\;\\textrm{(m)}\n\\\\[10pt]\n n_{z} &= 0 \\; \\;\\textrm{(1/m)}\n &s_{2} &= 0{,}117 \\; \\;\\textrm{(m)}\\end{aligned}\n\\]"
     },
     "metadata": {}
    }
   ],
   "source": [
    "%%render params\n",
    "D = 0.0445      #m\n",
    "t_tr = 0.0029   #m\n",
    "d = D-2*t_tr    #m\n",
    "h_z = 0.000     #m\n",
    "t_z = 0.000     #m\n",
    "s_z = 0.000     #m\n",
    "n_z = 0         #1/m\n",
    "s_2 = 0.117     #m"
   ]
  },
  {
   "cell_type": "code",
   "execution_count": 113,
   "metadata": {},
   "outputs": [],
   "source": [
    "prehrivak2_input = {\n",
    "    'Hodnota':\n",
    "    [1000*D,1000*t_tr,1000*d,1000*h_z,1000*t_z,1000*s_z, n_z],\n",
    "\n",
    "    'Jednotka': \n",
    "    ['mm','mm','mm','mm','mm','mm','-']\n",
    "\n",
    "    }\n",
    "zkratky = ['D','t_tr','d','h_z','t_z','s_z','n_z']\n",
    "prehrivak2_table = pd.DataFrame(prehrivak2_input, index = zkratky)"
   ]
  },
  {
   "cell_type": "code",
   "execution_count": 114,
   "metadata": {},
   "outputs": [
    {
     "output_type": "execute_result",
     "data": {
      "text/plain": [
       "      Hodnota Jednotka\n",
       "D        44.5       mm\n",
       "t_tr      2.9       mm\n",
       "d        38.7       mm\n",
       "h_z       0.0       mm\n",
       "t_z       0.0       mm\n",
       "s_z       0.0       mm\n",
       "n_z       0.0        -"
      ],
      "text/html": "<div>\n<style scoped>\n    .dataframe tbody tr th:only-of-type {\n        vertical-align: middle;\n    }\n\n    .dataframe tbody tr th {\n        vertical-align: top;\n    }\n\n    .dataframe thead th {\n        text-align: right;\n    }\n</style>\n<table border=\"1\" class=\"dataframe\">\n  <thead>\n    <tr style=\"text-align: right;\">\n      <th></th>\n      <th>Hodnota</th>\n      <th>Jednotka</th>\n    </tr>\n  </thead>\n  <tbody>\n    <tr>\n      <th>D</th>\n      <td>44.5</td>\n      <td>mm</td>\n    </tr>\n    <tr>\n      <th>t_tr</th>\n      <td>2.9</td>\n      <td>mm</td>\n    </tr>\n    <tr>\n      <th>d</th>\n      <td>38.7</td>\n      <td>mm</td>\n    </tr>\n    <tr>\n      <th>h_z</th>\n      <td>0.0</td>\n      <td>mm</td>\n    </tr>\n    <tr>\n      <th>t_z</th>\n      <td>0.0</td>\n      <td>mm</td>\n    </tr>\n    <tr>\n      <th>s_z</th>\n      <td>0.0</td>\n      <td>mm</td>\n    </tr>\n    <tr>\n      <th>n_z</th>\n      <td>0.0</td>\n      <td>-</td>\n    </tr>\n  </tbody>\n</table>\n</div>"
     },
     "metadata": {},
     "execution_count": 114
    }
   ],
   "source": [
    "prehrivak2_table\n",
    "\n",
    "# print(prehrivak2_table.to_latex())"
   ]
  },
  {
   "cell_type": "code",
   "execution_count": 115,
   "metadata": {},
   "outputs": [
    {
     "output_type": "display_data",
     "data": {
      "text/plain": "<IPython.core.display.Latex object>",
      "text/latex": "\\[\n\\begin{aligned}\na &= 4{,}350 \\times 10 ^ {-2 } \\; \\;\\textrm{(m)}\n\\end{aligned}\n\\]"
     },
     "metadata": {}
    }
   ],
   "source": [
    "%%render\n",
    "# zvoleno tak, aby rozteč byla stejná jako u přehříváku 1\n",
    "a = 0.0435  #m"
   ]
  },
  {
   "cell_type": "code",
   "execution_count": 116,
   "metadata": {},
   "outputs": [
    {
     "output_type": "display_data",
     "data": {
      "text/plain": "<IPython.core.display.Latex object>",
      "text/latex": "\\[\n\\begin{aligned}\ns_{1} &= D + a  = 4{,}450 \\times 10 ^ {-2 } + 4{,}350 \\times 10 ^ {-2 } &= 0{,}088  \n\\\\[10pt]\ns_{2} &= 0{,}117 \\; \n\\end{aligned}\n\\]"
     },
     "metadata": {}
    }
   ],
   "source": [
    "%%render\n",
    "s_1 = D+a\n",
    "s_2 = 0.117"
   ]
  },
  {
   "source": [
    "### Rozměry trubek"
   ],
   "cell_type": "markdown",
   "metadata": {}
  },
  {
   "cell_type": "code",
   "execution_count": 117,
   "metadata": {},
   "outputs": [
    {
     "output_type": "display_data",
     "data": {
      "text/plain": "<IPython.core.display.Latex object>",
      "text/latex": "\\[\n\\begin{aligned}\nn_{tr} &= \\frac{ \\mathrm{sirka} }{ s_{1} }  = \\frac{ 3{,}0 }{ 0{,}088 } &= 34{,}091  \n\\end{aligned}\n\\]"
     },
     "metadata": {}
    }
   ],
   "source": [
    "%%render\n",
    "n_tr = sirka/s_1"
   ]
  },
  {
   "cell_type": "code",
   "execution_count": 118,
   "metadata": {},
   "outputs": [],
   "source": [
    "n_tr = round(n_tr,0)"
   ]
  },
  {
   "source": [
    "#### Pára"
   ],
   "cell_type": "markdown",
   "metadata": {}
  },
  {
   "cell_type": "code",
   "execution_count": 119,
   "metadata": {},
   "outputs": [
    {
     "output_type": "display_data",
     "data": {
      "text/plain": "<IPython.core.display.Latex object>",
      "text/latex": "\\[\n\\begin{aligned}\nt_{21} &= \\frac{ t_{1} + t_{2} }{ 2 }  = \\frac{ 370 + 332{,}731 }{ 2 } &= 351{,}366 \\; \\;\\textrm{(°C)}\n\\\\[10pt]\np_{21} &= \\frac{ p_{1} + p_{2} }{ 2 }  = \\frac{ 3{,}1 + 3{,}33 }{ 2 } &= 3{,}215 \\; \\;\\textrm{(MPa)}\n\\end{aligned}\n\\]"
     },
     "metadata": {}
    }
   ],
   "source": [
    "%%render\n",
    "t_21 = (t_1+t_2)/2  #°C\n",
    "p_21 = (p_1+p_2)/2  #MPa"
   ]
  },
  {
   "cell_type": "code",
   "execution_count": 120,
   "metadata": {},
   "outputs": [
    {
     "output_type": "display_data",
     "data": {
      "text/plain": "<IPython.core.display.Latex object>",
      "text/latex": "\\[\n\\begin{aligned}\nv_{21} &= \\mathrm{steam.v}_{pt} { \\left( p_{21} \\cdot 10 ,\\ t_{21} \\right) }  = steam.v_{pt} { \\left( 3{,}215 \\cdot 10 ,\\ 351{,}366 \\right) } &= 8{,}435 \\times 10 ^ {-2 } \\; \\;\\textrm{(m3/kg)}\n\\end{aligned}\n\\]"
     },
     "metadata": {}
    }
   ],
   "source": [
    "%%render\n",
    "v_21 = steam.v_pt(p_21*10,t_21)    #m3/kg"
   ]
  },
  {
   "cell_type": "code",
   "execution_count": 121,
   "metadata": {},
   "outputs": [
    {
     "output_type": "display_data",
     "data": {
      "text/plain": "<IPython.core.display.Latex object>",
      "text/latex": "\\[\n\\begin{aligned}\nw_{p} &= 4 \\cdot \\frac{ m_{p} \\cdot v_{21} }{ \\pi \\cdot \\left( d \\right) ^{ 2 } \\cdot n_{tr} } \\\\&= 4 \\cdot \\frac{ 21{,}111 \\cdot 8{,}435 \\times 10 ^ {-2 } }{ 3{,}142 \\cdot \\left( 3{,}870 \\times 10 ^ {-2 } \\right) ^{ 2 } \\cdot 34{,}0 } \\\\&= 44{,}527 \\; \\;\\textrm{(m/s)}\\\\\n\\end{aligned}\n\\]"
     },
     "metadata": {}
    }
   ],
   "source": [
    "%%render\n",
    "w_p = 4*(m_p*v_21)/(pi*d**2*n_tr)   #m/s"
   ]
  },
  {
   "source": [
    "#### Spaliny"
   ],
   "cell_type": "markdown",
   "metadata": {}
  },
  {
   "cell_type": "code",
   "execution_count": 122,
   "metadata": {},
   "outputs": [
    {
     "output_type": "display_data",
     "data": {
      "text/plain": "<IPython.core.display.Latex object>",
      "text/latex": "\\[\n\\begin{aligned}\nt_{AB} &= \\frac{ t_{A} + t_{B} }{ 2 }  = \\frac{ 562{,}0 + 549 }{ 2 } &= 555{,}5 \\; \\;\\textrm{(°C)}\n\\end{aligned}\n\\]"
     },
     "metadata": {}
    }
   ],
   "source": [
    "%%render\n",
    "t_AB = (t_A+t_B)/2  #°C"
   ]
  },
  {
   "source": [
    "Skutečný objemový průtok spalin"
   ],
   "cell_type": "markdown",
   "metadata": {}
  },
  {
   "cell_type": "code",
   "execution_count": 123,
   "metadata": {},
   "outputs": [
    {
     "output_type": "display_data",
     "data": {
      "text/plain": "<IPython.core.display.Latex object>",
      "text/latex": "\\[\n\\begin{aligned}\nV_{sp_{skut}} &= V_{sp} \\cdot \\left( \\frac{ t_{AB} + 273{,}15 }{ 273{,}15 } \\right)  = 102{,}534 \\cdot \\left( \\frac{ 555{,}5 + 273{,}15 }{ 273{,}15 } \\right) &= 311{,}054 \\; \\;\\textrm{(m3/s)}\n\\end{aligned}\n\\]"
     },
     "metadata": {}
    }
   ],
   "source": [
    "%%render\n",
    "V_sp_skut = V_sp * ((t_AB+273.15)/273.15)   #m3/s"
   ]
  },
  {
   "source": [
    "Skutečný průřez spalinového kanálu"
   ],
   "cell_type": "markdown",
   "metadata": {}
  },
  {
   "cell_type": "code",
   "execution_count": 124,
   "metadata": {},
   "outputs": [
    {
     "output_type": "display_data",
     "data": {
      "text/plain": "<IPython.core.display.Latex object>",
      "text/latex": "\\[\n\\begin{aligned}\nS_{kan} &= H \\cdot \\left( \\mathrm{sirka} - n_{tr} \\cdot D \\right)  = 27{,}0 \\cdot \\left( 3{,}0 - 34{,}0 \\cdot 4{,}450 \\times 10 ^ {-2 } \\right) &= 40{,}149 \\; \\;\\textrm{(m2)}\n\\end{aligned}\n\\]"
     },
     "metadata": {}
    }
   ],
   "source": [
    "%%render\n",
    "S_kan = H*(sirka-n_tr*D)    #m2"
   ]
  },
  {
   "source": [
    "Rychlost spalin"
   ],
   "cell_type": "markdown",
   "metadata": {}
  },
  {
   "cell_type": "code",
   "execution_count": 125,
   "metadata": {},
   "outputs": [
    {
     "output_type": "display_data",
     "data": {
      "text/plain": "<IPython.core.display.Latex object>",
      "text/latex": "\\[\n\\begin{aligned}\nw_{sp} &= \\frac{ V_{sp_{skut}} }{ S_{kan} }  = \\frac{ 311{,}054 }{ 40{,}149 } &= 7{,}747 \\; \\;\\textrm{(m/s)}\n\\end{aligned}\n\\]"
     },
     "metadata": {}
    }
   ],
   "source": [
    "%%render\n",
    "w_sp = V_sp_skut/S_kan  #m/s"
   ]
  },
  {
   "source": [
    "### Součinitel přestupu tepla ze strany spalin"
   ],
   "cell_type": "markdown",
   "metadata": {}
  },
  {
   "cell_type": "code",
   "execution_count": 126,
   "metadata": {},
   "outputs": [
    {
     "output_type": "display_data",
     "data": {
      "text/plain": "<IPython.core.display.Latex object>",
      "text/latex": "\\[\n\\begin{aligned}\nc_{t} &= 1 \\; \n\\\\[10pt]\nc_{l} &= 1 \\; \n\\\\[10pt]\nc_{m} &= 1 \\; \n\\end{aligned}\n\\]"
     },
     "metadata": {}
    }
   ],
   "source": [
    "%%render\n",
    "c_t = 1\n",
    "c_l = 1\n",
    "c_m = 1"
   ]
  },
  {
   "cell_type": "code",
   "execution_count": 127,
   "metadata": {},
   "outputs": [],
   "source": [
    "Pr_0 = 0.69+(8-5)*((0.72-0.69)/(10-5))\n",
    "Pr_100 = 0.67+(8-5)*((0.69-0.67)/(10-5))\n",
    "Pr_200 = 0.65+(8-5)*((0.67-0.65)/(10-5))\n",
    "Pr_300 = 0.63+(8-5)*((0.65-0.63)/(10-5))\n",
    "Pr_400 = 0.62+(8-5)*((0.64-0.62)/(10-5))\n",
    "Pr_500 = 0.61+(8-5)*((0.63-0.61)/(10-5))\n",
    "Pr_600 = 0.60+(8-5)*((0.62-0.60)/(10-5))\n",
    "\n",
    "Pr_tabulka = pd.DataFrame(\n",
    "{\n",
    "        \"T [°C]\": (0,100,200,300,400,500,600),\n",
    "        \"5 % H2O\": (0.69,0.67,0.65,0.63,0.62,0.61,0.60),\n",
    "        \"8 % H2O\": (Pr_0,Pr_100,Pr_200,Pr_300,Pr_400,Pr_500,Pr_600),\n",
    "        \"10 % H2O\": (0.72,0.69,0.67,0.65,0.64,0.63,0.62),\n",
    "    }\n",
    ")\n",
    "Pr_tabulka_print = Pr_tabulka.set_index(Pr_tabulka.columns[0])"
   ]
  },
  {
   "cell_type": "code",
   "execution_count": 128,
   "metadata": {},
   "outputs": [
    {
     "output_type": "execute_result",
     "data": {
      "text/plain": [
       "        5 % H2O  8 % H2O  10 % H2O\n",
       "T [°C]                            \n",
       "0          0.69    0.708      0.72\n",
       "100        0.67    0.682      0.69\n",
       "200        0.65    0.662      0.67\n",
       "300        0.63    0.642      0.65\n",
       "400        0.62    0.632      0.64\n",
       "500        0.61    0.622      0.63\n",
       "600        0.60    0.612      0.62"
      ],
      "text/html": "<div>\n<style scoped>\n    .dataframe tbody tr th:only-of-type {\n        vertical-align: middle;\n    }\n\n    .dataframe tbody tr th {\n        vertical-align: top;\n    }\n\n    .dataframe thead th {\n        text-align: right;\n    }\n</style>\n<table border=\"1\" class=\"dataframe\">\n  <thead>\n    <tr style=\"text-align: right;\">\n      <th></th>\n      <th>5 % H2O</th>\n      <th>8 % H2O</th>\n      <th>10 % H2O</th>\n    </tr>\n    <tr>\n      <th>T [°C]</th>\n      <th></th>\n      <th></th>\n      <th></th>\n    </tr>\n  </thead>\n  <tbody>\n    <tr>\n      <th>0</th>\n      <td>0.69</td>\n      <td>0.708</td>\n      <td>0.72</td>\n    </tr>\n    <tr>\n      <th>100</th>\n      <td>0.67</td>\n      <td>0.682</td>\n      <td>0.69</td>\n    </tr>\n    <tr>\n      <th>200</th>\n      <td>0.65</td>\n      <td>0.662</td>\n      <td>0.67</td>\n    </tr>\n    <tr>\n      <th>300</th>\n      <td>0.63</td>\n      <td>0.642</td>\n      <td>0.65</td>\n    </tr>\n    <tr>\n      <th>400</th>\n      <td>0.62</td>\n      <td>0.632</td>\n      <td>0.64</td>\n    </tr>\n    <tr>\n      <th>500</th>\n      <td>0.61</td>\n      <td>0.622</td>\n      <td>0.63</td>\n    </tr>\n    <tr>\n      <th>600</th>\n      <td>0.60</td>\n      <td>0.612</td>\n      <td>0.62</td>\n    </tr>\n  </tbody>\n</table>\n</div>"
     },
     "metadata": {},
     "execution_count": 128
    }
   ],
   "source": [
    "Pr_tabulka_print\n",
    "\n",
    "# print(Pr_tabulka_print.to_latex())"
   ]
  },
  {
   "cell_type": "code",
   "execution_count": 129,
   "metadata": {},
   "outputs": [],
   "source": [
    "lambda_AB = lambda_interpolate(t_AB)\n",
    "nu_AB = nu_interpolate(t_AB)\n",
    "Pr_AB = Pr_interpolate(t_AB)"
   ]
  },
  {
   "source": [
    "Ekvivalentní průměr"
   ],
   "cell_type": "markdown",
   "metadata": {}
  },
  {
   "cell_type": "code",
   "execution_count": 130,
   "metadata": {},
   "outputs": [
    {
     "output_type": "display_data",
     "data": {
      "text/plain": "<IPython.core.display.Latex object>",
      "text/latex": "\\[\n\\begin{aligned}\nd_{e} &= 4{,}450 \\times 10 ^ {-2 } \\; \n\\end{aligned}\n\\]"
     },
     "metadata": {}
    }
   ],
   "source": [
    "%%render\n",
    "d_e = D #(4*S_kan)/(2*H+2*sirka)   #m"
   ]
  },
  {
   "cell_type": "code",
   "execution_count": 131,
   "metadata": {},
   "outputs": [
    {
     "output_type": "display_data",
     "data": {
      "text/plain": "<IPython.core.display.Latex object>",
      "text/latex": "\\[\n\\begin{aligned}\n\\alpha_{k} &= 0{,}023 \\cdot \\left( \\frac{ \\mathrm{lambda}_{AB} }{ d_{e} } \\right) \\cdot \\left( \\frac{ w_{sp} \\cdot d_{e} }{ \\nu_{AB} } \\right) ^{ 0{,}8 } \\cdot \\left( \\mathrm{Pr}_{AB} \\right) ^{ 0{,}4 } \\cdot c_{t} \\cdot c_{l} \\cdot c_{m} \\\\&= 0{,}023 \\cdot \\left( \\frac{ 6{,}847 \\times 10 ^ {-2 } }{ 4{,}450 \\times 10 ^ {-2 } } \\right) \\cdot \\left( \\frac{ 7{,}747 \\cdot 4{,}450 \\times 10 ^ {-2 } }{ 8{,}511 \\times 10 ^ {-5 } } \\right) ^{ 0{,}8 } \\cdot \\left( 6{,}164 \\times 10 ^ {-1 } \\right) ^{ 0{,}4 } \\cdot 1 \\cdot 1 \\cdot 1 \\\\&= 22{,}431 \\; \\;\\textrm{(W/m2K)}\\\\\n\\end{aligned}\n\\]"
     },
     "metadata": {}
    }
   ],
   "source": [
    "%%render\n",
    "alpha_k = 0.023*(lambda_AB/d_e)*((w_sp*d_e)/nu_AB)**0.8 * Pr_AB**0.4*c_t*c_l*c_m    #W/m2K"
   ]
  },
  {
   "source": [
    "### Výpočet součinitele přestupu tepla ze strany páry"
   ],
   "cell_type": "markdown",
   "metadata": {}
  },
  {
   "source": [
    "Určení termofyzikálních vlastností páry"
   ],
   "cell_type": "markdown",
   "metadata": {}
  },
  {
   "cell_type": "code",
   "execution_count": 132,
   "metadata": {},
   "outputs": [
    {
     "output_type": "display_data",
     "data": {
      "text/plain": "<IPython.core.display.Latex object>",
      "text/latex": "\\[\n\\begin{aligned}\n\\mathrm{lambda}_{21} &= 5{,}253 \\times 10 ^ {-2 } \\; \\;\\textrm{(W/mK)}\n &\\mu_{21} &= 2{,}225 \\times 10 ^ {-5 } \\; \\;\\textrm{(Pas)}\n &\\mathrm{Pr}_{21} &= 1{,}008 \\; \\;\\textrm{(-)}\n\\\\[10pt]\n \\nu_{21} &= 1{,}877 \\times 10 ^ {-6 } \\; \\;\\textrm{(m2/s)}\\end{aligned}\n\\]"
     },
     "metadata": {}
    }
   ],
   "source": [
    "%%render params\n",
    "\n",
    "lambda_21 = steam.tc_pt(p_21*10, t_21)  #W/mK\n",
    "mu_21 = steam.my_pt(p_21*10, t_21)      #Pas\n",
    "Pr_21 = steam.pr_pt(p_21*10, t_21)      #-\n",
    "nu_21 = mu_21*v_21                      #m2/s"
   ]
  },
  {
   "cell_type": "code",
   "execution_count": 133,
   "metadata": {},
   "outputs": [
    {
     "output_type": "display_data",
     "data": {
      "text/plain": "<IPython.core.display.Latex object>",
      "text/latex": "\\[\n\\begin{aligned}\n\\alpha_{2r} &= 0{,}023 \\cdot \\left( \\frac{ \\mathrm{lambda}_{21} }{ d } \\right) \\cdot \\left( \\frac{ w_{p} \\cdot d }{ \\nu_{21} } \\right) ^{ 0{,}8 } \\cdot \\left( \\mathrm{Pr}_{21} \\right) ^{ 0{,}4 } \\cdot c_{t} \\cdot c_{l} \\cdot c_{m} \\\\&= 0{,}023 \\cdot \\left( \\frac{ 5{,}253 \\times 10 ^ {-2 } }{ 3{,}870 \\times 10 ^ {-2 } } \\right) \\cdot \\left( \\frac{ 44{,}527 \\cdot 3{,}870 \\times 10 ^ {-2 } }{ 1{,}877 \\times 10 ^ {-6 } } \\right) ^{ 0{,}8 } \\cdot \\left( 1{,}008 \\right) ^{ 0{,}4 } \\cdot 1 \\cdot 1 \\cdot 1 \\\\&= 1845{,}433 \\; \\;\\textrm{(W/m2K)}\\\\\n\\end{aligned}\n\\]"
     },
     "metadata": {}
    }
   ],
   "source": [
    "%%render\n",
    "alpha_2r = 0.023*(lambda_21/d)*((w_p*d)/nu_21)**0.8*Pr_21**0.4*c_t*c_l*c_m  #W/m2K"
   ]
  },
  {
   "source": [
    "### Součinitel prostupu tepla"
   ],
   "cell_type": "markdown",
   "metadata": {}
  },
  {
   "cell_type": "code",
   "execution_count": 134,
   "metadata": {},
   "outputs": [
    {
     "output_type": "display_data",
     "data": {
      "text/plain": "<IPython.core.display.Latex object>",
      "text/latex": "\\[\n\\begin{aligned}\n\\psi &= 0{,}85 \\; \n\\end{aligned}\n\\]"
     },
     "metadata": {}
    }
   ],
   "source": [
    "%%render\n",
    "# součinitel tepelné efektivnosti (Pro plyny je 0.85 na všech plochách. DLOUHÝ, str. 125)\n",
    "psi = 0.85"
   ]
  },
  {
   "cell_type": "code",
   "execution_count": 135,
   "metadata": {},
   "outputs": [
    {
     "output_type": "display_data",
     "data": {
      "text/plain": "<IPython.core.display.Latex object>",
      "text/latex": "\\[\n\\begin{aligned}\nk &= \\frac{ \\psi \\cdot \\alpha_{k} }{ 1 + \\frac{ \\alpha_{k} }{ \\alpha_{2r} } }  = \\frac{ 0{,}85 \\cdot 22{,}431 }{ 1 + \\frac{ 22{,}431 }{ 1845{,}433 } } &= 18{,}837 \\; \\;\\textrm{(W/m2K)}\n\\end{aligned}\n\\]"
     },
     "metadata": {}
    }
   ],
   "source": [
    "%%render\n",
    "k = (psi*alpha_k)/(1+alpha_k/alpha_2r)  #W/m2K"
   ]
  },
  {
   "source": [
    "### Počet řad přehříváku"
   ],
   "cell_type": "markdown",
   "metadata": {}
  },
  {
   "cell_type": "code",
   "execution_count": 136,
   "metadata": {},
   "outputs": [
    {
     "output_type": "display_data",
     "data": {
      "text/plain": "<IPython.core.display.Latex object>",
      "text/latex": "\\[\n\\begin{aligned}\n\\Delta_{t_{1}} &= t_{A} - t_{1}  = 562{,}0 - 370 &= 192{,}0  \n\\\\[10pt]\n\\Delta_{t_{2}} &= t_{B} - t_{2}  = 549 - 332{,}731 &= 216{,}269  \n\\end{aligned}\n\\]"
     },
     "metadata": {}
    }
   ],
   "source": [
    "%%render\n",
    "Delta_t_1 = t_A-t_1\n",
    "Delta_t_2 = t_B-t_2"
   ]
  },
  {
   "source": [
    "Střední logaritmický teplotní spád"
   ],
   "cell_type": "markdown",
   "metadata": {}
  },
  {
   "cell_type": "code",
   "execution_count": 137,
   "metadata": {},
   "outputs": [
    {
     "output_type": "display_data",
     "data": {
      "text/plain": "<IPython.core.display.Latex object>",
      "text/latex": "\\[\n\\begin{aligned}\n\\Delta_{t_{LN}} &= \\frac{ \\Delta_{t_{1}} - \\Delta_{t_{2}} }{ \\ln \\left( \\frac{ \\Delta_{t_{1}} }{ \\Delta_{t_{2}} } \\right) }  = \\frac{ 192{,}0 - 216{,}269 }{ \\ln \\left( \\frac{ 192{,}0 }{ 216{,}269 } \\right) } &= 203{,}894 \\; \\;\\textrm{(K)}\n\\end{aligned}\n\\]"
     },
     "metadata": {}
    }
   ],
   "source": [
    "%%render\n",
    "Delta_t_LN = (Delta_t_1-Delta_t_2)/log(Delta_t_1/Delta_t_2) #K"
   ]
  },
  {
   "source": [
    "Vnější teplosměnná plocha"
   ],
   "cell_type": "markdown",
   "metadata": {}
  },
  {
   "cell_type": "code",
   "execution_count": 138,
   "metadata": {},
   "outputs": [
    {
     "output_type": "display_data",
     "data": {
      "text/plain": "<IPython.core.display.Latex object>",
      "text/latex": "\\[\n\\begin{aligned}\nS_{SP} &= \\frac{ 1000 \\cdot Q_{P2} }{ k \\cdot \\Delta_{t_{LN}} }  = \\frac{ 1000 \\cdot 1983{,}329 }{ 18{,}837 \\cdot 203{,}894 } &= 516{,}379 \\; \\;\\textrm{(m2)}\n\\end{aligned}\n\\]"
     },
     "metadata": {}
    }
   ],
   "source": [
    "%%render\n",
    "S_SP = (1000*Q_P2)/(k*Delta_t_LN)   #m2"
   ]
  },
  {
   "cell_type": "code",
   "execution_count": 139,
   "metadata": {},
   "outputs": [
    {
     "output_type": "display_data",
     "data": {
      "text/plain": "<IPython.core.display.Latex object>",
      "text/latex": "\\[\n\\begin{aligned}\nS_{1m} &= \\pi \\cdot D  = 3{,}142 \\cdot 4{,}450 \\times 10 ^ {-2 } &= 1{,}398 \\times 10 ^ {-1 } \\; \\;\\textrm{(m2)}\n\\end{aligned}\n\\]"
     },
     "metadata": {}
    }
   ],
   "source": [
    "%%render\n",
    "# Vnější povrch jedné 1 m dlouhé trubky\n",
    "S_1m = pi*D #m2"
   ]
  },
  {
   "cell_type": "code",
   "execution_count": 140,
   "metadata": {},
   "outputs": [
    {
     "output_type": "display_data",
     "data": {
      "text/plain": "<IPython.core.display.Latex object>",
      "text/latex": "\\[\n\\begin{aligned}\nn_{rad} &= \\frac{ S_{SP} }{ H \\cdot S_{1m} \\cdot n_{tr} }  = \\frac{ 516{,}379 }{ 27{,}0 \\cdot 1{,}398 \\times 10 ^ {-1 } \\cdot 34{,}0 } &= 4{,}024  \n\\end{aligned}\n\\]"
     },
     "metadata": {}
    }
   ],
   "source": [
    "%%render\n",
    "n_rad = S_SP/(H*S_1m*n_tr)"
   ]
  },
  {
   "cell_type": "code",
   "execution_count": 141,
   "metadata": {},
   "outputs": [],
   "source": [
    "n_rad = round(n_rad,0)"
   ]
  },
  {
   "source": [
    "### Skutečné hodnoty"
   ],
   "cell_type": "markdown",
   "metadata": {}
  },
  {
   "source": [
    "Plocha"
   ],
   "cell_type": "markdown",
   "metadata": {}
  },
  {
   "cell_type": "code",
   "execution_count": 142,
   "metadata": {},
   "outputs": [
    {
     "output_type": "display_data",
     "data": {
      "text/plain": "<IPython.core.display.Latex object>",
      "text/latex": "\\[\n\\begin{aligned}\nS_{SP_{skut}} &= n_{rad} \\cdot n_{tr} \\cdot H \\cdot S_{1m}  = 4{,}0 \\cdot 34{,}0 \\cdot 27{,}0 \\cdot 1{,}398 \\times 10 ^ {-1 } &= 513{,}349 \\; \\;\\textrm{(m2)}\n\\end{aligned}\n\\]"
     },
     "metadata": {}
    }
   ],
   "source": [
    "%%render\n",
    "S_SP_skut = n_rad*n_tr*H*S_1m   #m2"
   ]
  },
  {
   "source": [
    "Teplo"
   ],
   "cell_type": "markdown",
   "metadata": {}
  },
  {
   "cell_type": "code",
   "execution_count": 143,
   "metadata": {},
   "outputs": [
    {
     "output_type": "display_data",
     "data": {
      "text/plain": "<IPython.core.display.Latex object>",
      "text/latex": "\\[\n\\begin{aligned}\nQ_{P2_{skut}} &= \\frac{ k \\cdot S_{SP_{skut}} \\cdot \\Delta_{t_{LN}} }{ 1000 }  = \\frac{ 18{,}837 \\cdot 513{,}349 \\cdot 203{,}894 }{ 1000 } &= 1971{,}69 \\; \\;\\textrm{(kW)}\n\\end{aligned}\n\\]"
     },
     "metadata": {}
    }
   ],
   "source": [
    "%%render\n",
    "Q_P2_skut = (k*S_SP_skut*Delta_t_LN)/1000   #kW"
   ]
  },
  {
   "source": [
    "Kontrola (rozdíl tepel nesmí překročit 5 %)"
   ],
   "cell_type": "markdown",
   "metadata": {}
  },
  {
   "cell_type": "code",
   "execution_count": 144,
   "metadata": {},
   "outputs": [
    {
     "output_type": "display_data",
     "data": {
      "text/plain": "<IPython.core.display.Latex object>",
      "text/latex": "\\[\n\\begin{aligned}\n\\Delta_{Qcon} &= 100 \\cdot \\operatorname{abs} { \\left( \\frac{ Q_{P1_{skut}} - Q_{P1} }{ Q_{P1_{skut}} } \\right) }  = 100 \\cdot \\operatorname{abs} { \\left( \\frac{ 6182{,}346 - 6243{,}705 }{ 6182{,}346 } \\right) } &= 9{,}925 \\times 10 ^ {-1 } \\; \\;\\textrm{(%)}\n\\end{aligned}\n\\]"
     },
     "metadata": {}
    }
   ],
   "source": [
    "%%render\n",
    "Delta_Qcon = 100*(abs((Q_P1_skut-Q_P1)/Q_P1_skut))    #%"
   ]
  },
  {
   "source": [
    "Skutečné parametry spalin"
   ],
   "cell_type": "markdown",
   "metadata": {}
  },
  {
   "cell_type": "code",
   "execution_count": 145,
   "metadata": {},
   "outputs": [
    {
     "output_type": "display_data",
     "data": {
      "text/plain": "<IPython.core.display.Latex object>",
      "text/latex": "\\[\n\\begin{aligned}\nI_{B_{skut}} &= I_{A_{sp}} - \\frac{ Q_{P2_{skut}} }{ V_{sp} \\cdot \\left( 1 - z_{s} \\right) }  = 782{,}789 - \\frac{ 1971{,}69 }{ 102{,}534 \\cdot \\left( 1 - 3{,}072 \\times 10 ^ {-3 } \\right) } &= 763{,}5 \\; \\;\\textrm{(kJ/m3)}\n\\end{aligned}\n\\]"
     },
     "metadata": {}
    }
   ],
   "source": [
    "%%render\n",
    "I_B_skut = I_A_sp - Q_P2_skut/(V_sp*(1-z_s))    #kJ/m3"
   ]
  },
  {
   "cell_type": "code",
   "execution_count": 146,
   "metadata": {},
   "outputs": [
    {
     "output_type": "display_data",
     "data": {
      "text/plain": "<IPython.core.display.Latex object>",
      "text/latex": "\\[\n\\begin{aligned}\nT_{B_{skut}} &= 500 + \\left( 600 - 500 \\right) &= 548{,}686 \\; \\;\\textrm{(°C)}\n\\end{aligned}\n\\]"
     },
     "metadata": {}
    }
   ],
   "source": [
    "%%render\n",
    "T_B_skut = 500 + (600-500)*((I_B_skut-entalpie_sp(500,'m3n')['sp'])/(entalpie_sp(600,'m3n')['sp']-entalpie_sp(500,'m3n')['sp']))    #°C"
   ]
  },
  {
   "source": [
    "Kontrola (teploty se nesmí lišit o více než 3 °C)"
   ],
   "cell_type": "markdown",
   "metadata": {}
  },
  {
   "cell_type": "code",
   "execution_count": 147,
   "metadata": {},
   "outputs": [
    {
     "output_type": "display_data",
     "data": {
      "text/plain": "<IPython.core.display.Latex object>",
      "text/latex": "\\[\n\\begin{aligned}\n\\Delta_{Tcon} &= \\operatorname{abs} { \\left( T_{B_{skut}} - t_{B} \\right) }  = \\operatorname{abs} { \\left( 548{,}686 - 549 \\right) } &= 3{,}141 \\times 10 ^ {-1 } \\; \\;\\textrm{(°C)}\n\\end{aligned}\n\\]"
     },
     "metadata": {}
    }
   ],
   "source": [
    "%%render\n",
    "Delta_Tcon = abs(T_B_skut-t_B)  #°C"
   ]
  },
  {
   "cell_type": "code",
   "execution_count": 148,
   "metadata": {},
   "outputs": [],
   "source": [
    "MEZERA = ''\n",
    "material = '10CrMo9-10'\n",
    "data_P2 = {\n",
    "    'Hodnota':\n",
    "    [1000*D,1000*t_tr,1000*d,1000*h_z,1000*t_z,1000*s_z, n_z,1000*s_1,1000*s_2,S_1m,S_SP, MEZERA,alpha_k,mu,psi,alpha_2r,k,Delta_t_LN,MEZERA,Delta_Qcon,Delta_Tcon,MEZERA,n_tr,n_rad,material],\n",
    "\n",
    "    'Jednotka': \n",
    "    ['mm','mm','mm','mm','mm','mm','-','mm','mm','m2','m2',MEZERA,'kW/m2K','-','-','kW/m2K','kW/m2K','K',MEZERA,'%','K',MEZERA,'-','-','-']\n",
    "\n",
    "    }\n",
    "zkratky = ['D','t_tr','d','h_z','t_z','s_z','n_z','s_1','s_2','S_1m','S_SP',MEZERA,'alpha_k','mu','psi','alpha_2r','k','Delta_t_LN',MEZERA,'Delta_Qcon','Delta_Tcon',MEZERA,'n_tr','n_rad','Materiál']\n",
    "output_table = pd.DataFrame(data_P2, index = zkratky)"
   ]
  },
  {
   "cell_type": "code",
   "execution_count": 149,
   "metadata": {},
   "outputs": [
    {
     "output_type": "execute_result",
     "data": {
      "text/plain": [
       "               Hodnota Jednotka\n",
       "D                 44.5       mm\n",
       "t_tr               2.9       mm\n",
       "d                 38.7       mm\n",
       "h_z                  0       mm\n",
       "t_z                  0       mm\n",
       "s_z                  0       mm\n",
       "n_z                  0        -\n",
       "s_1                 88       mm\n",
       "s_2                117       mm\n",
       "S_1m              0.14       m2\n",
       "S_SP               516       m2\n",
       "                               \n",
       "alpha_k           22.4   kW/m2K\n",
       "mu                   1        -\n",
       "psi               0.85        -\n",
       "alpha_2r      1.85e+03   kW/m2K\n",
       "k                 18.8   kW/m2K\n",
       "Delta_t_LN         204        K\n",
       "                               \n",
       "Delta_Qcon       0.992        %\n",
       "Delta_Tcon       0.314        K\n",
       "                               \n",
       "n_tr                34        -\n",
       "n_rad                4        -\n",
       "Materiál    10CrMo9-10        -"
      ],
      "text/html": "<div>\n<style scoped>\n    .dataframe tbody tr th:only-of-type {\n        vertical-align: middle;\n    }\n\n    .dataframe tbody tr th {\n        vertical-align: top;\n    }\n\n    .dataframe thead th {\n        text-align: right;\n    }\n</style>\n<table border=\"1\" class=\"dataframe\">\n  <thead>\n    <tr style=\"text-align: right;\">\n      <th></th>\n      <th>Hodnota</th>\n      <th>Jednotka</th>\n    </tr>\n  </thead>\n  <tbody>\n    <tr>\n      <th>D</th>\n      <td>44.5</td>\n      <td>mm</td>\n    </tr>\n    <tr>\n      <th>t_tr</th>\n      <td>2.9</td>\n      <td>mm</td>\n    </tr>\n    <tr>\n      <th>d</th>\n      <td>38.7</td>\n      <td>mm</td>\n    </tr>\n    <tr>\n      <th>h_z</th>\n      <td>0</td>\n      <td>mm</td>\n    </tr>\n    <tr>\n      <th>t_z</th>\n      <td>0</td>\n      <td>mm</td>\n    </tr>\n    <tr>\n      <th>s_z</th>\n      <td>0</td>\n      <td>mm</td>\n    </tr>\n    <tr>\n      <th>n_z</th>\n      <td>0</td>\n      <td>-</td>\n    </tr>\n    <tr>\n      <th>s_1</th>\n      <td>88</td>\n      <td>mm</td>\n    </tr>\n    <tr>\n      <th>s_2</th>\n      <td>117</td>\n      <td>mm</td>\n    </tr>\n    <tr>\n      <th>S_1m</th>\n      <td>0.14</td>\n      <td>m2</td>\n    </tr>\n    <tr>\n      <th>S_SP</th>\n      <td>516</td>\n      <td>m2</td>\n    </tr>\n    <tr>\n      <th></th>\n      <td></td>\n      <td></td>\n    </tr>\n    <tr>\n      <th>alpha_k</th>\n      <td>22.4</td>\n      <td>kW/m2K</td>\n    </tr>\n    <tr>\n      <th>mu</th>\n      <td>1</td>\n      <td>-</td>\n    </tr>\n    <tr>\n      <th>psi</th>\n      <td>0.85</td>\n      <td>-</td>\n    </tr>\n    <tr>\n      <th>alpha_2r</th>\n      <td>1.85e+03</td>\n      <td>kW/m2K</td>\n    </tr>\n    <tr>\n      <th>k</th>\n      <td>18.8</td>\n      <td>kW/m2K</td>\n    </tr>\n    <tr>\n      <th>Delta_t_LN</th>\n      <td>204</td>\n      <td>K</td>\n    </tr>\n    <tr>\n      <th></th>\n      <td></td>\n      <td></td>\n    </tr>\n    <tr>\n      <th>Delta_Qcon</th>\n      <td>0.992</td>\n      <td>%</td>\n    </tr>\n    <tr>\n      <th>Delta_Tcon</th>\n      <td>0.314</td>\n      <td>K</td>\n    </tr>\n    <tr>\n      <th></th>\n      <td></td>\n      <td></td>\n    </tr>\n    <tr>\n      <th>n_tr</th>\n      <td>34</td>\n      <td>-</td>\n    </tr>\n    <tr>\n      <th>n_rad</th>\n      <td>4</td>\n      <td>-</td>\n    </tr>\n    <tr>\n      <th>Materiál</th>\n      <td>10CrMo9-10</td>\n      <td>-</td>\n    </tr>\n  </tbody>\n</table>\n</div>"
     },
     "metadata": {},
     "execution_count": 149
    }
   ],
   "source": [
    "output_table\n",
    "\n",
    "# print(output_table.to_latex())"
   ]
  },
  {
   "source": [
    "# Výparník 1"
   ],
   "cell_type": "markdown",
   "metadata": {}
  },
  {
   "cell_type": "code",
   "execution_count": 199,
   "metadata": {},
   "outputs": [
    {
     "output_type": "display_data",
     "data": {
      "text/plain": "<IPython.core.display.Latex object>",
      "text/latex": "\\[\n\\begin{aligned}\nD &= 0{,}038 \\; \\;\\textrm{(m)}\n &t_{tr} &= 2{,}900 \\times 10 ^ {-3 } \\; \\;\\textrm{(m)}\n &d &= 3{,}220 \\times 10 ^ {-2 } \\; \\;\\textrm{(m)}\n\\\\[10pt]\n h_{z} &= 0{,}01 \\; \\;\\textrm{(m)}\n &t_{z} &= 0{,}001 \\; \\;\\textrm{(m)}\n &s_{z} &= 0{,}005 \\; \\;\\textrm{(m)}\n\\\\[10pt]\n n_{z} &= 240 \\; \\;\\textrm{(1/m)}\n &s_{2} &= 0{,}088 \\; \\;\\textrm{(m)}\\end{aligned}\n\\]"
     },
     "metadata": {}
    }
   ],
   "source": [
    "%%render params\n",
    "D = 0.0380      #m\n",
    "t_tr = 0.0029   #m\n",
    "d = D-2*t_tr    #m\n",
    "h_z = 0.010     #m\n",
    "t_z = 0.001     #m\n",
    "s_z = 0.005     #m\n",
    "n_z = 240       #1/m\n",
    "s_2 = 0.088     #m"
   ]
  },
  {
   "cell_type": "code",
   "execution_count": 200,
   "metadata": {},
   "outputs": [],
   "source": [
    "vyparnik1_input = {\n",
    "    'Hodnota':\n",
    "    [1000*D,1000*t_tr,1000*d,1000*h_z,1000*t_z,1000*s_z, n_z],\n",
    "\n",
    "    'Jednotka': \n",
    "    ['mm','mm','mm','mm','mm','mm','-']\n",
    "\n",
    "    }\n",
    "zkratky = ['D','t_tr','d','h_z','t_z','s_z','n_z']\n",
    "vyparnik1_table = pd.DataFrame(vyparnik1_input, index = zkratky)"
   ]
  },
  {
   "cell_type": "code",
   "execution_count": 201,
   "metadata": {},
   "outputs": [
    {
     "output_type": "execute_result",
     "data": {
      "text/plain": [
       "      Hodnota Jednotka\n",
       "D        38.0       mm\n",
       "t_tr      2.9       mm\n",
       "d        32.2       mm\n",
       "h_z      10.0       mm\n",
       "t_z       1.0       mm\n",
       "s_z       5.0       mm\n",
       "n_z     240.0        -"
      ],
      "text/html": "<div>\n<style scoped>\n    .dataframe tbody tr th:only-of-type {\n        vertical-align: middle;\n    }\n\n    .dataframe tbody tr th {\n        vertical-align: top;\n    }\n\n    .dataframe thead th {\n        text-align: right;\n    }\n</style>\n<table border=\"1\" class=\"dataframe\">\n  <thead>\n    <tr style=\"text-align: right;\">\n      <th></th>\n      <th>Hodnota</th>\n      <th>Jednotka</th>\n    </tr>\n  </thead>\n  <tbody>\n    <tr>\n      <th>D</th>\n      <td>38.0</td>\n      <td>mm</td>\n    </tr>\n    <tr>\n      <th>t_tr</th>\n      <td>2.9</td>\n      <td>mm</td>\n    </tr>\n    <tr>\n      <th>d</th>\n      <td>32.2</td>\n      <td>mm</td>\n    </tr>\n    <tr>\n      <th>h_z</th>\n      <td>10.0</td>\n      <td>mm</td>\n    </tr>\n    <tr>\n      <th>t_z</th>\n      <td>1.0</td>\n      <td>mm</td>\n    </tr>\n    <tr>\n      <th>s_z</th>\n      <td>5.0</td>\n      <td>mm</td>\n    </tr>\n    <tr>\n      <th>n_z</th>\n      <td>240.0</td>\n      <td>-</td>\n    </tr>\n  </tbody>\n</table>\n</div>"
     },
     "metadata": {},
     "execution_count": 201
    }
   ],
   "source": [
    "vyparnik1_table\n",
    "\n",
    "# print(vyparnik1_table.to_latex())"
   ]
  },
  {
   "cell_type": "code",
   "execution_count": 202,
   "metadata": {},
   "outputs": [
    {
     "output_type": "display_data",
     "data": {
      "text/plain": "<IPython.core.display.Latex object>",
      "text/latex": "\\[\n\\begin{aligned}\nD_{z} &= D + 2 \\cdot h_{z}  = 0{,}038 + 2 \\cdot 0{,}01 &= 0{,}058 \\; \\;\\textrm{(m)}\n\\end{aligned}\n\\]"
     },
     "metadata": {}
    }
   ],
   "source": [
    "%%render\n",
    "D_z = D+2*h_z   #m"
   ]
  },
  {
   "cell_type": "code",
   "execution_count": 203,
   "metadata": {},
   "outputs": [],
   "source": [
    "a = 0.030   #m voleno tak, aby to vyšlo"
   ]
  },
  {
   "cell_type": "code",
   "execution_count": 204,
   "metadata": {},
   "outputs": [
    {
     "output_type": "display_data",
     "data": {
      "text/plain": "<IPython.core.display.Latex object>",
      "text/latex": "\\[\n\\begin{aligned}\ns_{1} &= D_{z} + a  = 0{,}058 + 0{,}03 &= 0{,}088  \n\\end{aligned}\n\\]"
     },
     "metadata": {}
    }
   ],
   "source": [
    "%%render\n",
    "s_1 = D_z+a"
   ]
  },
  {
   "cell_type": "code",
   "execution_count": 205,
   "metadata": {},
   "outputs": [
    {
     "output_type": "display_data",
     "data": {
      "text/plain": "<IPython.core.display.Latex object>",
      "text/latex": "\\[\n\\begin{aligned}\nn_{tr} &= \\frac{ \\mathrm{sirka} }{ s_{1} }  = \\frac{ 3{,}0 }{ 0{,}088 } &= 34{,}091  \n\\end{aligned}\n\\]"
     },
     "metadata": {}
    }
   ],
   "source": [
    "%%render\n",
    "n_tr = sirka/s_1"
   ]
  },
  {
   "cell_type": "code",
   "execution_count": 206,
   "metadata": {},
   "outputs": [],
   "source": [
    "n_tr = round(n_tr,0)"
   ]
  },
  {
   "source": [
    "Střední parametry spalin"
   ],
   "cell_type": "markdown",
   "metadata": {}
  },
  {
   "cell_type": "code",
   "execution_count": 207,
   "metadata": {},
   "outputs": [
    {
     "output_type": "display_data",
     "data": {
      "text/plain": "<IPython.core.display.Latex object>",
      "text/latex": "\\[\n\\begin{aligned}\nt_{45} &= \\frac{ t_{4} + t_{5} }{ 2 }  = \\frac{ 240{,}565 + 240{,}565 }{ 2 } &= 240{,}565 \\; \\;\\textrm{(°C)}\n\\\\[10pt]\np_{45} &= \\frac{ p_{4} + p_{5} }{ 2 }  = \\frac{ 3{,}38 + 3{,}38 }{ 2 } &= 3{,}38 \\; \\;\\textrm{(MPa)}\n\\end{aligned}\n\\]"
     },
     "metadata": {}
    }
   ],
   "source": [
    "%%render\n",
    "t_45 = (t_4+t_5)/2  #°C\n",
    "p_45 = (p_4+p_5)/2  #MPa"
   ]
  },
  {
   "cell_type": "code",
   "execution_count": 208,
   "metadata": {},
   "outputs": [
    {
     "output_type": "display_data",
     "data": {
      "text/plain": "<IPython.core.display.Latex object>",
      "text/latex": "\\[\n\\begin{aligned}\nv_{45} &= \\mathrm{steam.v}_{pt} { \\left( p_{45} \\cdot 10 ,\\ t_{45} \\right) }  = steam.v_{pt} { \\left( 3{,}38 \\cdot 10 ,\\ 240{,}565 \\right) } &= nan \\; \\;\\textrm{(m3/kg)}\n\\end{aligned}\n\\]"
     },
     "metadata": {}
    }
   ],
   "source": [
    "%%render\n",
    "v_45 = steam.v_pt(p_45*10,t_45)    #m3/kg"
   ]
  },
  {
   "cell_type": "code",
   "execution_count": 209,
   "metadata": {},
   "outputs": [
    {
     "output_type": "display_data",
     "data": {
      "text/plain": "<IPython.core.display.Latex object>",
      "text/latex": "\\[\n\\begin{aligned}\nt_{CD} &= \\frac{ t_{C} + t_{D} }{ 2 }  = \\frac{ 507 + 366 }{ 2 } &= 436{,}5 \\; \\;\\textrm{(°C)}\n\\end{aligned}\n\\]"
     },
     "metadata": {}
    }
   ],
   "source": [
    "%%render\n",
    "t_CD = (t_C+t_D)/2  #°C"
   ]
  },
  {
   "source": [
    "Skutečný objemový průtok spalin"
   ],
   "cell_type": "markdown",
   "metadata": {}
  },
  {
   "cell_type": "code",
   "execution_count": 210,
   "metadata": {},
   "outputs": [
    {
     "output_type": "display_data",
     "data": {
      "text/plain": "<IPython.core.display.Latex object>",
      "text/latex": "\\[\n\\begin{aligned}\nV_{sp_{skut}} &= V_{sp} \\cdot \\left( \\frac{ t_{CD} + 273{,}15 }{ 273{,}15 } \\right)  = 102{,}534 \\cdot \\left( \\frac{ 436{,}5 + 273{,}15 }{ 273{,}15 } \\right) &= 266{,}384 \\; \\;\\textrm{(m3/s)}\n\\end{aligned}\n\\]"
     },
     "metadata": {}
    }
   ],
   "source": [
    "%%render\n",
    "V_sp_skut = V_sp * ((t_CD+273.15)/273.15)   #m3/s"
   ]
  },
  {
   "source": [
    "Skutečný přůřez spalinového kanálu"
   ],
   "cell_type": "markdown",
   "metadata": {}
  },
  {
   "cell_type": "code",
   "execution_count": 211,
   "metadata": {},
   "outputs": [
    {
     "output_type": "display_data",
     "data": {
      "text/plain": "<IPython.core.display.Latex object>",
      "text/latex": "\\[\n\\begin{aligned}\nS_{kan} &= H \\cdot \\left( \\mathrm{sirka} - n_{tr} \\cdot D + 2 \\cdot h_{z} \\cdot t_{z} \\cdot n_{z} \\right) \\\\&= 27{,}0 \\cdot \\left( 3{,}0 - 34{,}0 \\cdot 0{,}038 + 2 \\cdot 0{,}01 \\cdot 0{,}001 \\cdot 240 \\right) \\\\&= 46{,}246 \\; \\;\\textrm{(m2)}\\\\\n\\end{aligned}\n\\]"
     },
     "metadata": {}
    }
   ],
   "source": [
    "%%render\n",
    "S_kan = H*(sirka-n_tr*(D+2*h_z*t_z*n_z))    #m2"
   ]
  },
  {
   "source": [
    "Skutečná rychlost spalin"
   ],
   "cell_type": "markdown",
   "metadata": {}
  },
  {
   "cell_type": "code",
   "execution_count": 212,
   "metadata": {},
   "outputs": [
    {
     "output_type": "display_data",
     "data": {
      "text/plain": "<IPython.core.display.Latex object>",
      "text/latex": "\\[\n\\begin{aligned}\nw_{sp} &= \\frac{ V_{sp_{skut}} }{ S_{kan} }  = \\frac{ 266{,}384 }{ 46{,}246 } &= 5{,}76 \\; \\;\\textrm{(m/s)}\n\\end{aligned}\n\\]"
     },
     "metadata": {}
    }
   ],
   "source": [
    "%%render\n",
    "w_sp = V_sp_skut/S_kan  #m/s"
   ]
  },
  {
   "source": [
    "Podíl výhřevných ploch žeber a celkové plochy ze strany spalin:"
   ],
   "cell_type": "markdown",
   "metadata": {}
  },
  {
   "cell_type": "code",
   "execution_count": 213,
   "metadata": {},
   "outputs": [
    {
     "output_type": "display_data",
     "data": {
      "text/plain": "<IPython.core.display.Latex object>",
      "text/latex": "\\[\n\\begin{aligned}\n\\mathrm{ratio}_{2} &= \\frac{ \\left( \\frac{ D_{z} }{ D } \\right) ^{ 2 } - 1 }{ \\left( \\frac{ D_{z} }{ D } \\right) ^{ 2 } - 1 + 2 \\cdot \\left( \\frac{ s_{z} }{ D } - \\frac{ t_{z} }{ D } \\right) } \\\\&= \\frac{ \\left( \\frac{ 0{,}058 }{ 0{,}038 } \\right) ^{ 2 } - 1 }{ \\left( \\frac{ 0{,}058 }{ 0{,}038 } \\right) ^{ 2 } - 1 + 2 \\cdot \\left( \\frac{ 0{,}005 }{ 0{,}038 } - \\frac{ 0{,}001 }{ 0{,}038 } \\right) } \\\\&= 8{,}633 \\times 10 ^ {-1 } \\; \\;\\textrm{(-)}\\\\\n\\end{aligned}\n\\]"
     },
     "metadata": {}
    }
   ],
   "source": [
    "%%render\n",
    "# pomer S_z/S\n",
    "ratio_2 = ((D_z/D)**2-1) / ((D_z/D)**2-1+2*(s_z/D-t_z/D))   #-"
   ]
  },
  {
   "source": [
    "Podíl volných trubek a celkové plochy"
   ],
   "cell_type": "markdown",
   "metadata": {}
  },
  {
   "cell_type": "code",
   "execution_count": 214,
   "metadata": {},
   "outputs": [
    {
     "output_type": "display_data",
     "data": {
      "text/plain": "<IPython.core.display.Latex object>",
      "text/latex": "\\[\n\\begin{aligned}\n\\mathrm{ratio}_{3} &= 1 - \\mathrm{ratio}_{2}  = 1 - 8{,}633 \\times 10 ^ {-1 } &= 1{,}367 \\times 10 ^ {-1 }  \n\\end{aligned}\n\\]"
     },
     "metadata": {}
    }
   ],
   "source": [
    "%%render\n",
    "# pomer S_h/S\n",
    "ratio_3 = 1-ratio_2"
   ]
  },
  {
   "source": [
    "Poměrná příčná rozteč trubek"
   ],
   "cell_type": "markdown",
   "metadata": {}
  },
  {
   "cell_type": "code",
   "execution_count": 215,
   "metadata": {},
   "outputs": [
    {
     "output_type": "display_data",
     "data": {
      "text/plain": "<IPython.core.display.Latex object>",
      "text/latex": "\\[\n\\begin{aligned}\n\\sigma_{1} &= \\frac{ s_{1} }{ D }  = \\frac{ 0{,}088 }{ 0{,}038 } &= 2{,}316  \n\\end{aligned}\n\\]"
     },
     "metadata": {}
    }
   ],
   "source": [
    "%%render\n",
    "sigma_1 = s_1/D"
   ]
  },
  {
   "cell_type": "code",
   "execution_count": 216,
   "metadata": {},
   "outputs": [
    {
     "output_type": "display_data",
     "data": {
      "text/plain": "<IPython.core.display.Latex object>",
      "text/latex": "\\[\n\\begin{aligned}\n\\sigma_{2} &= \\frac{ \\sqrt { \\left( \\frac{ s_{1} }{ 2 } \\right) ^{ 2 } + \\left( s_{2} \\right) ^{ 2 } } }{ D }  = \\frac{ \\sqrt { \\left( \\frac{ 0{,}088 }{ 2 } \\right) ^{ 2 } + \\left( 0{,}088 \\right) ^{ 2 } } }{ 0{,}038 } &= 2{,}589  \n\\end{aligned}\n\\]"
     },
     "metadata": {}
    }
   ],
   "source": [
    "%%render\n",
    "sigma_2 = sqrt((s_1/2)**2+s_2**2)/D"
   ]
  },
  {
   "source": [
    "Součnitel poměrných roztečí"
   ],
   "cell_type": "markdown",
   "metadata": {}
  },
  {
   "cell_type": "code",
   "execution_count": 217,
   "metadata": {},
   "outputs": [
    {
     "output_type": "display_data",
     "data": {
      "text/plain": "<IPython.core.display.Latex object>",
      "text/latex": "\\[\n\\begin{aligned}\n\\phi_{\\sigma} &= \\frac{ \\sigma_{1} - 1 }{ \\sigma_{2} - 1 }  = \\frac{ 2{,}316 - 1 }{ 2{,}589 - 1 } &= 0{,}828  \n\\end{aligned}\n\\]"
     },
     "metadata": {}
    }
   ],
   "source": [
    "%%render\n",
    "phi_sigma = (sigma_1-1)/(sigma_2-1)"
   ]
  },
  {
   "cell_type": "code",
   "execution_count": 218,
   "metadata": {},
   "outputs": [],
   "source": [
    "lambda_CD = lambda_interpolate(t_CD)\n",
    "nu_CD = nu_interpolate(t_CD)\n",
    "c_z = 1  #NEVIM (Opravný součinitel na počet řad)"
   ]
  },
  {
   "cell_type": "code",
   "execution_count": 219,
   "metadata": {},
   "outputs": [
    {
     "output_type": "display_data",
     "data": {
      "text/plain": "<IPython.core.display.Latex object>",
      "text/latex": "\\[\n\\begin{aligned}\n\\alpha_{k} &= 0{,}23 \\cdot c_{z} \\cdot \\left( \\phi_{\\sigma} \\right) ^{ 0{,}2 } \\cdot \\left( \\frac{ \\mathrm{lambda}_{CD} }{ s_{z} } \\right) \\cdot \\left( \\frac{ D }{ s_{z} } \\right) ^{ -0{,}54 } \\cdot \\left( \\frac{ h_{z} }{ s_{z} } \\right) ^{ -0{,}14 } \\cdot \\left( w_{sp} \\cdot \\frac{ s_{z} }{ \\nu_{CD} } \\right) ^{ 0{,}65 } \\\\&= 0{,}23 \\cdot 1 \\cdot \\left( 0{,}828 \\right) ^{ 0{,}2 } \\cdot \\left( \\frac{ 5{,}869 \\times 10 ^ {-2 } }{ 0{,}005 } \\right) \\cdot \\left( \\frac{ 0{,}038 }{ 0{,}005 } \\right) ^{ -0{,}54 } \\cdot \\left( \\frac{ 0{,}01 }{ 0{,}005 } \\right) ^{ -0{,}14 } \\cdot \\left( 5{,}76 \\cdot \\frac{ 0{,}005 }{ 6{,}565 \\times 10 ^ {-5 } } \\right) ^{ 0{,}65 } \\\\&= 41{,}171 \\; \\;\\textrm{(W/m2K)}\\\\\n\\end{aligned}\n\\]"
     },
     "metadata": {}
    }
   ],
   "source": [
    "%%render\n",
    "alpha_k = 0.23*c_z*phi_sigma**0.2*(lambda_CD/s_z)*(D/s_z)**-0.54*(h_z/s_z)**-0.14*(w_sp*s_z/nu_CD)**0.65 #W/m2K"
   ]
  },
  {
   "cell_type": "code",
   "execution_count": 220,
   "metadata": {},
   "outputs": [
    {
     "output_type": "display_data",
     "data": {
      "text/plain": "<IPython.core.display.Latex object>",
      "text/latex": "\\[\n\\begin{aligned}\n\\psi_{z} &= 0{,}85 \\; \\;\\textrm{(pro kruhová žebra)}\n\\\\[10pt]\n\\mathrm{lambda}_{z} &= 24{,}9 \\; \\;\\textrm{(W/mK)}\n\\\\[10pt]\n\\epsilon &= 4{,}500 \\times 10 ^ {-3 } \\; \\;\\textrm{(pro plynné palivo a žebrované trubky)}\n\\end{aligned}\n\\]"
     },
     "metadata": {}
    }
   ],
   "source": [
    "%%render\n",
    "psi_z = 0.85  # pro kruhová žebra\n",
    "lambda_z = 24.9   #W/mK\n",
    "epsilon = 0.0045    #pro plynné palivo a žebrované trubky"
   ]
  },
  {
   "cell_type": "code",
   "execution_count": 221,
   "metadata": {},
   "outputs": [
    {
     "output_type": "display_data",
     "data": {
      "text/plain": "<IPython.core.display.Latex object>",
      "text/latex": "\\[\n\\begin{aligned}\n\\beta &= \\sqrt { \\frac{ 2 \\cdot \\psi_{z} \\cdot \\alpha_{k} }{ t_{z} \\cdot \\mathrm{lambda}_{z} \\cdot \\left( 1 + \\epsilon \\cdot \\psi_{z} \\cdot \\alpha_{k} \\right) } } \\\\&= \\sqrt { \\frac{ 2 \\cdot 0{,}85 \\cdot 41{,}171 }{ 0{,}001 \\cdot 24{,}9 \\cdot \\left( 1 + 4{,}500 \\times 10 ^ {-3 } \\cdot 0{,}85 \\cdot 41{,}171 \\right) } } \\\\&= 49{,}279  \\\\\n\\end{aligned}\n\\]"
     },
     "metadata": {}
    }
   ],
   "source": [
    "%%render\n",
    "beta = sqrt((2*psi_z*alpha_k)/(t_z*lambda_z*(1+epsilon*psi_z*alpha_k)))"
   ]
  },
  {
   "source": [
    "Součinitel efektivnosti žebra E"
   ],
   "cell_type": "markdown",
   "metadata": {}
  },
  {
   "cell_type": "code",
   "execution_count": 222,
   "metadata": {},
   "outputs": [
    {
     "output_type": "display_data",
     "data": {
      "text/plain": "<IPython.core.display.Latex object>",
      "text/latex": "\\[\n\\begin{aligned}\n\\mathrm{ratio}_{4} &= \\frac{ D_{z} }{ D }  = \\frac{ 0{,}058 }{ 0{,}038 } &= 1{,}526  \n\\\\[10pt]\n\\mathrm{coef}_{1} &= \\beta \\cdot h_{z}  = 49{,}279 \\cdot 0{,}01 &= 4{,}928 \\times 10 ^ {-1 }  \n\\\\[10pt]\nE &= 0{,}92 \\; \n\\end{aligned}\n\\]"
     },
     "metadata": {}
    }
   ],
   "source": [
    "%%render\n",
    "# lze ho odečíst v BUDAJovi na straně 114 - kruhové žebro, kruhový základ\n",
    "ratio_4 = D_z/D\n",
    "coef_1 = beta*h_z\n",
    "E = 0.92"
   ]
  },
  {
   "source": [
    "Součinitel přestupu tepla na straně spalin $\\alpha_1$$_r$"
   ],
   "cell_type": "markdown",
   "metadata": {}
  },
  {
   "cell_type": "code",
   "execution_count": 223,
   "metadata": {},
   "outputs": [],
   "source": [
    "mu = 1  # je 1 pro žebra s konst. průměrem"
   ]
  },
  {
   "cell_type": "code",
   "execution_count": 224,
   "metadata": {},
   "outputs": [
    {
     "output_type": "display_data",
     "data": {
      "text/plain": "<IPython.core.display.Latex object>",
      "text/latex": "\\[\n\\begin{aligned}\n\\alpha_{1r} &= \\left( \\mathrm{ratio}_{2} \\cdot E \\cdot \\mu + \\mathrm{ratio}_{3} \\right) \\cdot \\left( \\frac{ \\psi_{z} \\cdot \\alpha_{k} }{ 1 + \\epsilon \\cdot \\psi_{z} \\cdot \\alpha_{k} } \\right) \\\\&= \\left( 8{,}633 \\times 10 ^ {-1 } \\cdot 0{,}92 \\cdot 1 + 1{,}367 \\times 10 ^ {-1 } \\right) \\cdot \\left( \\frac{ 0{,}85 \\cdot 41{,}171 }{ 1 + 4{,}500 \\times 10 ^ {-3 } \\cdot 0{,}85 \\cdot 41{,}171 } \\right) \\\\&= 28{,}146 \\; \\;\\textrm{(W/m2K)}\\\\\n\\end{aligned}\n\\]"
     },
     "metadata": {}
    }
   ],
   "source": [
    "%%render\n",
    "alpha_1r = (ratio_2*E*mu+ratio_3)*((psi_z*alpha_k)/(1+epsilon*psi_z*alpha_k))   #W/m2K"
   ]
  },
  {
   "source": [
    "Povrch jednoho žebra"
   ],
   "cell_type": "markdown",
   "metadata": {}
  },
  {
   "cell_type": "code",
   "execution_count": 225,
   "metadata": {},
   "outputs": [
    {
     "output_type": "display_data",
     "data": {
      "text/plain": "<IPython.core.display.Latex object>",
      "text/latex": "\\[\n\\begin{aligned}\nS_{1z} &= \\left( \\frac{ 2 \\cdot \\pi \\cdot \\left( \\left( D_{z} \\right) ^{ 2 } - \\left( D \\right) ^{ 2 } \\right) }{ 4 } \\right) + \\pi \\cdot D_{z} \\cdot t_{z} \\\\&= \\left( \\frac{ 2 \\cdot 3{,}142 \\cdot \\left( \\left( 0{,}058 \\right) ^{ 2 } - \\left( 0{,}038 \\right) ^{ 2 } \\right) }{ 4 } \\right) + 3{,}142 \\cdot 0{,}058 \\cdot 0{,}001 \\\\&= 3{,}198 \\times 10 ^ {-3 } \\; \\;\\textrm{(m2)}\\\\\n\\end{aligned}\n\\]"
     },
     "metadata": {}
    }
   ],
   "source": [
    "%%render\n",
    "S_1z = ((2*pi*(D_z**2-D**2))/4)+pi*D_z*t_z  #m2"
   ]
  },
  {
   "source": [
    "Celkový vnější povrch jedné jeden metr dlouhé trubky se žebry"
   ],
   "cell_type": "markdown",
   "metadata": {}
  },
  {
   "cell_type": "code",
   "execution_count": 226,
   "metadata": {},
   "outputs": [
    {
     "output_type": "display_data",
     "data": {
      "text/plain": "<IPython.core.display.Latex object>",
      "text/latex": "\\[\n\\begin{aligned}\nS_{1m} &= \\pi \\cdot D \\cdot \\left( 1 - n_{z} \\cdot t_{z} \\right) + n_{z} \\cdot S_{1z} \\\\&= 3{,}142 \\cdot 0{,}038 \\cdot \\left( 1 - 240 \\cdot 0{,}001 \\right) + 240 \\cdot 3{,}198 \\times 10 ^ {-3 } \\\\&= 8{,}583 \\times 10 ^ {-1 } \\; \\;\\textrm{(m2)}\\\\\n\\end{aligned}\n\\]"
     },
     "metadata": {}
    }
   ],
   "source": [
    "%%render\n",
    "S_1m = pi*D*(1-n_z*t_z)+n_z*S_1z    #m2"
   ]
  },
  {
   "source": [
    "Celkový vnitřní povrch jedné jeden metr dlouhé trubky se žebry"
   ],
   "cell_type": "markdown",
   "metadata": {}
  },
  {
   "cell_type": "code",
   "execution_count": 227,
   "metadata": {},
   "outputs": [
    {
     "output_type": "display_data",
     "data": {
      "text/plain": "<IPython.core.display.Latex object>",
      "text/latex": "\\[\n\\begin{aligned}\nS_{2m} &= \\pi \\cdot d  = 3{,}142 \\cdot 3{,}220 \\times 10 ^ {-2 } &= 1{,}012 \\times 10 ^ {-1 } \\; \\;\\textrm{(m2)}\n\\end{aligned}\n\\]"
     },
     "metadata": {}
    }
   ],
   "source": [
    "%%render\n",
    "S_2m = pi*d #m2"
   ]
  },
  {
   "source": [
    "#### Součinitel přestupu tepla k"
   ],
   "cell_type": "markdown",
   "metadata": {}
  },
  {
   "cell_type": "code",
   "execution_count": 228,
   "metadata": {},
   "outputs": [
    {
     "output_type": "display_data",
     "data": {
      "text/plain": "<IPython.core.display.Latex object>",
      "text/latex": "\\[\n\\begin{aligned}\n\\psi_{evap} &= 0{,}8 \\; \\;\\textrm{(zadáno v podkladech pro výpočet)}\n\\\\[10pt]\nk &= \\psi_{evap} \\cdot \\alpha_{1r}  = 0{,}8 \\cdot 28{,}146 &= 22{,}517 \\; \\;\\textrm{(W/m2K)}\n\\end{aligned}\n\\]"
     },
     "metadata": {}
    }
   ],
   "source": [
    "%%render\n",
    "psi_evap = 0.8  #zadáno v podkladech pro výpočet\n",
    "k = psi_evap * alpha_1r    #W/m2K"
   ]
  },
  {
   "source": [
    "### Počet řad ve výparníku"
   ],
   "cell_type": "markdown",
   "metadata": {}
  },
  {
   "source": [
    "Rozdíly teplot pro výpočet středního logaritmického spádu:"
   ],
   "cell_type": "markdown",
   "metadata": {}
  },
  {
   "cell_type": "code",
   "execution_count": 229,
   "metadata": {},
   "outputs": [
    {
     "output_type": "display_data",
     "data": {
      "text/plain": "<IPython.core.display.Latex object>",
      "text/latex": "\\[\n\\begin{aligned}\n\\Delta_{t_{1}} &= t_{C} - t_{4}  = 507 - 240{,}565 &= 266{,}435  \n\\\\[10pt]\n\\Delta_{t_{2}} &= t_{D} - t_{5}  = 366 - 240{,}565 &= 125{,}435  \n\\end{aligned}\n\\]"
     },
     "metadata": {}
    }
   ],
   "source": [
    "%%render\n",
    "Delta_t_1 = t_C-t_4\n",
    "Delta_t_2 = t_D-t_5"
   ]
  },
  {
   "source": [
    "Střední logaritmický teplotní spád\n",
    "\n",
    "NUTNÉ PŘEPOČÍTAT, PROTOŽE JE TAM KOMBINOVANÉ ZAPOJENÍ !!!"
   ],
   "cell_type": "markdown",
   "metadata": {}
  },
  {
   "cell_type": "code",
   "execution_count": 230,
   "metadata": {},
   "outputs": [
    {
     "output_type": "display_data",
     "data": {
      "text/plain": "<IPython.core.display.Latex object>",
      "text/latex": "\\[\n\\begin{aligned}\n\\Delta_{t_{LN}} &= \\frac{ \\Delta_{t_{1}} - \\Delta_{t_{2}} }{ \\ln \\left( \\frac{ \\Delta_{t_{1}} }{ \\Delta_{t_{2}} } \\right) }  = \\frac{ 266{,}435 - 125{,}435 }{ \\ln \\left( \\frac{ 266{,}435 }{ 125{,}435 } \\right) } &= 187{,}166 \\; \\;\\textrm{(K)}\n\\end{aligned}\n\\]"
     },
     "metadata": {}
    }
   ],
   "source": [
    "%%render\n",
    "Delta_t_LN = (Delta_t_1-Delta_t_2)/log(Delta_t_1/Delta_t_2) #K"
   ]
  },
  {
   "source": [
    "Vnější teplosměnná plocha\n",
    "\n",
    "UPRAVIT Q_V ZA SPRAVNOU HODNOTU, Q_V SE TYKA CELEHO VYPARNIKU, ALE JSOU ROZDELENE NA 2"
   ],
   "cell_type": "markdown",
   "metadata": {}
  },
  {
   "cell_type": "code",
   "execution_count": 231,
   "metadata": {},
   "outputs": [
    {
     "output_type": "display_data",
     "data": {
      "text/plain": "<IPython.core.display.Latex object>",
      "text/latex": "\\[\n\\begin{aligned}\nS_{SP} &= \\frac{ 1000 \\cdot Q_{V} }{ k \\cdot \\Delta_{t_{LN}} }  = \\frac{ 1000 \\cdot 36579{,}719 }{ 22{,}517 \\cdot 187{,}166 } &= 8679{,}742 \\; \\;\\textrm{(m2)}\n\\end{aligned}\n\\]"
     },
     "metadata": {}
    }
   ],
   "source": [
    "%%render\n",
    "S_SP = (1000*Q_V)/(k*Delta_t_LN)   #m2"
   ]
  },
  {
   "source": [
    "Počet řad"
   ],
   "cell_type": "markdown",
   "metadata": {}
  },
  {
   "cell_type": "code",
   "execution_count": 232,
   "metadata": {},
   "outputs": [
    {
     "output_type": "display_data",
     "data": {
      "text/plain": "<IPython.core.display.Latex object>",
      "text/latex": "\\[\n\\begin{aligned}\nn_{rad} &= \\frac{ S_{SP} }{ H \\cdot S_{1m} \\cdot n_{tr} }  = \\frac{ 8679{,}742 }{ 27{,}0 \\cdot 8{,}583 \\times 10 ^ {-1 } \\cdot 34{,}0 } &= 11{,}016  \n\\end{aligned}\n\\]"
     },
     "metadata": {}
    }
   ],
   "source": [
    "%%render\n",
    "n_rad = S_SP/(H*S_1m*n_tr)"
   ]
  },
  {
   "cell_type": "code",
   "execution_count": 233,
   "metadata": {},
   "outputs": [
    {
     "output_type": "execute_result",
     "data": {
      "text/plain": [
       "11.0"
      ]
     },
     "metadata": {},
     "execution_count": 233
    }
   ],
   "source": [
    "n_rad = round(n_rad,0)\n",
    "n_rad"
   ]
  },
  {
   "source": [
    "### Skutečné cosi předané ve výparníku"
   ],
   "cell_type": "markdown",
   "metadata": {}
  },
  {
   "source": [
    "Skutečná plocha"
   ],
   "cell_type": "markdown",
   "metadata": {}
  },
  {
   "cell_type": "code",
   "execution_count": 234,
   "metadata": {},
   "outputs": [
    {
     "output_type": "display_data",
     "data": {
      "text/plain": "<IPython.core.display.Latex object>",
      "text/latex": "\\[\n\\begin{aligned}\nS_{SP_{skut}} &= n_{rad} \\cdot n_{tr} \\cdot H \\cdot S_{1m}  = 11{,}0 \\cdot 34{,}0 \\cdot 27{,}0 \\cdot 8{,}583 \\times 10 ^ {-1 } &= 8666{,}943 \\; \\;\\textrm{(m2)}\n\\end{aligned}\n\\]"
     },
     "metadata": {}
    }
   ],
   "source": [
    "%%render\n",
    "S_SP_skut = n_rad*n_tr*H*S_1m   #m2"
   ]
  },
  {
   "source": [
    "Skutečné teplo předané ve výparníku 1"
   ],
   "cell_type": "markdown",
   "metadata": {}
  },
  {
   "cell_type": "code",
   "execution_count": 235,
   "metadata": {},
   "outputs": [
    {
     "output_type": "display_data",
     "data": {
      "text/plain": "<IPython.core.display.Latex object>",
      "text/latex": "\\[\n\\begin{aligned}\nQ_{V_{skut}} &= \\frac{ k \\cdot S_{SP_{skut}} \\cdot \\Delta_{t_{LN}} }{ 1000 }  = \\frac{ 22{,}517 \\cdot 8666{,}943 \\cdot 187{,}166 }{ 1000 } &= 36525{,}777 \\; \\;\\textrm{(kW)}\n\\end{aligned}\n\\]"
     },
     "metadata": {}
    }
   ],
   "source": [
    "%%render\n",
    "Q_V_skut = (k*S_SP_skut*Delta_t_LN)/1000   #kW"
   ]
  },
  {
   "source": [
    "Rozdíl tepel"
   ],
   "cell_type": "markdown",
   "metadata": {}
  },
  {
   "cell_type": "code",
   "execution_count": 236,
   "metadata": {},
   "outputs": [
    {
     "output_type": "display_data",
     "data": {
      "text/plain": "<IPython.core.display.Latex object>",
      "text/latex": "\\[\n\\begin{aligned}\n\\Delta_{Qcon} &= 100 \\cdot \\operatorname{abs} { \\left( \\frac{ Q_{V_{skut}} - Q_{V} }{ Q_{V_{skut}} } \\right) }  = 100 \\cdot \\operatorname{abs} { \\left( \\frac{ 36525{,}777 - 36579{,}719 }{ 36525{,}777 } \\right) } &= 1{,}477 \\times 10 ^ {-1 } \\; \\;\\textrm{(%)}\n\\end{aligned}\n\\]"
     },
     "metadata": {}
    }
   ],
   "source": [
    "%%render\n",
    "Delta_Qcon = 100*(abs((Q_V_skut-Q_V)/Q_V_skut))    #%"
   ]
  },
  {
   "source": [
    "Rozdíl teplot nemá smysl počítat, teplota se nemění, protože probíhá vypařování"
   ],
   "cell_type": "markdown",
   "metadata": {}
  },
  {
   "cell_type": "code",
   "execution_count": 237,
   "metadata": {},
   "outputs": [],
   "source": [
    "MEZERA = ''\n",
    "material = '16Mo3'\n",
    "data_V1 = {\n",
    "    'Hodnota':\n",
    "    [1000*D,1000*t_tr,1000*d,1000*h_z,1000*t_z,1000*s_z, n_z,1000*s_1,1000*s_2,D_z,S_1z,S_1m,S_SP, MEZERA,c_z,alpha_k,psi_z,lambda_z,epsilon,beta,E,mu,alpha_1r,k,Delta_t_LN,MEZERA,Delta_Qcon,MEZERA,n_tr,n_rad,material],\n",
    "\n",
    "    'Jednotka': \n",
    "    ['mm','mm','mm','mm','mm','mm','-','mm','mm','mm','m2','m2','m2',MEZERA,'-','kW/m2K','-','kW/mK','-','-','-','-','kW/m2K','kW/m2K','K',MEZERA,'%',MEZERA,'-','-','-']\n",
    "\n",
    "    }\n",
    "zkratky = ['D','t_tr','d','h_z','t_z','s_z','n_z','s_1','s_2','D_z','S_1z','S_1m','S_SP',MEZERA,'c_z','alpha_k','psi_z','lambda_z','epsilon','beta','E','mu','alpha_1r','k','Delta_t_LN',MEZERA,'Delta_Qcon',MEZERA,'n_tr','n_rad','Materiál']\n",
    "output_table = pd.DataFrame(data_V1, index = zkratky)"
   ]
  },
  {
   "cell_type": "code",
   "execution_count": 238,
   "metadata": {},
   "outputs": [
    {
     "output_type": "execute_result",
     "data": {
      "text/plain": [
       "             Hodnota Jednotka\n",
       "D                 38       mm\n",
       "t_tr             2.9       mm\n",
       "d               32.2       mm\n",
       "h_z               10       mm\n",
       "t_z                1       mm\n",
       "s_z                5       mm\n",
       "n_z              240        -\n",
       "s_1               88       mm\n",
       "s_2               88       mm\n",
       "D_z            0.058       mm\n",
       "S_1z          0.0032       m2\n",
       "S_1m           0.858       m2\n",
       "S_SP        8.68e+03       m2\n",
       "                             \n",
       "c_z                1        -\n",
       "alpha_k         41.2   kW/m2K\n",
       "psi_z           0.85        -\n",
       "lambda_z        24.9    kW/mK\n",
       "epsilon       0.0045        -\n",
       "beta            49.3        -\n",
       "E               0.92        -\n",
       "mu                 1        -\n",
       "alpha_1r        28.1   kW/m2K\n",
       "k               22.5   kW/m2K\n",
       "Delta_t_LN       187        K\n",
       "                             \n",
       "Delta_Qcon     0.148        %\n",
       "                             \n",
       "n_tr              34        -\n",
       "n_rad             11        -\n",
       "Materiál       16Mo3        -"
      ],
      "text/html": "<div>\n<style scoped>\n    .dataframe tbody tr th:only-of-type {\n        vertical-align: middle;\n    }\n\n    .dataframe tbody tr th {\n        vertical-align: top;\n    }\n\n    .dataframe thead th {\n        text-align: right;\n    }\n</style>\n<table border=\"1\" class=\"dataframe\">\n  <thead>\n    <tr style=\"text-align: right;\">\n      <th></th>\n      <th>Hodnota</th>\n      <th>Jednotka</th>\n    </tr>\n  </thead>\n  <tbody>\n    <tr>\n      <th>D</th>\n      <td>38</td>\n      <td>mm</td>\n    </tr>\n    <tr>\n      <th>t_tr</th>\n      <td>2.9</td>\n      <td>mm</td>\n    </tr>\n    <tr>\n      <th>d</th>\n      <td>32.2</td>\n      <td>mm</td>\n    </tr>\n    <tr>\n      <th>h_z</th>\n      <td>10</td>\n      <td>mm</td>\n    </tr>\n    <tr>\n      <th>t_z</th>\n      <td>1</td>\n      <td>mm</td>\n    </tr>\n    <tr>\n      <th>s_z</th>\n      <td>5</td>\n      <td>mm</td>\n    </tr>\n    <tr>\n      <th>n_z</th>\n      <td>240</td>\n      <td>-</td>\n    </tr>\n    <tr>\n      <th>s_1</th>\n      <td>88</td>\n      <td>mm</td>\n    </tr>\n    <tr>\n      <th>s_2</th>\n      <td>88</td>\n      <td>mm</td>\n    </tr>\n    <tr>\n      <th>D_z</th>\n      <td>0.058</td>\n      <td>mm</td>\n    </tr>\n    <tr>\n      <th>S_1z</th>\n      <td>0.0032</td>\n      <td>m2</td>\n    </tr>\n    <tr>\n      <th>S_1m</th>\n      <td>0.858</td>\n      <td>m2</td>\n    </tr>\n    <tr>\n      <th>S_SP</th>\n      <td>8.68e+03</td>\n      <td>m2</td>\n    </tr>\n    <tr>\n      <th></th>\n      <td></td>\n      <td></td>\n    </tr>\n    <tr>\n      <th>c_z</th>\n      <td>1</td>\n      <td>-</td>\n    </tr>\n    <tr>\n      <th>alpha_k</th>\n      <td>41.2</td>\n      <td>kW/m2K</td>\n    </tr>\n    <tr>\n      <th>psi_z</th>\n      <td>0.85</td>\n      <td>-</td>\n    </tr>\n    <tr>\n      <th>lambda_z</th>\n      <td>24.9</td>\n      <td>kW/mK</td>\n    </tr>\n    <tr>\n      <th>epsilon</th>\n      <td>0.0045</td>\n      <td>-</td>\n    </tr>\n    <tr>\n      <th>beta</th>\n      <td>49.3</td>\n      <td>-</td>\n    </tr>\n    <tr>\n      <th>E</th>\n      <td>0.92</td>\n      <td>-</td>\n    </tr>\n    <tr>\n      <th>mu</th>\n      <td>1</td>\n      <td>-</td>\n    </tr>\n    <tr>\n      <th>alpha_1r</th>\n      <td>28.1</td>\n      <td>kW/m2K</td>\n    </tr>\n    <tr>\n      <th>k</th>\n      <td>22.5</td>\n      <td>kW/m2K</td>\n    </tr>\n    <tr>\n      <th>Delta_t_LN</th>\n      <td>187</td>\n      <td>K</td>\n    </tr>\n    <tr>\n      <th></th>\n      <td></td>\n      <td></td>\n    </tr>\n    <tr>\n      <th>Delta_Qcon</th>\n      <td>0.148</td>\n      <td>%</td>\n    </tr>\n    <tr>\n      <th></th>\n      <td></td>\n      <td></td>\n    </tr>\n    <tr>\n      <th>n_tr</th>\n      <td>34</td>\n      <td>-</td>\n    </tr>\n    <tr>\n      <th>n_rad</th>\n      <td>11</td>\n      <td>-</td>\n    </tr>\n    <tr>\n      <th>Materiál</th>\n      <td>16Mo3</td>\n      <td>-</td>\n    </tr>\n  </tbody>\n</table>\n</div>"
     },
     "metadata": {},
     "execution_count": 238
    }
   ],
   "source": [
    "output_table\n",
    "\n",
    "# print(output_table.to_latex())"
   ]
  },
  {
   "source": [
    "# Výparník 2"
   ],
   "cell_type": "markdown",
   "metadata": {}
  },
  {
   "cell_type": "code",
   "execution_count": 239,
   "metadata": {},
   "outputs": [
    {
     "output_type": "display_data",
     "data": {
      "text/plain": "<IPython.core.display.Latex object>",
      "text/latex": "\\[\n\\begin{aligned}\nD &= 0{,}038 \\; \\;\\textrm{(m)}\n &t_{tr} &= 2{,}900 \\times 10 ^ {-3 } \\; \\;\\textrm{(m)}\n &d &= 3{,}220 \\times 10 ^ {-2 } \\; \\;\\textrm{(m)}\n\\\\[10pt]\n h_{z} &= 0{,}016 \\; \\;\\textrm{(m)}\n &t_{z} &= 0{,}001 \\; \\;\\textrm{(m)}\n &s_{z} &= 4{,}400 \\times 10 ^ {-3 } \\; \\;\\textrm{(m)}\n\\\\[10pt]\n n_{z} &= 260 \\; \\;\\textrm{(1/m)}\n &s_{2} &= 0{,}088 \\; \\;\\textrm{(m)}\\end{aligned}\n\\]"
     },
     "metadata": {}
    }
   ],
   "source": [
    "%%render params\n",
    "D = 0.0380      #m\n",
    "t_tr = 0.0029   #m\n",
    "d = D-2*t_tr    #m\n",
    "h_z = 0.016     #m\n",
    "t_z = 0.001     #m\n",
    "s_z = 0.0044    #m\n",
    "n_z = 260       #1/m\n",
    "s_2 = 0.088     #m"
   ]
  },
  {
   "cell_type": "code",
   "execution_count": 240,
   "metadata": {},
   "outputs": [],
   "source": [
    "vyparnik2_input = {\n",
    "    'Hodnota':\n",
    "    [1000*D,1000*t_tr,1000*d,1000*h_z,1000*t_z,1000*s_z, n_z],\n",
    "\n",
    "    'Jednotka': \n",
    "    ['mm','mm','mm','mm','mm','mm','-']\n",
    "\n",
    "    }\n",
    "zkratky = ['D','t_tr','d','h_z','t_z','s_z','n_z']\n",
    "vyparnik2_table = pd.DataFrame(vyparnik2_input, index = zkratky)"
   ]
  },
  {
   "cell_type": "code",
   "execution_count": 241,
   "metadata": {},
   "outputs": [
    {
     "output_type": "execute_result",
     "data": {
      "text/plain": [
       "      Hodnota Jednotka\n",
       "D        38.0       mm\n",
       "t_tr      2.9       mm\n",
       "d        32.2       mm\n",
       "h_z      16.0       mm\n",
       "t_z       1.0       mm\n",
       "s_z       4.4       mm\n",
       "n_z     260.0        -"
      ],
      "text/html": "<div>\n<style scoped>\n    .dataframe tbody tr th:only-of-type {\n        vertical-align: middle;\n    }\n\n    .dataframe tbody tr th {\n        vertical-align: top;\n    }\n\n    .dataframe thead th {\n        text-align: right;\n    }\n</style>\n<table border=\"1\" class=\"dataframe\">\n  <thead>\n    <tr style=\"text-align: right;\">\n      <th></th>\n      <th>Hodnota</th>\n      <th>Jednotka</th>\n    </tr>\n  </thead>\n  <tbody>\n    <tr>\n      <th>D</th>\n      <td>38.0</td>\n      <td>mm</td>\n    </tr>\n    <tr>\n      <th>t_tr</th>\n      <td>2.9</td>\n      <td>mm</td>\n    </tr>\n    <tr>\n      <th>d</th>\n      <td>32.2</td>\n      <td>mm</td>\n    </tr>\n    <tr>\n      <th>h_z</th>\n      <td>16.0</td>\n      <td>mm</td>\n    </tr>\n    <tr>\n      <th>t_z</th>\n      <td>1.0</td>\n      <td>mm</td>\n    </tr>\n    <tr>\n      <th>s_z</th>\n      <td>4.4</td>\n      <td>mm</td>\n    </tr>\n    <tr>\n      <th>n_z</th>\n      <td>260.0</td>\n      <td>-</td>\n    </tr>\n  </tbody>\n</table>\n</div>"
     },
     "metadata": {},
     "execution_count": 241
    }
   ],
   "source": [
    "vyparnik2_table\n",
    "\n",
    "# print(vyparnik2_table.to_latex())"
   ]
  },
  {
   "cell_type": "code",
   "execution_count": 242,
   "metadata": {},
   "outputs": [
    {
     "output_type": "display_data",
     "data": {
      "text/plain": "<IPython.core.display.Latex object>",
      "text/latex": "\\[\n\\begin{aligned}\nD_{z} &= D + 2 \\cdot h_{z}  = 0{,}038 + 2 \\cdot 0{,}016 &= 0{,}07 \\; \\;\\textrm{(m)}\n\\end{aligned}\n\\]"
     },
     "metadata": {}
    }
   ],
   "source": [
    "%%render\n",
    "D_z = D+2*h_z   #m"
   ]
  },
  {
   "cell_type": "code",
   "execution_count": 245,
   "metadata": {},
   "outputs": [],
   "source": [
    "a = 0.018   #m voleno tak, aby to vyšlo"
   ]
  },
  {
   "cell_type": "code",
   "execution_count": 246,
   "metadata": {},
   "outputs": [
    {
     "output_type": "display_data",
     "data": {
      "text/plain": "<IPython.core.display.Latex object>",
      "text/latex": "\\[\n\\begin{aligned}\ns_{1} &= D_{z} + a  = 0{,}07 + 0{,}018 &= 0{,}088  \n\\end{aligned}\n\\]"
     },
     "metadata": {}
    }
   ],
   "source": [
    "%%render\n",
    "s_1 = D_z+a"
   ]
  },
  {
   "cell_type": "code",
   "execution_count": 247,
   "metadata": {},
   "outputs": [
    {
     "output_type": "display_data",
     "data": {
      "text/plain": "<IPython.core.display.Latex object>",
      "text/latex": "\\[\n\\begin{aligned}\nn_{tr} &= \\frac{ \\mathrm{sirka} }{ s_{1} }  = \\frac{ 3{,}0 }{ 0{,}088 } &= 34{,}091  \n\\end{aligned}\n\\]"
     },
     "metadata": {}
    }
   ],
   "source": [
    "%%render\n",
    "n_tr = sirka/s_1"
   ]
  },
  {
   "cell_type": "code",
   "execution_count": 248,
   "metadata": {},
   "outputs": [],
   "source": [
    "n_tr = round(n_tr,0)"
   ]
  },
  {
   "source": [
    "Střední parametry vody-páry"
   ],
   "cell_type": "markdown",
   "metadata": {}
  },
  {
   "cell_type": "code",
   "execution_count": 250,
   "metadata": {},
   "outputs": [
    {
     "output_type": "display_data",
     "data": {
      "text/plain": "<IPython.core.display.Latex object>",
      "text/latex": "\\[\n\\begin{aligned}\nt_{45} &= \\frac{ t_{4} + t_{5} }{ 2 }  = \\frac{ 240{,}565 + 240{,}565 }{ 2 } &= 240{,}565 \\; \\;\\textrm{(°C)}\n\\\\[10pt]\np_{45} &= \\frac{ p_{4} + p_{5} }{ 2 }  = \\frac{ 3{,}38 + 3{,}38 }{ 2 } &= 3{,}38 \\; \\;\\textrm{(MPa)}\n\\end{aligned}\n\\]"
     },
     "metadata": {}
    }
   ],
   "source": [
    "%%render\n",
    "t_45 = (t_4+t_5)/2  #°C\n",
    "p_45 = (p_4+p_5)/2  #MPa"
   ]
  },
  {
   "cell_type": "code",
   "execution_count": 251,
   "metadata": {},
   "outputs": [
    {
     "output_type": "display_data",
     "data": {
      "text/plain": "<IPython.core.display.Latex object>",
      "text/latex": "\\[\n\\begin{aligned}\nv_{45} &= \\mathrm{steam.v}_{pt} { \\left( p_{45} \\cdot 10 ,\\ t_{45} \\right) }  = steam.v_{pt} { \\left( 3{,}38 \\cdot 10 ,\\ 240{,}565 \\right) } &= nan \\; \\;\\textrm{(m3/kg)}\n\\end{aligned}\n\\]"
     },
     "metadata": {}
    }
   ],
   "source": [
    "%%render\n",
    "v_45 = steam.v_pt(p_45*10,t_45)    #m3/kg"
   ]
  },
  {
   "cell_type": "code",
   "execution_count": 252,
   "metadata": {},
   "outputs": [
    {
     "output_type": "display_data",
     "data": {
      "text/plain": "<IPython.core.display.Latex object>",
      "text/latex": "\\[\n\\begin{aligned}\nt_{DE} &= \\frac{ t_{D} + t_{E} }{ 2 }  = \\frac{ 366 + 254 }{ 2 } &= 310{,}0 \\; \\;\\textrm{(°C)}\n\\end{aligned}\n\\]"
     },
     "metadata": {}
    }
   ],
   "source": [
    "%%render\n",
    "t_DE = (t_D+t_E)/2  #°C"
   ]
  },
  {
   "source": [
    "Skutečný objemový průtok spalin"
   ],
   "cell_type": "markdown",
   "metadata": {}
  },
  {
   "cell_type": "code",
   "execution_count": 253,
   "metadata": {},
   "outputs": [
    {
     "output_type": "display_data",
     "data": {
      "text/plain": "<IPython.core.display.Latex object>",
      "text/latex": "\\[\n\\begin{aligned}\nV_{sp_{skut}} &= V_{sp} \\cdot \\left( \\frac{ t_{DE} + 273{,}15 }{ 273{,}15 } \\right)  = 102{,}534 \\cdot \\left( \\frac{ 310{,}0 + 273{,}15 }{ 273{,}15 } \\right) &= 218{,}9 \\; \\;\\textrm{(m3/s)}\n\\end{aligned}\n\\]"
     },
     "metadata": {}
    }
   ],
   "source": [
    "%%render\n",
    "V_sp_skut = V_sp * ((t_DE+273.15)/273.15)   #m3/s"
   ]
  },
  {
   "source": [
    "Skutečný průřez spalinového kanálu"
   ],
   "cell_type": "markdown",
   "metadata": {}
  },
  {
   "cell_type": "code",
   "execution_count": 255,
   "metadata": {},
   "outputs": [
    {
     "output_type": "display_data",
     "data": {
      "text/plain": "<IPython.core.display.Latex object>",
      "text/latex": "\\[\n\\begin{aligned}\nS_{kan} &= H \\cdot \\left( \\mathrm{sirka} - n_{tr} \\cdot \\left( D + 2 \\cdot h_{z} \\cdot t_{z} \\cdot n_{z} \\right) \\right) \\\\&= 27{,}0 \\cdot \\left( 3{,}0 - 34{,}0 \\cdot \\left( 0{,}038 + 2 \\cdot 0{,}016 \\cdot 0{,}001 \\cdot 260 \\right) \\right) \\\\&= 38{,}478 \\; \\;\\textrm{(m2)}\\\\\n\\end{aligned}\n\\]"
     },
     "metadata": {}
    }
   ],
   "source": [
    "%%render\n",
    "S_kan = H*(sirka-n_tr*(D+2*h_z*t_z*n_z))    #m2"
   ]
  },
  {
   "source": [
    "Skutečná rychlost spalin"
   ],
   "cell_type": "markdown",
   "metadata": {}
  },
  {
   "cell_type": "code",
   "execution_count": 256,
   "metadata": {},
   "outputs": [
    {
     "output_type": "display_data",
     "data": {
      "text/plain": "<IPython.core.display.Latex object>",
      "text/latex": "\\[\n\\begin{aligned}\nw_{sp} &= \\frac{ V_{sp_{skut}} }{ S_{kan} }  = \\frac{ 218{,}9 }{ 38{,}478 } &= 5{,}689 \\; \\;\\textrm{(m/s)}\n\\end{aligned}\n\\]"
     },
     "metadata": {}
    }
   ],
   "source": [
    "%%render\n",
    "w_sp = V_sp_skut/S_kan  #m/s"
   ]
  },
  {
   "source": [
    "Podíl výhřevných ploch žeber a celkové plochy ze strany spalin:"
   ],
   "cell_type": "markdown",
   "metadata": {}
  },
  {
   "cell_type": "code",
   "execution_count": 257,
   "metadata": {},
   "outputs": [
    {
     "output_type": "display_data",
     "data": {
      "text/plain": "<IPython.core.display.Latex object>",
      "text/latex": "\\[\n\\begin{aligned}\n\\mathrm{ratio}_{2} &= \\frac{ \\left( \\frac{ D_{z} }{ D } \\right) ^{ 2 } - 1 }{ \\left( \\frac{ D_{z} }{ D } \\right) ^{ 2 } - 1 + 2 \\cdot \\left( \\frac{ s_{z} }{ D } - \\frac{ t_{z} }{ D } \\right) } \\\\&= \\frac{ \\left( \\frac{ 0{,}07 }{ 0{,}038 } \\right) ^{ 2 } - 1 }{ \\left( \\frac{ 0{,}07 }{ 0{,}038 } \\right) ^{ 2 } - 1 + 2 \\cdot \\left( \\frac{ 4{,}400 \\times 10 ^ {-3 } }{ 0{,}038 } - \\frac{ 0{,}001 }{ 0{,}038 } \\right) } \\\\&= 9{,}304 \\times 10 ^ {-1 } \\; \\;\\textrm{(-)}\\\\\n\\end{aligned}\n\\]"
     },
     "metadata": {}
    }
   ],
   "source": [
    "%%render\n",
    "# pomer S_z/S\n",
    "ratio_2 = ((D_z/D)**2-1) / ((D_z/D)**2-1+2*(s_z/D-t_z/D))   #-"
   ]
  },
  {
   "source": [
    "Podíl volných trubek a celkové plochy"
   ],
   "cell_type": "markdown",
   "metadata": {}
  },
  {
   "cell_type": "code",
   "execution_count": 258,
   "metadata": {},
   "outputs": [
    {
     "output_type": "display_data",
     "data": {
      "text/plain": "<IPython.core.display.Latex object>",
      "text/latex": "\\[\n\\begin{aligned}\n\\mathrm{ratio}_{3} &= 1 - \\mathrm{ratio}_{2}  = 1 - 9{,}304 \\times 10 ^ {-1 } &= 6{,}957 \\times 10 ^ {-2 }  \n\\end{aligned}\n\\]"
     },
     "metadata": {}
    }
   ],
   "source": [
    "%%render\n",
    "# pomer S_h/S\n",
    "ratio_3 = 1-ratio_2"
   ]
  },
  {
   "source": [
    "Poměrná příčná rozteč trubek"
   ],
   "cell_type": "markdown",
   "metadata": {}
  },
  {
   "cell_type": "code",
   "execution_count": 259,
   "metadata": {},
   "outputs": [
    {
     "output_type": "display_data",
     "data": {
      "text/plain": "<IPython.core.display.Latex object>",
      "text/latex": "\\[\n\\begin{aligned}\n\\sigma_{1} &= \\frac{ s_{1} }{ D }  = \\frac{ 0{,}088 }{ 0{,}038 } &= 2{,}316  \n\\end{aligned}\n\\]"
     },
     "metadata": {}
    }
   ],
   "source": [
    "%%render\n",
    "sigma_1 = s_1/D"
   ]
  },
  {
   "cell_type": "code",
   "execution_count": 260,
   "metadata": {},
   "outputs": [
    {
     "output_type": "display_data",
     "data": {
      "text/plain": "<IPython.core.display.Latex object>",
      "text/latex": "\\[\n\\begin{aligned}\n\\sigma_{2} &= \\frac{ \\sqrt { \\left( \\frac{ s_{1} }{ 2 } \\right) ^{ 2 } + \\left( s_{2} \\right) ^{ 2 } } }{ D }  = \\frac{ \\sqrt { \\left( \\frac{ 0{,}088 }{ 2 } \\right) ^{ 2 } + \\left( 0{,}088 \\right) ^{ 2 } } }{ 0{,}038 } &= 2{,}589  \n\\end{aligned}\n\\]"
     },
     "metadata": {}
    }
   ],
   "source": [
    "%%render\n",
    "sigma_2 = sqrt((s_1/2)**2+s_2**2)/D"
   ]
  },
  {
   "source": [
    "Součnitel poměrných roztečí"
   ],
   "cell_type": "markdown",
   "metadata": {}
  },
  {
   "cell_type": "code",
   "execution_count": 261,
   "metadata": {},
   "outputs": [
    {
     "output_type": "display_data",
     "data": {
      "text/plain": "<IPython.core.display.Latex object>",
      "text/latex": "\\[\n\\begin{aligned}\n\\phi_{\\sigma} &= \\frac{ \\sigma_{1} - 1 }{ \\sigma_{2} - 1 }  = \\frac{ 2{,}316 - 1 }{ 2{,}589 - 1 } &= 0{,}828  \n\\end{aligned}\n\\]"
     },
     "metadata": {}
    }
   ],
   "source": [
    "%%render\n",
    "phi_sigma = (sigma_1-1)/(sigma_2-1)"
   ]
  },
  {
   "cell_type": "code",
   "execution_count": 262,
   "metadata": {},
   "outputs": [],
   "source": [
    "lambda_DE = lambda_interpolate(t_DE)\n",
    "nu_DE = nu_interpolate(t_DE)\n",
    "c_z = 1  #NEVIM (Opravný součinitel na počet řad)"
   ]
  },
  {
   "cell_type": "code",
   "execution_count": 263,
   "metadata": {},
   "outputs": [
    {
     "output_type": "display_data",
     "data": {
      "text/plain": "<IPython.core.display.Latex object>",
      "text/latex": "\\[\n\\begin{aligned}\n\\alpha_{k} &= 0{,}23 \\cdot c_{z} \\cdot \\left( \\phi_{\\sigma} \\right) ^{ 0{,}2 } \\cdot \\left( \\frac{ \\mathrm{lambda}_{DE} }{ s_{z} } \\right) \\cdot \\left( \\frac{ D }{ s_{z} } \\right) ^{ -0{,}54 } \\cdot \\left( \\frac{ h_{z} }{ s_{z} } \\right) ^{ -0{,}14 } \\cdot \\left( w_{sp} \\cdot \\frac{ s_{z} }{ \\nu_{DE} } \\right) ^{ 0{,}65 } \\\\&= 0{,}23 \\cdot 1 \\cdot \\left( 0{,}828 \\right) ^{ 0{,}2 } \\cdot \\left( \\frac{ 4{,}825 \\times 10 ^ {-2 } }{ 4{,}400 \\times 10 ^ {-3 } } \\right) \\cdot \\left( \\frac{ 0{,}038 }{ 4{,}400 \\times 10 ^ {-3 } } \\right) ^{ -0{,}54 } \\cdot \\left( \\frac{ 0{,}016 }{ 4{,}400 \\times 10 ^ {-3 } } \\right) ^{ -0{,}14 } \\cdot \\left( 5{,}689 \\cdot \\frac{ 4{,}400 \\times 10 ^ {-3 } }{ 4{,}692 \\times 10 ^ {-5 } } \\right) ^{ 0{,}65 } \\\\&= 37{,}483 \\; \\;\\textrm{(W/m2K)}\\\\\n\\end{aligned}\n\\]"
     },
     "metadata": {}
    }
   ],
   "source": [
    "%%render\n",
    "alpha_k = 0.23*c_z*phi_sigma**0.2*(lambda_DE/s_z)*(D/s_z)**-0.54*(h_z/s_z)**-0.14*(w_sp*s_z/nu_DE)**0.65 #W/m2K"
   ]
  },
  {
   "cell_type": "code",
   "execution_count": 264,
   "metadata": {},
   "outputs": [
    {
     "output_type": "display_data",
     "data": {
      "text/plain": "<IPython.core.display.Latex object>",
      "text/latex": "\\[\n\\begin{aligned}\n\\psi_{z} &= 0{,}85 \\; \\;\\textrm{(pro kruhová žebra)}\n\\\\[10pt]\n\\mathrm{lambda}_{z} &= 40 \\; \\;\\textrm{(W/mK)}\n\\\\[10pt]\n\\epsilon &= 4{,}500 \\times 10 ^ {-3 } \\; \\;\\textrm{(pro plynné palivo a žebrované trubky)}\n\\end{aligned}\n\\]"
     },
     "metadata": {}
    }
   ],
   "source": [
    "%%render\n",
    "psi_z = 0.85  # pro kruhová žebra\n",
    "lambda_z = 40   #W/mK\n",
    "epsilon = 0.0045    #pro plynné palivo a žebrované trubky"
   ]
  },
  {
   "cell_type": "code",
   "execution_count": 265,
   "metadata": {},
   "outputs": [
    {
     "output_type": "display_data",
     "data": {
      "text/plain": "<IPython.core.display.Latex object>",
      "text/latex": "\\[\n\\begin{aligned}\n\\beta &= \\sqrt { \\frac{ 2 \\cdot \\psi_{z} \\cdot \\alpha_{k} }{ t_{z} \\cdot \\mathrm{lambda}_{z} \\cdot \\left( 1 + \\epsilon \\cdot \\psi_{z} \\cdot \\alpha_{k} \\right) } } \\\\&= \\sqrt { \\frac{ 2 \\cdot 0{,}85 \\cdot 37{,}483 }{ 0{,}001 \\cdot 40 \\cdot \\left( 1 + 4{,}500 \\times 10 ^ {-3 } \\cdot 0{,}85 \\cdot 37{,}483 \\right) } } \\\\&= 37{,}327  \\\\\n\\end{aligned}\n\\]"
     },
     "metadata": {}
    }
   ],
   "source": [
    "%%render\n",
    "beta = sqrt((2*psi_z*alpha_k)/(t_z*lambda_z*(1+epsilon*psi_z*alpha_k)))"
   ]
  },
  {
   "source": [
    "Součinitel efektivnosti žebra E"
   ],
   "cell_type": "markdown",
   "metadata": {}
  },
  {
   "cell_type": "code",
   "execution_count": 267,
   "metadata": {},
   "outputs": [
    {
     "output_type": "display_data",
     "data": {
      "text/plain": "<IPython.core.display.Latex object>",
      "text/latex": "\\[\n\\begin{aligned}\n\\mathrm{ratio}_{4} &= \\frac{ D_{z} }{ D }  = \\frac{ 0{,}07 }{ 0{,}038 } &= 1{,}842  \n\\\\[10pt]\n\\mathrm{coef}_{1} &= \\beta \\cdot h_{z}  = 37{,}327 \\cdot 0{,}016 &= 5{,}972 \\times 10 ^ {-1 }  \n\\\\[10pt]\nE &= 0{,}86 \\; \n\\end{aligned}\n\\]"
     },
     "metadata": {}
    }
   ],
   "source": [
    "%%render\n",
    "# lze ho odečíst v BUDAJovi na straně 114 - kruhové žebro, kruhový základ\n",
    "ratio_4 = D_z/D\n",
    "coef_1 = beta*h_z\n",
    "E = 0.86"
   ]
  },
  {
   "source": [
    "Součinitel přestupu tepla na straně spalin $\\alpha_1$$_r$"
   ],
   "cell_type": "markdown",
   "metadata": {}
  },
  {
   "source": [
    "$\\mu$ JE ZŘEJMĚ NUTNÉ ZMĚNIT, PROTOŽE ŘEZANÉ \"I\" NEBUDE MIT KONST. PRUMER"
   ],
   "cell_type": "markdown",
   "metadata": {}
  },
  {
   "cell_type": "code",
   "execution_count": 268,
   "metadata": {},
   "outputs": [],
   "source": [
    "mu = 1  # je 1 pro žebra s konst. průměrem"
   ]
  },
  {
   "cell_type": "code",
   "execution_count": 269,
   "metadata": {},
   "outputs": [
    {
     "output_type": "display_data",
     "data": {
      "text/plain": "<IPython.core.display.Latex object>",
      "text/latex": "\\[\n\\begin{aligned}\n\\alpha_{1r} &= \\left( \\mathrm{ratio}_{2} \\cdot E \\cdot \\mu + \\mathrm{ratio}_{3} \\right) \\cdot \\left( \\frac{ \\psi_{z} \\cdot \\alpha_{k} }{ 1 + \\epsilon \\cdot \\psi_{z} \\cdot \\alpha_{k} } \\right) \\\\&= \\left( 9{,}304 \\times 10 ^ {-1 } \\cdot 0{,}86 \\cdot 1 + 6{,}957 \\times 10 ^ {-2 } \\right) \\cdot \\left( \\frac{ 0{,}85 \\cdot 37{,}483 }{ 1 + 4{,}500 \\times 10 ^ {-3 } \\cdot 0{,}85 \\cdot 37{,}483 } \\right) \\\\&= 24{,}236 \\; \\;\\textrm{(W/m2K)}\\\\\n\\end{aligned}\n\\]"
     },
     "metadata": {}
    }
   ],
   "source": [
    "%%render\n",
    "alpha_1r = (ratio_2*E*mu+ratio_3)*((psi_z*alpha_k)/(1+epsilon*psi_z*alpha_k))   #W/m2K"
   ]
  },
  {
   "source": [
    "Povrch jednoho žebra"
   ],
   "cell_type": "markdown",
   "metadata": {}
  },
  {
   "cell_type": "code",
   "execution_count": 270,
   "metadata": {},
   "outputs": [
    {
     "output_type": "display_data",
     "data": {
      "text/plain": "<IPython.core.display.Latex object>",
      "text/latex": "\\[\n\\begin{aligned}\nS_{1z} &= \\left( \\frac{ 2 \\cdot \\pi \\cdot \\left( \\left( D_{z} \\right) ^{ 2 } - \\left( D \\right) ^{ 2 } \\right) }{ 4 } \\right) + \\pi \\cdot D_{z} \\cdot t_{z} \\\\&= \\left( \\frac{ 2 \\cdot 3{,}142 \\cdot \\left( \\left( 0{,}07 \\right) ^{ 2 } - \\left( 0{,}038 \\right) ^{ 2 } \\right) }{ 4 } \\right) + 3{,}142 \\cdot 0{,}07 \\cdot 0{,}001 \\\\&= 5{,}649 \\times 10 ^ {-3 } \\; \\;\\textrm{(m2)}\\\\\n\\end{aligned}\n\\]"
     },
     "metadata": {}
    }
   ],
   "source": [
    "%%render\n",
    "S_1z = ((2*pi*(D_z**2-D**2))/4)+pi*D_z*t_z  #m2"
   ]
  },
  {
   "source": [
    "Celkový vnější povrch jedné jeden metr dlouhé trubky se žebry"
   ],
   "cell_type": "markdown",
   "metadata": {}
  },
  {
   "cell_type": "code",
   "execution_count": 271,
   "metadata": {},
   "outputs": [
    {
     "output_type": "display_data",
     "data": {
      "text/plain": "<IPython.core.display.Latex object>",
      "text/latex": "\\[\n\\begin{aligned}\nS_{1m} &= \\pi \\cdot D \\cdot \\left( 1 - n_{z} \\cdot t_{z} \\right) + n_{z} \\cdot S_{1z} \\\\&= 3{,}142 \\cdot 0{,}038 \\cdot \\left( 1 - 260 \\cdot 0{,}001 \\right) + 260 \\cdot 5{,}649 \\times 10 ^ {-3 } \\\\&= 1{,}557 \\; \\;\\textrm{(m2)}\\\\\n\\end{aligned}\n\\]"
     },
     "metadata": {}
    }
   ],
   "source": [
    "%%render\n",
    "S_1m = pi*D*(1-n_z*t_z)+n_z*S_1z    #m2"
   ]
  },
  {
   "source": [
    "Celkový vnitřní povrch jedné jeden metr dlouhé trubky se žebry"
   ],
   "cell_type": "markdown",
   "metadata": {}
  },
  {
   "cell_type": "code",
   "execution_count": 272,
   "metadata": {},
   "outputs": [
    {
     "output_type": "display_data",
     "data": {
      "text/plain": "<IPython.core.display.Latex object>",
      "text/latex": "\\[\n\\begin{aligned}\nS_{2m} &= \\pi \\cdot d  = 3{,}142 \\cdot 3{,}220 \\times 10 ^ {-2 } &= 1{,}012 \\times 10 ^ {-1 } \\; \\;\\textrm{(m2)}\n\\end{aligned}\n\\]"
     },
     "metadata": {}
    }
   ],
   "source": [
    "%%render\n",
    "S_2m = pi*d #m2"
   ]
  },
  {
   "source": [
    "#### Součinitel prostupu tepla k"
   ],
   "cell_type": "markdown",
   "metadata": {}
  },
  {
   "cell_type": "code",
   "execution_count": 273,
   "metadata": {},
   "outputs": [
    {
     "output_type": "display_data",
     "data": {
      "text/plain": "<IPython.core.display.Latex object>",
      "text/latex": "\\[\n\\begin{aligned}\n\\psi_{evap} &= 0{,}8 \\; \\;\\textrm{(zadáno v podkladech pro výpočet)}\n\\\\[10pt]\nk &= \\psi_{evap} \\cdot \\alpha_{1r}  = 0{,}8 \\cdot 24{,}236 &= 19{,}389 \\; \\;\\textrm{(W/m2K)}\n\\end{aligned}\n\\]"
     },
     "metadata": {}
    }
   ],
   "source": [
    "%%render\n",
    "psi_evap = 0.8  #zadáno v podkladech pro výpočet\n",
    "k = psi_evap * alpha_1r    #W/m2K"
   ]
  },
  {
   "source": [
    "### Počet řad výparníku 2"
   ],
   "cell_type": "markdown",
   "metadata": {}
  },
  {
   "source": [
    "Rozdíly teplot pro výpočet středního logaritmického spádu:"
   ],
   "cell_type": "markdown",
   "metadata": {}
  },
  {
   "cell_type": "code",
   "execution_count": 274,
   "metadata": {},
   "outputs": [
    {
     "output_type": "display_data",
     "data": {
      "text/plain": "<IPython.core.display.Latex object>",
      "text/latex": "\\[\n\\begin{aligned}\n\\Delta_{t_{1}} &= t_{D} - t_{4}  = 366 - 240{,}565 &= 125{,}435  \n\\\\[10pt]\n\\Delta_{t_{2}} &= t_{E} - t_{5}  = 254 - 240{,}565 &= 13{,}435  \n\\end{aligned}\n\\]"
     },
     "metadata": {}
    }
   ],
   "source": [
    "%%render\n",
    "Delta_t_1 = t_D-t_4\n",
    "Delta_t_2 = t_E-t_5"
   ]
  },
  {
   "source": [
    "Střední logaritmický teplotní spád"
   ],
   "cell_type": "markdown",
   "metadata": {}
  },
  {
   "cell_type": "code",
   "execution_count": 275,
   "metadata": {},
   "outputs": [
    {
     "output_type": "display_data",
     "data": {
      "text/plain": "<IPython.core.display.Latex object>",
      "text/latex": "\\[\n\\begin{aligned}\n\\Delta_{t_{LN}} &= \\frac{ \\Delta_{t_{1}} - \\Delta_{t_{2}} }{ \\ln \\left( \\frac{ \\Delta_{t_{1}} }{ \\Delta_{t_{2}} } \\right) }  = \\frac{ 125{,}435 - 13{,}435 }{ \\ln \\left( \\frac{ 125{,}435 }{ 13{,}435 } \\right) } &= 50{,}137 \\; \\;\\textrm{(K)}\n\\end{aligned}\n\\]"
     },
     "metadata": {}
    }
   ],
   "source": [
    "%%render\n",
    "Delta_t_LN = (Delta_t_1-Delta_t_2)/log(Delta_t_1/Delta_t_2) #K"
   ]
  },
  {
   "source": [
    "Vnější teplosměnná plocha\n",
    "\n",
    "UPRAVIT Q_V ZA SPRAVNOU HODNOTU, Q_V SE TYKA CELEHO VYPARNIKU, ALE JSOU ROZDELENE NA 2"
   ],
   "cell_type": "markdown",
   "metadata": {}
  },
  {
   "cell_type": "code",
   "execution_count": 276,
   "metadata": {},
   "outputs": [
    {
     "output_type": "display_data",
     "data": {
      "text/plain": "<IPython.core.display.Latex object>",
      "text/latex": "\\[\n\\begin{aligned}\nS_{SP} &= \\frac{ 1000 \\cdot Q_{V} }{ k \\cdot \\Delta_{t_{LN}} }  = \\frac{ 1000 \\cdot 36579{,}719 }{ 19{,}389 \\cdot 50{,}137 } &= 37630{,}468 \\; \\;\\textrm{(m2)}\n\\end{aligned}\n\\]"
     },
     "metadata": {}
    }
   ],
   "source": [
    "%%render\n",
    "S_SP = (1000*Q_V)/(k*Delta_t_LN)   #m2"
   ]
  },
  {
   "source": [
    "Počet řad"
   ],
   "cell_type": "markdown",
   "metadata": {}
  },
  {
   "cell_type": "code",
   "execution_count": 277,
   "metadata": {},
   "outputs": [
    {
     "output_type": "display_data",
     "data": {
      "text/plain": "<IPython.core.display.Latex object>",
      "text/latex": "\\[\n\\begin{aligned}\nn_{rad} &= \\frac{ S_{SP} }{ H \\cdot S_{1m} \\cdot n_{tr} }  = \\frac{ 37630{,}468 }{ 27{,}0 \\cdot 1{,}557 \\cdot 34{,}0 } &= 26{,}328  \n\\end{aligned}\n\\]"
     },
     "metadata": {}
    }
   ],
   "source": [
    "%%render\n",
    "n_rad = S_SP/(H*S_1m*n_tr)"
   ]
  },
  {
   "cell_type": "code",
   "execution_count": 278,
   "metadata": {},
   "outputs": [
    {
     "output_type": "execute_result",
     "data": {
      "text/plain": [
       "26.0"
      ]
     },
     "metadata": {},
     "execution_count": 278
    }
   ],
   "source": [
    "n_rad = round(n_rad,0)\n",
    "n_rad"
   ]
  },
  {
   "source": [
    "### Skutečné parametry ve výparníku"
   ],
   "cell_type": "markdown",
   "metadata": {}
  },
  {
   "source": [
    "Skutečná plocha"
   ],
   "cell_type": "markdown",
   "metadata": {}
  },
  {
   "cell_type": "code",
   "execution_count": 279,
   "metadata": {},
   "outputs": [
    {
     "output_type": "display_data",
     "data": {
      "text/plain": "<IPython.core.display.Latex object>",
      "text/latex": "\\[\n\\begin{aligned}\nS_{SP_{skut}} &= n_{rad} \\cdot n_{tr} \\cdot H \\cdot S_{1m}  = 26{,}0 \\cdot 34{,}0 \\cdot 27{,}0 \\cdot 1{,}557 &= 37161{,}839 \\; \\;\\textrm{(m2)}\n\\end{aligned}\n\\]"
     },
     "metadata": {}
    }
   ],
   "source": [
    "%%render\n",
    "S_SP_skut = n_rad*n_tr*H*S_1m   #m2"
   ]
  },
  {
   "source": [
    "Skutečné teplo předané ve výparníku 2"
   ],
   "cell_type": "markdown",
   "metadata": {}
  },
  {
   "cell_type": "code",
   "execution_count": 280,
   "metadata": {},
   "outputs": [
    {
     "output_type": "display_data",
     "data": {
      "text/plain": "<IPython.core.display.Latex object>",
      "text/latex": "\\[\n\\begin{aligned}\nQ_{V_{skut}} &= \\frac{ k \\cdot S_{SP_{skut}} \\cdot \\Delta_{t_{LN}} }{ 1000 }  = \\frac{ 19{,}389 \\cdot 37161{,}839 \\cdot 50{,}137 }{ 1000 } &= 36124{,}176 \\; \\;\\textrm{(kW)}\n\\end{aligned}\n\\]"
     },
     "metadata": {}
    }
   ],
   "source": [
    "%%render\n",
    "Q_V_skut = (k*S_SP_skut*Delta_t_LN)/1000   #kW"
   ]
  },
  {
   "source": [
    "Rozdíl tepel"
   ],
   "cell_type": "markdown",
   "metadata": {}
  },
  {
   "cell_type": "code",
   "execution_count": 281,
   "metadata": {},
   "outputs": [
    {
     "output_type": "display_data",
     "data": {
      "text/plain": "<IPython.core.display.Latex object>",
      "text/latex": "\\[\n\\begin{aligned}\n\\Delta_{Qcon} &= 100 \\cdot \\operatorname{abs} { \\left( \\frac{ Q_{V_{skut}} - Q_{V} }{ Q_{V_{skut}} } \\right) }  = 100 \\cdot \\operatorname{abs} { \\left( \\frac{ 36124{,}176 - 36579{,}719 }{ 36124{,}176 } \\right) } &= 1{,}261 \\; \\;\\textrm{(%)}\n\\end{aligned}\n\\]"
     },
     "metadata": {}
    }
   ],
   "source": [
    "%%render\n",
    "Delta_Qcon = 100*(abs((Q_V_skut-Q_V)/Q_V_skut))    #%"
   ]
  },
  {
   "source": [
    "Rozdíl teplot nemá smysl počítat, teplota se nemění, protože probíhá vypařování"
   ],
   "cell_type": "markdown",
   "metadata": {}
  },
  {
   "cell_type": "code",
   "execution_count": 282,
   "metadata": {},
   "outputs": [],
   "source": [
    "MEZERA = ''\n",
    "material = 'Uhlíková ocel'\n",
    "data_V2 = {\n",
    "    'Hodnota':\n",
    "    [1000*D,1000*t_tr,1000*d,1000*h_z,1000*t_z,1000*s_z, n_z,1000*s_1,1000*s_2,D_z,S_1z,S_1m,S_SP, MEZERA,c_z,alpha_k,psi_z,lambda_z,epsilon,beta,E,mu,alpha_1r,k,Delta_t_LN,MEZERA,Delta_Qcon,MEZERA,n_tr,n_rad,material],\n",
    "\n",
    "    'Jednotka': \n",
    "    ['mm','mm','mm','mm','mm','mm','-','mm','mm','mm','m2','m2','m2',MEZERA,'-','kW/m2K','-','kW/mK','-','-','-','-','kW/m2K','kW/m2K','K',MEZERA,'%',MEZERA,'-','-','-']\n",
    "\n",
    "    }\n",
    "zkratky = ['D','t_tr','d','h_z','t_z','s_z','n_z','s_1','s_2','D_z','S_1z','S_1m','S_SP',MEZERA,'c_z','alpha_k','psi_z','lambda_z','epsilon','beta','E','mu','alpha_1r','k','Delta_t_LN',MEZERA,'Delta_Qcon',MEZERA,'n_tr','n_rad','Materiál']\n",
    "output_table = pd.DataFrame(data_V2, index = zkratky)"
   ]
  },
  {
   "cell_type": "code",
   "execution_count": 283,
   "metadata": {},
   "outputs": [
    {
     "output_type": "execute_result",
     "data": {
      "text/plain": [
       "                  Hodnota Jednotka\n",
       "D                      38       mm\n",
       "t_tr                  2.9       mm\n",
       "d                    32.2       mm\n",
       "h_z                    16       mm\n",
       "t_z                     1       mm\n",
       "s_z                   4.4       mm\n",
       "n_z                   260        -\n",
       "s_1                    88       mm\n",
       "s_2                    88       mm\n",
       "D_z                  0.07       mm\n",
       "S_1z              0.00565       m2\n",
       "S_1m                 1.56       m2\n",
       "S_SP             3.76e+04       m2\n",
       "                                  \n",
       "c_z                     1        -\n",
       "alpha_k              37.5   kW/m2K\n",
       "psi_z                0.85        -\n",
       "lambda_z               40    kW/mK\n",
       "epsilon            0.0045        -\n",
       "beta                 37.3        -\n",
       "E                    0.86        -\n",
       "mu                      1        -\n",
       "alpha_1r             24.2   kW/m2K\n",
       "k                    19.4   kW/m2K\n",
       "Delta_t_LN           50.1        K\n",
       "                                  \n",
       "Delta_Qcon           1.26        %\n",
       "                                  \n",
       "n_tr                   34        -\n",
       "n_rad                  26        -\n",
       "Materiál    Uhlíková ocel        -"
      ],
      "text/html": "<div>\n<style scoped>\n    .dataframe tbody tr th:only-of-type {\n        vertical-align: middle;\n    }\n\n    .dataframe tbody tr th {\n        vertical-align: top;\n    }\n\n    .dataframe thead th {\n        text-align: right;\n    }\n</style>\n<table border=\"1\" class=\"dataframe\">\n  <thead>\n    <tr style=\"text-align: right;\">\n      <th></th>\n      <th>Hodnota</th>\n      <th>Jednotka</th>\n    </tr>\n  </thead>\n  <tbody>\n    <tr>\n      <th>D</th>\n      <td>38</td>\n      <td>mm</td>\n    </tr>\n    <tr>\n      <th>t_tr</th>\n      <td>2.9</td>\n      <td>mm</td>\n    </tr>\n    <tr>\n      <th>d</th>\n      <td>32.2</td>\n      <td>mm</td>\n    </tr>\n    <tr>\n      <th>h_z</th>\n      <td>16</td>\n      <td>mm</td>\n    </tr>\n    <tr>\n      <th>t_z</th>\n      <td>1</td>\n      <td>mm</td>\n    </tr>\n    <tr>\n      <th>s_z</th>\n      <td>4.4</td>\n      <td>mm</td>\n    </tr>\n    <tr>\n      <th>n_z</th>\n      <td>260</td>\n      <td>-</td>\n    </tr>\n    <tr>\n      <th>s_1</th>\n      <td>88</td>\n      <td>mm</td>\n    </tr>\n    <tr>\n      <th>s_2</th>\n      <td>88</td>\n      <td>mm</td>\n    </tr>\n    <tr>\n      <th>D_z</th>\n      <td>0.07</td>\n      <td>mm</td>\n    </tr>\n    <tr>\n      <th>S_1z</th>\n      <td>0.00565</td>\n      <td>m2</td>\n    </tr>\n    <tr>\n      <th>S_1m</th>\n      <td>1.56</td>\n      <td>m2</td>\n    </tr>\n    <tr>\n      <th>S_SP</th>\n      <td>3.76e+04</td>\n      <td>m2</td>\n    </tr>\n    <tr>\n      <th></th>\n      <td></td>\n      <td></td>\n    </tr>\n    <tr>\n      <th>c_z</th>\n      <td>1</td>\n      <td>-</td>\n    </tr>\n    <tr>\n      <th>alpha_k</th>\n      <td>37.5</td>\n      <td>kW/m2K</td>\n    </tr>\n    <tr>\n      <th>psi_z</th>\n      <td>0.85</td>\n      <td>-</td>\n    </tr>\n    <tr>\n      <th>lambda_z</th>\n      <td>40</td>\n      <td>kW/mK</td>\n    </tr>\n    <tr>\n      <th>epsilon</th>\n      <td>0.0045</td>\n      <td>-</td>\n    </tr>\n    <tr>\n      <th>beta</th>\n      <td>37.3</td>\n      <td>-</td>\n    </tr>\n    <tr>\n      <th>E</th>\n      <td>0.86</td>\n      <td>-</td>\n    </tr>\n    <tr>\n      <th>mu</th>\n      <td>1</td>\n      <td>-</td>\n    </tr>\n    <tr>\n      <th>alpha_1r</th>\n      <td>24.2</td>\n      <td>kW/m2K</td>\n    </tr>\n    <tr>\n      <th>k</th>\n      <td>19.4</td>\n      <td>kW/m2K</td>\n    </tr>\n    <tr>\n      <th>Delta_t_LN</th>\n      <td>50.1</td>\n      <td>K</td>\n    </tr>\n    <tr>\n      <th></th>\n      <td></td>\n      <td></td>\n    </tr>\n    <tr>\n      <th>Delta_Qcon</th>\n      <td>1.26</td>\n      <td>%</td>\n    </tr>\n    <tr>\n      <th></th>\n      <td></td>\n      <td></td>\n    </tr>\n    <tr>\n      <th>n_tr</th>\n      <td>34</td>\n      <td>-</td>\n    </tr>\n    <tr>\n      <th>n_rad</th>\n      <td>26</td>\n      <td>-</td>\n    </tr>\n    <tr>\n      <th>Materiál</th>\n      <td>Uhlíková ocel</td>\n      <td>-</td>\n    </tr>\n  </tbody>\n</table>\n</div>"
     },
     "metadata": {},
     "execution_count": 283
    }
   ],
   "source": [
    "output_table\n",
    "\n",
    "# print(output_table.to_latex())"
   ]
  },
  {
   "source": [
    "# Ekonomizér 1"
   ],
   "cell_type": "markdown",
   "metadata": {}
  }
 ],
 "metadata": {
  "kernelspec": {
   "name": "python381jvsc74a57bd05d51d6ae34598c0fb6c991a1d00f12281f94b7bdfbe904ddf7a4d1c958631cdc",
   "display_name": "Python 3.8.1 64-bit"
  },
  "language_info": {
   "codemirror_mode": {
    "name": "ipython",
    "version": 3
   },
   "file_extension": ".py",
   "mimetype": "text/x-python",
   "name": "python",
   "nbconvert_exporter": "python",
   "pygments_lexer": "ipython3",
   "version": "3.8.1"
  }
 },
 "nbformat": 4,
 "nbformat_minor": 4
}