{
 "cells": [
  {
   "source": [
    "***\n",
    "# **Diplomová práce - výpočty**\n",
    "***\n",
    "### **Jméno:** Alois Primes\n",
    "### **Název práce:** MODULARNÍ HORIZONTÁLNÍ KOTEL – HRSG\n",
    "### **Zadání**\n",
    "**Stručná charakteristika problematiky úkolu:**\n",
    "\n",
    "Práce je zaměřena na návrh horizontálního kotle využívajícího spaliny za plynovou spalovací turbínou pro produkci páry k dalšímu energetickému využití. Kotel by měl být moderní konstrukce, zahrnující\n",
    "maximální prefabrikaci transportních bloků (modulů), která je ovlivněna podmínkami dopravního profilu na místo stavby. Kotel bude řešen jako modulární, s horizontálním prouděním spalin, konvekčním\n",
    "výparníkem, výhřevnými plochami ohříváku vody (ekonomizéry) a přehříváky páry s regulací teploty páry vstřikem napájecí vody, odebírané mezi dvěma ekonomizéry.\n",
    "\n",
    "**Základní parametry kotle jsou:** parní výkon 76 t/h, tlak 3,1 MPa, výstupní teplota 370 °C. Teplota\n",
    "napájecí vody kotle je 71°C. Další parametry kotle a odpadních spalin budou upřesněny v rámci\n",
    "realizace práce.\n",
    "\n",
    "**Cíle diplomové práce:**\n",
    "\n",
    "Zpracovat tepelný výpočet kotle.\n",
    "Zpracovat rozměrový návrh kotle, včetně základní výkresové dokumentace kotle a dispozičního\n",
    "řešení.\n",
    "Vyčíslit dosaženou účinnost kotle při vztažné teplotě 25 °C, použijte přímou metodu.\n",
    "Zpracovat diagram průběhu teploty pracovního média a spalin a stanovit bilanci vstřiku."
   ],
   "cell_type": "markdown",
   "metadata": {}
  },
  {
   "cell_type": "code",
   "execution_count": 1,
   "metadata": {},
   "outputs": [],
   "source": [
    "# Instalace a aktualizace modulů\n",
    "\n",
    "# !pip install --upgrade pip\n",
    "# !pip install --upgrade tabulate\n",
    "# !pip install --upgrade forallpeople\n",
    "# !pip install --upgrade handcalcs\n",
    "# !pip install --upgrade pytexit\n",
    "# !pip install --upgrade pyXSteam\n",
    "# !pip install --upgrade CoolProp"
   ]
  },
  {
   "cell_type": "code",
   "execution_count": 2,
   "metadata": {},
   "outputs": [],
   "source": [
    "# Import knihoven a modulů\n",
    "\n",
    "import pandas as pd\n",
    "from CoolProp.CoolProp import PropsSI\n",
    "import handcalcs.render\n",
    "from math import pi, e, sqrt, log\n",
    "from pyXSteam.XSteam import XSteam\n",
    "from tabulate import tabulate\n",
    "import pyromat as pm"
   ]
  },
  {
   "cell_type": "code",
   "execution_count": 3,
   "metadata": {},
   "outputs": [],
   "source": [
    "# Nastavení prostředí a modulů\n",
    "\n",
    "%decimal_separator ,\n",
    "steam = XSteam(XSteam.UNIT_SYSTEM_MKS) # Jednotky: m/kg/sec/°C/bar/W\n",
    "pd.set_option(\"display.precision\", 3)\n",
    "\n",
    "pm.config['unit_temperature'] = 'C'"
   ]
  },
  {
   "source": [
    "***\n",
    "## Základní parametry kotle\n",
    "***"
   ],
   "cell_type": "markdown",
   "metadata": {}
  },
  {
   "cell_type": "code",
   "execution_count": 4,
   "metadata": {},
   "outputs": [
    {
     "output_type": "display_data",
     "data": {
      "text/plain": "<IPython.core.display.Latex object>",
      "text/latex": "\\[\n\\begin{aligned}\nm_{p} &= 21{,}111 \\; \\;\\textrm{(kg/s)}\n &p_{out} &= 3{,}1 \\; \\;\\textrm{(MPa)}\n &t_{out} &= 370 \\; \\;\\textrm{(°C)}\n\\\\[10pt]\n t_{nv} &= 71 \\; \\;\\textrm{(°C)}\n &m_{vst} &= 0{,}36 \\; \\;\\textrm{(kg/s)}\n &t_{vst} &= 217 \\; \\;\\textrm{(°C)}\n\\\\[10pt]\\end{aligned}\n\\]"
     },
     "metadata": {}
    }
   ],
   "source": [
    "%%render params 3\n",
    "m_p = (76*1000)/3600        #kg/s\n",
    "p_out = 3.1                 #MPa\n",
    "t_out = 370                 #°C\n",
    "t_nv = 71                   #°C\n",
    "m_vst = 0.36                #kg/s\n",
    "t_vst = 217                 #°C"
   ]
  },
  {
   "source": [
    "***\n",
    "## Parametry spalin ze spalovací turbíny\n",
    "***"
   ],
   "cell_type": "markdown",
   "metadata": {}
  },
  {
   "cell_type": "code",
   "execution_count": 5,
   "metadata": {},
   "outputs": [],
   "source": [
    "R = 8.314462618 #J/kg/mol\n",
    "T = 273.15 #K"
   ]
  },
  {
   "source": [
    "#### Objemové složení spalin, hmotnostní průtok a teplota na vstupu do hořáku"
   ],
   "cell_type": "markdown",
   "metadata": {}
  },
  {
   "cell_type": "code",
   "execution_count": 6,
   "metadata": {},
   "outputs": [
    {
     "output_type": "display_data",
     "data": {
      "text/plain": "<IPython.core.display.Latex object>",
      "text/latex": "\\[\n\\begin{aligned}\nm_{sp} &= 130{,}1 \\; \\;\\textrm{(kg/s)}\n &t_{sp} &= 562{,}0 \\; \\;\\textrm{(°C)}\n &x_{N2} &= 7{,}457 \\times 10 ^ {-1 } \\; \n\\\\[10pt]\n x_{O2} &= 1{,}289 \\times 10 ^ {-1 } \\; \n &x_{H2O} &= 8{,}010 \\times 10 ^ {-2 } \\; \n &x_{CO2} &= 3{,}640 \\times 10 ^ {-2 } \\; \n\\\\[10pt]\n x_{Ar} &= 8{,}900 \\times 10 ^ {-3 } \\;\\end{aligned}\n\\]"
     },
     "metadata": {}
    }
   ],
   "source": [
    "%%render params 3\n",
    "m_sp = 130.1    #kg/s\n",
    "t_sp = 562.0    #°C\n",
    "\n",
    "# Objemové složení spalin\n",
    "x_N2 = 0.7457\n",
    "x_O2 = 0.1289\n",
    "x_H2O = 0.0801\n",
    "x_CO2 = 0.0364\n",
    "x_Ar = 0.0089"
   ]
  },
  {
   "source": [
    "#### Molární hmotnosti spalin"
   ],
   "cell_type": "markdown",
   "metadata": {}
  },
  {
   "cell_type": "code",
   "execution_count": 7,
   "metadata": {},
   "outputs": [
    {
     "output_type": "display_data",
     "data": {
      "text/plain": "<IPython.core.display.Latex object>",
      "text/latex": "\\[\n\\begin{aligned}\nM_{N2} &= 0{,}028 \\; \\;\\textrm{(kg/mol)}\n &M_{O2} &= 0{,}032 \\; \\;\\textrm{(kg/mol)}\n &M_{H2O} &= 0{,}018 \\; \\;\\textrm{(kg/mol)}\n\\\\[10pt]\n M_{CO2} &= 0{,}044 \\; \\;\\textrm{(kg/mol)}\n &M_{Ar} &= 3{,}995 \\times 10 ^ {-2 } \\; \\;\\textrm{(kg/mol)}\\end{aligned}\n\\]"
     },
     "metadata": {}
    }
   ],
   "source": [
    "%%render params 3\n",
    "\n",
    "# Molární hmotnost složek spalin (z podkladů)\n",
    "M_N2 = 28.0134e-03      #kg/mol\n",
    "M_O2 = 31.9988e-03      #kg/mol\n",
    "M_H2O = 18.0152e-03     #kg/mol\n",
    "M_CO2 = 44.0095e-03     #kg/mol\n",
    "M_Ar = 39.9480e-03      #kg/mol"
   ]
  },
  {
   "source": [
    "#### Hustota složek spalin (z podkladů)"
   ],
   "cell_type": "markdown",
   "metadata": {}
  },
  {
   "cell_type": "code",
   "execution_count": 8,
   "metadata": {},
   "outputs": [
    {
     "output_type": "display_data",
     "data": {
      "text/plain": "<IPython.core.display.Latex object>",
      "text/latex": "\\[\n\\begin{aligned}\n\\rho_{N2} &= 1{,}25 \\; \\;\\textrm{(kg/m3)}\n &\\rho_{O2} &= 1{,}429 \\; \\;\\textrm{(kg/m3)}\n &\\rho_{H2O} &= 8{,}038 \\times 10 ^ {-1 } \\; \\;\\textrm{(kg/m3)}\n\\\\[10pt]\n \\rho_{CO2} &= 1{,}977 \\; \\;\\textrm{(kg/m3)}\n &\\rho_{Ar} &= 1{,}784 \\; \\;\\textrm{(kg/m3)}\n &\\rho_{sp} &= 1{,}269 \\; \\;\\textrm{(kg/m3)}\n\\\\[10pt]\\end{aligned}\n\\]"
     },
     "metadata": {}
    }
   ],
   "source": [
    "%%render params\n",
    "rho_N2 = 1.2504     #kg/m3\n",
    "rho_O2 = 1.4290     #kg/m3\n",
    "rho_H2O = 0.8038    #kg/m3\n",
    "rho_CO2 = 1.9772    #kg/m3\n",
    "rho_Ar = 1.7840     #kg/m3\n",
    "rho_sp = x_N2*rho_N2 + x_O2*rho_O2 + x_H2O*rho_H2O + x_CO2*rho_CO2 + x_Ar*rho_Ar #kg/m3"
   ]
  },
  {
   "source": [
    "#### Hmotnostní procenta (-)"
   ],
   "cell_type": "markdown",
   "metadata": {}
  },
  {
   "cell_type": "code",
   "execution_count": 9,
   "metadata": {},
   "outputs": [],
   "source": [
    "# Hmotnosti\n",
    "m_N2 = x_N2*rho_N2                      #kg\n",
    "m_O2 = x_O2*rho_O2                      #kg\n",
    "m_H2O = x_H2O*rho_H2O                   #kg\n",
    "m_CO2 = x_CO2*rho_CO2                   #kg\n",
    "m_Ar = x_Ar*rho_Ar                      #kg"
   ]
  },
  {
   "cell_type": "code",
   "execution_count": 10,
   "metadata": {},
   "outputs": [],
   "source": [
    "# Hmotnostní podíl\n",
    "w_N2 = m_N2/rho_sp                        #kg\n",
    "w_O2 = m_O2/rho_sp                        #kg\n",
    "w_H2O = m_H2O/rho_sp                      #kg\n",
    "w_CO2 = m_CO2/rho_sp                      #kg\n",
    "w_Ar = m_Ar/rho_sp                        #kg"
   ]
  },
  {
   "source": [
    "#### Objemový průtok spalin"
   ],
   "cell_type": "markdown",
   "metadata": {}
  },
  {
   "cell_type": "code",
   "execution_count": 11,
   "metadata": {},
   "outputs": [
    {
     "output_type": "display_data",
     "data": {
      "text/plain": "<IPython.core.display.Latex object>",
      "text/latex": "\\[\n\\begin{aligned}\nV_{sp} &= \\frac{ m_{sp} }{ \\rho_{sp} }  = \\frac{ 130{,}1 }{ 1{,}269 } &= 102{,}534 \\; \\;\\textrm{(m3n/s)}\n\\end{aligned}\n\\]"
     },
     "metadata": {}
    }
   ],
   "source": [
    "%%render\n",
    "V_sp = m_sp/rho_sp #m3n/s"
   ]
  },
  {
   "source": [
    "Hmotnostní průtok páry po odběru vstřiku"
   ],
   "cell_type": "markdown",
   "metadata": {}
  },
  {
   "cell_type": "code",
   "execution_count": 12,
   "metadata": {},
   "outputs": [
    {
     "output_type": "display_data",
     "data": {
      "text/plain": "<IPython.core.display.Latex object>",
      "text/latex": "\\[\n\\begin{aligned}\nm_{p2} &= m_{p} - m_{vst}  = 21{,}111 - 0{,}36 &= 20{,}751 \\; \\;\\textrm{(kg/s)}\n\\end{aligned}\n\\]"
     },
     "metadata": {}
    }
   ],
   "source": [
    "%%render\n",
    "m_p2 = m_p-m_vst    #kg/s"
   ]
  },
  {
   "cell_type": "code",
   "execution_count": 13,
   "metadata": {},
   "outputs": [
    {
     "output_type": "display_data",
     "data": {
      "text/plain": "<IPython.core.display.Latex object>",
      "text/latex": "\\[\n\\begin{aligned}\nv_{N2} &= 22{,}403 \\; \\;\\textrm{(m3/kg)}\n &v_{O2} &= 22{,}392 \\; \\;\\textrm{(m3/kg)}\n &v_{H2O} &= 22{,}414 \\; \\;\\textrm{(m3/kg)}\n\\\\[10pt]\n v_{CO2} &= 22{,}258 \\; \\;\\textrm{(m3/kg)}\n &v_{Ar} &= 22{,}393 \\; \\;\\textrm{(m3/kg)}\\end{aligned}\n\\]"
     },
     "metadata": {}
    }
   ],
   "source": [
    "%%render params 3\n",
    "\n",
    "# Měrný objem složek spalin (z podkladů)\n",
    "v_N2 = 22.403     #m3/kg\n",
    "v_O2 = 22.392     #m3/kg\n",
    "v_H2O = 22.414    #m3/kg\n",
    "v_CO2 = 22.258    #m3/kg\n",
    "v_Ar = 22.393     #m3/kg"
   ]
  },
  {
   "source": [
    "#### Entalpie spalin (z modulu PyroMat - shodné s poskytnutými materiály)"
   ],
   "cell_type": "markdown",
   "metadata": {}
  },
  {
   "cell_type": "code",
   "execution_count": 14,
   "metadata": {},
   "outputs": [],
   "source": [
    "N2 = pm.get('ig.N2')\n",
    "O2 = pm.get('ig.O2')\n",
    "H2O = pm.get('ig.H2O')\n",
    "CO2 = pm.get('ig.CO2')\n",
    "Ar = pm.get('ig.Ar')"
   ]
  },
  {
   "cell_type": "code",
   "execution_count": 15,
   "metadata": {},
   "outputs": [],
   "source": [
    "def entalpie_sp(teplota, jednotka=''):\n",
    "\n",
    "    \"\"\"\n",
    "    teplota = zadávat ve °C\n",
    "    jednotka = volba mezi 'kg' / 'm3n'\n",
    "\n",
    "    Vypočítá entalpii [kJ/kg nebo kJ/m3n] spalin při dané teplotě [°C] vzhledem k entalpii daného prvku při 0°C. Výstupem je dictionary. Pro zobrazení entalpie prvku  dané teploty je nutné vybrat daný prvek nebo spaliny ['N2', 'O2', 'H2O', 'CO2', 'Ar', 'sp']. Výstupem pro jeden konkrétní prvek je float.\n",
    "    \"\"\"\n",
    "\n",
    "    h_N2 = float(N2.h(teplota)-N2.h(0)) #kJ/kg\n",
    "    I_N2 = h_N2*rho_sp\n",
    "\n",
    "    h_O2 = float(O2.h(teplota)-O2.h(0)) #kJ/kg\n",
    "    I_O2 = h_O2*rho_sp\n",
    "\n",
    "    h_H2O = float(H2O.h(teplota)-H2O.h(0)) #kJ/kg\n",
    "    I_H2O = h_H2O*rho_sp\n",
    "\n",
    "    h_CO2 = float(CO2.h(teplota)-CO2.h(0)) #kJ/kg\n",
    "    I_CO2 = h_CO2*rho_sp\n",
    "\n",
    "    h_Ar = float(Ar.h(teplota)-Ar.h(0)) #kJ/kg\n",
    "    I_Ar = h_Ar*rho_sp\n",
    "\n",
    "    h_spalin = w_N2*h_N2 + w_O2*h_O2 + w_H2O*h_H2O + w_CO2*h_CO2 + w_Ar*h_Ar #kJ/kg\n",
    "    I_spalin = w_N2*I_N2 + w_O2*I_O2 + w_H2O*I_H2O + w_CO2*I_CO2 + w_Ar*I_Ar #kJ/m3n\n",
    "\n",
    "\n",
    "    if jednotka == 'kg':\n",
    "        return {'N2': h_N2, 'O2': h_O2, 'H2O': h_H2O , 'CO2': h_CO2, 'Ar': h_Ar, 'sp': h_spalin}\n",
    "    elif jednotka == 'm3n':\n",
    "        return {'N2': I_N2, 'O2': I_O2, 'H2O': I_H2O , 'CO2': I_CO2, 'Ar': I_Ar, 'sp': I_spalin}\n",
    "    else:\n",
    "        print('Nutno zadat jednotku - kg / m3n!')"
   ]
  },
  {
   "cell_type": "code",
   "execution_count": 194,
   "metadata": {},
   "outputs": [],
   "source": []
  },
  {
   "source": [
    "Interpolace"
   ],
   "cell_type": "markdown",
   "metadata": {}
  },
  {
   "cell_type": "code",
   "execution_count": 16,
   "metadata": {},
   "outputs": [],
   "source": [
    "def lambda_interpolate(teplota):\n",
    "    t_min = (int(teplota/100))*100\n",
    "    t_max = (int(teplota/100)+1)*100\n",
    "\n",
    "    lambda_init = float(lambda_tabulka_print.loc[t_min,\"8 % H2O\"])\n",
    "    delta_T = teplota-t_min\n",
    "    delta_lambda = lambda_tabulka_print.loc[t_max,\"8 % H2O\"]-lambda_tabulka_print.loc[t_min,\"8 % H2O\"]\n",
    "    vysledek = (lambda_init + delta_T*(delta_lambda/(t_max-t_min)))*10**-3\n",
    "    return vysledek"
   ]
  },
  {
   "cell_type": "code",
   "execution_count": 17,
   "metadata": {},
   "outputs": [],
   "source": [
    "def nu_interpolate(teplota):\n",
    "    t_min = (int(teplota/100))*100\n",
    "    t_max = (int(teplota/100)+1)*100\n",
    "\n",
    "    nu_init = float(nu_tabulka_print.loc[t_min,\"8 % H2O\"])\n",
    "    delta_T = teplota-t_min\n",
    "    delta_nu = nu_tabulka_print.loc[t_max,\"8 % H2O\"]-nu_tabulka_print.loc[t_min,\"8 % H2O\"]\n",
    "    vysledek = (nu_init + delta_T*(delta_nu/(t_max-t_min)))*10**-6\n",
    "    return vysledek\n"
   ]
  },
  {
   "cell_type": "code",
   "execution_count": 18,
   "metadata": {},
   "outputs": [],
   "source": [
    "def Pr_interpolate(teplota):\n",
    "    t_min = (int(teplota/100))*100\n",
    "    t_max = (int(teplota/100)+1)*100\n",
    "\n",
    "    Pr_init = float(Pr_tabulka_print.loc[t_min,\"8 % H2O\"])\n",
    "    delta_T = teplota-t_min\n",
    "    delta_Pr = Pr_tabulka_print.loc[t_max,\"8 % H2O\"]-Pr_tabulka_print.loc[t_min,\"8 % H2O\"]\n",
    "    vysledek = (Pr_init + delta_T*(delta_Pr/(t_max-t_min)))\n",
    "    return vysledek"
   ]
  },
  {
   "source": [
    "### <u>Bod A (Vstup spalin - za hořákem)"
   ],
   "cell_type": "markdown",
   "metadata": {}
  },
  {
   "cell_type": "code",
   "execution_count": 19,
   "metadata": {},
   "outputs": [
    {
     "output_type": "display_data",
     "data": {
      "text/plain": "<IPython.core.display.Latex object>",
      "text/latex": "\\[\n\\begin{aligned}\nt_{A} &= 562{,}0 \\; \\;\\textrm{(°C)}\n\\\\[10pt]\nI_{A_{sp}} &= 782{,}789 \\; \\;\\textrm{(kJ/m3n)}\n\\end{aligned}\n\\]"
     },
     "metadata": {}
    }
   ],
   "source": [
    "%%render\n",
    "t_A = t_sp #°C\n",
    "I_A_sp = entalpie_sp(t_A, 'm3n')['sp']  #kJ/m3n"
   ]
  },
  {
   "source": [
    "### Bod B (za druhým přehřívákem)"
   ],
   "cell_type": "markdown",
   "metadata": {}
  },
  {
   "cell_type": "code",
   "execution_count": 20,
   "metadata": {},
   "outputs": [
    {
     "output_type": "display_data",
     "data": {
      "text/plain": "<IPython.core.display.Latex object>",
      "text/latex": "\\[\n\\begin{aligned}\nt_{B} &= 549 \\; \\;\\textrm{(°C)}\n\\\\[10pt]\nI_{B_{sp}} &= 763{,}535 \\; \\;\\textrm{(kJ/m3n)}\n\\end{aligned}\n\\]"
     },
     "metadata": {}
    }
   ],
   "source": [
    "%%render\n",
    "t_B = 549 #°C\n",
    "I_B_sp = entalpie_sp(t_B,'m3n')['sp'] #kJ/m3n"
   ]
  },
  {
   "source": [
    "### Bod C (za prvním přehřívákem)"
   ],
   "cell_type": "markdown",
   "metadata": {}
  },
  {
   "cell_type": "code",
   "execution_count": 21,
   "metadata": {},
   "outputs": [
    {
     "output_type": "display_data",
     "data": {
      "text/plain": "<IPython.core.display.Latex object>",
      "text/latex": "\\[\n\\begin{aligned}\nt_{C} &= 507 \\; \\;\\textrm{(°C)}\n\\\\[10pt]\nI_{C_{sp}} &= 701{,}73 \\; \\;\\textrm{(kJ/m3n)}\n\\end{aligned}\n\\]"
     },
     "metadata": {}
    }
   ],
   "source": [
    "%%render\n",
    "t_C = 507 #°C\n",
    "I_C_sp = entalpie_sp(t_C, 'm3n')['sp'] #kJ/m3n"
   ]
  },
  {
   "source": [
    "### Bod D (za druhým výparníkem)"
   ],
   "cell_type": "markdown",
   "metadata": {}
  },
  {
   "cell_type": "code",
   "execution_count": 22,
   "metadata": {},
   "outputs": [
    {
     "output_type": "display_data",
     "data": {
      "text/plain": "<IPython.core.display.Latex object>",
      "text/latex": "\\[\n\\begin{aligned}\nt_{D} &= 366 \\; \\;\\textrm{(°C)}\n\\\\[10pt]\nI_{D_{sp}} &= 498{,}778 \\; \\;\\textrm{(kJ/m3n)}\n\\end{aligned}\n\\]"
     },
     "metadata": {}
    }
   ],
   "source": [
    "%%render\n",
    "t_D = 366 #°C\n",
    "I_D_sp = entalpie_sp(t_D, 'm3n')['sp'] #kJ/m3n"
   ]
  },
  {
   "source": [
    "### Bod E (za prvním výparníkem)"
   ],
   "cell_type": "markdown",
   "metadata": {}
  },
  {
   "cell_type": "code",
   "execution_count": 23,
   "metadata": {},
   "outputs": [
    {
     "output_type": "display_data",
     "data": {
      "text/plain": "<IPython.core.display.Latex object>",
      "text/latex": "\\[\n\\begin{aligned}\nt_{E} &= 254 \\; \\;\\textrm{(°C)}\n\\\\[10pt]\nI_{E_{sp}} &= 342{,}368 \\; \\;\\textrm{(kJ/m3n)}\n\\end{aligned}\n\\]"
     },
     "metadata": {}
    }
   ],
   "source": [
    "%%render\n",
    "t_E = 254 #°C\n",
    "I_E_sp = entalpie_sp(t_E, 'm3n')['sp'] #kJ/m3n"
   ]
  },
  {
   "source": [
    "### Bod F (za druhým ekonomizérem)"
   ],
   "cell_type": "markdown",
   "metadata": {}
  },
  {
   "cell_type": "code",
   "execution_count": 24,
   "metadata": {},
   "outputs": [
    {
     "output_type": "display_data",
     "data": {
      "text/plain": "<IPython.core.display.Latex object>",
      "text/latex": "\\[\n\\begin{aligned}\nt_{F} &= 241 \\; \\;\\textrm{(°C)}\n\\\\[10pt]\nI_{F_{sp}} &= 324{,}466 \\; \\;\\textrm{(kJ/m3n)}\n\\end{aligned}\n\\]"
     },
     "metadata": {}
    }
   ],
   "source": [
    "%%render\n",
    "t_F = 241 #°C\n",
    "I_F_sp = entalpie_sp(t_F, 'm3n')['sp'] #kJ/m3n"
   ]
  },
  {
   "source": [
    "### Bod G (za prvním ekonomizérem, výstup spalin)"
   ],
   "cell_type": "markdown",
   "metadata": {}
  },
  {
   "cell_type": "code",
   "execution_count": 25,
   "metadata": {},
   "outputs": [
    {
     "output_type": "display_data",
     "data": {
      "text/plain": "<IPython.core.display.Latex object>",
      "text/latex": "\\[\n\\begin{aligned}\nt_{G} &= 145 \\; \\;\\textrm{(°C)}\n\\\\[10pt]\nI_{G_{sp}} &= 193{,}696 \\; \\;\\textrm{(kJ/m3n)}\n\\end{aligned}\n\\]"
     },
     "metadata": {}
    }
   ],
   "source": [
    "%%render\n",
    "t_G = 145 #°C\n",
    "I_G_sp = entalpie_sp(t_G, 'm3n')['sp'] #kJ/m3n"
   ]
  },
  {
   "source": [
    "Tabulka entalpií spalin"
   ],
   "cell_type": "markdown",
   "metadata": {}
  },
  {
   "cell_type": "code",
   "execution_count": 26,
   "metadata": {},
   "outputs": [],
   "source": [
    "spalinova_tabulka = pd.DataFrame(\n",
    "    {\n",
    "        \"T [°C]\": (\"100\",\"200\",\"300\",\"400\",\"500\",\"600\"),\n",
    "        \"N2 [kJ/m3N]\": (entalpie_sp(100, 'm3n')['N2'],entalpie_sp(200, 'm3n')['N2'],entalpie_sp(300, 'm3n')['N2'],entalpie_sp(400, 'm3n')['N2'],entalpie_sp(500, 'm3n')['N2'],entalpie_sp(600, 'm3n')['N2']),\n",
    "        \"O2 [kJ/m3N]\": (entalpie_sp(100, 'm3n')['O2'],entalpie_sp(200, 'm3n')['O2'],entalpie_sp(300, 'm3n')['O2'],entalpie_sp(400, 'm3n')['O2'],entalpie_sp(500, 'm3n')['O2'],entalpie_sp(600, 'm3n')['O2']),\n",
    "        \"H2O [kJ/m3N]\": (entalpie_sp(100, 'm3n')['H2O'],entalpie_sp(200, 'm3n')['H2O'],entalpie_sp(300, 'm3n')['H2O'],entalpie_sp(400, 'm3n')['H2O'],entalpie_sp(500, 'm3n')['H2O'],entalpie_sp(600, 'm3n')['H2O']),\n",
    "        \"CO2 [kJ/m3N]\": (entalpie_sp(100, 'm3n')['CO2'],entalpie_sp(200, 'm3n')['CO2'],entalpie_sp(300, 'm3n')['CO2'],entalpie_sp(400, 'm3n')['CO2'],entalpie_sp(500, 'm3n')['CO2'],entalpie_sp(600, 'm3n')['CO2']),\n",
    "        \"Ar [kJ/m3N]\": (entalpie_sp(100, 'm3n')['Ar'],entalpie_sp(200, 'm3n')['Ar'],entalpie_sp(300, 'm3n')['Ar'],entalpie_sp(400, 'm3n')['Ar'],entalpie_sp(500, 'm3n')['Ar'],entalpie_sp(600, 'm3n')['Ar']),\n",
    "        \"Spaliny [kJ/m3N]\":(entalpie_sp(100, 'm3n')['sp'],entalpie_sp(200, 'm3n')['sp'],entalpie_sp(300, 'm3n')['sp'],entalpie_sp(400, 'm3n')['sp'],entalpie_sp(500, 'm3n')['sp'],entalpie_sp(600, 'm3n')['sp'])\n",
    "    }\n",
    ")\n",
    "spalinova_tabulka_print = spalinova_tabulka.set_index(spalinova_tabulka.columns[0])"
   ]
  },
  {
   "cell_type": "code",
   "execution_count": 27,
   "metadata": {},
   "outputs": [
    {
     "output_type": "execute_result",
     "data": {
      "text/plain": [
       "        N2 [kJ/m3N]  O2 [kJ/m3N]  H2O [kJ/m3N]  CO2 [kJ/m3N]  Ar [kJ/m3N]  \\\n",
       "T [°C]                                                                      \n",
       "100         132.041      117.145       237.610       110.117       66.022   \n",
       "200         264.937      237.449       480.441       231.445      132.045   \n",
       "300         399.482      361.631       730.229       361.991      198.067   \n",
       "400         536.418      489.710       987.963       500.076      264.089   \n",
       "500         676.306      621.261      1254.130       644.326      330.111   \n",
       "600         819.402      755.670      1528.966       793.668      396.134   \n",
       "\n",
       "        Spaliny [kJ/m3N]  \n",
       "T [°C]                    \n",
       "100              133.166  \n",
       "200              268.319  \n",
       "300              406.123  \n",
       "400              547.081  \n",
       "500              691.489  \n",
       "600              839.399  "
      ],
      "text/html": "<div>\n<style scoped>\n    .dataframe tbody tr th:only-of-type {\n        vertical-align: middle;\n    }\n\n    .dataframe tbody tr th {\n        vertical-align: top;\n    }\n\n    .dataframe thead th {\n        text-align: right;\n    }\n</style>\n<table border=\"1\" class=\"dataframe\">\n  <thead>\n    <tr style=\"text-align: right;\">\n      <th></th>\n      <th>N2 [kJ/m3N]</th>\n      <th>O2 [kJ/m3N]</th>\n      <th>H2O [kJ/m3N]</th>\n      <th>CO2 [kJ/m3N]</th>\n      <th>Ar [kJ/m3N]</th>\n      <th>Spaliny [kJ/m3N]</th>\n    </tr>\n    <tr>\n      <th>T [°C]</th>\n      <th></th>\n      <th></th>\n      <th></th>\n      <th></th>\n      <th></th>\n      <th></th>\n    </tr>\n  </thead>\n  <tbody>\n    <tr>\n      <th>100</th>\n      <td>132.041</td>\n      <td>117.145</td>\n      <td>237.610</td>\n      <td>110.117</td>\n      <td>66.022</td>\n      <td>133.166</td>\n    </tr>\n    <tr>\n      <th>200</th>\n      <td>264.937</td>\n      <td>237.449</td>\n      <td>480.441</td>\n      <td>231.445</td>\n      <td>132.045</td>\n      <td>268.319</td>\n    </tr>\n    <tr>\n      <th>300</th>\n      <td>399.482</td>\n      <td>361.631</td>\n      <td>730.229</td>\n      <td>361.991</td>\n      <td>198.067</td>\n      <td>406.123</td>\n    </tr>\n    <tr>\n      <th>400</th>\n      <td>536.418</td>\n      <td>489.710</td>\n      <td>987.963</td>\n      <td>500.076</td>\n      <td>264.089</td>\n      <td>547.081</td>\n    </tr>\n    <tr>\n      <th>500</th>\n      <td>676.306</td>\n      <td>621.261</td>\n      <td>1254.130</td>\n      <td>644.326</td>\n      <td>330.111</td>\n      <td>691.489</td>\n    </tr>\n    <tr>\n      <th>600</th>\n      <td>819.402</td>\n      <td>755.670</td>\n      <td>1528.966</td>\n      <td>793.668</td>\n      <td>396.134</td>\n      <td>839.399</td>\n    </tr>\n  </tbody>\n</table>\n</div>"
     },
     "metadata": {},
     "execution_count": 27
    }
   ],
   "source": [
    "spalinova_tabulka_print\n",
    "# print(spalinova_tabulka_print.to_latex())"
   ]
  },
  {
   "source": [
    "***\n",
    "## Výpočty ze strany vody a vodní páry\n",
    "***"
   ],
   "cell_type": "markdown",
   "metadata": {}
  },
  {
   "source": [
    "#### Bod 1 (Konec druhého přehříváku, výstupní pára)"
   ],
   "cell_type": "markdown",
   "metadata": {}
  },
  {
   "cell_type": "code",
   "execution_count": 28,
   "metadata": {},
   "outputs": [
    {
     "output_type": "display_data",
     "data": {
      "text/plain": "<IPython.core.display.Latex object>",
      "text/latex": "\\[\n\\begin{aligned}\nt_{1} &= 370 \\; \\;\\textrm{(°C)}\n &p_{1} &= 3{,}1 \\; \\;\\textrm{(MPa)}\n &h_{1} &= 3160{,}749 \\; \\;\\textrm{(kJ/kg)}\n\\\\[10pt]\n v_{1} &= 9{,}093 \\times 10 ^ {-2 } \\; \\;\\textrm{(m3/kg)}\n &x_{1} &= 1{,}0 \\; \\;\\textrm{(-)}\\end{aligned}\n\\]"
     },
     "metadata": {}
    }
   ],
   "source": [
    "%%render params\n",
    "t_1 = t_out                     #°C\n",
    "p_1 = p_out                     #MPa\n",
    "h_1 = steam.h_pt(p_1*10,t_1)    #kJ/kg\n",
    "v_1 = steam.v_pt(p_1*10,t_1)    #m3/kg\n",
    "x_1 = steam.x_ph(p_1*10,h_1)    #-"
   ]
  },
  {
   "source": [
    "#### Bod 3 (Konec prvního přehříváku, před vstřikem)"
   ],
   "cell_type": "markdown",
   "metadata": {}
  },
  {
   "cell_type": "code",
   "execution_count": 29,
   "metadata": {},
   "outputs": [
    {
     "output_type": "display_data",
     "data": {
      "text/plain": "<IPython.core.display.Latex object>",
      "text/latex": "\\[\n\\begin{aligned}\nt_{3} &= 348 \\; \\;\\textrm{(°C)}\n &p_{3} &= 3{,}33 \\; \\;\\textrm{(MPa)}\n &h_{3} &= 3103{,}888 \\; \\;\\textrm{(kJ/kg)}\n\\\\[10pt]\n v_{3} &= 8{,}069 \\times 10 ^ {-2 } \\; \\;\\textrm{(m3/kg)}\n &x_{3} &= 1{,}0 \\; \\;\\textrm{(-)}\\end{aligned}\n\\]"
     },
     "metadata": {}
    }
   ],
   "source": [
    "%%render params\n",
    "t_3 = 348                       #°C\n",
    "p_3 = 3.33                      #MPa\n",
    "h_3 = steam.h_pt(p_3*10,t_3)    #kJ/kg\n",
    "v_3 = steam.v_pt(p_3*10,t_3)    #m3/kg\n",
    "x_3 = steam.x_ph(p_3*10,h_3)    #-"
   ]
  },
  {
   "source": [
    "#### Bod 4 (Začátek prvního přehříváku, po druhém výparníku)"
   ],
   "cell_type": "markdown",
   "metadata": {}
  },
  {
   "cell_type": "code",
   "execution_count": 30,
   "metadata": {},
   "outputs": [
    {
     "output_type": "display_data",
     "data": {
      "text/plain": "<IPython.core.display.Latex object>",
      "text/latex": "\\[\n\\begin{aligned}\np_{4} &= 3{,}38 \\; \\;\\textrm{(MPa)}\n &t_{4} &= 240{,}565 \\; \\;\\textrm{(°C)}\n &h_{4} &= 2803{,}002 \\; \\;\\textrm{(kJ/kg)}\n\\\\[10pt]\n v_{4} &= 5{,}911 \\times 10 ^ {-2 } \\; \\;\\textrm{(m3/kg)}\n &x_{4} &= 1{,}0 \\; \\;\\textrm{(-)}\\end{aligned}\n\\]"
     },
     "metadata": {}
    }
   ],
   "source": [
    "%%render params\n",
    "p_4 = 3.38                      #MPa\n",
    "t_4 = steam.tsat_p(p_4*10)      #°C\n",
    "h_4 = steam.hV_p(p_4*10)        #kJ/kg\n",
    "v_4 = steam.vV_p(p_4*10)        #m3/kg\n",
    "x_4 = steam.x_ph(p_4*10,h_4)    #-"
   ]
  },
  {
   "source": [
    "#### Bod 5 (začátek prvního výparníku, kde je sytá kapalina)"
   ],
   "cell_type": "markdown",
   "metadata": {}
  },
  {
   "cell_type": "code",
   "execution_count": 31,
   "metadata": {},
   "outputs": [
    {
     "output_type": "display_data",
     "data": {
      "text/plain": "<IPython.core.display.Latex object>",
      "text/latex": "\\[\n\\begin{aligned}\np_{5} &= 3{,}38 \\; \\;\\textrm{(MPa)}\n &t_{5} &= 240{,}565 \\; \\;\\textrm{(°C)}\n &h_{5} &= 1040{,}219 \\; \\;\\textrm{(kJ/kg)}\n\\\\[10pt]\n v_{5} &= 1{,}231 \\times 10 ^ {-3 } \\; \\;\\textrm{(m3/kg)}\n &x_{5} &= 0{,}0 \\; \\;\\textrm{(-)}\\end{aligned}\n\\]"
     },
     "metadata": {}
    }
   ],
   "source": [
    "%%render params\n",
    "p_5 = 3.38                      #MPa\n",
    "t_5 = steam.tsat_p(p_5*10)      #°C\n",
    "h_5 = steam.hL_p(p_5*10)        #kJ/kg\n",
    "v_5 = steam.vL_p(p_5*10)        #m3/kg\n",
    "x_5 = steam.x_ph(p_5*10,h_5)    #-"
   ]
  },
  {
   "source": [
    "#### Bod 6 (Za posledním ekonomizérem, před vstupem do výparníku)"
   ],
   "cell_type": "markdown",
   "metadata": {}
  },
  {
   "cell_type": "code",
   "execution_count": 32,
   "metadata": {},
   "outputs": [
    {
     "output_type": "display_data",
     "data": {
      "text/plain": "<IPython.core.display.Latex object>",
      "text/latex": "\\[\n\\begin{aligned}\np_{6} &= 3{,}68 \\; \\;\\textrm{(MPa)}\n &t_{6} &= 236 \\; \\;\\textrm{(°C)}\n &h_{6} &= 1018{,}575 \\; \\;\\textrm{(kJ/kg)}\n\\\\[10pt]\n v_{6} &= 1{,}220 \\times 10 ^ {-3 } \\; \\;\\textrm{(m3/kg)}\n &x_{6} &= 0{,}0 \\; \\;\\textrm{(-)}\\end{aligned}\n\\]"
     },
     "metadata": {}
    }
   ],
   "source": [
    "%%render params\n",
    "p_6 = 3.68                      #MPa\n",
    "t_6 = 236                       #°C\n",
    "h_6 = steam.h_pt(p_6*10, t_6)   #kJ/kg\n",
    "v_6 = steam.v_pt(p_6*10, t_6)   #m3/kg\n",
    "x_6 = steam.x_ph(p_6*10,h_6)    #-"
   ]
  },
  {
   "source": [
    "#### Bod 7 (mezi ekonomizéry)"
   ],
   "cell_type": "markdown",
   "metadata": {}
  },
  {
   "cell_type": "code",
   "execution_count": 33,
   "metadata": {},
   "outputs": [
    {
     "output_type": "display_data",
     "data": {
      "text/plain": "<IPython.core.display.Latex object>",
      "text/latex": "\\[\n\\begin{aligned}\np_{7} &= 3{,}74 \\; \\;\\textrm{(MPa)}\n &t_{7} &= 217 \\; \\;\\textrm{(°C)}\n &h_{7} &= 930{,}261 \\; \\;\\textrm{(kJ/kg)}\n\\\\[10pt]\n v_{7} &= 1{,}183 \\times 10 ^ {-3 } \\; \\;\\textrm{(m3/kg)}\n &x_{7} &= 0{,}0 \\; \\;\\textrm{(-)}\\end{aligned}\n\\]"
     },
     "metadata": {}
    }
   ],
   "source": [
    "%%render params\n",
    "p_7 = 3.74                      #MPa\n",
    "t_7 = 217                       #°C\n",
    "h_7 = steam.h_pt(p_7*10, t_7)   #kJ/kg\n",
    "v_7 = steam.v_pt(p_7*10, t_7)   #m3/kg\n",
    "x_7 = steam.x_ph(p_7*10,h_7)    #-\n"
   ]
  },
  {
   "source": [
    "#### Bod 2 (Začátek druhého přehříváku, po vstřiku)"
   ],
   "cell_type": "markdown",
   "metadata": {}
  },
  {
   "cell_type": "code",
   "execution_count": 34,
   "metadata": {},
   "outputs": [
    {
     "output_type": "display_data",
     "data": {
      "text/plain": "<IPython.core.display.Latex object>",
      "text/latex": "\\[\n\\begin{aligned}\np_{2} &= 3{,}33 \\; \\;\\textrm{(MPa)}\n &h_{2} &= 3066{,}802 \\; \\;\\textrm{(kJ/kg)}\n &t_{2} &= 332{,}731 \\; \\;\\textrm{(°C)}\n\\\\[10pt]\n v_{2} &= 7{,}811 \\times 10 ^ {-2 } \\; \\;\\textrm{(m3/kg)}\n &x_{2} &= 1{,}0 \\; \\;\\textrm{(-)}\\end{aligned}\n\\]"
     },
     "metadata": {}
    }
   ],
   "source": [
    "%%render params\n",
    "p_2 = p_3                           #MPa\n",
    "h_2 = (20.74*h_3 + 0.36*h_7)/21.10  #kJ/kg\n",
    "t_2 = steam.t_ph(p_2*10, h_2)       #°C\n",
    "v_2 = steam.v_ph(p_2*10, h_2)       #m3/kg\n",
    "x_2 = steam.x_ph(p_2*10,h_2)        #-"
   ]
  },
  {
   "source": [
    "#### Bod 8 (Před začátkem ekonomizéru, vstup napájecí vody)"
   ],
   "cell_type": "markdown",
   "metadata": {}
  },
  {
   "cell_type": "code",
   "execution_count": 35,
   "metadata": {},
   "outputs": [
    {
     "output_type": "display_data",
     "data": {
      "text/plain": "<IPython.core.display.Latex object>",
      "text/latex": "\\[\n\\begin{aligned}\nt_{8} &= 71 \\; \\;\\textrm{(°C)}\n &p_{8} &= 4{,}2 \\; \\;\\textrm{(MPa)}\n &h_{8} &= 300{,}606 \\; \\;\\textrm{(kJ/kg)}\n\\\\[10pt]\n v_{8} &= 0{,}001 \\; \\;\\textrm{(m3/kg)}\n &x_{8} &= 0{,}0 \\; \\;\\textrm{(-)}\\end{aligned}\n\\]"
     },
     "metadata": {}
    }
   ],
   "source": [
    "%%render params\n",
    "t_8 = 71                         #°C\n",
    "p_8 = 4.2                        #MPa\n",
    "h_8 = steam.h_pt(p_8*10,t_8)     #kJ/kg\n",
    "v_8 = steam.v_pt(p_8*10,t_8)     #m3/kg\n",
    "x_8 = steam.x_ph(p_8*10,h_8)     #-"
   ]
  },
  {
   "source": [
    "### Tabulka bodová pro vodu a páru"
   ],
   "cell_type": "markdown",
   "metadata": {}
  },
  {
   "cell_type": "code",
   "execution_count": 36,
   "metadata": {},
   "outputs": [],
   "source": [
    "bodova_tabulka = pd.DataFrame(\n",
    "    {\n",
    "        \"T [°C]\": (t_1, t_2, t_3, t_4, t_5, t_6, t_7, t_8),\n",
    "        \"p [MPa]\": (p_1, p_2, p_3, p_4, p_5, p_6, p_7, p_8),\n",
    "        \"h [kJ/kg]\": (h_1, h_2, h_3, h_4, h_5, h_6, h_7, h_8),\n",
    "        \"v [m3/kg]\": (v_1, v_2, v_3, v_4, v_5, v_6, v_7, v_8),\n",
    "        \"x [-]\": (x_1, x_2, x_3, x_4, x_5, x_6, x_7, x_8),\n",
    "    },\n",
    "    index = ['1','2','3','4','5','6','7','8']\n",
    ")"
   ]
  },
  {
   "cell_type": "code",
   "execution_count": 37,
   "metadata": {},
   "outputs": [
    {
     "output_type": "execute_result",
     "data": {
      "text/plain": [
       "    T [°C]  p [MPa]  h [kJ/kg]  v [m3/kg]  x [-]\n",
       "1  370.000     3.10   3160.749      0.091    1.0\n",
       "2  332.731     3.33   3066.802      0.078    1.0\n",
       "3  348.000     3.33   3103.888      0.081    1.0\n",
       "4  240.565     3.38   2803.002      0.059    1.0\n",
       "5  240.565     3.38   1040.219      0.001    0.0\n",
       "6  236.000     3.68   1018.575      0.001    0.0\n",
       "7  217.000     3.74    930.261      0.001    0.0\n",
       "8   71.000     4.20    300.606      0.001    0.0"
      ],
      "text/html": "<div>\n<style scoped>\n    .dataframe tbody tr th:only-of-type {\n        vertical-align: middle;\n    }\n\n    .dataframe tbody tr th {\n        vertical-align: top;\n    }\n\n    .dataframe thead th {\n        text-align: right;\n    }\n</style>\n<table border=\"1\" class=\"dataframe\">\n  <thead>\n    <tr style=\"text-align: right;\">\n      <th></th>\n      <th>T [°C]</th>\n      <th>p [MPa]</th>\n      <th>h [kJ/kg]</th>\n      <th>v [m3/kg]</th>\n      <th>x [-]</th>\n    </tr>\n  </thead>\n  <tbody>\n    <tr>\n      <th>1</th>\n      <td>370.000</td>\n      <td>3.10</td>\n      <td>3160.749</td>\n      <td>0.091</td>\n      <td>1.0</td>\n    </tr>\n    <tr>\n      <th>2</th>\n      <td>332.731</td>\n      <td>3.33</td>\n      <td>3066.802</td>\n      <td>0.078</td>\n      <td>1.0</td>\n    </tr>\n    <tr>\n      <th>3</th>\n      <td>348.000</td>\n      <td>3.33</td>\n      <td>3103.888</td>\n      <td>0.081</td>\n      <td>1.0</td>\n    </tr>\n    <tr>\n      <th>4</th>\n      <td>240.565</td>\n      <td>3.38</td>\n      <td>2803.002</td>\n      <td>0.059</td>\n      <td>1.0</td>\n    </tr>\n    <tr>\n      <th>5</th>\n      <td>240.565</td>\n      <td>3.38</td>\n      <td>1040.219</td>\n      <td>0.001</td>\n      <td>0.0</td>\n    </tr>\n    <tr>\n      <th>6</th>\n      <td>236.000</td>\n      <td>3.68</td>\n      <td>1018.575</td>\n      <td>0.001</td>\n      <td>0.0</td>\n    </tr>\n    <tr>\n      <th>7</th>\n      <td>217.000</td>\n      <td>3.74</td>\n      <td>930.261</td>\n      <td>0.001</td>\n      <td>0.0</td>\n    </tr>\n    <tr>\n      <th>8</th>\n      <td>71.000</td>\n      <td>4.20</td>\n      <td>300.606</td>\n      <td>0.001</td>\n      <td>0.0</td>\n    </tr>\n  </tbody>\n</table>\n</div>"
     },
     "metadata": {},
     "execution_count": 37
    }
   ],
   "source": [
    "bodova_tabulka\n",
    "\n",
    "# print(bodova_tabulka.to_latex())"
   ]
  },
  {
   "source": [
    "***\n",
    "## Výkon kotle a jednotlivých teplosměnných ploch\n",
    "***"
   ],
   "cell_type": "markdown",
   "metadata": {}
  },
  {
   "source": [
    "### Maximální využitelný výkon"
   ],
   "cell_type": "markdown",
   "metadata": {}
  },
  {
   "cell_type": "code",
   "execution_count": 38,
   "metadata": {},
   "outputs": [
    {
     "output_type": "display_data",
     "data": {
      "text/plain": "<IPython.core.display.Latex object>",
      "text/latex": "\\[\n\\begin{aligned}\nQ_{in} &= 76863{,}556 \\; \\;\\textrm{(kW)}\n\\end{aligned}\n\\]"
     },
     "metadata": {}
    }
   ],
   "source": [
    "%%render\n",
    "# Dodaný výkon v palivu\n",
    "Q_in = V_sp*(I_A_sp-entalpie_sp(25, 'm3n')['sp']) #kW"
   ]
  },
  {
   "cell_type": "code",
   "execution_count": 39,
   "metadata": {},
   "outputs": [
    {
     "output_type": "display_data",
     "data": {
      "text/plain": "<IPython.core.display.Latex object>",
      "text/latex": "\\[\n\\begin{aligned}\nQ_{out} &= m_{p} \\cdot h_{1} - m_{p} \\cdot h_{8}  = 21{,}111 \\cdot 3160{,}749 - 21{,}111 \\cdot 300{,}606 &= 60380{,}803 \\; \\;\\textrm{(kW)}\n\\end{aligned}\n\\]"
     },
     "metadata": {}
    }
   ],
   "source": [
    "%%render\n",
    "# Odebraný výkon vodou a párou\n",
    "Q_out = m_p*h_1-m_p*h_8 #kW"
   ]
  },
  {
   "source": [
    "### Účinnost"
   ],
   "cell_type": "markdown",
   "metadata": {}
  },
  {
   "cell_type": "code",
   "execution_count": 40,
   "metadata": {},
   "outputs": [
    {
     "output_type": "display_data",
     "data": {
      "text/plain": "<IPython.core.display.Latex object>",
      "text/latex": "\\[\n\\begin{aligned}\n\\eta &= \\frac{ Q_{out} }{ Q_{in} }  = \\frac{ 60380{,}803 }{ 76863{,}556 } &= 7{,}856 \\times 10 ^ {-1 } \\; \\;\\textrm{(-)}\n\\end{aligned}\n\\]"
     },
     "metadata": {}
    }
   ],
   "source": [
    "%%render\n",
    "eta = Q_out/Q_in #-"
   ]
  },
  {
   "source": [
    "### Předaná tepla v jednotlivých teplosměnných plochách"
   ],
   "cell_type": "markdown",
   "metadata": {}
  },
  {
   "cell_type": "code",
   "execution_count": 41,
   "metadata": {},
   "outputs": [
    {
     "output_type": "display_data",
     "data": {
      "text/plain": "<IPython.core.display.Latex object>",
      "text/latex": "\\[\n\\begin{aligned}\nC &= 1{,}130 \\times 10 ^ {-2 } \\; \\;\\textrm{(-)}\n\\\\[10pt]\nQ_{ZS} &= \\left( \\frac{ Q_{in} }{ 1000 } \\right) ^{ 0{,}7 } \\cdot C \\cdot 1000  = \\left( \\frac{ 76863{,}556 }{ 1000 } \\right) ^{ 0{,}7 } \\cdot 1{,}130 \\times 10 ^ {-2 } \\cdot 1000 &= 236{,}093 \\; \\;\\textrm{(kW)}\n\\end{aligned}\n\\]"
     },
     "metadata": {}
    }
   ],
   "source": [
    "%%render\n",
    "# Ztráta sáláním - pro výpočet Q_16\n",
    "C = 0.0113 #-\n",
    "Q_ZS = ((Q_in/1000)**0.7)*C*1000 #kW"
   ]
  },
  {
   "cell_type": "code",
   "execution_count": 42,
   "metadata": {},
   "outputs": [
    {
     "output_type": "display_data",
     "data": {
      "text/plain": "<IPython.core.display.Latex object>",
      "text/latex": "\\[\n\\begin{aligned}\nz_{s} &= \\frac{ Q_{ZS} }{ Q_{in} }  = \\frac{ 236{,}093 }{ 76863{,}556 } &= 3{,}072 \\times 10 ^ {-3 } \\; \\;\\textrm{(-)}\n\\end{aligned}\n\\]"
     },
     "metadata": {}
    }
   ],
   "source": [
    "%%render\n",
    "z_s = Q_ZS/Q_in #-"
   ]
  },
  {
   "source": [
    "#### Předané teplo v bodech A-E"
   ],
   "cell_type": "markdown",
   "metadata": {}
  },
  {
   "cell_type": "code",
   "execution_count": 43,
   "metadata": {},
   "outputs": [
    {
     "output_type": "display_data",
     "data": {
      "text/plain": "<IPython.core.display.Latex object>",
      "text/latex": "\\[\n\\begin{aligned}\nQ_{AE} &= V_{sp} \\cdot \\left( I_{A_{sp}} - I_{E_{sp}} \\right)  = 102{,}534 \\cdot \\left( 782{,}789 - 342{,}368 \\right) &= 45157{,}961 \\; \\;\\textrm{(kW)}\n\\end{aligned}\n\\]"
     },
     "metadata": {}
    }
   ],
   "source": [
    "%%render\n",
    "Q_AE = V_sp*(I_A_sp-I_E_sp) #kW"
   ]
  },
  {
   "source": [
    "#### Předané teplo v bodech 1-6"
   ],
   "cell_type": "markdown",
   "metadata": {}
  },
  {
   "cell_type": "code",
   "execution_count": 44,
   "metadata": {},
   "outputs": [
    {
     "output_type": "display_data",
     "data": {
      "text/plain": "<IPython.core.display.Latex object>",
      "text/latex": "\\[\n\\begin{aligned}\nQ_{16} &= Q_{AE} \\cdot \\left( 1 - z_{s} \\right)  = 45157{,}961 \\cdot \\left( 1 - 3{,}072 \\times 10 ^ {-3 } \\right) &= 45019{,}254  \n\\end{aligned}\n\\]"
     },
     "metadata": {}
    }
   ],
   "source": [
    "%%render\n",
    "Q_16 = Q_AE*(1-z_s)"
   ]
  },
  {
   "source": [
    "### Predane tepelne toky v jednotlivych teplosmennych plochach"
   ],
   "cell_type": "markdown",
   "metadata": {}
  },
  {
   "source": [
    "#### Prehrivak 2"
   ],
   "cell_type": "markdown",
   "metadata": {}
  },
  {
   "cell_type": "code",
   "execution_count": 45,
   "metadata": {},
   "outputs": [
    {
     "output_type": "display_data",
     "data": {
      "text/plain": "<IPython.core.display.Latex object>",
      "text/latex": "\\[\n\\begin{aligned}\nQ_{P2} &= m_{p} \\cdot \\left( h_{1} - h_{2} \\right)  = 21{,}111 \\cdot \\left( 3160{,}749 - 3066{,}802 \\right) &= 1983{,}329 \\; \\;\\textrm{(kW)}\n\\end{aligned}\n\\]"
     },
     "metadata": {}
    }
   ],
   "source": [
    "%%render\n",
    "Q_P2 = m_p*(h_1-h_2) #kW"
   ]
  },
  {
   "source": [
    "#### Prehrivak 1"
   ],
   "cell_type": "markdown",
   "metadata": {}
  },
  {
   "cell_type": "code",
   "execution_count": 46,
   "metadata": {},
   "outputs": [
    {
     "output_type": "display_data",
     "data": {
      "text/plain": "<IPython.core.display.Latex object>",
      "text/latex": "\\[\n\\begin{aligned}\nQ_{P1} &= \\left( m_{p} - m_{vst} \\right) \\cdot \\left( h_{3} - h_{4} \\right)  = \\left( 21{,}111 - 0{,}36 \\right) \\cdot \\left( 3103{,}888 - 2803{,}002 \\right) &= 6243{,}705 \\; \\;\\textrm{(kW)}\n\\end{aligned}\n\\]"
     },
     "metadata": {}
    }
   ],
   "source": [
    "%%render\n",
    "Q_P1 = (m_p-m_vst)*(h_3-h_4) #kW"
   ]
  },
  {
   "source": [
    "#### Vyparnik 1 + 2"
   ],
   "cell_type": "markdown",
   "metadata": {}
  },
  {
   "cell_type": "code",
   "execution_count": 47,
   "metadata": {},
   "outputs": [
    {
     "output_type": "display_data",
     "data": {
      "text/plain": "<IPython.core.display.Latex object>",
      "text/latex": "\\[\n\\begin{aligned}\nQ_{V} &= \\left( m_{p} - m_{vst} \\right) \\cdot \\left( h_{4} - h_{5} \\right)  = \\left( 21{,}111 - 0{,}36 \\right) \\cdot \\left( 2803{,}002 - 1040{,}219 \\right) &= 36579{,}719 \\; \\;\\textrm{(kW)}\n\\end{aligned}\n\\]"
     },
     "metadata": {}
    }
   ],
   "source": [
    "%%render\n",
    "Q_V = (m_p-m_vst)*(h_4-h_5) #kW"
   ]
  },
  {
   "source": [
    "#### Ekonomizer 2"
   ],
   "cell_type": "markdown",
   "metadata": {}
  },
  {
   "cell_type": "code",
   "execution_count": 48,
   "metadata": {},
   "outputs": [
    {
     "output_type": "display_data",
     "data": {
      "text/plain": "<IPython.core.display.Latex object>",
      "text/latex": "\\[\n\\begin{aligned}\nQ_{EKO_{2}} &= \\left( m_{p} - m_{vst} \\right) \\cdot \\left( h_{6} - h_{7} \\right)  = \\left( 21{,}111 - 0{,}36 \\right) \\cdot \\left( 1018{,}575 - 930{,}261 \\right) &= 1832{,}609 \\; \\;\\textrm{(kW)}\n\\end{aligned}\n\\]"
     },
     "metadata": {}
    }
   ],
   "source": [
    "%%render\n",
    "Q_EKO_2 = (m_p-m_vst)*(h_6-h_7) #kW"
   ]
  },
  {
   "source": [
    "#### Ekonomizer 1"
   ],
   "cell_type": "markdown",
   "metadata": {}
  },
  {
   "cell_type": "code",
   "execution_count": 49,
   "metadata": {},
   "outputs": [
    {
     "output_type": "display_data",
     "data": {
      "text/plain": "<IPython.core.display.Latex object>",
      "text/latex": "\\[\n\\begin{aligned}\nQ_{EKO_{1}} &= m_{p} \\cdot \\left( h_{7} - h_{8} \\right)  = 21{,}111 \\cdot \\left( 930{,}261 - 300{,}606 \\right) &= 13292{,}73 \\; \\;\\textrm{(kW)}\n\\end{aligned}\n\\]"
     },
     "metadata": {}
    }
   ],
   "source": [
    "%%render\n",
    "Q_EKO_1 = m_p*(h_7-h_8) #kW"
   ]
  },
  {
   "source": [
    "#### Kontrolni vypocet"
   ],
   "cell_type": "markdown",
   "metadata": {}
  },
  {
   "cell_type": "code",
   "execution_count": 50,
   "metadata": {},
   "outputs": [
    {
     "output_type": "display_data",
     "data": {
      "text/plain": "<IPython.core.display.Latex object>",
      "text/latex": "\\[\n\\begin{aligned}\nQ_{16} &= 45019{,}254 \\; \\;\\textrm{(kW)}\n\\\\[10pt]\nQ_{kontrolni} &= Q_{V} + Q_{P1} + Q_{P2}  = 36579{,}719 + 6243{,}705 + 1983{,}329 &= 44806{,}754 \\; \\;\\textrm{(kW)}\n\\end{aligned}\n\\]"
     },
     "metadata": {}
    }
   ],
   "source": [
    "%%render\n",
    "Q_16 #kW\n",
    "Q_kontrolni = Q_V + Q_P1 + Q_P2 #kW"
   ]
  },
  {
   "source": [
    "Odchylka musí být do 0,5 %"
   ],
   "cell_type": "markdown",
   "metadata": {}
  },
  {
   "cell_type": "code",
   "execution_count": 51,
   "metadata": {},
   "outputs": [
    {
     "output_type": "display_data",
     "data": {
      "text/plain": "<IPython.core.display.Latex object>",
      "text/latex": "\\[\n\\begin{aligned}\n\\Delta_{Q} &= 0{,}472 \\; \\;\\textrm{(%)}\\end{aligned}\n\\]"
     },
     "metadata": {}
    }
   ],
   "source": [
    "%%render params\n",
    "Delta_Q = 100*(1-(Q_kontrolni/Q_16)) #%"
   ]
  },
  {
   "cell_type": "code",
   "execution_count": 52,
   "metadata": {},
   "outputs": [
    {
     "output_type": "display_data",
     "data": {
      "text/plain": "<IPython.core.display.Latex object>",
      "text/latex": "\\[\n\\begin{aligned}\n\\Delta_{Q} \\lt 0{,}5 &= 0{,}472 \\; \\;\\textrm{(%)}\n\\end{aligned}\n\\]"
     },
     "metadata": {}
    }
   ],
   "source": [
    "%%render\n",
    "Delta_Q < 0.5 #%"
   ]
  },
  {
   "source": [
    "***\n",
    "# Návrh teplosměnných ploch\n",
    "***"
   ],
   "cell_type": "markdown",
   "metadata": {}
  },
  {
   "source": [
    "**Označení veličin**\n",
    "\n",
    "D = vnější průměr\n",
    "\n",
    "t<sub>tr</sub> = tloušťka trubky\n",
    "\n",
    "d = vnitřní průměr\n",
    "\n",
    "h<sub>ž</sub> = výška žebra\n",
    "\n",
    "t<sub>ž</sub> = tloušťka žebra\n",
    "\n",
    "s<sub>ž</sub> = rozteč žeber\n",
    "\n",
    "n<sub>ž</sub> = počet žeber na 1 m<sup>2</sup>\n",
    "\n",
    "s<sub>1</sub> = příčná rozteč\n",
    "\n",
    "s<sub>2</sub> = podélná rozteč"
   ],
   "cell_type": "markdown",
   "metadata": {}
  },
  {
   "source": [
    "## Ekonomizér (EKO) 1\n",
    "***"
   ],
   "cell_type": "markdown",
   "metadata": {}
  },
  {
   "cell_type": "code",
   "execution_count": 96,
   "metadata": {},
   "outputs": [
    {
     "output_type": "display_data",
     "data": {
      "text/plain": "<IPython.core.display.Latex object>",
      "text/latex": "\\[\n\\begin{aligned}\nD &= 3{,}180 \\times 10 ^ {-2 } \\; \\;\\textrm{(m)}\n &t_{tr} &= 2{,}900 \\times 10 ^ {-3 } \\; \\;\\textrm{(m)}\n &d &= 0{,}026 \\; \\;\\textrm{(m)}\n\\\\[10pt]\n h_{z} &= 0{,}016 \\; \\;\\textrm{(m)}\n &t_{z} &= 8{,}000 \\times 10 ^ {-4 } \\; \\;\\textrm{(m)}\n &s_{z} &= 4{,}400 \\times 10 ^ {-3 } \\; \\;\\textrm{(m)}\n\\\\[10pt]\n n_{z} &= 260 \\; \\;\\textrm{(1/m)}\n &s_{2} &= 0{,}092 \\; \\;\\textrm{(m)}\\end{aligned}\n\\]"
     },
     "metadata": {}
    }
   ],
   "source": [
    "%%render params\n",
    "D = 0.0318      #m\n",
    "t_tr = 0.0029   #m\n",
    "d = D-2*t_tr    #m\n",
    "h_z = 0.016     #m\n",
    "t_z = 0.0008    #m\n",
    "s_z = 0.0044    #m\n",
    "n_z = 260       #1/m\n",
    "s_2 = 0.092     #m"
   ]
  },
  {
   "cell_type": "code",
   "execution_count": 97,
   "metadata": {},
   "outputs": [],
   "source": [
    "eko1_input = {\n",
    "    'Hodnota':\n",
    "    [1000*D,1000*t_tr,1000*d,1000*h_z,1000*t_z,1000*s_z, n_z],\n",
    "\n",
    "    'Jednotka': \n",
    "    ['mm','mm','mm','mm','mm','mm','-']\n",
    "\n",
    "    }\n",
    "zkratky = ['D','t_tr','d','h_z','t_z','s_z','n_z']\n",
    "eko1_table = pd.DataFrame(eko1_input, index = zkratky)"
   ]
  },
  {
   "cell_type": "code",
   "execution_count": 55,
   "metadata": {},
   "outputs": [
    {
     "output_type": "execute_result",
     "data": {
      "text/plain": [
       "      Hodnota Jednotka\n",
       "D        31.8       mm\n",
       "t_tr      2.9       mm\n",
       "d        26.0       mm\n",
       "h_z      16.0       mm\n",
       "t_z       0.8       mm\n",
       "s_z       4.4       mm\n",
       "n_z     260.0        -"
      ],
      "text/html": "<div>\n<style scoped>\n    .dataframe tbody tr th:only-of-type {\n        vertical-align: middle;\n    }\n\n    .dataframe tbody tr th {\n        vertical-align: top;\n    }\n\n    .dataframe thead th {\n        text-align: right;\n    }\n</style>\n<table border=\"1\" class=\"dataframe\">\n  <thead>\n    <tr style=\"text-align: right;\">\n      <th></th>\n      <th>Hodnota</th>\n      <th>Jednotka</th>\n    </tr>\n  </thead>\n  <tbody>\n    <tr>\n      <th>D</th>\n      <td>31.8</td>\n      <td>mm</td>\n    </tr>\n    <tr>\n      <th>t_tr</th>\n      <td>2.9</td>\n      <td>mm</td>\n    </tr>\n    <tr>\n      <th>d</th>\n      <td>26.0</td>\n      <td>mm</td>\n    </tr>\n    <tr>\n      <th>h_z</th>\n      <td>16.0</td>\n      <td>mm</td>\n    </tr>\n    <tr>\n      <th>t_z</th>\n      <td>0.8</td>\n      <td>mm</td>\n    </tr>\n    <tr>\n      <th>s_z</th>\n      <td>4.4</td>\n      <td>mm</td>\n    </tr>\n    <tr>\n      <th>n_z</th>\n      <td>260.0</td>\n      <td>-</td>\n    </tr>\n  </tbody>\n</table>\n</div>"
     },
     "metadata": {},
     "execution_count": 55
    }
   ],
   "source": [
    "eko1_table\n",
    "\n",
    "# print(eko1_table.to_latex())"
   ]
  },
  {
   "cell_type": "code",
   "execution_count": 99,
   "metadata": {},
   "outputs": [
    {
     "output_type": "display_data",
     "data": {
      "text/plain": "<IPython.core.display.Latex object>",
      "text/latex": "\\[\n\\begin{aligned}\nD_{z} &= D + 2 \\cdot h_{z}  = 3{,}180 \\times 10 ^ {-2 } + 2 \\cdot 0{,}016 &= 6{,}380 \\times 10 ^ {-2 } \\; \\;\\textrm{(m)}\n\\end{aligned}\n\\]"
     },
     "metadata": {}
    }
   ],
   "source": [
    "%%render\n",
    "D_z = D+2*h_z   #m"
   ]
  },
  {
   "source": [
    "### Rozměry trubek"
   ],
   "cell_type": "markdown",
   "metadata": {}
  },
  {
   "cell_type": "code",
   "execution_count": 100,
   "metadata": {},
   "outputs": [
    {
     "output_type": "display_data",
     "data": {
      "text/plain": "<IPython.core.display.Latex object>",
      "text/latex": "\\[\n\\begin{aligned}\na &= 2{,}420 \\times 10 ^ {-2 } \\; \n\\\\[10pt]\ns_{1} &= D_{z} + a  = 6{,}380 \\times 10 ^ {-2 } + 2{,}420 \\times 10 ^ {-2 } &= 0{,}088 \\; \\;\\textrm{(m)}\n\\end{aligned}\n\\]"
     },
     "metadata": {}
    }
   ],
   "source": [
    "%%render\n",
    "a = 0.0242\n",
    "s_1 = D_z + a   #m"
   ]
  },
  {
   "cell_type": "code",
   "execution_count": 101,
   "metadata": {},
   "outputs": [],
   "source": [
    "sirka = 3\n",
    "H = 13.6"
   ]
  },
  {
   "source": [
    "Počet trubek"
   ],
   "cell_type": "markdown",
   "metadata": {}
  },
  {
   "cell_type": "code",
   "execution_count": 102,
   "metadata": {},
   "outputs": [
    {
     "output_type": "display_data",
     "data": {
      "text/plain": "<IPython.core.display.Latex object>",
      "text/latex": "\\[\n\\begin{aligned}\nn_{tr} &= \\frac{ \\mathrm{sirka} }{ s_{1} } - \\frac{ 1 }{ 2 }  = \\frac{ 3 }{ 0{,}088 } - \\frac{ 1 }{ 2 } &= 33{,}591  \n\\end{aligned}\n\\]"
     },
     "metadata": {}
    }
   ],
   "source": [
    "%%render\n",
    "n_tr = sirka/s_1-1/2"
   ]
  },
  {
   "cell_type": "code",
   "execution_count": 103,
   "metadata": {},
   "outputs": [
    {
     "output_type": "execute_result",
     "data": {
      "text/plain": [
       "34.0"
      ]
     },
     "metadata": {},
     "execution_count": 103
    }
   ],
   "source": [
    "n_tr = round(n_tr, 0)\n",
    "n_tr"
   ]
  },
  {
   "source": [
    "#### Pára"
   ],
   "cell_type": "markdown",
   "metadata": {}
  },
  {
   "source": [
    "Střední hodnoty"
   ],
   "cell_type": "markdown",
   "metadata": {}
  },
  {
   "cell_type": "code",
   "execution_count": 105,
   "metadata": {},
   "outputs": [
    {
     "output_type": "display_data",
     "data": {
      "text/plain": "<IPython.core.display.Latex object>",
      "text/latex": "\\[\n\\begin{aligned}\nt_{78} &= \\frac{ t_{7} + t_{8} }{ 2 }  = \\frac{ 217 + 71 }{ 2 } &= 144{,}0 \\; \\;\\textrm{(°C)}\n\\\\[10pt]\np_{78} &= \\frac{ p_{7} + p_{8} }{ 2 }  = \\frac{ 3{,}74 + 4{,}2 }{ 2 } &= 3{,}97 \\; \\;\\textrm{(MPa)}\n\\end{aligned}\n\\]"
     },
     "metadata": {}
    }
   ],
   "source": [
    "%%render\n",
    "t_78 = (t_7+t_8)/2  #°C\n",
    "p_78 = (p_7+p_8)/2  #MPa"
   ]
  },
  {
   "cell_type": "code",
   "execution_count": 107,
   "metadata": {},
   "outputs": [
    {
     "output_type": "display_data",
     "data": {
      "text/plain": "<IPython.core.display.Latex object>",
      "text/latex": "\\[\n\\begin{aligned}\nv_{78} &= \\mathrm{steam.v}_{pt} { \\left( p_{78} \\cdot 10 ,\\ t_{78} \\right) }  = steam.v_{pt} { \\left( 3{,}97 \\cdot 10 ,\\ 144{,}0 \\right) } &= 1{,}082 \\times 10 ^ {-3 } \\; \\;\\textrm{(m3/kg)}\n\\end{aligned}\n\\]"
     },
     "metadata": {}
    }
   ],
   "source": [
    "%%render\n",
    "v_78 = steam.v_pt(p_78*10,t_78)    #m3/kg"
   ]
  },
  {
   "source": [
    "Průtočný průřez"
   ],
   "cell_type": "markdown",
   "metadata": {}
  },
  {
   "cell_type": "code",
   "execution_count": 109,
   "metadata": {},
   "outputs": [
    {
     "output_type": "display_data",
     "data": {
      "text/plain": "<IPython.core.display.Latex object>",
      "text/latex": "\\[\n\\begin{aligned}\nS_{p} &= \\frac{ \\pi \\cdot \\left( d \\right) ^{ 2 } \\cdot n_{tr} }{ 4 }  = \\frac{ 3{,}142 \\cdot \\left( 0{,}026 \\right) ^{ 2 } \\cdot 34{,}0 }{ 4 } &= 1{,}805 \\times 10 ^ {-2 } \\; \\;\\textrm{(m2)}\n\\end{aligned}\n\\]"
     },
     "metadata": {}
    }
   ],
   "source": [
    "%%render\n",
    "S_p = (pi*d**2*n_tr)/4    #m2"
   ]
  },
  {
   "source": [
    "Skutečná rychlost páry"
   ],
   "cell_type": "markdown",
   "metadata": {}
  },
  {
   "cell_type": "code",
   "execution_count": 111,
   "metadata": {},
   "outputs": [
    {
     "output_type": "display_data",
     "data": {
      "text/plain": "<IPython.core.display.Latex object>",
      "text/latex": "\\[\n\\begin{aligned}\nw_{p_{skut}} &= \\frac{ m_{p} \\cdot v_{78} }{ S_{p} }  = \\frac{ 21{,}111 \\cdot 1{,}082 \\times 10 ^ {-3 } }{ 1{,}805 \\times 10 ^ {-2 } } &= 1{,}265 \\; \\;\\textrm{(m/s)}\n\\end{aligned}\n\\]"
     },
     "metadata": {}
    }
   ],
   "source": [
    "%%render\n",
    "w_p_skut = (m_p*v_78)/S_p  #m/s"
   ]
  },
  {
   "source": [
    "#### Spaliny"
   ],
   "cell_type": "markdown",
   "metadata": {}
  },
  {
   "cell_type": "code",
   "execution_count": 113,
   "metadata": {},
   "outputs": [
    {
     "output_type": "display_data",
     "data": {
      "text/plain": "<IPython.core.display.Latex object>",
      "text/latex": "\\[\n\\begin{aligned}\nt_{FG} &= \\frac{ t_{F} + t_{G} }{ 2 }  = \\frac{ 241 + 145 }{ 2 } &= 193{,}0 \\; \\;\\textrm{(°C)}\n\\end{aligned}\n\\]"
     },
     "metadata": {}
    }
   ],
   "source": [
    "%%render\n",
    "t_FG = (t_F+t_G)/2  #°C"
   ]
  },
  {
   "cell_type": "code",
   "execution_count": 115,
   "metadata": {},
   "outputs": [
    {
     "output_type": "display_data",
     "data": {
      "text/plain": "<IPython.core.display.Latex object>",
      "text/latex": "\\[\n\\begin{aligned}\nV_{sp_{skut}} &= V_{sp} \\cdot \\left( \\frac{ t_{FG} + 273{,}15 }{ 273{,}15 } \\right)  = 102{,}534 \\cdot \\left( \\frac{ 193{,}0 + 273{,}15 }{ 273{,}15 } \\right) &= 174{,}981 \\; \\;\\textrm{(m3/s)}\n\\end{aligned}\n\\]"
     },
     "metadata": {}
    }
   ],
   "source": [
    "%%render\n",
    "V_sp_skut = V_sp*((t_FG+273.15)/273.15) #m3/s"
   ]
  },
  {
   "source": [
    "Skutečný průřez spalinového kanálu"
   ],
   "cell_type": "markdown",
   "metadata": {}
  },
  {
   "cell_type": "code",
   "execution_count": 117,
   "metadata": {},
   "outputs": [
    {
     "output_type": "display_data",
     "data": {
      "text/plain": "<IPython.core.display.Latex object>",
      "text/latex": "\\[\n\\begin{aligned}\nS_{kan} &= \\mathrm{sirka} \\cdot H - H \\cdot D \\cdot n_{tr} - 2 \\cdot h_{z} \\cdot t_{z} \\cdot H \\cdot n_{z} \\cdot n_{tr} \\\\&= 3 \\cdot 13{,}6 - 13{,}6 \\cdot 3{,}180 \\times 10 ^ {-2 } \\cdot 34{,}0 - 2 \\cdot 0{,}016 \\cdot 8{,}000 \\times 10 ^ {-4 } \\cdot 13{,}6 \\cdot 260 \\cdot 34{,}0 \\\\&= 23{,}018 \\; \\;\\textrm{(m2)}\\\\\n\\end{aligned}\n\\]"
     },
     "metadata": {}
    }
   ],
   "source": [
    "%%render\n",
    "S_kan = sirka*H-H*D*n_tr-2*h_z*t_z*H*n_z*n_tr   #m2"
   ]
  },
  {
   "source": [
    "Skutečná rychlost spalin"
   ],
   "cell_type": "markdown",
   "metadata": {}
  },
  {
   "cell_type": "code",
   "execution_count": 119,
   "metadata": {},
   "outputs": [
    {
     "output_type": "display_data",
     "data": {
      "text/plain": "<IPython.core.display.Latex object>",
      "text/latex": "\\[\n\\begin{aligned}\nw_{sp} &= \\frac{ V_{sp_{skut}} }{ S_{kan} }  = \\frac{ 174{,}981 }{ 23{,}018 } &= 7{,}602 \\; \\;\\textrm{(m/s)}\n\\end{aligned}\n\\]"
     },
     "metadata": {}
    }
   ],
   "source": [
    "%%render\n",
    "w_sp = V_sp_skut / S_kan    #m/s"
   ]
  },
  {
   "source": [
    "### Prostup tepla"
   ],
   "cell_type": "markdown",
   "metadata": {}
  },
  {
   "source": [
    "Podíl výhřevných ploch žeber a celkové plochy ze strany spalin:"
   ],
   "cell_type": "markdown",
   "metadata": {}
  },
  {
   "cell_type": "code",
   "execution_count": 121,
   "metadata": {},
   "outputs": [
    {
     "output_type": "display_data",
     "data": {
      "text/plain": "<IPython.core.display.Latex object>",
      "text/latex": "\\[\n\\begin{aligned}\n\\mathrm{ratio}_{2} &= \\frac{ \\left( \\frac{ D_{z} }{ D } \\right) ^{ 2 } - 1 }{ \\left( \\frac{ D_{z} }{ D } \\right) ^{ 2 } - 1 + 2 \\cdot \\left( \\frac{ s_{z} }{ D } - \\frac{ t_{z} }{ D } \\right) } \\\\&= \\frac{ \\left( \\frac{ 6{,}380 \\times 10 ^ {-2 } }{ 3{,}180 \\times 10 ^ {-2 } } \\right) ^{ 2 } - 1 }{ \\left( \\frac{ 6{,}380 \\times 10 ^ {-2 } }{ 3{,}180 \\times 10 ^ {-2 } } \\right) ^{ 2 } - 1 + 2 \\cdot \\left( \\frac{ 4{,}400 \\times 10 ^ {-3 } }{ 3{,}180 \\times 10 ^ {-2 } } - \\frac{ 8{,}000 \\times 10 ^ {-4 } }{ 3{,}180 \\times 10 ^ {-2 } } \\right) } \\\\&= 9{,}304 \\times 10 ^ {-1 } \\; \\;\\textrm{(-)}\\\\\n\\end{aligned}\n\\]"
     },
     "metadata": {}
    }
   ],
   "source": [
    "%%render\n",
    "# pomer S_z/S\n",
    "ratio_2 = ((D_z/D)**2-1) / ((D_z/D)**2-1+2*(s_z/D-t_z/D))   #-"
   ]
  },
  {
   "source": [
    "Podíl volných trubek a celkové plochy"
   ],
   "cell_type": "markdown",
   "metadata": {}
  },
  {
   "cell_type": "code",
   "execution_count": 123,
   "metadata": {},
   "outputs": [
    {
     "output_type": "display_data",
     "data": {
      "text/plain": "<IPython.core.display.Latex object>",
      "text/latex": "\\[\n\\begin{aligned}\n\\mathrm{ratio}_{3} &= 1 - \\mathrm{ratio}_{2}  = 1 - 9{,}304 \\times 10 ^ {-1 } &= 6{,}963 \\times 10 ^ {-2 }  \n\\end{aligned}\n\\]"
     },
     "metadata": {}
    }
   ],
   "source": [
    "%%render\n",
    "# pomer S_h/S\n",
    "ratio_3 = 1-ratio_2"
   ]
  },
  {
   "source": [
    "#### Tabulka $\\lambda$ pro obsah vody"
   ],
   "cell_type": "markdown",
   "metadata": {}
  },
  {
   "cell_type": "code",
   "execution_count": 124,
   "metadata": {},
   "outputs": [],
   "source": [
    "lambda_0 = 22.5+(8-5)*((22.7-22.5)/(10-5))\n",
    "lambda_100 = 30.5+(8-5)*((31.2-30.5)/(10-5))\n",
    "lambda_200 = 38.7+(8-5)*((39.8-38.7)/(10-5))\n",
    "lambda_300 = 46.4+(8-5)*((48.1-46.4)/(10-5))\n",
    "lambda_400 = 54.3+(8-5)*((56.6-54.3)/(10-5))\n",
    "lambda_500 = 62.2+(8-5)*((65.1-62.2)/(10-5))\n",
    "lambda_600 = 70+(8-5)*((73.5-70)/(10-5))\n",
    "\n",
    "lambda_tabulka = pd.DataFrame(\n",
    "{\n",
    "        \"T [°C]\": (0,100,200,300,400,500,600),\n",
    "        \"5 % H2O\": (22.5,30.5,38.7,46.4,54.3,62.2,70.0),\n",
    "        \"8 % H2O\": (lambda_0,lambda_100,lambda_200,lambda_300,lambda_400,lambda_500,lambda_600),\n",
    "        \"10 % H2O\": (22.7,31.2,39.8,48.1,56.6,65.1,73.5),\n",
    "    }\n",
    ")\n",
    "lambda_tabulka_print = lambda_tabulka.set_index(spalinova_tabulka.columns[0])"
   ]
  },
  {
   "cell_type": "code",
   "execution_count": 125,
   "metadata": {},
   "outputs": [
    {
     "output_type": "execute_result",
     "data": {
      "text/plain": [
       "        5 % H2O  8 % H2O  10 % H2O\n",
       "T [°C]                            \n",
       "0          22.5    22.62      22.7\n",
       "100        30.5    30.92      31.2\n",
       "200        38.7    39.36      39.8\n",
       "300        46.4    47.42      48.1\n",
       "400        54.3    55.68      56.6\n",
       "500        62.2    63.94      65.1\n",
       "600        70.0    72.10      73.5"
      ],
      "text/html": "<div>\n<style scoped>\n    .dataframe tbody tr th:only-of-type {\n        vertical-align: middle;\n    }\n\n    .dataframe tbody tr th {\n        vertical-align: top;\n    }\n\n    .dataframe thead th {\n        text-align: right;\n    }\n</style>\n<table border=\"1\" class=\"dataframe\">\n  <thead>\n    <tr style=\"text-align: right;\">\n      <th></th>\n      <th>5 % H2O</th>\n      <th>8 % H2O</th>\n      <th>10 % H2O</th>\n    </tr>\n    <tr>\n      <th>T [°C]</th>\n      <th></th>\n      <th></th>\n      <th></th>\n    </tr>\n  </thead>\n  <tbody>\n    <tr>\n      <th>0</th>\n      <td>22.5</td>\n      <td>22.62</td>\n      <td>22.7</td>\n    </tr>\n    <tr>\n      <th>100</th>\n      <td>30.5</td>\n      <td>30.92</td>\n      <td>31.2</td>\n    </tr>\n    <tr>\n      <th>200</th>\n      <td>38.7</td>\n      <td>39.36</td>\n      <td>39.8</td>\n    </tr>\n    <tr>\n      <th>300</th>\n      <td>46.4</td>\n      <td>47.42</td>\n      <td>48.1</td>\n    </tr>\n    <tr>\n      <th>400</th>\n      <td>54.3</td>\n      <td>55.68</td>\n      <td>56.6</td>\n    </tr>\n    <tr>\n      <th>500</th>\n      <td>62.2</td>\n      <td>63.94</td>\n      <td>65.1</td>\n    </tr>\n    <tr>\n      <th>600</th>\n      <td>70.0</td>\n      <td>72.10</td>\n      <td>73.5</td>\n    </tr>\n  </tbody>\n</table>\n</div>"
     },
     "metadata": {},
     "execution_count": 125
    }
   ],
   "source": [
    "lambda_tabulka_print\n",
    "\n",
    "# print(lambda_tabulka_print.to_latex())"
   ]
  },
  {
   "source": [
    "#### Tabulka $\\nu$ pro daný obsah vody"
   ],
   "cell_type": "markdown",
   "metadata": {}
  },
  {
   "cell_type": "code",
   "execution_count": 126,
   "metadata": {},
   "outputs": [],
   "source": [
    "nu_0 = 12.2+(8-5)*((12.2-12.2)/(10-5))\n",
    "nu_100 = 21.3+(8-5)*((21.5-21.3)/(10-5))\n",
    "nu_200 = 31.8+(8-5)*((32.8-31.8)/(10-5))\n",
    "nu_300 = 45.0+(8-5)*((45.8-45.0)/(10-5))\n",
    "nu_400 = 59.2+(8-5)*((60.4-59.2)/(10-5))\n",
    "nu_500 = 74.6+(8-5)*((76.3-74.6)/(10-5))\n",
    "nu_600 = 91.4+(8-5)*((93.6-91.4)/(10-5))\n",
    "\n",
    "nu_tabulka = pd.DataFrame(\n",
    "{\n",
    "        \"T [°C]\": (0,100,200,300,400,500,600),\n",
    "        \"5 % H2O\": (12.2,21.3,31.8,45.0,59.2,74.6,91.4),\n",
    "        \"8 % H2O\": (nu_0,nu_100,nu_200,nu_300,nu_400,nu_500,nu_600),\n",
    "        \"10 % H2O\": (12.2,21.5,32.8,45.8,60.4,76.3,93.6),\n",
    "    }\n",
    ")\n",
    "nu_tabulka_print = nu_tabulka.set_index(nu_tabulka.columns[0])"
   ]
  },
  {
   "cell_type": "code",
   "execution_count": 127,
   "metadata": {},
   "outputs": [
    {
     "output_type": "execute_result",
     "data": {
      "text/plain": [
       "        5 % H2O  8 % H2O  10 % H2O\n",
       "T [°C]                            \n",
       "0          12.2    12.20      12.2\n",
       "100        21.3    21.42      21.5\n",
       "200        31.8    32.40      32.8\n",
       "300        45.0    45.48      45.8\n",
       "400        59.2    59.92      60.4\n",
       "500        74.6    75.62      76.3\n",
       "600        91.4    92.72      93.6"
      ],
      "text/html": "<div>\n<style scoped>\n    .dataframe tbody tr th:only-of-type {\n        vertical-align: middle;\n    }\n\n    .dataframe tbody tr th {\n        vertical-align: top;\n    }\n\n    .dataframe thead th {\n        text-align: right;\n    }\n</style>\n<table border=\"1\" class=\"dataframe\">\n  <thead>\n    <tr style=\"text-align: right;\">\n      <th></th>\n      <th>5 % H2O</th>\n      <th>8 % H2O</th>\n      <th>10 % H2O</th>\n    </tr>\n    <tr>\n      <th>T [°C]</th>\n      <th></th>\n      <th></th>\n      <th></th>\n    </tr>\n  </thead>\n  <tbody>\n    <tr>\n      <th>0</th>\n      <td>12.2</td>\n      <td>12.20</td>\n      <td>12.2</td>\n    </tr>\n    <tr>\n      <th>100</th>\n      <td>21.3</td>\n      <td>21.42</td>\n      <td>21.5</td>\n    </tr>\n    <tr>\n      <th>200</th>\n      <td>31.8</td>\n      <td>32.40</td>\n      <td>32.8</td>\n    </tr>\n    <tr>\n      <th>300</th>\n      <td>45.0</td>\n      <td>45.48</td>\n      <td>45.8</td>\n    </tr>\n    <tr>\n      <th>400</th>\n      <td>59.2</td>\n      <td>59.92</td>\n      <td>60.4</td>\n    </tr>\n    <tr>\n      <th>500</th>\n      <td>74.6</td>\n      <td>75.62</td>\n      <td>76.3</td>\n    </tr>\n    <tr>\n      <th>600</th>\n      <td>91.4</td>\n      <td>92.72</td>\n      <td>93.6</td>\n    </tr>\n  </tbody>\n</table>\n</div>"
     },
     "metadata": {},
     "execution_count": 127
    }
   ],
   "source": [
    "nu_tabulka_print\n",
    "\n",
    "# print(nu_tabulka_print.to_latex())"
   ]
  },
  {
   "source": [
    "Poměrná příčná rozteč trubek"
   ],
   "cell_type": "markdown",
   "metadata": {}
  },
  {
   "cell_type": "code",
   "execution_count": 129,
   "metadata": {},
   "outputs": [
    {
     "output_type": "display_data",
     "data": {
      "text/plain": "<IPython.core.display.Latex object>",
      "text/latex": "\\[\n\\begin{aligned}\n\\sigma_{1} &= \\frac{ s_{1} }{ D }  = \\frac{ 0{,}088 }{ 3{,}180 \\times 10 ^ {-2 } } &= 2{,}767  \n\\end{aligned}\n\\]"
     },
     "metadata": {}
    }
   ],
   "source": [
    "%%render\n",
    "sigma_1 = s_1/D"
   ]
  },
  {
   "cell_type": "code",
   "execution_count": 131,
   "metadata": {},
   "outputs": [
    {
     "output_type": "display_data",
     "data": {
      "text/plain": "<IPython.core.display.Latex object>",
      "text/latex": "\\[\n\\begin{aligned}\n\\sigma_{2} &= \\frac{ \\sqrt { \\left( \\frac{ s_{1} }{ 2 } \\right) ^{ 2 } + \\left( s_{2} \\right) ^{ 2 } } }{ D }  = \\frac{ \\sqrt { \\left( \\frac{ 0{,}088 }{ 2 } \\right) ^{ 2 } + \\left( 0{,}092 \\right) ^{ 2 } } }{ 3{,}180 \\times 10 ^ {-2 } } &= 3{,}207  \n\\end{aligned}\n\\]"
     },
     "metadata": {}
    }
   ],
   "source": [
    "%%render\n",
    "sigma_2 = sqrt((s_1/2)**2+s_2**2)/D"
   ]
  },
  {
   "source": [
    "Součinitel poměrných roztečí"
   ],
   "cell_type": "markdown",
   "metadata": {}
  },
  {
   "cell_type": "code",
   "execution_count": 133,
   "metadata": {},
   "outputs": [
    {
     "output_type": "display_data",
     "data": {
      "text/plain": "<IPython.core.display.Latex object>",
      "text/latex": "\\[\n\\begin{aligned}\n\\phi_{\\sigma} &= \\frac{ \\sigma_{1} - 1 }{ \\sigma_{2} - 1 }  = \\frac{ 2{,}767 - 1 }{ 3{,}207 - 1 } &= 8{,}008 \\times 10 ^ {-1 }  \n\\end{aligned}\n\\]"
     },
     "metadata": {}
    }
   ],
   "source": [
    "%%render\n",
    "phi_sigma = (sigma_1-1)/(sigma_2-1)"
   ]
  },
  {
   "source": [
    "Součinitel přestupu tepla konvekcí"
   ],
   "cell_type": "markdown",
   "metadata": {}
  },
  {
   "cell_type": "code",
   "execution_count": 134,
   "metadata": {},
   "outputs": [],
   "source": [
    "lambda_FG = lambda_interpolate(t_FG)\n",
    "nu_FG = nu_interpolate(t_FG)\n",
    "c_z = 1.02  #Opravný součinitel na počet řad (str. 116 Budaj)"
   ]
  },
  {
   "cell_type": "code",
   "execution_count": 137,
   "metadata": {},
   "outputs": [
    {
     "output_type": "display_data",
     "data": {
      "text/plain": "<IPython.core.display.Latex object>",
      "text/latex": "\\[\n\\begin{aligned}\n\\mathrm{lambda}_{FG} &= 3{,}877 \\times 10 ^ {-2 } \\; \n\\\\[10pt]\n\\nu_{FG} &= 3{,}163 \\times 10 ^ {-5 } \\; \n\\\\[10pt]\nc_{z} &= 1{,}02 \\; \n\\end{aligned}\n\\]"
     },
     "metadata": {}
    }
   ],
   "source": [
    "%%render\n",
    "lambda_FG\n",
    "nu_FG\n",
    "c_z"
   ]
  },
  {
   "cell_type": "code",
   "execution_count": 139,
   "metadata": {},
   "outputs": [
    {
     "output_type": "display_data",
     "data": {
      "text/plain": "<IPython.core.display.Latex object>",
      "text/latex": "\\[\n\\begin{aligned}\n\\alpha_{k} &= 0{,}23 \\cdot c_{z} \\cdot \\left( \\phi_{\\sigma} \\right) ^{ 0{,}2 } \\cdot \\left( \\frac{ \\mathrm{lambda}_{FG} }{ s_{z} } \\right) \\cdot \\left( \\frac{ D }{ s_{z} } \\right) ^{ -0{,}54 } \\cdot \\left( \\frac{ h_{z} }{ s_{z} } \\right) ^{ -0{,}14 } \\cdot \\left( w_{sp} \\cdot \\frac{ s_{z} }{ \\nu_{FG} } \\right) ^{ 0{,}65 } \\\\&= 0{,}23 \\cdot 1{,}02 \\cdot \\left( 8{,}008 \\times 10 ^ {-1 } \\right) ^{ 0{,}2 } \\cdot \\left( \\frac{ 3{,}877 \\times 10 ^ {-2 } }{ 4{,}400 \\times 10 ^ {-3 } } \\right) \\cdot \\left( \\frac{ 3{,}180 \\times 10 ^ {-2 } }{ 4{,}400 \\times 10 ^ {-3 } } \\right) ^{ -0{,}54 } \\cdot \\left( \\frac{ 0{,}016 }{ 4{,}400 \\times 10 ^ {-3 } } \\right) ^{ -0{,}14 } \\cdot \\left( 7{,}602 \\cdot \\frac{ 4{,}400 \\times 10 ^ {-3 } }{ 3{,}163 \\times 10 ^ {-5 } } \\right) ^{ 0{,}65 } \\\\&= 52{,}42 \\; \\;\\textrm{(W/m2K)}\\\\\n\\end{aligned}\n\\]"
     },
     "metadata": {}
    }
   ],
   "source": [
    "%%render\n",
    "alpha_k = 0.23*c_z*phi_sigma**0.2*(lambda_FG/s_z)*(D/s_z)**-0.54*(h_z/s_z)**-0.14*(w_sp*s_z/nu_FG)**0.65 #W/m2K"
   ]
  },
  {
   "source": [
    "Součinitel $\\beta$"
   ],
   "cell_type": "markdown",
   "metadata": {}
  },
  {
   "cell_type": "code",
   "execution_count": 141,
   "metadata": {},
   "outputs": [
    {
     "output_type": "display_data",
     "data": {
      "text/plain": "<IPython.core.display.Latex object>",
      "text/latex": "\\[\n\\begin{aligned}\n\\psi_{z} &= 0{,}85 \\; \\;\\textrm{(pro kruhová žebra)}\n\\\\[10pt]\n\\mathrm{lambda}_{z} &= 54{,}9 \\; \\;\\textrm{(W/mK (pro CS při teplotě 150 °C))}\n\\\\[10pt]\n\\epsilon &= 4{,}500 \\times 10 ^ {-3 } \\; \\;\\textrm{(pro plynné palivo a žebrované trubky)}\n\\end{aligned}\n\\]"
     },
     "metadata": {}
    }
   ],
   "source": [
    "%%render\n",
    "psi_z = 0.85  # pro kruhová žebra\n",
    "lambda_z = 54.9   #W/mK (pro CS při teplotě 150 °C)\n",
    "epsilon = 0.0045    #pro plynné palivo a žebrované trubky"
   ]
  },
  {
   "cell_type": "code",
   "execution_count": 143,
   "metadata": {},
   "outputs": [
    {
     "output_type": "display_data",
     "data": {
      "text/plain": "<IPython.core.display.Latex object>",
      "text/latex": "\\[\n\\begin{aligned}\n\\beta &= \\sqrt { \\frac{ 2 \\cdot \\psi_{z} \\cdot \\alpha_{k} }{ t_{z} \\cdot \\mathrm{lambda}_{z} \\cdot \\left( 1 + \\epsilon \\cdot \\psi_{z} \\cdot \\alpha_{k} \\right) } } \\\\&= \\sqrt { \\frac{ 2 \\cdot 0{,}85 \\cdot 52{,}42 }{ 8{,}000 \\times 10 ^ {-4 } \\cdot 54{,}9 \\cdot \\left( 1 + 4{,}500 \\times 10 ^ {-3 } \\cdot 0{,}85 \\cdot 52{,}42 \\right) } } \\\\&= 41{,}111  \\\\\n\\end{aligned}\n\\]"
     },
     "metadata": {}
    }
   ],
   "source": [
    "%%render\n",
    "beta = sqrt((2*psi_z*alpha_k)/(t_z*lambda_z*(1+epsilon*psi_z*alpha_k)))"
   ]
  },
  {
   "source": [
    "#### Součinitel efektivnosti žebra E"
   ],
   "cell_type": "markdown",
   "metadata": {}
  },
  {
   "cell_type": "code",
   "execution_count": 145,
   "metadata": {},
   "outputs": [
    {
     "output_type": "display_data",
     "data": {
      "text/plain": "<IPython.core.display.Latex object>",
      "text/latex": "\\[\n\\begin{aligned}\n\\mathrm{ratio}_{4} &= \\frac{ D_{z} }{ D }  = \\frac{ 6{,}380 \\times 10 ^ {-2 } }{ 3{,}180 \\times 10 ^ {-2 } } &= 2{,}006  \n\\\\[10pt]\n\\mathrm{coef}_{1} &= \\beta \\cdot h_{z}  = 41{,}111 \\cdot 0{,}016 &= 6{,}578 \\times 10 ^ {-1 }  \n\\\\[10pt]\nE &= 0{,}83 \\; \n\\end{aligned}\n\\]"
     },
     "metadata": {}
    }
   ],
   "source": [
    "%%render\n",
    "# lze ho odečíst v BUDAJovi na straně 114 - kruhové žebro, kruhový základ\n",
    "ratio_4 = D_z/D\n",
    "coef_1 = beta*h_z\n",
    "E = 0.83"
   ]
  },
  {
   "source": [
    "Součinitel přestupu tepla na straně spalin $\\alpha_1$$_r$"
   ],
   "cell_type": "markdown",
   "metadata": {}
  },
  {
   "cell_type": "code",
   "execution_count": 146,
   "metadata": {},
   "outputs": [],
   "source": [
    "mu = 1  # je 1 pro žebra s konst. průměrem"
   ]
  },
  {
   "cell_type": "code",
   "execution_count": 148,
   "metadata": {},
   "outputs": [
    {
     "output_type": "display_data",
     "data": {
      "text/plain": "<IPython.core.display.Latex object>",
      "text/latex": "\\[\n\\begin{aligned}\n\\alpha_{1r} &= \\left( \\mathrm{ratio}_{2} \\cdot E \\cdot \\mu + \\mathrm{ratio}_{3} \\right) \\cdot \\left( \\frac{ \\psi_{z} \\cdot \\alpha_{k} }{ 1 + \\epsilon \\cdot \\psi_{z} \\cdot \\alpha_{k} } \\right) \\\\&= \\left( 9{,}304 \\times 10 ^ {-1 } \\cdot 0{,}83 \\cdot 1 + 6{,}963 \\times 10 ^ {-2 } \\right) \\cdot \\left( \\frac{ 0{,}85 \\cdot 52{,}42 }{ 1 + 4{,}500 \\times 10 ^ {-3 } \\cdot 0{,}85 \\cdot 52{,}42 } \\right) \\\\&= 31{,}245 \\; \\;\\textrm{(W/m2K)}\\\\\n\\end{aligned}\n\\]"
     },
     "metadata": {}
    }
   ],
   "source": [
    "%%render\n",
    "alpha_1r = (ratio_2*E*mu+ratio_3)*((psi_z*alpha_k)/(1+epsilon*psi_z*alpha_k))   #W/m2K"
   ]
  },
  {
   "source": [
    "Korekce"
   ],
   "cell_type": "markdown",
   "metadata": {}
  },
  {
   "cell_type": "code",
   "execution_count": 150,
   "metadata": {},
   "outputs": [
    {
     "output_type": "execute_result",
     "data": {
      "text/plain": [
       "52.41968054157586"
      ]
     },
     "metadata": {},
     "execution_count": 150
    }
   ],
   "source": [
    "alpha_1r = alpha_k\n",
    "alpha_1r"
   ]
  },
  {
   "source": [
    "#### VÝPOČET SOUČINITELE PŘESTUPU TEPLA ZE STRANY PÁRY U EKA JE MOC VYSOKÝ - ZANEDBÁVÁ SE"
   ],
   "cell_type": "markdown",
   "metadata": {}
  },
  {
   "source": [
    "#### VÝPOČET SOUČINITELE PROSTUPU TEPLA U EKA"
   ],
   "cell_type": "markdown",
   "metadata": {}
  },
  {
   "source": [
    "Povrch jednoho žebra"
   ],
   "cell_type": "markdown",
   "metadata": {}
  },
  {
   "cell_type": "code",
   "execution_count": 152,
   "metadata": {},
   "outputs": [
    {
     "output_type": "display_data",
     "data": {
      "text/plain": "<IPython.core.display.Latex object>",
      "text/latex": "\\[\n\\begin{aligned}\nS_{1z} &= \\left( \\frac{ 2 \\cdot \\pi \\cdot \\left( \\left( D_{z} \\right) ^{ 2 } - \\left( D \\right) ^{ 2 } \\right) }{ 4 } \\right) + \\pi \\cdot D_{z} \\cdot t_{z} \\\\&= \\left( \\frac{ 2 \\cdot 3{,}142 \\cdot \\left( \\left( 6{,}380 \\times 10 ^ {-2 } \\right) ^{ 2 } - \\left( 3{,}180 \\times 10 ^ {-2 } \\right) ^{ 2 } \\right) }{ 4 } \\right) + 3{,}142 \\cdot 6{,}380 \\times 10 ^ {-2 } \\cdot 8{,}000 \\times 10 ^ {-4 } \\\\&= 0{,}005 \\; \\;\\textrm{(m2)}\\\\\n\\end{aligned}\n\\]"
     },
     "metadata": {}
    }
   ],
   "source": [
    "%%render\n",
    "S_1z = ((2*pi*(D_z**2-D**2))/4)+pi*D_z*t_z  #m2"
   ]
  },
  {
   "source": [
    "Celkový vnější povrch jedné jeden metr dlouhé trubky se žebry"
   ],
   "cell_type": "markdown",
   "metadata": {}
  },
  {
   "cell_type": "code",
   "execution_count": 154,
   "metadata": {},
   "outputs": [
    {
     "output_type": "display_data",
     "data": {
      "text/plain": "<IPython.core.display.Latex object>",
      "text/latex": "\\[\n\\begin{aligned}\nS_{1m} &= \\pi \\cdot D \\cdot \\left( 1 - n_{z} \\cdot t_{z} \\right) + n_{z} \\cdot S_{1z} \\\\&= 3{,}142 \\cdot 3{,}180 \\times 10 ^ {-2 } \\cdot \\left( 1 - 260 \\cdot 8{,}000 \\times 10 ^ {-4 } \\right) + 260 \\cdot 0{,}005 \\\\&= 1{,}37 \\; \\;\\textrm{(m2)}\\\\\n\\end{aligned}\n\\]"
     },
     "metadata": {}
    }
   ],
   "source": [
    "%%render\n",
    "S_1m = pi*D*(1-n_z*t_z)+n_z*S_1z    #m2"
   ]
  },
  {
   "cell_type": "code",
   "execution_count": 155,
   "metadata": {},
   "outputs": [],
   "source": [
    "S_1m = 1.21 #m"
   ]
  },
  {
   "source": [
    "Celkový vnitřní povrch jedné jeden metr dlouhé trubky se žebry"
   ],
   "cell_type": "markdown",
   "metadata": {}
  },
  {
   "cell_type": "code",
   "execution_count": 157,
   "metadata": {},
   "outputs": [
    {
     "output_type": "display_data",
     "data": {
      "text/plain": "<IPython.core.display.Latex object>",
      "text/latex": "\\[\n\\begin{aligned}\nS_{2m} &= \\pi \\cdot d  = 3{,}142 \\cdot 0{,}026 &= 8{,}168 \\times 10 ^ {-2 } \\; \\;\\textrm{(m2)}\n\\end{aligned}\n\\]"
     },
     "metadata": {}
    }
   ],
   "source": [
    "%%render\n",
    "S_2m = pi*d #m2"
   ]
  },
  {
   "source": [
    "Součinitel prostupu tepla k"
   ],
   "cell_type": "markdown",
   "metadata": {}
  },
  {
   "source": [
    "Součinitel využití plochy $\\psi_{eko}$"
   ],
   "cell_type": "markdown",
   "metadata": {}
  },
  {
   "cell_type": "code",
   "execution_count": 158,
   "metadata": {},
   "outputs": [],
   "source": [
    "psi_eko = 0.75"
   ]
  },
  {
   "cell_type": "code",
   "execution_count": 161,
   "metadata": {},
   "outputs": [
    {
     "output_type": "display_data",
     "data": {
      "text/plain": "<IPython.core.display.Latex object>",
      "text/latex": "\\[\n\\begin{aligned}\nk &= \\psi_{eko} \\cdot \\alpha_{1r}  = 0{,}75 \\cdot 52{,}42 &= 39{,}315 \\; \\;\\textrm{(W/m2K)}\n\\end{aligned}\n\\]"
     },
     "metadata": {}
    }
   ],
   "source": [
    "%%render\n",
    "k = psi_eko*alpha_1r    #W/m2K"
   ]
  },
  {
   "cell_type": "code",
   "execution_count": 162,
   "metadata": {},
   "outputs": [],
   "source": [
    "k = 33.45"
   ]
  },
  {
   "source": [
    "#### Počet řad přehříváku 1"
   ],
   "cell_type": "markdown",
   "metadata": {}
  },
  {
   "source": [
    "Rozdíly teplot pro výpočet středního logaritmického spádu:"
   ],
   "cell_type": "markdown",
   "metadata": {}
  },
  {
   "cell_type": "code",
   "execution_count": 164,
   "metadata": {},
   "outputs": [
    {
     "output_type": "display_data",
     "data": {
      "text/plain": "<IPython.core.display.Latex object>",
      "text/latex": "\\[\n\\begin{aligned}\n\\Delta_{t_{1}} &= t_{F} - t_{7}  = 241 - 217 &= 24  \n\\\\[10pt]\n\\Delta_{t_{2}} &= t_{G} - t_{8}  = 145 - 71 &= 74  \n\\end{aligned}\n\\]"
     },
     "metadata": {}
    }
   ],
   "source": [
    "%%render\n",
    "Delta_t_1 = t_F-t_7\n",
    "Delta_t_2 = t_G-t_8"
   ]
  },
  {
   "source": [
    "Střední logaritmický teplotní spád"
   ],
   "cell_type": "markdown",
   "metadata": {}
  },
  {
   "cell_type": "code",
   "execution_count": 166,
   "metadata": {},
   "outputs": [
    {
     "output_type": "display_data",
     "data": {
      "text/plain": "<IPython.core.display.Latex object>",
      "text/latex": "\\[\n\\begin{aligned}\n\\Delta_{t_{LN}} &= \\frac{ \\Delta_{t_{1}} - \\Delta_{t_{2}} }{ \\ln \\left( \\frac{ \\Delta_{t_{1}} }{ \\Delta_{t_{2}} } \\right) }  = \\frac{ 24 - 74 }{ \\ln \\left( \\frac{ 24 }{ 74 } \\right) } &= 44{,}405 \\; \\;\\textrm{(K)}\n\\end{aligned}\n\\]"
     },
     "metadata": {}
    }
   ],
   "source": [
    "%%render\n",
    "Delta_t_LN = (Delta_t_1-Delta_t_2)/log(Delta_t_1/Delta_t_2) #K"
   ]
  },
  {
   "source": [
    "Vnější teplosměnná plocha"
   ],
   "cell_type": "markdown",
   "metadata": {}
  },
  {
   "cell_type": "code",
   "execution_count": 168,
   "metadata": {},
   "outputs": [
    {
     "output_type": "display_data",
     "data": {
      "text/plain": "<IPython.core.display.Latex object>",
      "text/latex": "\\[\n\\begin{aligned}\nS_{SP} &= \\frac{ 1000 \\cdot Q_{EKO_{1}} }{ k \\cdot \\Delta_{t_{LN}} }  = \\frac{ 1000 \\cdot 13292{,}73 }{ 33{,}45 \\cdot 44{,}405 } &= 8949{,}336 \\; \\;\\textrm{(m2)}\n\\end{aligned}\n\\]"
     },
     "metadata": {}
    }
   ],
   "source": [
    "%%render\n",
    "S_SP = (1000*Q_EKO_1)/(k*Delta_t_LN)   #m2"
   ]
  },
  {
   "source": [
    "Počet řad"
   ],
   "cell_type": "markdown",
   "metadata": {}
  },
  {
   "cell_type": "code",
   "execution_count": 170,
   "metadata": {},
   "outputs": [
    {
     "output_type": "display_data",
     "data": {
      "text/plain": "<IPython.core.display.Latex object>",
      "text/latex": "\\[\n\\begin{aligned}\nn_{rad} &= \\frac{ S_{SP} }{ H \\cdot S_{1m} \\cdot n_{tr} }  = \\frac{ 8949{,}336 }{ 13{,}6 \\cdot 1{,}21 \\cdot 34{,}0 } &= 15{,}995  \n\\end{aligned}\n\\]"
     },
     "metadata": {}
    }
   ],
   "source": [
    "%%render\n",
    "n_rad = S_SP/(H*S_1m*n_tr)"
   ]
  },
  {
   "cell_type": "code",
   "execution_count": 171,
   "metadata": {},
   "outputs": [],
   "source": [
    "n_rad = round(n_rad,0)"
   ]
  },
  {
   "source": [
    "#### Skutečné teplo předané v přehříváku 1"
   ],
   "cell_type": "markdown",
   "metadata": {}
  },
  {
   "source": [
    "Skutečná vnější teplosměnná plocha S_SP"
   ],
   "cell_type": "markdown",
   "metadata": {}
  },
  {
   "cell_type": "code",
   "execution_count": 173,
   "metadata": {},
   "outputs": [
    {
     "output_type": "display_data",
     "data": {
      "text/plain": "<IPython.core.display.Latex object>",
      "text/latex": "\\[\n\\begin{aligned}\nS_{SP_{skut}} &= n_{rad} \\cdot n_{tr} \\cdot H \\cdot S_{1m}  = 16{,}0 \\cdot 34{,}0 \\cdot 13{,}6 \\cdot 1{,}21 &= 8952{,}064 \\; \\;\\textrm{(m2)}\n\\end{aligned}\n\\]"
     },
     "metadata": {}
    }
   ],
   "source": [
    "%%render\n",
    "S_SP_skut = n_rad*n_tr*H*S_1m   #m2"
   ]
  },
  {
   "source": [
    "Skutečné teplo předané v přehříváku 1"
   ],
   "cell_type": "markdown",
   "metadata": {}
  },
  {
   "cell_type": "code",
   "execution_count": 175,
   "metadata": {},
   "outputs": [
    {
     "output_type": "display_data",
     "data": {
      "text/plain": "<IPython.core.display.Latex object>",
      "text/latex": "\\[\n\\begin{aligned}\nQ_{EKO_{1_{skut}}} &= \\frac{ k \\cdot S_{SP_{skut}} \\cdot \\Delta_{t_{LN}} }{ 1000 }  = \\frac{ 33{,}45 \\cdot 8952{,}064 \\cdot 44{,}405 }{ 1000 } &= 13296{,}783 \\; \\;\\textrm{(kW)}\n\\end{aligned}\n\\]"
     },
     "metadata": {}
    }
   ],
   "source": [
    "%%render\n",
    "Q_EKO_1_skut = (k*S_SP_skut*Delta_t_LN)/1000   #kW"
   ]
  },
  {
   "source": [
    "Kontrola (rozdíl tepel nesmí překročit 5 %)"
   ],
   "cell_type": "markdown",
   "metadata": {}
  },
  {
   "cell_type": "code",
   "execution_count": 181,
   "metadata": {},
   "outputs": [
    {
     "output_type": "display_data",
     "data": {
      "text/plain": "<IPython.core.display.Latex object>",
      "text/latex": "\\[\n\\begin{aligned}\n\\Delta_{Qcon} &= 100 \\cdot \\operatorname{abs} { \\left( \\frac{ Q_{EKO_{1_{skut}}} - Q_{EKO_{1}} }{ Q_{EKO_{1_{skut}}} } \\right) }  = 100 \\cdot \\operatorname{abs} { \\left( \\frac{ 13296{,}783 - 13292{,}73 }{ 13296{,}783 } \\right) } &= 3{,}048 \\times 10 ^ {-2 } \\; \\;\\textrm{(%)}\n\\end{aligned}\n\\]"
     },
     "metadata": {}
    }
   ],
   "source": [
    "%%render\n",
    "Delta_Qcon = 100*(abs((Q_EKO_1_skut-Q_EKO_1)/Q_EKO_1_skut))    #%"
   ]
  },
  {
   "source": [
    "#### Skutečná teplota a entalpie spalin v bodě G"
   ],
   "cell_type": "markdown",
   "metadata": {}
  },
  {
   "cell_type": "code",
   "execution_count": 177,
   "metadata": {},
   "outputs": [
    {
     "output_type": "display_data",
     "data": {
      "text/plain": "<IPython.core.display.Latex object>",
      "text/latex": "\\[\n\\begin{aligned}\nI_{G_{skut}} &= I_{F_{sp}} - \\frac{ Q_{EKO_{1_{skut}}} }{ V_{sp} \\cdot \\left( 1 - z_{s} \\right) }  = 324{,}466 - \\frac{ 13296{,}783 }{ 102{,}534 \\cdot \\left( 1 - 3{,}072 \\times 10 ^ {-3 } \\right) } &= 194{,}384 \\; \\;\\textrm{(kJ/m3)}\n\\end{aligned}\n\\]"
     },
     "metadata": {}
    }
   ],
   "source": [
    "%%render\n",
    "I_G_skut = I_F_sp - Q_EKO_1_skut/(V_sp*(1-z_s))    #kJ/m3"
   ]
  },
  {
   "cell_type": "code",
   "execution_count": 179,
   "metadata": {},
   "outputs": [
    {
     "output_type": "display_data",
     "data": {
      "text/plain": "<IPython.core.display.Latex object>",
      "text/latex": "\\[\n\\begin{aligned}\nT_{G_{skut}} &= 100 + \\left( 200 - 100 \\right) &= 145{,}295 \\; \\;\\textrm{(°C)}\n\\end{aligned}\n\\]"
     },
     "metadata": {}
    }
   ],
   "source": [
    "%%render\n",
    "T_G_skut = 100 + (200-100)*((I_G_skut-entalpie_sp(100,'m3n')['sp'])/(entalpie_sp(200,'m3n')['sp']-entalpie_sp(100,'m3n')['sp']))    #°C"
   ]
  },
  {
   "source": [
    "Kontrola - teploty se nesmí lišit o více jak 3°C"
   ],
   "cell_type": "markdown",
   "metadata": {}
  },
  {
   "cell_type": "code",
   "execution_count": 183,
   "metadata": {},
   "outputs": [
    {
     "output_type": "display_data",
     "data": {
      "text/plain": "<IPython.core.display.Latex object>",
      "text/latex": "\\[\n\\begin{aligned}\n\\Delta_{Tcon} &= \\operatorname{abs} { \\left( T_{G_{skut}} - t_{G} \\right) }  = \\operatorname{abs} { \\left( 145{,}295 - 145 \\right) } &= 2{,}952 \\times 10 ^ {-1 } \\; \\;\\textrm{(°C)}\n\\end{aligned}\n\\]"
     },
     "metadata": {}
    }
   ],
   "source": [
    "%%render\n",
    "Delta_Tcon = abs(T_G_skut-t_G)  #°C"
   ]
  },
  {
   "cell_type": "code",
   "execution_count": 184,
   "metadata": {},
   "outputs": [],
   "source": [
    "MEZERA = ''\n",
    "material = '16Mo3'\n",
    "material_z = 'Uhlíková ocel'\n",
    "data_EKO1 = {\n",
    "    'Hodnota':\n",
    "    [1000*D,1000*t_tr,1000*d,1000*h_z,1000*t_z,1000*s_z, n_z,1000*s_1,1000*s_2,D_z,S_1z,S_1m,S_SP, MEZERA,c_z,alpha_k,psi_z,lambda_z,epsilon,beta,E,mu,alpha_1r,k,Delta_t_LN,MEZERA,Delta_Qcon,Delta_Tcon,MEZERA,n_tr,n_rad,material,material_z],\n",
    "\n",
    "    'Jednotka': \n",
    "    ['mm','mm','mm','mm','mm','mm','-','mm','mm','mm','m2','m2','m2',MEZERA,'-','kW/m2K','-','kW/mK','-','-','-','-','kW/m2K','kW/m2K','K',MEZERA,'%','K',MEZERA,'-','-','-','-']\n",
    "\n",
    "    }\n",
    "zkratky = ['D','t_tr','d','h_z','t_z','s_z','n_z','s_1','s_2','D_z','S_1z','S_1m','S_SP',MEZERA,'c_z','alpha_k','psi_z','lambda_z','epsilon','beta','E','mu','alpha_1r','k','Delta_t_LN',MEZERA,'Delta_Qcon','Delta_Tcon',MEZERA,'n_tr','n_rad','Materiál trubky', 'Materiál žebra']\n",
    "output_table = pd.DataFrame(data_EKO1, index = zkratky)"
   ]
  },
  {
   "cell_type": "code",
   "execution_count": 185,
   "metadata": {},
   "outputs": [
    {
     "output_type": "execute_result",
     "data": {
      "text/plain": [
       "                       Hodnota Jednotka\n",
       "D                         31.8       mm\n",
       "t_tr                       2.9       mm\n",
       "d                           26       mm\n",
       "h_z                         16       mm\n",
       "t_z                        0.8       mm\n",
       "s_z                        4.4       mm\n",
       "n_z                        260        -\n",
       "s_1                         88       mm\n",
       "s_2                         92       mm\n",
       "D_z                     0.0638       mm\n",
       "S_1z                   0.00497       m2\n",
       "S_1m                      1.21       m2\n",
       "S_SP                  8.95e+03       m2\n",
       "                                       \n",
       "c_z                       1.02        -\n",
       "alpha_k                   52.4   kW/m2K\n",
       "psi_z                     0.85        -\n",
       "lambda_z                  54.9    kW/mK\n",
       "epsilon                 0.0045        -\n",
       "beta                      41.1        -\n",
       "E                         0.83        -\n",
       "mu                           1        -\n",
       "alpha_1r                  52.4   kW/m2K\n",
       "k                         33.5   kW/m2K\n",
       "Delta_t_LN                44.4        K\n",
       "                                       \n",
       "Delta_Qcon              0.0305        %\n",
       "Delta_Tcon               0.295        K\n",
       "                                       \n",
       "n_tr                        34        -\n",
       "n_rad                       16        -\n",
       "Materiál trubky          16Mo3        -\n",
       "Materiál žebra   Uhlíková ocel        -"
      ],
      "text/html": "<div>\n<style scoped>\n    .dataframe tbody tr th:only-of-type {\n        vertical-align: middle;\n    }\n\n    .dataframe tbody tr th {\n        vertical-align: top;\n    }\n\n    .dataframe thead th {\n        text-align: right;\n    }\n</style>\n<table border=\"1\" class=\"dataframe\">\n  <thead>\n    <tr style=\"text-align: right;\">\n      <th></th>\n      <th>Hodnota</th>\n      <th>Jednotka</th>\n    </tr>\n  </thead>\n  <tbody>\n    <tr>\n      <th>D</th>\n      <td>31.8</td>\n      <td>mm</td>\n    </tr>\n    <tr>\n      <th>t_tr</th>\n      <td>2.9</td>\n      <td>mm</td>\n    </tr>\n    <tr>\n      <th>d</th>\n      <td>26</td>\n      <td>mm</td>\n    </tr>\n    <tr>\n      <th>h_z</th>\n      <td>16</td>\n      <td>mm</td>\n    </tr>\n    <tr>\n      <th>t_z</th>\n      <td>0.8</td>\n      <td>mm</td>\n    </tr>\n    <tr>\n      <th>s_z</th>\n      <td>4.4</td>\n      <td>mm</td>\n    </tr>\n    <tr>\n      <th>n_z</th>\n      <td>260</td>\n      <td>-</td>\n    </tr>\n    <tr>\n      <th>s_1</th>\n      <td>88</td>\n      <td>mm</td>\n    </tr>\n    <tr>\n      <th>s_2</th>\n      <td>92</td>\n      <td>mm</td>\n    </tr>\n    <tr>\n      <th>D_z</th>\n      <td>0.0638</td>\n      <td>mm</td>\n    </tr>\n    <tr>\n      <th>S_1z</th>\n      <td>0.00497</td>\n      <td>m2</td>\n    </tr>\n    <tr>\n      <th>S_1m</th>\n      <td>1.21</td>\n      <td>m2</td>\n    </tr>\n    <tr>\n      <th>S_SP</th>\n      <td>8.95e+03</td>\n      <td>m2</td>\n    </tr>\n    <tr>\n      <th></th>\n      <td></td>\n      <td></td>\n    </tr>\n    <tr>\n      <th>c_z</th>\n      <td>1.02</td>\n      <td>-</td>\n    </tr>\n    <tr>\n      <th>alpha_k</th>\n      <td>52.4</td>\n      <td>kW/m2K</td>\n    </tr>\n    <tr>\n      <th>psi_z</th>\n      <td>0.85</td>\n      <td>-</td>\n    </tr>\n    <tr>\n      <th>lambda_z</th>\n      <td>54.9</td>\n      <td>kW/mK</td>\n    </tr>\n    <tr>\n      <th>epsilon</th>\n      <td>0.0045</td>\n      <td>-</td>\n    </tr>\n    <tr>\n      <th>beta</th>\n      <td>41.1</td>\n      <td>-</td>\n    </tr>\n    <tr>\n      <th>E</th>\n      <td>0.83</td>\n      <td>-</td>\n    </tr>\n    <tr>\n      <th>mu</th>\n      <td>1</td>\n      <td>-</td>\n    </tr>\n    <tr>\n      <th>alpha_1r</th>\n      <td>52.4</td>\n      <td>kW/m2K</td>\n    </tr>\n    <tr>\n      <th>k</th>\n      <td>33.5</td>\n      <td>kW/m2K</td>\n    </tr>\n    <tr>\n      <th>Delta_t_LN</th>\n      <td>44.4</td>\n      <td>K</td>\n    </tr>\n    <tr>\n      <th></th>\n      <td></td>\n      <td></td>\n    </tr>\n    <tr>\n      <th>Delta_Qcon</th>\n      <td>0.0305</td>\n      <td>%</td>\n    </tr>\n    <tr>\n      <th>Delta_Tcon</th>\n      <td>0.295</td>\n      <td>K</td>\n    </tr>\n    <tr>\n      <th></th>\n      <td></td>\n      <td></td>\n    </tr>\n    <tr>\n      <th>n_tr</th>\n      <td>34</td>\n      <td>-</td>\n    </tr>\n    <tr>\n      <th>n_rad</th>\n      <td>16</td>\n      <td>-</td>\n    </tr>\n    <tr>\n      <th>Materiál trubky</th>\n      <td>16Mo3</td>\n      <td>-</td>\n    </tr>\n    <tr>\n      <th>Materiál žebra</th>\n      <td>Uhlíková ocel</td>\n      <td>-</td>\n    </tr>\n  </tbody>\n</table>\n</div>"
     },
     "metadata": {},
     "execution_count": 185
    }
   ],
   "source": [
    "output_table\n",
    "\n",
    "# print(output_table.to_latex())"
   ]
  },
  {
   "cell_type": "code",
   "execution_count": null,
   "metadata": {},
   "outputs": [],
   "source": []
  }
 ],
 "metadata": {
  "kernelspec": {
   "name": "python381jvsc74a57bd05d51d6ae34598c0fb6c991a1d00f12281f94b7bdfbe904ddf7a4d1c958631cdc",
   "display_name": "Python 3.8.1 64-bit"
  },
  "language_info": {
   "codemirror_mode": {
    "name": "ipython",
    "version": 3
   },
   "file_extension": ".py",
   "mimetype": "text/x-python",
   "name": "python",
   "nbconvert_exporter": "python",
   "pygments_lexer": "ipython3",
   "version": "3.8.1"
  }
 },
 "nbformat": 4,
 "nbformat_minor": 4
}