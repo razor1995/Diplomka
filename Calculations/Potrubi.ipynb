{
 "metadata": {
  "language_info": {
   "codemirror_mode": {
    "name": "ipython",
    "version": 3
   },
   "file_extension": ".py",
   "mimetype": "text/x-python",
   "name": "python",
   "nbconvert_exporter": "python",
   "pygments_lexer": "ipython3",
   "version": "3.8.1"
  },
  "orig_nbformat": 2,
  "kernelspec": {
   "name": "python381jvsc74a57bd05d51d6ae34598c0fb6c991a1d00f12281f94b7bdfbe904ddf7a4d1c958631cdc",
   "display_name": "Python 3.8.1 64-bit"
  }
 },
 "nbformat": 4,
 "nbformat_minor": 2,
 "cells": [
  {
   "cell_type": "code",
   "execution_count": 335,
   "metadata": {},
   "outputs": [],
   "source": [
    "import pandas as pd\n",
    "import handcalcs.render\n",
    "from math import pi, sqrt\n",
    "from pyXSteam.XSteam import XSteam\n",
    "%decimal_separator ,\n",
    "steam = XSteam(XSteam.UNIT_SYSTEM_MKS) # Jednotky: m/kg/sec/°C/bar/W\n",
    "pd.set_option(\"display.precision\", 4)"
   ]
  },
  {
   "source": [
    "## Návrh zavodňovacích a převáděcích potrubí\n",
    "\n",
    "#### Vychází ze skript od Dlouhého\n",
    "\n",
    "***"
   ],
   "cell_type": "markdown",
   "metadata": {}
  },
  {
   "source": [
    "Průtočný průřez všech varných trubek:"
   ],
   "cell_type": "markdown",
   "metadata": {}
  },
  {
   "cell_type": "code",
   "execution_count": 336,
   "metadata": {},
   "outputs": [
    {
     "output_type": "display_data",
     "data": {
      "text/plain": "<IPython.core.display.Latex object>",
      "text/latex": "\\[\n\\begin{aligned}\nh &= 1{,}88 \\; \\;\\textrm{(m (z výkresu bubnu))}\n\\\\[10pt]\nH &= 13{,}6 \\; \\;\\textrm{(m)}\n\\end{aligned}\n\\]"
     },
     "metadata": {}
    }
   ],
   "source": [
    "%%render\n",
    "h = 1.880        #m (z výkresu bubnu)\n",
    "H = 13.600       #m"
   ]
  },
  {
   "source": [
    "Výška osy bubnu"
   ],
   "cell_type": "markdown",
   "metadata": {}
  },
  {
   "cell_type": "code",
   "execution_count": 337,
   "metadata": {},
   "outputs": [
    {
     "output_type": "display_data",
     "data": {
      "text/plain": "<IPython.core.display.Latex object>",
      "text/latex": "\\[\n\\begin{aligned}\nh_{B} &= h + H  = 1{,}88 + 13{,}6 &= 15{,}48 \\; \\;\\textrm{(m)}\n\\end{aligned}\n\\]"
     },
     "metadata": {}
    }
   ],
   "source": [
    "%%render\n",
    "h_B = h+H   #m"
   ]
  },
  {
   "source": [
    "### Zavodňovací potrubí"
   ],
   "cell_type": "markdown",
   "metadata": {}
  },
  {
   "source": [
    "Výpočet průřezu všech varných trubek $S_{OS}$"
   ],
   "cell_type": "markdown",
   "metadata": {}
  },
  {
   "cell_type": "code",
   "execution_count": 338,
   "metadata": {},
   "outputs": [],
   "source": [
    "d_V = 0.038                 #m\n",
    "n_tr_V = 34                 #-\n",
    "n_rad_V = 18                #-\n",
    "p_B = 3.38                  #MPa\n",
    "m_p = (76*1000)/3600        #kg/s\n",
    "m_vst = 0.36                #kg/s\n",
    "m_p2 = m_p - m_vst          #kg/s"
   ]
  },
  {
   "cell_type": "code",
   "execution_count": 339,
   "metadata": {},
   "outputs": [
    {
     "output_type": "display_data",
     "data": {
      "text/plain": "<IPython.core.display.Latex object>",
      "text/latex": "\\[\n\\begin{aligned}\nS_{OS} &= \\frac{ \\pi \\cdot \\left( d_{V} \\right) ^{ 2 } }{ 4 } \\cdot n_{tr_{V}} \\cdot n_{rad_{V}}  = \\frac{ 3{,}142 \\cdot \\left( 0{,}038 \\right) ^{ 2 } }{ 4 } \\cdot 34 \\cdot 18 &= 6{,}941 \\times 10 ^ {-1 } \\; \\;\\textrm{(m2)}\n\\end{aligned}\n\\]"
     },
     "metadata": {}
    }
   ],
   "source": [
    "%%render\n",
    "S_OS = (pi*d_V**2)/4 * n_tr_V*n_rad_V   #m2"
   ]
  },
  {
   "source": [
    "Výpočet průtočného průřezu zavodňovacích potrubí"
   ],
   "cell_type": "markdown",
   "metadata": {}
  },
  {
   "cell_type": "code",
   "execution_count": 340,
   "metadata": {},
   "outputs": [
    {
     "output_type": "display_data",
     "data": {
      "text/plain": "<IPython.core.display.Latex object>",
      "text/latex": "\\[\n\\begin{aligned}\nS_{OZ} &= S_{OS} \\cdot \\left( 0{,}06 + 0{,}016 \\cdot p_{B} + 0{,}005 \\cdot h_{B} \\right) \\\\&= 6{,}941 \\times 10 ^ {-1 } \\cdot \\left( 0{,}06 + 0{,}016 \\cdot 3{,}38 + 0{,}005 \\cdot 15{,}48 \\right) \\\\&= 1{,}329 \\times 10 ^ {-1 } \\; \\;\\textrm{(m2)}\\\\\n\\end{aligned}\n\\]"
     },
     "metadata": {}
    }
   ],
   "source": [
    "%%render\n",
    "S_OZ = S_OS * (0.06 + 0.016*p_B + 0.005*h_B)    #m2"
   ]
  },
  {
   "source": [
    "Výpočet vnitřního průměru zavodňovacích trubek"
   ],
   "cell_type": "markdown",
   "metadata": {}
  },
  {
   "cell_type": "code",
   "execution_count": 341,
   "metadata": {},
   "outputs": [],
   "source": [
    "n_z = 2     # volená hodnota"
   ]
  },
  {
   "cell_type": "code",
   "execution_count": 342,
   "metadata": {},
   "outputs": [
    {
     "output_type": "display_data",
     "data": {
      "text/plain": "<IPython.core.display.Latex object>",
      "text/latex": "\\[\n\\begin{aligned}\nd_{z} &= \\sqrt { \\frac{ 4 \\cdot S_{OZ} }{ \\pi \\cdot n_{z} } }  = \\sqrt { \\frac{ 4 \\cdot 1{,}329 \\times 10 ^ {-1 } }{ 3{,}142 \\cdot 2 } } &= 2{,}909 \\times 10 ^ {-1 }  \n\\end{aligned}\n\\]"
     },
     "metadata": {}
    }
   ],
   "source": [
    "%%render\n",
    "d_z = sqrt((4*S_OZ) / (pi*n_z))"
   ]
  },
  {
   "source": [
    "Vypočítal jsem vnitřní průměr, trubka musí být tlustší, tzn. volím větší rozměr --> D = 355.6"
   ],
   "cell_type": "markdown",
   "metadata": {}
  },
  {
   "cell_type": "code",
   "execution_count": 343,
   "metadata": {},
   "outputs": [
    {
     "output_type": "display_data",
     "data": {
      "text/plain": "<IPython.core.display.Latex object>",
      "text/latex": "\\[\n\\begin{aligned}\nD_{z} &= 3{,}556 \\times 10 ^ {-1 } \\; \\;\\textrm{(m)}\n\\\\[10pt]\nt_{z} &= 0{,}02 \\; \\;\\textrm{(m)}\n\\\\[10pt]\nd_{z} &= D_{z} - 2 \\cdot t_{z}  = 3{,}556 \\times 10 ^ {-1 } - 2 \\cdot 0{,}02 &= 3{,}156 \\times 10 ^ {-1 } \\; \\;\\textrm{(m)}\n\\end{aligned}\n\\]"
     },
     "metadata": {}
    }
   ],
   "source": [
    "%%render\n",
    "D_z = 0.3556    #m\n",
    "t_z = 0.020     #m\n",
    "d_z = D_z-2*t_z #m"
   ]
  },
  {
   "source": [
    "## NÁVRH PŘEVÁDĚCÍHO POTRUBÍ"
   ],
   "cell_type": "markdown",
   "metadata": {}
  },
  {
   "cell_type": "code",
   "execution_count": 344,
   "metadata": {},
   "outputs": [
    {
     "output_type": "display_data",
     "data": {
      "text/plain": "<IPython.core.display.Latex object>",
      "text/latex": "\\[\n\\begin{aligned}\nS_{OP} &= S_{OS} \\cdot \\left( 0{,}1 + 0{,}01 \\cdot p_{B} + 0{,}01 \\cdot h_{B} \\right) \\\\&= 6{,}941 \\times 10 ^ {-1 } \\cdot \\left( 0{,}1 + 0{,}01 \\cdot 3{,}38 + 0{,}01 \\cdot 15{,}48 \\right) \\\\&= 2{,}003 \\times 10 ^ {-1 } \\; \\;\\textrm{(m2)}\\\\\n\\end{aligned}\n\\]"
     },
     "metadata": {}
    }
   ],
   "source": [
    "%%render\n",
    "S_OP = S_OS * (0.1 + 0.01*p_B + 0.01*h_B)    #m2"
   ]
  },
  {
   "cell_type": "code",
   "execution_count": 345,
   "metadata": {},
   "outputs": [],
   "source": [
    "n_P = 4 #zvoleno"
   ]
  },
  {
   "cell_type": "code",
   "execution_count": 346,
   "metadata": {},
   "outputs": [
    {
     "output_type": "display_data",
     "data": {
      "text/plain": "<IPython.core.display.Latex object>",
      "text/latex": "\\[\n\\begin{aligned}\nd_{P} &= \\sqrt { \\frac{ 4 \\cdot S_{OP} }{ \\pi \\cdot n_{P} } }  = \\sqrt { \\frac{ 4 \\cdot 2{,}003 \\times 10 ^ {-1 } }{ 3{,}142 \\cdot 4 } } &= 2{,}525 \\times 10 ^ {-1 }  \n\\end{aligned}\n\\]"
     },
     "metadata": {}
    }
   ],
   "source": [
    "%%render\n",
    "d_P = sqrt((4*S_OP)/(pi*n_P))"
   ]
  },
  {
   "cell_type": "code",
   "execution_count": 347,
   "metadata": {},
   "outputs": [
    {
     "output_type": "display_data",
     "data": {
      "text/plain": "<IPython.core.display.Latex object>",
      "text/latex": "\\[\n\\begin{aligned}\nD_{P} &= 0{,}273 \\; \\;\\textrm{(m)}\n\\\\[10pt]\nt_{P} &= 0{,}008 \\; \\;\\textrm{(m)}\n\\\\[10pt]\nd_{P} &= D_{P} - 2 \\cdot t_{P}  = 0{,}273 - 2 \\cdot 0{,}008 &= 0{,}257 \\; \\;\\textrm{(m)}\n\\end{aligned}\n\\]"
     },
     "metadata": {}
    }
   ],
   "source": [
    "%%render\n",
    "D_P = 0.273         #m\n",
    "t_P = 0.008         #m\n",
    "d_P = D_P - 2*t_P   #m"
   ]
  },
  {
   "cell_type": "code",
   "execution_count": 348,
   "metadata": {},
   "outputs": [],
   "source": [
    "MEZERA = ''\n",
    "data_potrubi = {\n",
    "    'Hodnota':\n",
    "    [D_z*1000, t_z*1000, d_z*1000,MEZERA,D_P*1000, t_P*1000, d_P*1000], \n",
    "\n",
    "    'Jednotka': \n",
    "    ['mm','mm','mm',MEZERA,'mm','mm','mm']\n",
    "\n",
    "    }\n",
    "zkratky = ['D_Z','t_Z','d_Z',MEZERA,'D_P','t_P','d_P']\n",
    "output_table = pd.DataFrame(data_potrubi, index = zkratky)"
   ]
  },
  {
   "cell_type": "code",
   "execution_count": 349,
   "metadata": {},
   "outputs": [
    {
     "output_type": "execute_result",
     "data": {
      "text/plain": [
       "    Hodnota Jednotka\n",
       "D_Z   355.6       mm\n",
       "t_Z      20       mm\n",
       "d_Z   315.6       mm\n",
       "                    \n",
       "D_P     273       mm\n",
       "t_P       8       mm\n",
       "d_P     257       mm"
      ],
      "text/html": "<div>\n<style scoped>\n    .dataframe tbody tr th:only-of-type {\n        vertical-align: middle;\n    }\n\n    .dataframe tbody tr th {\n        vertical-align: top;\n    }\n\n    .dataframe thead th {\n        text-align: right;\n    }\n</style>\n<table border=\"1\" class=\"dataframe\">\n  <thead>\n    <tr style=\"text-align: right;\">\n      <th></th>\n      <th>Hodnota</th>\n      <th>Jednotka</th>\n    </tr>\n  </thead>\n  <tbody>\n    <tr>\n      <th>D_Z</th>\n      <td>355.6</td>\n      <td>mm</td>\n    </tr>\n    <tr>\n      <th>t_Z</th>\n      <td>20</td>\n      <td>mm</td>\n    </tr>\n    <tr>\n      <th>d_Z</th>\n      <td>315.6</td>\n      <td>mm</td>\n    </tr>\n    <tr>\n      <th></th>\n      <td></td>\n      <td></td>\n    </tr>\n    <tr>\n      <th>D_P</th>\n      <td>273</td>\n      <td>mm</td>\n    </tr>\n    <tr>\n      <th>t_P</th>\n      <td>8</td>\n      <td>mm</td>\n    </tr>\n    <tr>\n      <th>d_P</th>\n      <td>257</td>\n      <td>mm</td>\n    </tr>\n  </tbody>\n</table>\n</div>"
     },
     "metadata": {},
     "execution_count": 349
    }
   ],
   "source": [
    "output_table\n",
    "\n",
    "# print(output_table.to_latex())"
   ]
  },
  {
   "source": [
    "# Návrh vstupních a výstupních potrubí\n",
    "***"
   ],
   "cell_type": "markdown",
   "metadata": {}
  },
  {
   "cell_type": "code",
   "execution_count": 350,
   "metadata": {},
   "outputs": [],
   "source": [
    "# teplota v °C, tlak v barech\n",
    "t_1 = 370\n",
    "p_1 = 3.1\n",
    "\n",
    "t_2 = 332.731\n",
    "p_2 = 3.33\n",
    "\n",
    "t_3 = 348\n",
    "p_3 = 3.33\n",
    "\n",
    "t_4 = 240.565\n",
    "p_4 = 3.38\n",
    "\n",
    "t_5 = 240.565\n",
    "p_5 = 3.38\n",
    "\n",
    "t_6 = 236\n",
    "p_6 = 3.68\n",
    "\n",
    "t_7 = 217\n",
    "p_7 = 3.74\n",
    "\n",
    "t_8 = 71\n",
    "p_8 = 4.20"
   ]
  },
  {
   "source": [
    "Volba rychlostí\n",
    "\n",
    "* přehřívák - 25 m/s\n",
    "* Eko - 1 m/s"
   ],
   "cell_type": "markdown",
   "metadata": {}
  },
  {
   "source": [
    "#### Přehřívák 2 - Výstupní potrubí"
   ],
   "cell_type": "markdown",
   "metadata": {}
  },
  {
   "source": [
    "Vypočtený vnitřní průměr"
   ],
   "cell_type": "markdown",
   "metadata": {}
  },
  {
   "cell_type": "code",
   "execution_count": 351,
   "metadata": {},
   "outputs": [],
   "source": [
    "w_p = 25    #m/s"
   ]
  },
  {
   "cell_type": "code",
   "execution_count": 352,
   "metadata": {},
   "outputs": [
    {
     "output_type": "display_data",
     "data": {
      "text/plain": "<IPython.core.display.Latex object>",
      "text/latex": "\\[\n\\begin{aligned}\nv_{1} &= \\mathrm{steam.v}_{pt} { \\left( p_{1} \\cdot 10 ,\\ t_{1} \\right) }  = steam.v_{pt} { \\left( 3{,}1 \\cdot 10 ,\\ 370 \\right) } &= 9{,}093 \\times 10 ^ {-2 }  \n\\end{aligned}\n\\]"
     },
     "metadata": {}
    }
   ],
   "source": [
    "%%render\n",
    "v_1 = steam.v_pt(p_1*10,t_1)"
   ]
  },
  {
   "cell_type": "code",
   "execution_count": 353,
   "metadata": {},
   "outputs": [],
   "source": [
    "n_P2 = 1"
   ]
  },
  {
   "cell_type": "code",
   "execution_count": 354,
   "metadata": {},
   "outputs": [
    {
     "output_type": "display_data",
     "data": {
      "text/plain": "<IPython.core.display.Latex object>",
      "text/latex": "\\[\n\\begin{aligned}\nd &= \\sqrt { \\frac{ 4 \\cdot m_{p} \\cdot v_{1} }{ \\pi \\cdot w_{p} \\cdot n_{P2} } }  = \\sqrt { \\frac{ 4 \\cdot 21{,}111 \\cdot 9{,}093 \\times 10 ^ {-2 } }{ 3{,}142 \\cdot 25 \\cdot 1 } } &= 3{,}127 \\times 10 ^ {-1 } \\; \\;\\textrm{(m)}\n\\end{aligned}\n\\]"
     },
     "metadata": {}
    }
   ],
   "source": [
    "%%render\n",
    "d = sqrt((4*m_p*v_1)/(pi*w_p*n_P2))  #m"
   ]
  },
  {
   "source": [
    "Volba rozměrů výstupního potrubí"
   ],
   "cell_type": "markdown",
   "metadata": {}
  },
  {
   "cell_type": "code",
   "execution_count": 355,
   "metadata": {},
   "outputs": [
    {
     "output_type": "display_data",
     "data": {
      "text/plain": "<IPython.core.display.Latex object>",
      "text/latex": "\\[\n\\begin{aligned}\nD_{P2} &= 3{,}556 \\times 10 ^ {-1 } \\; \\;\\textrm{(m)}\n\\\\[10pt]\nt_{P2} &= 0{,}02 \\; \\;\\textrm{(m)}\n\\\\[10pt]\nd_{P2} &= D_{P2} - 2 \\cdot t_{P2}  = 3{,}556 \\times 10 ^ {-1 } - 2 \\cdot 0{,}02 &= 3{,}156 \\times 10 ^ {-1 } \\; \\;\\textrm{(m)}\n\\end{aligned}\n\\]"
     },
     "metadata": {}
    }
   ],
   "source": [
    "%%render\n",
    "D_P2 = 0.3556        #m\n",
    "t_P2 = 0.0200        #m\n",
    "d_P2 = D_P2-2*t_P2   #m"
   ]
  },
  {
   "source": [
    "Kontrola (musí spadnout mezi 20-30 m/s)"
   ],
   "cell_type": "markdown",
   "metadata": {}
  },
  {
   "cell_type": "code",
   "execution_count": 356,
   "metadata": {},
   "outputs": [
    {
     "output_type": "display_data",
     "data": {
      "text/plain": "<IPython.core.display.Latex object>",
      "text/latex": "\\[\n\\begin{aligned}\nw_{p_{P2}} &= \\frac{ 4 \\cdot m_{p} \\cdot v_{1} }{ \\pi \\cdot \\left( d_{P2} \\right) ^{ 2 } }  = \\frac{ 4 \\cdot 21{,}111 \\cdot 9{,}093 \\times 10 ^ {-2 } }{ 3{,}142 \\cdot \\left( 3{,}156 \\times 10 ^ {-1 } \\right) ^{ 2 } } &= 24{,}54 \\; \\;\\textrm{(m/s)}\n\\end{aligned}\n\\]"
     },
     "metadata": {}
    }
   ],
   "source": [
    "%%render\n",
    "w_p_P2 = (4*m_p*v_1) / (pi*d_P2**2)     #m/s"
   ]
  },
  {
   "source": [
    "#### Potrubí mezi přehříváky"
   ],
   "cell_type": "markdown",
   "metadata": {}
  },
  {
   "cell_type": "code",
   "execution_count": 357,
   "metadata": {},
   "outputs": [],
   "source": [
    "t_23 = (t_2 + t_3)/2\n",
    "p_23 = (p_2 + p_3)/2"
   ]
  },
  {
   "cell_type": "code",
   "execution_count": 358,
   "metadata": {},
   "outputs": [
    {
     "output_type": "display_data",
     "data": {
      "text/plain": "<IPython.core.display.Latex object>",
      "text/latex": "\\[\n\\begin{aligned}\nv_{23} &= \\mathrm{steam.v}_{pt} { \\left( p_{23} \\cdot 10 ,\\ t_{23} \\right) }  = steam.v_{pt} { \\left( 3{,}33 \\cdot 10 ,\\ 340{,}365 \\right) } &= 7{,}941 \\times 10 ^ {-2 }  \n\\end{aligned}\n\\]"
     },
     "metadata": {}
    }
   ],
   "source": [
    "%%render\n",
    "v_23 = steam.v_pt(p_23*10,t_23)"
   ]
  },
  {
   "cell_type": "code",
   "execution_count": 359,
   "metadata": {},
   "outputs": [],
   "source": [
    "n_P12 = 1"
   ]
  },
  {
   "cell_type": "code",
   "execution_count": 360,
   "metadata": {},
   "outputs": [
    {
     "output_type": "display_data",
     "data": {
      "text/plain": "<IPython.core.display.Latex object>",
      "text/latex": "\\[\n\\begin{aligned}\nd &= \\sqrt { \\frac{ 4 \\cdot m_{p} \\cdot v_{23} }{ \\pi \\cdot w_{p} \\cdot n_{P12} } }  = \\sqrt { \\frac{ 4 \\cdot 21{,}111 \\cdot 7{,}941 \\times 10 ^ {-2 } }{ 3{,}142 \\cdot 25 \\cdot 1 } } &= 2{,}922 \\times 10 ^ {-1 } \\; \\;\\textrm{(m)}\n\\end{aligned}\n\\]"
     },
     "metadata": {}
    }
   ],
   "source": [
    "%%render\n",
    "d = sqrt((4*m_p*v_23)/(pi*w_p*n_P12))  #m"
   ]
  },
  {
   "cell_type": "code",
   "execution_count": 361,
   "metadata": {},
   "outputs": [
    {
     "output_type": "display_data",
     "data": {
      "text/plain": "<IPython.core.display.Latex object>",
      "text/latex": "\\[\n\\begin{aligned}\nD_{P12} &= 3{,}556 \\times 10 ^ {-1 } \\; \\;\\textrm{(m)}\n\\\\[10pt]\nt_{P12} &= 0{,}02 \\; \\;\\textrm{(m)}\n\\\\[10pt]\nd_{P12} &= D_{P12} - 2 \\cdot t_{P12}  = 3{,}556 \\times 10 ^ {-1 } - 2 \\cdot 0{,}02 &= 3{,}156 \\times 10 ^ {-1 } \\; \\;\\textrm{(m)}\n\\end{aligned}\n\\]"
     },
     "metadata": {}
    }
   ],
   "source": [
    "%%render\n",
    "D_P12 = 0.3556          #m\n",
    "t_P12 = 0.0200          #m\n",
    "d_P12 = D_P12-2*t_P12   #m"
   ]
  },
  {
   "cell_type": "code",
   "execution_count": 362,
   "metadata": {},
   "outputs": [
    {
     "output_type": "display_data",
     "data": {
      "text/plain": "<IPython.core.display.Latex object>",
      "text/latex": "\\[\n\\begin{aligned}\nw_{p_{P12}} &= \\frac{ 4 \\cdot m_{p} \\cdot v_{23} }{ n_{P12} \\cdot \\pi \\cdot \\left( d_{P12} \\right) ^{ 2 } }  = \\frac{ 4 \\cdot 21{,}111 \\cdot 7{,}941 \\times 10 ^ {-2 } }{ 1 \\cdot 3{,}142 \\cdot \\left( 3{,}156 \\times 10 ^ {-1 } \\right) ^{ 2 } } &= 21{,}429 \\; \\;\\textrm{(m/s)}\n\\end{aligned}\n\\]"
     },
     "metadata": {}
    }
   ],
   "source": [
    "%%render\n",
    "w_p_P12 = (4*m_p*v_23) / (n_P12*pi*d_P12**2)     #m/s"
   ]
  },
  {
   "source": [
    "#### Přehřívák 1 - Vstupní potrubí"
   ],
   "cell_type": "markdown",
   "metadata": {}
  },
  {
   "cell_type": "code",
   "execution_count": 363,
   "metadata": {},
   "outputs": [
    {
     "output_type": "display_data",
     "data": {
      "text/plain": "<IPython.core.display.Latex object>",
      "text/latex": "\\[\n\\begin{aligned}\nv_{4} &= \\mathrm{steam.v}_{pt} { \\left( p_{4} \\cdot 10 ,\\ t_{4} \\right) }  = steam.v_{pt} { \\left( 3{,}38 \\cdot 10 ,\\ 240{,}565 \\right) } &= 5{,}911 \\times 10 ^ {-2 }  \n\\end{aligned}\n\\]"
     },
     "metadata": {}
    }
   ],
   "source": [
    "%%render\n",
    "v_4 = steam.v_pt(p_4*10,t_4)"
   ]
  },
  {
   "cell_type": "code",
   "execution_count": 364,
   "metadata": {},
   "outputs": [],
   "source": [
    "n_P1 = 4"
   ]
  },
  {
   "cell_type": "code",
   "execution_count": 365,
   "metadata": {},
   "outputs": [
    {
     "output_type": "display_data",
     "data": {
      "text/plain": "<IPython.core.display.Latex object>",
      "text/latex": "\\[\n\\begin{aligned}\nd &= \\sqrt { \\frac{ 4 \\cdot m_{p2} \\cdot v_{4} }{ \\pi \\cdot w_{p} \\cdot n_{P1} } }  = \\sqrt { \\frac{ 4 \\cdot 20{,}751 \\cdot 5{,}911 \\times 10 ^ {-2 } }{ 3{,}142 \\cdot 25 \\cdot 4 } } &= 0{,}125 \\; \\;\\textrm{(m)}\n\\end{aligned}\n\\]"
     },
     "metadata": {}
    }
   ],
   "source": [
    "%%render\n",
    "d = sqrt((4*m_p2*v_4)/(pi*w_p*n_P1))  #m"
   ]
  },
  {
   "cell_type": "code",
   "execution_count": 366,
   "metadata": {},
   "outputs": [
    {
     "output_type": "display_data",
     "data": {
      "text/plain": "<IPython.core.display.Latex object>",
      "text/latex": "\\[\n\\begin{aligned}\nD_{P1} &= 1{,}397 \\times 10 ^ {-1 } \\; \\;\\textrm{(m)}\n\\\\[10pt]\nt_{P1} &= 5{,}600 \\times 10 ^ {-3 } \\; \\;\\textrm{(m)}\n\\\\[10pt]\nd_{P1} &= D_{P1} - 2 \\cdot t_{P1}  = 1{,}397 \\times 10 ^ {-1 } - 2 \\cdot 5{,}600 \\times 10 ^ {-3 } &= 1{,}285 \\times 10 ^ {-1 } \\; \\;\\textrm{(m)}\n\\end{aligned}\n\\]"
     },
     "metadata": {}
    }
   ],
   "source": [
    "%%render\n",
    "D_P1 = 0.1397        #m\n",
    "t_P1 = 0.0056        #m\n",
    "d_P1 = D_P1-2*t_P1   #m"
   ]
  },
  {
   "cell_type": "code",
   "execution_count": 367,
   "metadata": {},
   "outputs": [
    {
     "output_type": "display_data",
     "data": {
      "text/plain": "<IPython.core.display.Latex object>",
      "text/latex": "\\[\n\\begin{aligned}\nw_{p_{P1}} &= \\frac{ 4 \\cdot m_{p2} \\cdot v_{4} }{ n_{P1} \\cdot \\pi \\cdot \\left( d_{P1} \\right) ^{ 2 } }  = \\frac{ 4 \\cdot 20{,}751 \\cdot 5{,}911 \\times 10 ^ {-2 } }{ 4 \\cdot 3{,}142 \\cdot \\left( 1{,}285 \\times 10 ^ {-1 } \\right) ^{ 2 } } &= 23{,}647 \\; \\;\\textrm{(m/s)}\n\\end{aligned}\n\\]"
     },
     "metadata": {}
    }
   ],
   "source": [
    "%%render\n",
    "w_p_P1 = (4*m_p2*v_4) / (n_P1*pi*d_P1**2)     #m/s"
   ]
  },
  {
   "cell_type": "code",
   "execution_count": 368,
   "metadata": {},
   "outputs": [],
   "source": [
    "# Navrhuju pro rychlost vody = 1\n",
    "w_v = 1"
   ]
  },
  {
   "source": [
    "#### Výstupní potrubí Eko 2"
   ],
   "cell_type": "markdown",
   "metadata": {}
  },
  {
   "cell_type": "code",
   "execution_count": 369,
   "metadata": {},
   "outputs": [
    {
     "output_type": "display_data",
     "data": {
      "text/plain": "<IPython.core.display.Latex object>",
      "text/latex": "\\[\n\\begin{aligned}\nv_{6} &= \\mathrm{steam.v}_{pt} { \\left( p_{6} \\cdot 10 ,\\ t_{6} \\right) }  = steam.v_{pt} { \\left( 3{,}68 \\cdot 10 ,\\ 236 \\right) } &= 1{,}220 \\times 10 ^ {-3 }  \n\\end{aligned}\n\\]"
     },
     "metadata": {}
    }
   ],
   "source": [
    "%%render\n",
    "v_6 = steam.v_pt(p_6*10,t_6)"
   ]
  },
  {
   "cell_type": "code",
   "execution_count": 370,
   "metadata": {},
   "outputs": [],
   "source": [
    "n_EKO2 = 1"
   ]
  },
  {
   "cell_type": "code",
   "execution_count": 371,
   "metadata": {},
   "outputs": [
    {
     "output_type": "display_data",
     "data": {
      "text/plain": "<IPython.core.display.Latex object>",
      "text/latex": "\\[\n\\begin{aligned}\nd &= \\sqrt { \\frac{ 4 \\cdot m_{p2} \\cdot v_{6} }{ \\pi \\cdot w_{v} \\cdot n_{EKO2} } }  = \\sqrt { \\frac{ 4 \\cdot 20{,}751 \\cdot 1{,}220 \\times 10 ^ {-3 } }{ 3{,}142 \\cdot 1 \\cdot 1 } } &= 1{,}796 \\times 10 ^ {-1 } \\; \\;\\textrm{(m)}\n\\end{aligned}\n\\]"
     },
     "metadata": {}
    }
   ],
   "source": [
    "%%render\n",
    "d = sqrt((4*m_p2*v_6)/(pi*w_v*n_EKO2))  #m"
   ]
  },
  {
   "cell_type": "code",
   "execution_count": 372,
   "metadata": {},
   "outputs": [
    {
     "output_type": "display_data",
     "data": {
      "text/plain": "<IPython.core.display.Latex object>",
      "text/latex": "\\[\n\\begin{aligned}\nD_{EKO2} &= 1{,}683 \\times 10 ^ {-1 } \\; \\;\\textrm{(m)}\n\\\\[10pt]\nt_{EKO2} &= 0{,}008 \\; \\;\\textrm{(m)}\n\\\\[10pt]\nd_{EKO2} &= D_{EKO2} - 2 \\cdot t_{EKO2}  = 1{,}683 \\times 10 ^ {-1 } - 2 \\cdot 0{,}008 &= 1{,}523 \\times 10 ^ {-1 } \\; \\;\\textrm{(m)}\n\\end{aligned}\n\\]"
     },
     "metadata": {}
    }
   ],
   "source": [
    "%%render\n",
    "D_EKO2 = 0.1683             #m\n",
    "t_EKO2 = 0.0080             #m\n",
    "d_EKO2 = D_EKO2-2*t_EKO2    #m"
   ]
  },
  {
   "cell_type": "code",
   "execution_count": 373,
   "metadata": {},
   "outputs": [
    {
     "output_type": "display_data",
     "data": {
      "text/plain": "<IPython.core.display.Latex object>",
      "text/latex": "\\[\n\\begin{aligned}\nw_{v_{EKO2}} &= \\frac{ 4 \\cdot m_{p2} \\cdot v_{6} }{ n_{EKO2} \\cdot \\pi \\cdot \\left( d_{EKO2} \\right) ^{ 2 } }  = \\frac{ 4 \\cdot 20{,}751 \\cdot 1{,}220 \\times 10 ^ {-3 } }{ 1 \\cdot 3{,}142 \\cdot \\left( 1{,}523 \\times 10 ^ {-1 } \\right) ^{ 2 } } &= 1{,}39 \\; \\;\\textrm{(m/s)}\n\\end{aligned}\n\\]"
     },
     "metadata": {}
    }
   ],
   "source": [
    "%%render\n",
    "w_v_EKO2 = (4*m_p2*v_6) / (n_EKO2*pi*d_EKO2**2)     #m/s"
   ]
  },
  {
   "source": [
    "#### Potrubí mezi ekonomizéry"
   ],
   "cell_type": "markdown",
   "metadata": {}
  },
  {
   "cell_type": "code",
   "execution_count": 374,
   "metadata": {},
   "outputs": [
    {
     "output_type": "display_data",
     "data": {
      "text/plain": "<IPython.core.display.Latex object>",
      "text/latex": "\\[\n\\begin{aligned}\nv_{7} &= \\mathrm{steam.v}_{pt} { \\left( p_{7} \\cdot 10 ,\\ t_{7} \\right) }  = steam.v_{pt} { \\left( 3{,}74 \\cdot 10 ,\\ 217 \\right) } &= 1{,}183 \\times 10 ^ {-3 }  \n\\end{aligned}\n\\]"
     },
     "metadata": {}
    }
   ],
   "source": [
    "%%render\n",
    "v_7 = steam.v_pt(p_7*10,t_7)"
   ]
  },
  {
   "cell_type": "code",
   "execution_count": 375,
   "metadata": {},
   "outputs": [],
   "source": [
    "n_EKO12 = 1"
   ]
  },
  {
   "cell_type": "code",
   "execution_count": 376,
   "metadata": {},
   "outputs": [
    {
     "output_type": "display_data",
     "data": {
      "text/plain": "<IPython.core.display.Latex object>",
      "text/latex": "\\[\n\\begin{aligned}\nd &= \\sqrt { \\frac{ 4 \\cdot m_{p2} \\cdot v_{7} }{ \\pi \\cdot w_{v} \\cdot n_{EKO12} } }  = \\sqrt { \\frac{ 4 \\cdot 20{,}751 \\cdot 1{,}183 \\times 10 ^ {-3 } }{ 3{,}142 \\cdot 1 \\cdot 1 } } &= 1{,}768 \\times 10 ^ {-1 } \\; \\;\\textrm{(m)}\n\\end{aligned}\n\\]"
     },
     "metadata": {}
    }
   ],
   "source": [
    "%%render\n",
    "d = sqrt((4*m_p2*v_7)/(pi*w_v*n_EKO12))  #m"
   ]
  },
  {
   "cell_type": "code",
   "execution_count": 377,
   "metadata": {},
   "outputs": [
    {
     "output_type": "display_data",
     "data": {
      "text/plain": "<IPython.core.display.Latex object>",
      "text/latex": "\\[\n\\begin{aligned}\nD_{EKO12} &= 1{,}683 \\times 10 ^ {-1 } \\; \\;\\textrm{(m)}\n\\\\[10pt]\nt_{EKO12} &= 0{,}008 \\; \\;\\textrm{(m)}\n\\\\[10pt]\nd_{EKO12} &= D_{EKO12} - 2 \\cdot t_{EKO12}  = 1{,}683 \\times 10 ^ {-1 } - 2 \\cdot 0{,}008 &= 1{,}523 \\times 10 ^ {-1 } \\; \\;\\textrm{(m)}\n\\end{aligned}\n\\]"
     },
     "metadata": {}
    }
   ],
   "source": [
    "%%render\n",
    "D_EKO12 = 0.1683                 #m\n",
    "t_EKO12 = 0.0080                 #m\n",
    "d_EKO12 = D_EKO12-2*t_EKO12      #m"
   ]
  },
  {
   "cell_type": "code",
   "execution_count": 378,
   "metadata": {},
   "outputs": [
    {
     "output_type": "display_data",
     "data": {
      "text/plain": "<IPython.core.display.Latex object>",
      "text/latex": "\\[\n\\begin{aligned}\nw_{v_{EKO12}} &= \\frac{ 4 \\cdot m_{p2} \\cdot v_{7} }{ n_{EKO12} \\cdot \\pi \\cdot \\left( d_{EKO12} \\right) ^{ 2 } }  = \\frac{ 4 \\cdot 20{,}751 \\cdot 1{,}183 \\times 10 ^ {-3 } }{ 1 \\cdot 3{,}142 \\cdot \\left( 1{,}523 \\times 10 ^ {-1 } \\right) ^{ 2 } } &= 1{,}347 \\; \\;\\textrm{(m/s)}\n\\end{aligned}\n\\]"
     },
     "metadata": {}
    }
   ],
   "source": [
    "%%render\n",
    "w_v_EKO12 = (4*m_p2*v_7) / (n_EKO12*pi*d_EKO12**2)     #m/s"
   ]
  },
  {
   "source": [
    "#### Vstupní potrubí do EKA 1"
   ],
   "cell_type": "markdown",
   "metadata": {}
  },
  {
   "cell_type": "code",
   "execution_count": 379,
   "metadata": {},
   "outputs": [
    {
     "output_type": "display_data",
     "data": {
      "text/plain": "<IPython.core.display.Latex object>",
      "text/latex": "\\[\n\\begin{aligned}\nv_{8} &= \\mathrm{steam.v}_{pt} { \\left( p_{8} \\cdot 10 ,\\ t_{8} \\right) }  = steam.v_{pt} { \\left( 4{,}2 \\cdot 10 ,\\ 71 \\right) } &= 0{,}001  \n\\end{aligned}\n\\]"
     },
     "metadata": {}
    }
   ],
   "source": [
    "%%render\n",
    "v_8 = steam.v_pt(p_8*10,t_8)"
   ]
  },
  {
   "cell_type": "code",
   "execution_count": 380,
   "metadata": {},
   "outputs": [],
   "source": [
    "n_EKO1 = 1"
   ]
  },
  {
   "cell_type": "code",
   "execution_count": 381,
   "metadata": {},
   "outputs": [
    {
     "output_type": "display_data",
     "data": {
      "text/plain": "<IPython.core.display.Latex object>",
      "text/latex": "\\[\n\\begin{aligned}\nd &= \\sqrt { \\frac{ 4 \\cdot m_{p} \\cdot v_{8} }{ \\pi \\cdot w_{v} \\cdot n_{EKO1} } }  = \\sqrt { \\frac{ 4 \\cdot 21{,}111 \\cdot 0{,}001 }{ 3{,}142 \\cdot 1 \\cdot 1 } } &= 1{,}657 \\times 10 ^ {-1 } \\; \\;\\textrm{(m)}\n\\end{aligned}\n\\]"
     },
     "metadata": {}
    }
   ],
   "source": [
    "%%render\n",
    "d = sqrt((4*m_p*v_8)/(pi*w_v*n_EKO1))  #m"
   ]
  },
  {
   "cell_type": "code",
   "execution_count": 382,
   "metadata": {},
   "outputs": [
    {
     "output_type": "display_data",
     "data": {
      "text/plain": "<IPython.core.display.Latex object>",
      "text/latex": "\\[\n\\begin{aligned}\nD_{EKO1} &= 1{,}683 \\times 10 ^ {-1 } \\; \\;\\textrm{(m)}\n\\\\[10pt]\nt_{EKO1} &= 0{,}008 \\; \\;\\textrm{(m)}\n\\\\[10pt]\nd_{EKO1} &= D_{EKO1} - 2 \\cdot t_{EKO1}  = 1{,}683 \\times 10 ^ {-1 } - 2 \\cdot 0{,}008 &= 1{,}523 \\times 10 ^ {-1 } \\; \\;\\textrm{(m)}\n\\end{aligned}\n\\]"
     },
     "metadata": {}
    }
   ],
   "source": [
    "%%render\n",
    "D_EKO1 = 0.1683             #m\n",
    "t_EKO1 = 0.0080             #m\n",
    "d_EKO1 = D_EKO1-2*t_EKO1    #m"
   ]
  },
  {
   "cell_type": "code",
   "execution_count": 383,
   "metadata": {},
   "outputs": [
    {
     "output_type": "display_data",
     "data": {
      "text/plain": "<IPython.core.display.Latex object>",
      "text/latex": "\\[\n\\begin{aligned}\nw_{v_{EKO1}} &= \\frac{ 4 \\cdot m_{p} \\cdot v_{8} }{ n_{EKO1} \\cdot \\pi \\cdot \\left( d_{EKO1} \\right) ^{ 2 } }  = \\frac{ 4 \\cdot 21{,}111 \\cdot 0{,}001 }{ 1 \\cdot 3{,}142 \\cdot \\left( 1{,}523 \\times 10 ^ {-1 } \\right) ^{ 2 } } &= 1{,}184 \\; \\;\\textrm{(m/s)}\n\\end{aligned}\n\\]"
     },
     "metadata": {}
    }
   ],
   "source": [
    "%%render\n",
    "w_v_EKO1 = (4*m_p*v_8) / (n_EKO1*pi*d_EKO1**2)     #m/s"
   ]
  },
  {
   "cell_type": "code",
   "execution_count": 386,
   "metadata": {},
   "outputs": [],
   "source": [
    "MEZERA = ''\n",
    "data_trubky = {\n",
    "    'Průměr D [mm]':\n",
    "    [D_P2*1000, D_P12*1000, D_P1*1000, D_EKO2*1000, D_EKO12*1000, D_EKO1*1000], \n",
    "\n",
    "    'Tloušťka t [mm]': \n",
    "    [t_P2*1000, t_P12*1000, t_P1*1000, t_EKO2*1000, t_EKO12*1000, t_EKO1*1000],\n",
    "\n",
    "    'Vnitřní průměr d [mm]':\n",
    "    [d_P2*1000, d_P12*1000, d_P1*1000, d_EKO2*1000, d_EKO12*1000, d_EKO1*1000],\n",
    "\n",
    "    'Počet trubek [-]':\n",
    "    [n_P2, n_P12, n_P1, n_EKO2, n_EKO12, n_EKO1]\n",
    "\n",
    "    }\n",
    "zkratky = ['P2 - výstup', 'P2 - P1', 'P1 - vstup','EKO2 - výstup','EKO2 - EKO1', 'EKO1 - vstup']\n",
    "output_table = pd.DataFrame(data_trubky, index = zkratky)"
   ]
  },
  {
   "cell_type": "code",
   "execution_count": 387,
   "metadata": {},
   "outputs": [
    {
     "output_type": "execute_result",
     "data": {
      "text/plain": [
       "               Průměr D [mm]  Tloušťka t [mm]  Vnitřní průměr d [mm]  \\\n",
       "P2 - výstup            355.6             20.0                  315.6   \n",
       "P2 - P1                355.6             20.0                  315.6   \n",
       "P1 - vstup             139.7              5.6                  128.5   \n",
       "EKO2 - výstup          168.3              8.0                  152.3   \n",
       "EKO2 - EKO1            168.3              8.0                  152.3   \n",
       "EKO1 - vstup           168.3              8.0                  152.3   \n",
       "\n",
       "               Počet trubek [-]  \n",
       "P2 - výstup                   1  \n",
       "P2 - P1                       1  \n",
       "P1 - vstup                    4  \n",
       "EKO2 - výstup                 1  \n",
       "EKO2 - EKO1                   1  \n",
       "EKO1 - vstup                  1  "
      ],
      "text/html": "<div>\n<style scoped>\n    .dataframe tbody tr th:only-of-type {\n        vertical-align: middle;\n    }\n\n    .dataframe tbody tr th {\n        vertical-align: top;\n    }\n\n    .dataframe thead th {\n        text-align: right;\n    }\n</style>\n<table border=\"1\" class=\"dataframe\">\n  <thead>\n    <tr style=\"text-align: right;\">\n      <th></th>\n      <th>Průměr D [mm]</th>\n      <th>Tloušťka t [mm]</th>\n      <th>Vnitřní průměr d [mm]</th>\n      <th>Počet trubek [-]</th>\n    </tr>\n  </thead>\n  <tbody>\n    <tr>\n      <th>P2 - výstup</th>\n      <td>355.6</td>\n      <td>20.0</td>\n      <td>315.6</td>\n      <td>1</td>\n    </tr>\n    <tr>\n      <th>P2 - P1</th>\n      <td>355.6</td>\n      <td>20.0</td>\n      <td>315.6</td>\n      <td>1</td>\n    </tr>\n    <tr>\n      <th>P1 - vstup</th>\n      <td>139.7</td>\n      <td>5.6</td>\n      <td>128.5</td>\n      <td>4</td>\n    </tr>\n    <tr>\n      <th>EKO2 - výstup</th>\n      <td>168.3</td>\n      <td>8.0</td>\n      <td>152.3</td>\n      <td>1</td>\n    </tr>\n    <tr>\n      <th>EKO2 - EKO1</th>\n      <td>168.3</td>\n      <td>8.0</td>\n      <td>152.3</td>\n      <td>1</td>\n    </tr>\n    <tr>\n      <th>EKO1 - vstup</th>\n      <td>168.3</td>\n      <td>8.0</td>\n      <td>152.3</td>\n      <td>1</td>\n    </tr>\n  </tbody>\n</table>\n</div>"
     },
     "metadata": {},
     "execution_count": 387
    }
   ],
   "source": [
    "output_table\n",
    "\n",
    "# print(output_table.to_latex())"
   ]
  },
  {
   "cell_type": "code",
   "execution_count": null,
   "metadata": {},
   "outputs": [],
   "source": []
  }
 ]
}