{
 "cells": [
  {
   "cell_type": "code",
   "execution_count": 242,
   "metadata": {},
   "outputs": [],
   "source": [
    "# Instalace a aktualizace modulů\n",
    "\n",
    "# !pip install --upgrade pip\n",
    "# !pip install --upgrade tabulate\n",
    "# !pip install --upgrade forallpeople\n",
    "# !pip install --upgrade handcalcs\n",
    "# !pip install --upgrade pytexit\n",
    "# !pip install --upgrade pyXSteam\n",
    "# !pip install --upgrade CoolProp"
   ]
  },
  {
   "cell_type": "code",
   "execution_count": 243,
   "metadata": {},
   "outputs": [],
   "source": [
    "# Import knihoven a modulů\n",
    "\n",
    "import pandas as pd\n",
    "from CoolProp.CoolProp import PropsSI\n",
    "import handcalcs.render\n",
    "from math import pi, e, sqrt, log\n",
    "from pyXSteam.XSteam import XSteam\n",
    "from tabulate import tabulate\n",
    "import pyromat as pm"
   ]
  },
  {
   "cell_type": "code",
   "execution_count": 244,
   "metadata": {},
   "outputs": [],
   "source": [
    "# Nastavení prostředí a modulů\n",
    "\n",
    "%decimal_separator ,\n",
    "steam = XSteam(XSteam.UNIT_SYSTEM_MKS) # Jednotky: m/kg/sec/°C/bar/W\n",
    "pd.set_option(\"display.precision\", 3)\n",
    "\n",
    "pm.config['unit_temperature'] = 'C'"
   ]
  },
  {
   "source": [
    "***\n",
    "## Základní parametry kotle\n",
    "***"
   ],
   "cell_type": "markdown",
   "metadata": {}
  },
  {
   "cell_type": "code",
   "execution_count": 245,
   "metadata": {},
   "outputs": [
    {
     "output_type": "display_data",
     "data": {
      "text/plain": "<IPython.core.display.Latex object>",
      "text/latex": "\\[\n\\begin{aligned}\nm_{p} &= 21{,}111 \\; \\;\\textrm{(kg/s)}\n &p_{out} &= 3{,}1 \\; \\;\\textrm{(MPa)}\n &t_{out} &= 370 \\; \\;\\textrm{(°C)}\n\\\\[10pt]\n t_{nv} &= 71 \\; \\;\\textrm{(°C)}\n &m_{vst} &= 0{,}36 \\; \\;\\textrm{(kg/s)}\n &t_{vst} &= 217 \\; \\;\\textrm{(°C)}\n\\\\[10pt]\\end{aligned}\n\\]"
     },
     "metadata": {}
    }
   ],
   "source": [
    "%%render params 3\n",
    "m_p = (76*1000)/3600        #kg/s\n",
    "p_out = 3.1                 #MPa\n",
    "t_out = 370                 #°C\n",
    "t_nv = 71                   #°C\n",
    "m_vst = 0.36                #kg/s\n",
    "t_vst = 217                 #°C"
   ]
  },
  {
   "source": [
    "***\n",
    "## Parametry spalin ze spalovací turbíny\n",
    "***"
   ],
   "cell_type": "markdown",
   "metadata": {}
  },
  {
   "cell_type": "code",
   "execution_count": 246,
   "metadata": {},
   "outputs": [],
   "source": [
    "R = 8.314462618 #J/kg/mol\n",
    "T = 273.15 #K"
   ]
  },
  {
   "source": [
    "#### Objemové složení spalin, hmotnostní průtok a teplota na vstupu do hořáku"
   ],
   "cell_type": "markdown",
   "metadata": {}
  },
  {
   "cell_type": "code",
   "execution_count": 247,
   "metadata": {},
   "outputs": [
    {
     "output_type": "display_data",
     "data": {
      "text/plain": "<IPython.core.display.Latex object>",
      "text/latex": "\\[\n\\begin{aligned}\nm_{sp} &= 130{,}1 \\; \\;\\textrm{(kg/s)}\n &t_{sp} &= 562{,}0 \\; \\;\\textrm{(°C)}\n &x_{N2} &= 7{,}457 \\times 10 ^ {-1 } \\; \n\\\\[10pt]\n x_{O2} &= 1{,}289 \\times 10 ^ {-1 } \\; \n &x_{H2O} &= 8{,}010 \\times 10 ^ {-2 } \\; \n &x_{CO2} &= 3{,}640 \\times 10 ^ {-2 } \\; \n\\\\[10pt]\n x_{Ar} &= 8{,}900 \\times 10 ^ {-3 } \\;\\end{aligned}\n\\]"
     },
     "metadata": {}
    }
   ],
   "source": [
    "%%render params 3\n",
    "m_sp = 130.1    #kg/s\n",
    "t_sp = 562.0    #°C\n",
    "\n",
    "# Objemové složení spalin\n",
    "x_N2 = 0.7457\n",
    "x_O2 = 0.1289\n",
    "x_H2O = 0.0801\n",
    "x_CO2 = 0.0364\n",
    "x_Ar = 0.0089"
   ]
  },
  {
   "source": [
    "#### Molární hmotnosti spalin"
   ],
   "cell_type": "markdown",
   "metadata": {}
  },
  {
   "cell_type": "code",
   "execution_count": 248,
   "metadata": {},
   "outputs": [
    {
     "output_type": "display_data",
     "data": {
      "text/plain": "<IPython.core.display.Latex object>",
      "text/latex": "\\[\n\\begin{aligned}\nM_{N2} &= 0{,}028 \\; \\;\\textrm{(kg/mol)}\n &M_{O2} &= 0{,}032 \\; \\;\\textrm{(kg/mol)}\n &M_{H2O} &= 0{,}018 \\; \\;\\textrm{(kg/mol)}\n\\\\[10pt]\n M_{CO2} &= 0{,}044 \\; \\;\\textrm{(kg/mol)}\n &M_{Ar} &= 3{,}995 \\times 10 ^ {-2 } \\; \\;\\textrm{(kg/mol)}\\end{aligned}\n\\]"
     },
     "metadata": {}
    }
   ],
   "source": [
    "%%render params 3\n",
    "\n",
    "# Molární hmotnost složek spalin (z podkladů)\n",
    "M_N2 = 28.0134e-03      #kg/mol\n",
    "M_O2 = 31.9988e-03      #kg/mol\n",
    "M_H2O = 18.0152e-03     #kg/mol\n",
    "M_CO2 = 44.0095e-03     #kg/mol\n",
    "M_Ar = 39.9480e-03      #kg/mol"
   ]
  },
  {
   "source": [
    "#### Hustota složek spalin (z podkladů)"
   ],
   "cell_type": "markdown",
   "metadata": {}
  },
  {
   "cell_type": "code",
   "execution_count": 249,
   "metadata": {},
   "outputs": [
    {
     "output_type": "display_data",
     "data": {
      "text/plain": "<IPython.core.display.Latex object>",
      "text/latex": "\\[\n\\begin{aligned}\n\\rho_{N2} &= 1{,}25 \\; \\;\\textrm{(kg/m3)}\n &\\rho_{O2} &= 1{,}429 \\; \\;\\textrm{(kg/m3)}\n &\\rho_{H2O} &= 8{,}038 \\times 10 ^ {-1 } \\; \\;\\textrm{(kg/m3)}\n\\\\[10pt]\n \\rho_{CO2} &= 1{,}977 \\; \\;\\textrm{(kg/m3)}\n &\\rho_{Ar} &= 1{,}784 \\; \\;\\textrm{(kg/m3)}\n &\\rho_{sp} &= 1{,}269 \\; \\;\\textrm{(kg/m3)}\n\\\\[10pt]\\end{aligned}\n\\]"
     },
     "metadata": {}
    }
   ],
   "source": [
    "%%render params\n",
    "rho_N2 = 1.2504     #kg/m3\n",
    "rho_O2 = 1.4290     #kg/m3\n",
    "rho_H2O = 0.8038    #kg/m3\n",
    "rho_CO2 = 1.9772    #kg/m3\n",
    "rho_Ar = 1.7840     #kg/m3\n",
    "rho_sp = x_N2*rho_N2 + x_O2*rho_O2 + x_H2O*rho_H2O + x_CO2*rho_CO2 + x_Ar*rho_Ar #kg/m3"
   ]
  },
  {
   "source": [
    "#### Hmotnostní procenta (-)"
   ],
   "cell_type": "markdown",
   "metadata": {}
  },
  {
   "cell_type": "code",
   "execution_count": 250,
   "metadata": {},
   "outputs": [],
   "source": [
    "# Hmotnosti\n",
    "m_N2 = x_N2*rho_N2                      #kg\n",
    "m_O2 = x_O2*rho_O2                      #kg\n",
    "m_H2O = x_H2O*rho_H2O                   #kg\n",
    "m_CO2 = x_CO2*rho_CO2                   #kg\n",
    "m_Ar = x_Ar*rho_Ar                      #kg"
   ]
  },
  {
   "cell_type": "code",
   "execution_count": 251,
   "metadata": {},
   "outputs": [],
   "source": [
    "# Hmotnostní podíl\n",
    "w_N2 = m_N2/rho_sp                        #kg\n",
    "w_O2 = m_O2/rho_sp                        #kg\n",
    "w_H2O = m_H2O/rho_sp                      #kg\n",
    "w_CO2 = m_CO2/rho_sp                      #kg\n",
    "w_Ar = m_Ar/rho_sp                        #kg"
   ]
  },
  {
   "source": [
    "#### Objemový průtok spalin"
   ],
   "cell_type": "markdown",
   "metadata": {}
  },
  {
   "cell_type": "code",
   "execution_count": 252,
   "metadata": {},
   "outputs": [
    {
     "output_type": "display_data",
     "data": {
      "text/plain": "<IPython.core.display.Latex object>",
      "text/latex": "\\[\n\\begin{aligned}\nV_{sp} &= \\frac{ m_{sp} }{ \\rho_{sp} }  = \\frac{ 130{,}1 }{ 1{,}269 } &= 102{,}534 \\; \\;\\textrm{(m3n/s)}\n\\end{aligned}\n\\]"
     },
     "metadata": {}
    }
   ],
   "source": [
    "%%render\n",
    "V_sp = m_sp/rho_sp #m3n/s"
   ]
  },
  {
   "cell_type": "code",
   "execution_count": 253,
   "metadata": {},
   "outputs": [
    {
     "output_type": "display_data",
     "data": {
      "text/plain": "<IPython.core.display.Latex object>",
      "text/latex": "\\[\n\\begin{aligned}\nv_{N2} &= 22{,}403 \\; \\;\\textrm{(m3/kg)}\n &v_{O2} &= 22{,}392 \\; \\;\\textrm{(m3/kg)}\n &v_{H2O} &= 22{,}414 \\; \\;\\textrm{(m3/kg)}\n\\\\[10pt]\n v_{CO2} &= 22{,}258 \\; \\;\\textrm{(m3/kg)}\n &v_{Ar} &= 22{,}393 \\; \\;\\textrm{(m3/kg)}\\end{aligned}\n\\]"
     },
     "metadata": {}
    }
   ],
   "source": [
    "%%render params 3\n",
    "\n",
    "# Měrný objem složek spalin (z podkladů)\n",
    "v_N2 = 22.403     #m3/kg\n",
    "v_O2 = 22.392     #m3/kg\n",
    "v_H2O = 22.414    #m3/kg\n",
    "v_CO2 = 22.258    #m3/kg\n",
    "v_Ar = 22.393     #m3/kg"
   ]
  },
  {
   "source": [
    "#### Entalpie spalin (z modulu PyroMat - shodné s poskytnutými materiály)"
   ],
   "cell_type": "markdown",
   "metadata": {}
  },
  {
   "cell_type": "code",
   "execution_count": 254,
   "metadata": {},
   "outputs": [],
   "source": [
    "N2 = pm.get('ig.N2')\n",
    "O2 = pm.get('ig.O2')\n",
    "H2O = pm.get('ig.H2O')\n",
    "CO2 = pm.get('ig.CO2')\n",
    "Ar = pm.get('ig.Ar')"
   ]
  },
  {
   "cell_type": "code",
   "execution_count": 255,
   "metadata": {},
   "outputs": [],
   "source": [
    "def entalpie_sp(teplota, jednotka=''):\n",
    "\n",
    "    \"\"\"\n",
    "    teplota = zadávat ve °C\n",
    "    jednotka = volba mezi 'kg' / 'm3n'\n",
    "\n",
    "    Vypočítá entalpii [kJ/kg nebo kJ/m3n] spalin při dané teplotě [°C] vzhledem k entalpii daného prvku při 0°C. Výstupem je dictionary. Pro zobrazení entalpie prvku  dané teploty je nutné vybrat daný prvek nebo spaliny ['N2', 'O2', 'H2O', 'CO2', 'Ar', 'sp']. Výstupem pro jeden konkrétní prvek je float.\n",
    "    \"\"\"\n",
    "\n",
    "    h_N2 = float(N2.h(teplota)-N2.h(0)) #kJ/kg\n",
    "    I_N2 = h_N2*rho_sp\n",
    "\n",
    "    h_O2 = float(O2.h(teplota)-O2.h(0)) #kJ/kg\n",
    "    I_O2 = h_O2*rho_sp\n",
    "\n",
    "    h_H2O = float(H2O.h(teplota)-H2O.h(0)) #kJ/kg\n",
    "    I_H2O = h_H2O*rho_sp\n",
    "\n",
    "    h_CO2 = float(CO2.h(teplota)-CO2.h(0)) #kJ/kg\n",
    "    I_CO2 = h_CO2*rho_sp\n",
    "\n",
    "    h_Ar = float(Ar.h(teplota)-Ar.h(0)) #kJ/kg\n",
    "    I_Ar = h_Ar*rho_sp\n",
    "\n",
    "    h_spalin = w_N2*h_N2 + w_O2*h_O2 + w_H2O*h_H2O + w_CO2*h_CO2 + w_Ar*h_Ar #kJ/kg\n",
    "    I_spalin = w_N2*I_N2 + w_O2*I_O2 + w_H2O*I_H2O + w_CO2*I_CO2 + w_Ar*I_Ar #kJ/m3n\n",
    "\n",
    "\n",
    "    if jednotka == 'kg':\n",
    "        return {'N2': h_N2, 'O2': h_O2, 'H2O': h_H2O , 'CO2': h_CO2, 'Ar': h_Ar, 'sp': h_spalin}\n",
    "    elif jednotka == 'm3n':\n",
    "        return {'N2': I_N2, 'O2': I_O2, 'H2O': I_H2O , 'CO2': I_CO2, 'Ar': I_Ar, 'sp': I_spalin}\n",
    "    else:\n",
    "        print('Nutno zadat jednotku - kg / m3n!')"
   ]
  },
  {
   "source": [
    "Interpolace"
   ],
   "cell_type": "markdown",
   "metadata": {}
  },
  {
   "cell_type": "code",
   "execution_count": 256,
   "metadata": {},
   "outputs": [],
   "source": [
    "def lambda_interpolate(teplota):\n",
    "    t_min = (int(teplota/100))*100\n",
    "    t_max = (int(teplota/100)+1)*100\n",
    "\n",
    "    lambda_init = float(lambda_tabulka_print.loc[t_min,\"8 % H2O\"])\n",
    "    delta_T = teplota-t_min\n",
    "    delta_lambda = lambda_tabulka_print.loc[t_max,\"8 % H2O\"]-lambda_tabulka_print.loc[t_min,\"8 % H2O\"]\n",
    "    vysledek = (lambda_init + delta_T*(delta_lambda/(t_max-t_min)))*10**-3\n",
    "    return vysledek"
   ]
  },
  {
   "cell_type": "code",
   "execution_count": 257,
   "metadata": {},
   "outputs": [],
   "source": [
    "def nu_interpolate(teplota):\n",
    "    t_min = (int(teplota/100))*100\n",
    "    t_max = (int(teplota/100)+1)*100\n",
    "\n",
    "    nu_init = float(nu_tabulka_print.loc[t_min,\"8 % H2O\"])\n",
    "    delta_T = teplota-t_min\n",
    "    delta_nu = nu_tabulka_print.loc[t_max,\"8 % H2O\"]-nu_tabulka_print.loc[t_min,\"8 % H2O\"]\n",
    "    vysledek = (nu_init + delta_T*(delta_nu/(t_max-t_min)))*10**-6\n",
    "    return vysledek\n"
   ]
  },
  {
   "cell_type": "code",
   "execution_count": 258,
   "metadata": {},
   "outputs": [],
   "source": [
    "def Pr_interpolate(teplota):\n",
    "    t_min = (int(teplota/100))*100\n",
    "    t_max = (int(teplota/100)+1)*100\n",
    "\n",
    "    Pr_init = float(Pr_tabulka_print.loc[t_min,\"8 % H2O\"])\n",
    "    delta_T = teplota-t_min\n",
    "    delta_Pr = Pr_tabulka_print.loc[t_max,\"8 % H2O\"]-Pr_tabulka_print.loc[t_min,\"8 % H2O\"]\n",
    "    vysledek = (Pr_init + delta_T*(delta_Pr/(t_max-t_min)))\n",
    "    return vysledek"
   ]
  },
  {
   "source": [
    "### <u>Bod A (Vstup spalin - za hořákem)"
   ],
   "cell_type": "markdown",
   "metadata": {}
  },
  {
   "cell_type": "code",
   "execution_count": 259,
   "metadata": {},
   "outputs": [
    {
     "output_type": "display_data",
     "data": {
      "text/plain": "<IPython.core.display.Latex object>",
      "text/latex": "\\[\n\\begin{aligned}\nt_{A} &= 562{,}0 \\; \\;\\textrm{(°C)}\n\\\\[10pt]\nI_{A_{sp}} &= 782{,}789 \\; \\;\\textrm{(kJ/m3n)}\n\\end{aligned}\n\\]"
     },
     "metadata": {}
    }
   ],
   "source": [
    "%%render\n",
    "t_A = t_sp #°C\n",
    "I_A_sp = entalpie_sp(t_A, 'm3n')['sp']  #kJ/m3n"
   ]
  },
  {
   "source": [
    "### Bod B (za druhým přehřívákem)"
   ],
   "cell_type": "markdown",
   "metadata": {}
  },
  {
   "cell_type": "code",
   "execution_count": 260,
   "metadata": {},
   "outputs": [
    {
     "output_type": "display_data",
     "data": {
      "text/plain": "<IPython.core.display.Latex object>",
      "text/latex": "\\[\n\\begin{aligned}\nt_{B} &= 549 \\; \\;\\textrm{(°C)}\n\\\\[10pt]\nI_{B_{sp}} &= 763{,}535 \\; \\;\\textrm{(kJ/m3n)}\n\\end{aligned}\n\\]"
     },
     "metadata": {}
    }
   ],
   "source": [
    "%%render\n",
    "t_B = 549 #°C\n",
    "I_B_sp = entalpie_sp(t_B,'m3n')['sp'] #kJ/m3n"
   ]
  },
  {
   "source": [
    "### Bod C (za prvním přehřívákem)"
   ],
   "cell_type": "markdown",
   "metadata": {}
  },
  {
   "cell_type": "code",
   "execution_count": 261,
   "metadata": {},
   "outputs": [
    {
     "output_type": "display_data",
     "data": {
      "text/plain": "<IPython.core.display.Latex object>",
      "text/latex": "\\[\n\\begin{aligned}\nt_{C} &= 507 \\; \\;\\textrm{(°C)}\n\\\\[10pt]\nI_{C_{sp}} &= 701{,}73 \\; \\;\\textrm{(kJ/m3n)}\n\\end{aligned}\n\\]"
     },
     "metadata": {}
    }
   ],
   "source": [
    "%%render\n",
    "t_C = 507 #°C\n",
    "I_C_sp = entalpie_sp(t_C, 'm3n')['sp'] #kJ/m3n"
   ]
  },
  {
   "source": [
    "### Bod D (za druhým výparníkem)"
   ],
   "cell_type": "markdown",
   "metadata": {}
  },
  {
   "cell_type": "code",
   "execution_count": 262,
   "metadata": {},
   "outputs": [
    {
     "output_type": "display_data",
     "data": {
      "text/plain": "<IPython.core.display.Latex object>",
      "text/latex": "\\[\n\\begin{aligned}\nt_{D} &= 366 \\; \\;\\textrm{(°C)}\n\\\\[10pt]\nI_{D_{sp}} &= 498{,}778 \\; \\;\\textrm{(kJ/m3n)}\n\\end{aligned}\n\\]"
     },
     "metadata": {}
    }
   ],
   "source": [
    "%%render\n",
    "t_D = 366 #°C\n",
    "I_D_sp = entalpie_sp(t_D, 'm3n')['sp'] #kJ/m3n"
   ]
  },
  {
   "source": [
    "### Bod E (za prvním výparníkem)"
   ],
   "cell_type": "markdown",
   "metadata": {}
  },
  {
   "cell_type": "code",
   "execution_count": 263,
   "metadata": {},
   "outputs": [
    {
     "output_type": "display_data",
     "data": {
      "text/plain": "<IPython.core.display.Latex object>",
      "text/latex": "\\[\n\\begin{aligned}\nt_{E} &= 254 \\; \\;\\textrm{(°C)}\n\\\\[10pt]\nI_{E_{sp}} &= 342{,}368 \\; \\;\\textrm{(kJ/m3n)}\n\\end{aligned}\n\\]"
     },
     "metadata": {}
    }
   ],
   "source": [
    "%%render\n",
    "t_E = 254 #°C\n",
    "I_E_sp = entalpie_sp(t_E, 'm3n')['sp'] #kJ/m3n"
   ]
  },
  {
   "source": [
    "### Bod F (za druhým ekonomizérem)"
   ],
   "cell_type": "markdown",
   "metadata": {}
  },
  {
   "cell_type": "code",
   "execution_count": 264,
   "metadata": {},
   "outputs": [
    {
     "output_type": "display_data",
     "data": {
      "text/plain": "<IPython.core.display.Latex object>",
      "text/latex": "\\[\n\\begin{aligned}\nt_{F} &= 241 \\; \\;\\textrm{(°C)}\n\\\\[10pt]\nI_{F_{sp}} &= 324{,}466 \\; \\;\\textrm{(kJ/m3n)}\n\\end{aligned}\n\\]"
     },
     "metadata": {}
    }
   ],
   "source": [
    "%%render\n",
    "t_F = 241 #°C\n",
    "I_F_sp = entalpie_sp(t_F, 'm3n')['sp'] #kJ/m3n"
   ]
  },
  {
   "source": [
    "### Bod G (za prvním ekonomizérem, výstup spalin)"
   ],
   "cell_type": "markdown",
   "metadata": {}
  },
  {
   "cell_type": "code",
   "execution_count": 265,
   "metadata": {},
   "outputs": [
    {
     "output_type": "display_data",
     "data": {
      "text/plain": "<IPython.core.display.Latex object>",
      "text/latex": "\\[\n\\begin{aligned}\nt_{G} &= 145 \\; \\;\\textrm{(°C)}\n\\\\[10pt]\nI_{G_{sp}} &= 193{,}696 \\; \\;\\textrm{(kJ/m3n)}\n\\end{aligned}\n\\]"
     },
     "metadata": {}
    }
   ],
   "source": [
    "%%render\n",
    "t_G = 145 #°C\n",
    "I_G_sp = entalpie_sp(t_G, 'm3n')['sp'] #kJ/m3n"
   ]
  },
  {
   "source": [
    "***\n",
    "## Výpočty ze strany vody a vodní páry\n",
    "***"
   ],
   "cell_type": "markdown",
   "metadata": {}
  },
  {
   "source": [
    "#### Bod 1 (Konec druhého přehříváku, výstupní pára)"
   ],
   "cell_type": "markdown",
   "metadata": {}
  },
  {
   "cell_type": "code",
   "execution_count": 266,
   "metadata": {},
   "outputs": [
    {
     "output_type": "display_data",
     "data": {
      "text/plain": "<IPython.core.display.Latex object>",
      "text/latex": "\\[\n\\begin{aligned}\nt_{1} &= 370 \\; \\;\\textrm{(°C)}\n &p_{1} &= 3{,}1 \\; \\;\\textrm{(MPa)}\n &h_{1} &= 3160{,}749 \\; \\;\\textrm{(kJ/kg)}\n\\\\[10pt]\n v_{1} &= 9{,}093 \\times 10 ^ {-2 } \\; \\;\\textrm{(m3/kg)}\n &x_{1} &= 1{,}0 \\; \\;\\textrm{(-)}\\end{aligned}\n\\]"
     },
     "metadata": {}
    }
   ],
   "source": [
    "%%render params\n",
    "t_1 = t_out                     #°C\n",
    "p_1 = p_out                     #MPa\n",
    "h_1 = steam.h_pt(p_1*10,t_1)    #kJ/kg\n",
    "v_1 = steam.v_pt(p_1*10,t_1)    #m3/kg\n",
    "x_1 = steam.x_ph(p_1*10,h_1)    #-"
   ]
  },
  {
   "source": [
    "#### Bod 3 (Konec prvního přehříváku, před vstřikem)"
   ],
   "cell_type": "markdown",
   "metadata": {}
  },
  {
   "cell_type": "code",
   "execution_count": 267,
   "metadata": {},
   "outputs": [
    {
     "output_type": "display_data",
     "data": {
      "text/plain": "<IPython.core.display.Latex object>",
      "text/latex": "\\[\n\\begin{aligned}\nt_{3} &= 348 \\; \\;\\textrm{(°C)}\n &p_{3} &= 3{,}33 \\; \\;\\textrm{(MPa)}\n &h_{3} &= 3103{,}888 \\; \\;\\textrm{(kJ/kg)}\n\\\\[10pt]\n v_{3} &= 8{,}069 \\times 10 ^ {-2 } \\; \\;\\textrm{(m3/kg)}\n &x_{3} &= 1{,}0 \\; \\;\\textrm{(-)}\\end{aligned}\n\\]"
     },
     "metadata": {}
    }
   ],
   "source": [
    "%%render params\n",
    "t_3 = 348                       #°C\n",
    "p_3 = 3.33                      #MPa\n",
    "h_3 = steam.h_pt(p_3*10,t_3)    #kJ/kg\n",
    "v_3 = steam.v_pt(p_3*10,t_3)    #m3/kg\n",
    "x_3 = steam.x_ph(p_3*10,h_3)    #-"
   ]
  },
  {
   "source": [
    "#### Bod 4 (Začátek prvního přehříváku, po druhém výparníku)"
   ],
   "cell_type": "markdown",
   "metadata": {}
  },
  {
   "cell_type": "code",
   "execution_count": 268,
   "metadata": {},
   "outputs": [
    {
     "output_type": "display_data",
     "data": {
      "text/plain": "<IPython.core.display.Latex object>",
      "text/latex": "\\[\n\\begin{aligned}\np_{4} &= 3{,}38 \\; \\;\\textrm{(MPa)}\n &t_{4} &= 240{,}565 \\; \\;\\textrm{(°C)}\n &h_{4} &= 2803{,}002 \\; \\;\\textrm{(kJ/kg)}\n\\\\[10pt]\n v_{4} &= 5{,}911 \\times 10 ^ {-2 } \\; \\;\\textrm{(m3/kg)}\n &x_{4} &= 1{,}0 \\; \\;\\textrm{(-)}\\end{aligned}\n\\]"
     },
     "metadata": {}
    }
   ],
   "source": [
    "%%render params\n",
    "p_4 = 3.38                      #MPa\n",
    "t_4 = steam.tsat_p(p_4*10)      #°C\n",
    "h_4 = steam.hV_p(p_4*10)        #kJ/kg\n",
    "v_4 = steam.vV_p(p_4*10)        #m3/kg\n",
    "x_4 = steam.x_ph(p_4*10,h_4)    #-"
   ]
  },
  {
   "source": [
    "#### Bod 5 (začátek prvního výparníku, kde je sytá kapalina)"
   ],
   "cell_type": "markdown",
   "metadata": {}
  },
  {
   "cell_type": "code",
   "execution_count": 269,
   "metadata": {},
   "outputs": [
    {
     "output_type": "display_data",
     "data": {
      "text/plain": "<IPython.core.display.Latex object>",
      "text/latex": "\\[\n\\begin{aligned}\np_{5} &= 3{,}38 \\; \\;\\textrm{(MPa)}\n &t_{5} &= 240{,}565 \\; \\;\\textrm{(°C)}\n &h_{5} &= 1040{,}219 \\; \\;\\textrm{(kJ/kg)}\n\\\\[10pt]\n v_{5} &= 1{,}231 \\times 10 ^ {-3 } \\; \\;\\textrm{(m3/kg)}\n &x_{5} &= 0{,}0 \\; \\;\\textrm{(-)}\\end{aligned}\n\\]"
     },
     "metadata": {}
    }
   ],
   "source": [
    "%%render params\n",
    "p_5 = 3.38                      #MPa\n",
    "t_5 = steam.tsat_p(p_5*10)      #°C\n",
    "h_5 = steam.hL_p(p_5*10)        #kJ/kg\n",
    "v_5 = steam.vL_p(p_5*10)        #m3/kg\n",
    "x_5 = steam.x_ph(p_5*10,h_5)    #-"
   ]
  },
  {
   "source": [
    "#### Bod 6 (Za posledním ekonomizérem, před vstupem do výparníku)"
   ],
   "cell_type": "markdown",
   "metadata": {}
  },
  {
   "cell_type": "code",
   "execution_count": 270,
   "metadata": {},
   "outputs": [
    {
     "output_type": "display_data",
     "data": {
      "text/plain": "<IPython.core.display.Latex object>",
      "text/latex": "\\[\n\\begin{aligned}\np_{6} &= 3{,}68 \\; \\;\\textrm{(MPa)}\n &t_{6} &= 236 \\; \\;\\textrm{(°C)}\n &h_{6} &= 1018{,}575 \\; \\;\\textrm{(kJ/kg)}\n\\\\[10pt]\n v_{6} &= 1{,}220 \\times 10 ^ {-3 } \\; \\;\\textrm{(m3/kg)}\n &x_{6} &= 0{,}0 \\; \\;\\textrm{(-)}\\end{aligned}\n\\]"
     },
     "metadata": {}
    }
   ],
   "source": [
    "%%render params\n",
    "p_6 = 3.68                      #MPa\n",
    "t_6 = 236                       #°C\n",
    "h_6 = steam.h_pt(p_6*10, t_6)   #kJ/kg\n",
    "v_6 = steam.v_pt(p_6*10, t_6)   #m3/kg\n",
    "x_6 = steam.x_ph(p_6*10,h_6)    #-"
   ]
  },
  {
   "source": [
    "#### Bod 7 (mezi ekonomizéry)"
   ],
   "cell_type": "markdown",
   "metadata": {}
  },
  {
   "cell_type": "code",
   "execution_count": 271,
   "metadata": {},
   "outputs": [
    {
     "output_type": "display_data",
     "data": {
      "text/plain": "<IPython.core.display.Latex object>",
      "text/latex": "\\[\n\\begin{aligned}\np_{7} &= 3{,}74 \\; \\;\\textrm{(MPa)}\n &t_{7} &= 217 \\; \\;\\textrm{(°C)}\n &h_{7} &= 930{,}261 \\; \\;\\textrm{(kJ/kg)}\n\\\\[10pt]\n v_{7} &= 1{,}183 \\times 10 ^ {-3 } \\; \\;\\textrm{(m3/kg)}\n &x_{7} &= 0{,}0 \\; \\;\\textrm{(-)}\\end{aligned}\n\\]"
     },
     "metadata": {}
    }
   ],
   "source": [
    "%%render params\n",
    "p_7 = 3.74                      #MPa\n",
    "t_7 = 217                       #°C\n",
    "h_7 = steam.h_pt(p_7*10, t_7)   #kJ/kg\n",
    "v_7 = steam.v_pt(p_7*10, t_7)   #m3/kg\n",
    "x_7 = steam.x_ph(p_7*10,h_7)    #-\n"
   ]
  },
  {
   "source": [
    "#### Bod 2 (Začátek druhého přehříváku, po vstřiku)"
   ],
   "cell_type": "markdown",
   "metadata": {}
  },
  {
   "cell_type": "code",
   "execution_count": 272,
   "metadata": {},
   "outputs": [
    {
     "output_type": "display_data",
     "data": {
      "text/plain": "<IPython.core.display.Latex object>",
      "text/latex": "\\[\n\\begin{aligned}\np_{2} &= 3{,}33 \\; \\;\\textrm{(MPa)}\n &h_{2} &= 3066{,}802 \\; \\;\\textrm{(kJ/kg)}\n &t_{2} &= 332{,}731 \\; \\;\\textrm{(°C)}\n\\\\[10pt]\n v_{2} &= 7{,}811 \\times 10 ^ {-2 } \\; \\;\\textrm{(m3/kg)}\n &x_{2} &= 1{,}0 \\; \\;\\textrm{(-)}\\end{aligned}\n\\]"
     },
     "metadata": {}
    }
   ],
   "source": [
    "%%render params\n",
    "p_2 = p_3                           #MPa\n",
    "h_2 = (20.74*h_3 + 0.36*h_7)/21.10  #kJ/kg\n",
    "t_2 = steam.t_ph(p_2*10, h_2)       #°C\n",
    "v_2 = steam.v_ph(p_2*10, h_2)       #m3/kg\n",
    "x_2 = steam.x_ph(p_2*10,h_2)        #-"
   ]
  },
  {
   "source": [
    "#### Bod 8 (Před začátkem ekonomizéru, vstup napájecí vody)"
   ],
   "cell_type": "markdown",
   "metadata": {}
  },
  {
   "cell_type": "code",
   "execution_count": 273,
   "metadata": {},
   "outputs": [
    {
     "output_type": "display_data",
     "data": {
      "text/plain": "<IPython.core.display.Latex object>",
      "text/latex": "\\[\n\\begin{aligned}\nt_{8} &= 71 \\; \\;\\textrm{(°C)}\n &p_{8} &= 4{,}2 \\; \\;\\textrm{(MPa)}\n &h_{8} &= 300{,}606 \\; \\;\\textrm{(kJ/kg)}\n\\\\[10pt]\n v_{8} &= 0{,}001 \\; \\;\\textrm{(m3/kg)}\n &x_{8} &= 0{,}0 \\; \\;\\textrm{(-)}\\end{aligned}\n\\]"
     },
     "metadata": {}
    }
   ],
   "source": [
    "%%render params\n",
    "t_8 = 71                         #°C\n",
    "p_8 = 4.2                        #MPa\n",
    "h_8 = steam.h_pt(p_8*10,t_8)     #kJ/kg\n",
    "v_8 = steam.v_pt(p_8*10,t_8)     #m3/kg\n",
    "x_8 = steam.x_ph(p_8*10,h_8)     #-"
   ]
  },
  {
   "source": [
    "***\n",
    "## Výkon kotle a jednotlivých teplosměnných ploch\n",
    "***"
   ],
   "cell_type": "markdown",
   "metadata": {}
  },
  {
   "source": [
    "### Maximální využitelný výkon"
   ],
   "cell_type": "markdown",
   "metadata": {}
  },
  {
   "cell_type": "code",
   "execution_count": 274,
   "metadata": {},
   "outputs": [
    {
     "output_type": "display_data",
     "data": {
      "text/plain": "<IPython.core.display.Latex object>",
      "text/latex": "\\[\n\\begin{aligned}\nQ_{in} &= 76863{,}556 \\; \\;\\textrm{(kW)}\n\\end{aligned}\n\\]"
     },
     "metadata": {}
    }
   ],
   "source": [
    "%%render\n",
    "# Dodaný výkon v palivu\n",
    "Q_in = V_sp*(I_A_sp-entalpie_sp(25, 'm3n')['sp']) #kW"
   ]
  },
  {
   "cell_type": "code",
   "execution_count": 275,
   "metadata": {},
   "outputs": [
    {
     "output_type": "display_data",
     "data": {
      "text/plain": "<IPython.core.display.Latex object>",
      "text/latex": "\\[\n\\begin{aligned}\nQ_{out} &= m_{p} \\cdot h_{1} - m_{p} \\cdot h_{8}  = 21{,}111 \\cdot 3160{,}749 - 21{,}111 \\cdot 300{,}606 &= 60380{,}803 \\; \\;\\textrm{(kW)}\n\\end{aligned}\n\\]"
     },
     "metadata": {}
    }
   ],
   "source": [
    "%%render\n",
    "# Odebraný výkon vodou a párou\n",
    "Q_out = m_p*h_1-m_p*h_8 #kW"
   ]
  },
  {
   "source": [
    "### Účinnost"
   ],
   "cell_type": "markdown",
   "metadata": {}
  },
  {
   "cell_type": "code",
   "execution_count": 276,
   "metadata": {},
   "outputs": [
    {
     "output_type": "display_data",
     "data": {
      "text/plain": "<IPython.core.display.Latex object>",
      "text/latex": "\\[\n\\begin{aligned}\n\\eta &= \\frac{ Q_{out} }{ Q_{in} }  = \\frac{ 60380{,}803 }{ 76863{,}556 } &= 7{,}856 \\times 10 ^ {-1 } \\; \\;\\textrm{(-)}\n\\end{aligned}\n\\]"
     },
     "metadata": {}
    }
   ],
   "source": [
    "%%render\n",
    "eta = Q_out/Q_in #-"
   ]
  },
  {
   "source": [
    "### Předaná tepla v jednotlivých teplosměnných plochách"
   ],
   "cell_type": "markdown",
   "metadata": {}
  },
  {
   "cell_type": "code",
   "execution_count": 277,
   "metadata": {},
   "outputs": [
    {
     "output_type": "display_data",
     "data": {
      "text/plain": "<IPython.core.display.Latex object>",
      "text/latex": "\\[\n\\begin{aligned}\nC &= 1{,}130 \\times 10 ^ {-2 } \\; \\;\\textrm{(-)}\n\\\\[10pt]\nQ_{ZS} &= \\left( \\frac{ Q_{in} }{ 1000 } \\right) ^{ 0{,}7 } \\cdot C \\cdot 1000  = \\left( \\frac{ 76863{,}556 }{ 1000 } \\right) ^{ 0{,}7 } \\cdot 1{,}130 \\times 10 ^ {-2 } \\cdot 1000 &= 236{,}093 \\; \\;\\textrm{(kW)}\n\\end{aligned}\n\\]"
     },
     "metadata": {}
    }
   ],
   "source": [
    "%%render\n",
    "# Ztráta sáláním - pro výpočet Q_16\n",
    "C = 0.0113 #-\n",
    "Q_ZS = ((Q_in/1000)**0.7)*C*1000 #kW"
   ]
  },
  {
   "cell_type": "code",
   "execution_count": 278,
   "metadata": {},
   "outputs": [
    {
     "output_type": "display_data",
     "data": {
      "text/plain": "<IPython.core.display.Latex object>",
      "text/latex": "\\[\n\\begin{aligned}\nz_{s} &= \\frac{ Q_{ZS} }{ Q_{in} }  = \\frac{ 236{,}093 }{ 76863{,}556 } &= 3{,}072 \\times 10 ^ {-3 } \\; \\;\\textrm{(-)}\n\\end{aligned}\n\\]"
     },
     "metadata": {}
    }
   ],
   "source": [
    "%%render\n",
    "z_s = Q_ZS/Q_in #-"
   ]
  },
  {
   "source": [
    "#### Předané teplo v bodech A-E"
   ],
   "cell_type": "markdown",
   "metadata": {}
  },
  {
   "cell_type": "code",
   "execution_count": 279,
   "metadata": {},
   "outputs": [
    {
     "output_type": "display_data",
     "data": {
      "text/plain": "<IPython.core.display.Latex object>",
      "text/latex": "\\[\n\\begin{aligned}\nQ_{AE} &= V_{sp} \\cdot \\left( I_{A_{sp}} - I_{E_{sp}} \\right)  = 102{,}534 \\cdot \\left( 782{,}789 - 342{,}368 \\right) &= 45157{,}961 \\; \\;\\textrm{(kW)}\n\\end{aligned}\n\\]"
     },
     "metadata": {}
    }
   ],
   "source": [
    "%%render\n",
    "Q_AE = V_sp*(I_A_sp-I_E_sp) #kW"
   ]
  },
  {
   "source": [
    "#### Předané teplo v bodech 1-6"
   ],
   "cell_type": "markdown",
   "metadata": {}
  },
  {
   "cell_type": "code",
   "execution_count": 280,
   "metadata": {},
   "outputs": [
    {
     "output_type": "display_data",
     "data": {
      "text/plain": "<IPython.core.display.Latex object>",
      "text/latex": "\\[\n\\begin{aligned}\nQ_{16} &= Q_{AE} \\cdot \\left( 1 - z_{s} \\right)  = 45157{,}961 \\cdot \\left( 1 - 3{,}072 \\times 10 ^ {-3 } \\right) &= 45019{,}254  \n\\end{aligned}\n\\]"
     },
     "metadata": {}
    }
   ],
   "source": [
    "%%render\n",
    "Q_16 = Q_AE*(1-z_s)"
   ]
  },
  {
   "source": [
    "### Predane tepelne toky v jednotlivych teplosmennych plochach"
   ],
   "cell_type": "markdown",
   "metadata": {}
  },
  {
   "source": [
    "#### Prehrivak 2"
   ],
   "cell_type": "markdown",
   "metadata": {}
  },
  {
   "cell_type": "code",
   "execution_count": 281,
   "metadata": {},
   "outputs": [
    {
     "output_type": "display_data",
     "data": {
      "text/plain": "<IPython.core.display.Latex object>",
      "text/latex": "\\[\n\\begin{aligned}\nQ_{P2} &= m_{p} \\cdot \\left( h_{1} - h_{2} \\right)  = 21{,}111 \\cdot \\left( 3160{,}749 - 3066{,}802 \\right) &= 1983{,}329 \\; \\;\\textrm{(kW)}\n\\end{aligned}\n\\]"
     },
     "metadata": {}
    }
   ],
   "source": [
    "%%render\n",
    "Q_P2 = m_p*(h_1-h_2) #kW"
   ]
  },
  {
   "source": [
    "#### Prehrivak 1"
   ],
   "cell_type": "markdown",
   "metadata": {}
  },
  {
   "cell_type": "code",
   "execution_count": 282,
   "metadata": {},
   "outputs": [
    {
     "output_type": "display_data",
     "data": {
      "text/plain": "<IPython.core.display.Latex object>",
      "text/latex": "\\[\n\\begin{aligned}\nQ_{P1} &= \\left( m_{p} - m_{vst} \\right) \\cdot \\left( h_{3} - h_{4} \\right)  = \\left( 21{,}111 - 0{,}36 \\right) \\cdot \\left( 3103{,}888 - 2803{,}002 \\right) &= 6243{,}705 \\; \\;\\textrm{(kW)}\n\\end{aligned}\n\\]"
     },
     "metadata": {}
    }
   ],
   "source": [
    "%%render\n",
    "Q_P1 = (m_p-m_vst)*(h_3-h_4) #kW"
   ]
  },
  {
   "source": [
    "#### Vyparnik 1 + 2"
   ],
   "cell_type": "markdown",
   "metadata": {}
  },
  {
   "cell_type": "code",
   "execution_count": 283,
   "metadata": {},
   "outputs": [
    {
     "output_type": "display_data",
     "data": {
      "text/plain": "<IPython.core.display.Latex object>",
      "text/latex": "\\[\n\\begin{aligned}\nQ_{V} &= \\left( m_{p} - m_{vst} \\right) \\cdot \\left( h_{4} - h_{5} \\right)  = \\left( 21{,}111 - 0{,}36 \\right) \\cdot \\left( 2803{,}002 - 1040{,}219 \\right) &= 36579{,}719 \\; \\;\\textrm{(kW)}\n\\end{aligned}\n\\]"
     },
     "metadata": {}
    }
   ],
   "source": [
    "%%render\n",
    "Q_V = (m_p-m_vst)*(h_4-h_5) #kW"
   ]
  },
  {
   "source": [
    "#### Ekonomizer 2"
   ],
   "cell_type": "markdown",
   "metadata": {}
  },
  {
   "cell_type": "code",
   "execution_count": 284,
   "metadata": {},
   "outputs": [
    {
     "output_type": "display_data",
     "data": {
      "text/plain": "<IPython.core.display.Latex object>",
      "text/latex": "\\[\n\\begin{aligned}\nQ_{EKO_{2}} &= \\left( m_{p} - m_{vst} \\right) \\cdot \\left( h_{6} - h_{7} \\right)  = \\left( 21{,}111 - 0{,}36 \\right) \\cdot \\left( 1018{,}575 - 930{,}261 \\right) &= 1832{,}609 \\; \\;\\textrm{(kW)}\n\\end{aligned}\n\\]"
     },
     "metadata": {}
    }
   ],
   "source": [
    "%%render\n",
    "Q_EKO_2 = (m_p-m_vst)*(h_6-h_7) #kW"
   ]
  },
  {
   "source": [
    "#### Ekonomizer 1"
   ],
   "cell_type": "markdown",
   "metadata": {}
  },
  {
   "cell_type": "code",
   "execution_count": 285,
   "metadata": {},
   "outputs": [
    {
     "output_type": "display_data",
     "data": {
      "text/plain": "<IPython.core.display.Latex object>",
      "text/latex": "\\[\n\\begin{aligned}\nQ_{EKO_{1}} &= m_{p} \\cdot \\left( h_{7} - h_{8} \\right)  = 21{,}111 \\cdot \\left( 930{,}261 - 300{,}606 \\right) &= 13292{,}73 \\; \\;\\textrm{(kW)}\n\\end{aligned}\n\\]"
     },
     "metadata": {}
    }
   ],
   "source": [
    "%%render\n",
    "Q_EKO_1 = m_p*(h_7-h_8) #kW"
   ]
  },
  {
   "source": [
    "***\n",
    "# Návrh teplosměnných ploch\n",
    "***"
   ],
   "cell_type": "markdown",
   "metadata": {}
  },
  {
   "source": [
    "**Označení veličin**\n",
    "\n",
    "D = vnější průměr\n",
    "\n",
    "t<sub>tr</sub> = tloušťka trubky\n",
    "\n",
    "d = vnitřní průměr\n",
    "\n",
    "h<sub>ž</sub> = výška žebra\n",
    "\n",
    "t<sub>ž</sub> = tloušťka žebra\n",
    "\n",
    "s<sub>ž</sub> = rozteč žeber\n",
    "\n",
    "n<sub>ž</sub> = počet žeber na 1 m<sup>2</sup>\n",
    "\n",
    "s<sub>1</sub> = příčná rozteč\n",
    "\n",
    "s<sub>2</sub> = podélná rozteč"
   ],
   "cell_type": "markdown",
   "metadata": {}
  },
  {
   "source": [
    "## Přehřívák 2 (bez žeber)\n",
    "***"
   ],
   "cell_type": "markdown",
   "metadata": {}
  },
  {
   "cell_type": "code",
   "execution_count": 286,
   "metadata": {},
   "outputs": [
    {
     "output_type": "display_data",
     "data": {
      "text/plain": "<IPython.core.display.Latex object>",
      "text/latex": "\\[\n\\begin{aligned}\nD &= 4{,}450 \\times 10 ^ {-2 } \\; \\;\\textrm{(m)}\n &t_{tr} &= 2{,}900 \\times 10 ^ {-3 } \\; \\;\\textrm{(m)}\n &d &= 3{,}870 \\times 10 ^ {-2 } \\; \\;\\textrm{(m)}\n\\\\[10pt]\n h_{z} &= 0{,}0 \\; \\;\\textrm{(m)}\n &t_{z} &= 0{,}0 \\; \\;\\textrm{(m)}\n &s_{z} &= 0{,}0 \\; \\;\\textrm{(m)}\n\\\\[10pt]\n n_{z} &= 0 \\; \\;\\textrm{(1/m)}\n &s_{2} &= 0{,}117 \\; \\;\\textrm{(m)}\\end{aligned}\n\\]"
     },
     "metadata": {}
    }
   ],
   "source": [
    "%%render params\n",
    "D = 0.0445      #m\n",
    "t_tr = 0.0029   #m\n",
    "d = D-2*t_tr    #m\n",
    "h_z = 0.000     #m\n",
    "t_z = 0.000     #m\n",
    "s_z = 0.000     #m\n",
    "n_z = 0         #1/m\n",
    "s_2 = 0.117     #m"
   ]
  },
  {
   "cell_type": "code",
   "execution_count": 287,
   "metadata": {},
   "outputs": [],
   "source": [
    "prehrivak2_input = {\n",
    "    'Hodnota':\n",
    "    [1000*D,1000*t_tr,1000*d,1000*h_z,1000*t_z,1000*s_z, n_z],\n",
    "\n",
    "    'Jednotka': \n",
    "    ['mm','mm','mm','mm','mm','mm','-']\n",
    "\n",
    "    }\n",
    "zkratky = ['D','t_tr','d','h_z','t_z','s_z','n_z']\n",
    "prehrivak2_table = pd.DataFrame(prehrivak2_input, index = zkratky)"
   ]
  },
  {
   "cell_type": "code",
   "execution_count": 288,
   "metadata": {},
   "outputs": [
    {
     "output_type": "execute_result",
     "data": {
      "text/plain": [
       "      Hodnota Jednotka\n",
       "D        44.5       mm\n",
       "t_tr      2.9       mm\n",
       "d        38.7       mm\n",
       "h_z       0.0       mm\n",
       "t_z       0.0       mm\n",
       "s_z       0.0       mm\n",
       "n_z       0.0        -"
      ],
      "text/html": "<div>\n<style scoped>\n    .dataframe tbody tr th:only-of-type {\n        vertical-align: middle;\n    }\n\n    .dataframe tbody tr th {\n        vertical-align: top;\n    }\n\n    .dataframe thead th {\n        text-align: right;\n    }\n</style>\n<table border=\"1\" class=\"dataframe\">\n  <thead>\n    <tr style=\"text-align: right;\">\n      <th></th>\n      <th>Hodnota</th>\n      <th>Jednotka</th>\n    </tr>\n  </thead>\n  <tbody>\n    <tr>\n      <th>D</th>\n      <td>44.5</td>\n      <td>mm</td>\n    </tr>\n    <tr>\n      <th>t_tr</th>\n      <td>2.9</td>\n      <td>mm</td>\n    </tr>\n    <tr>\n      <th>d</th>\n      <td>38.7</td>\n      <td>mm</td>\n    </tr>\n    <tr>\n      <th>h_z</th>\n      <td>0.0</td>\n      <td>mm</td>\n    </tr>\n    <tr>\n      <th>t_z</th>\n      <td>0.0</td>\n      <td>mm</td>\n    </tr>\n    <tr>\n      <th>s_z</th>\n      <td>0.0</td>\n      <td>mm</td>\n    </tr>\n    <tr>\n      <th>n_z</th>\n      <td>0.0</td>\n      <td>-</td>\n    </tr>\n  </tbody>\n</table>\n</div>"
     },
     "metadata": {},
     "execution_count": 288
    }
   ],
   "source": [
    "prehrivak2_table\n",
    "\n",
    "# print(prehrivak2_table.to_latex())"
   ]
  },
  {
   "source": [
    "### Rozměry trubek"
   ],
   "cell_type": "markdown",
   "metadata": {}
  },
  {
   "cell_type": "code",
   "execution_count": 289,
   "metadata": {},
   "outputs": [
    {
     "output_type": "display_data",
     "data": {
      "text/plain": "<IPython.core.display.Latex object>",
      "text/latex": "\\[\n\\begin{aligned}\na &= 4{,}350 \\times 10 ^ {-2 } \\; \\;\\textrm{(m)}\n\\end{aligned}\n\\]"
     },
     "metadata": {}
    }
   ],
   "source": [
    "%%render\n",
    "# zvoleno tak, aby rozteč byla stejná jako u přehříváku 1\n",
    "a = 0.0435  #m"
   ]
  },
  {
   "cell_type": "code",
   "execution_count": 290,
   "metadata": {},
   "outputs": [
    {
     "output_type": "display_data",
     "data": {
      "text/plain": "<IPython.core.display.Latex object>",
      "text/latex": "\\[\n\\begin{aligned}\ns_{1} &= D + a  = 4{,}450 \\times 10 ^ {-2 } + 4{,}350 \\times 10 ^ {-2 } &= 0{,}088 \\; \\;\\textrm{(m)}\n\\end{aligned}\n\\]"
     },
     "metadata": {}
    }
   ],
   "source": [
    "%%render\n",
    "s_1 = D+a   #m"
   ]
  },
  {
   "source": [
    "Počet trubek"
   ],
   "cell_type": "markdown",
   "metadata": {}
  },
  {
   "cell_type": "code",
   "execution_count": 291,
   "metadata": {},
   "outputs": [],
   "source": [
    "sirka = 3   #m\n",
    "H = 13.6    #m"
   ]
  },
  {
   "cell_type": "code",
   "execution_count": 292,
   "metadata": {},
   "outputs": [
    {
     "output_type": "display_data",
     "data": {
      "text/plain": "<IPython.core.display.Latex object>",
      "text/latex": "\\[\n\\begin{aligned}\nn_{tr} &= \\frac{ \\mathrm{sirka} }{ s_{1} } - \\frac{ 1 }{ 2 }  = \\frac{ 3 }{ 0{,}088 } - \\frac{ 1 }{ 2 } &= 33{,}591  \n\\end{aligned}\n\\]"
     },
     "metadata": {}
    }
   ],
   "source": [
    "%%render\n",
    "n_tr = sirka/s_1-1/2"
   ]
  },
  {
   "cell_type": "code",
   "execution_count": 293,
   "metadata": {},
   "outputs": [],
   "source": [
    "n_tr = round(n_tr,0)"
   ]
  },
  {
   "source": [
    "#### Pára"
   ],
   "cell_type": "markdown",
   "metadata": {}
  },
  {
   "source": [
    "Střední hodnoty"
   ],
   "cell_type": "markdown",
   "metadata": {}
  },
  {
   "cell_type": "code",
   "execution_count": 294,
   "metadata": {},
   "outputs": [
    {
     "output_type": "display_data",
     "data": {
      "text/plain": "<IPython.core.display.Latex object>",
      "text/latex": "\\[\n\\begin{aligned}\nt_{21} &= \\frac{ t_{1} + t_{2} }{ 2 }  = \\frac{ 370 + 332{,}731 }{ 2 } &= 351{,}366 \\; \\;\\textrm{(°C)}\n\\\\[10pt]\np_{21} &= \\frac{ p_{1} + p_{2} }{ 2 }  = \\frac{ 3{,}1 + 3{,}33 }{ 2 } &= 3{,}215 \\; \\;\\textrm{(MPa)}\n\\end{aligned}\n\\]"
     },
     "metadata": {}
    }
   ],
   "source": [
    "%%render\n",
    "t_21 = (t_1+t_2)/2  #°C\n",
    "p_21 = (p_1+p_2)/2  #MPa"
   ]
  },
  {
   "cell_type": "code",
   "execution_count": 295,
   "metadata": {},
   "outputs": [
    {
     "output_type": "display_data",
     "data": {
      "text/plain": "<IPython.core.display.Latex object>",
      "text/latex": "\\[\n\\begin{aligned}\nv_{21} &= \\mathrm{steam.v}_{pt} { \\left( p_{21} \\cdot 10 ,\\ t_{21} \\right) }  = steam.v_{pt} { \\left( 3{,}215 \\cdot 10 ,\\ 351{,}366 \\right) } &= 8{,}435 \\times 10 ^ {-2 } \\; \\;\\textrm{(m3/kg)}\n\\end{aligned}\n\\]"
     },
     "metadata": {}
    }
   ],
   "source": [
    "%%render\n",
    "v_21 = steam.v_pt(p_21*10,t_21)    #m3/kg"
   ]
  },
  {
   "source": [
    "Rychlost páry"
   ],
   "cell_type": "markdown",
   "metadata": {}
  },
  {
   "cell_type": "code",
   "execution_count": 296,
   "metadata": {},
   "outputs": [
    {
     "output_type": "display_data",
     "data": {
      "text/plain": "<IPython.core.display.Latex object>",
      "text/latex": "\\[\n\\begin{aligned}\nw_{p} &= 4 \\cdot \\frac{ m_{p} \\cdot v_{21} }{ \\pi \\cdot \\left( d \\right) ^{ 2 } \\cdot 2 \\cdot n_{tr} } \\\\&= 4 \\cdot \\frac{ 21{,}111 \\cdot 8{,}435 \\times 10 ^ {-2 } }{ 3{,}142 \\cdot \\left( 3{,}870 \\times 10 ^ {-2 } \\right) ^{ 2 } \\cdot 2 \\cdot 34{,}0 } \\\\&= 22{,}263 \\; \\;\\textrm{(m/s)}\\\\\n\\end{aligned}\n\\]"
     },
     "metadata": {}
    }
   ],
   "source": [
    "%%render\n",
    "w_p = 4*(m_p*v_21)/(pi*d**2*2*n_tr)   #m/s"
   ]
  },
  {
   "source": [
    "#### Spaliny"
   ],
   "cell_type": "markdown",
   "metadata": {}
  },
  {
   "cell_type": "code",
   "execution_count": 297,
   "metadata": {},
   "outputs": [
    {
     "output_type": "display_data",
     "data": {
      "text/plain": "<IPython.core.display.Latex object>",
      "text/latex": "\\[\n\\begin{aligned}\nt_{AB} &= \\frac{ t_{A} + t_{B} }{ 2 }  = \\frac{ 562{,}0 + 549 }{ 2 } &= 555{,}5 \\; \\;\\textrm{(°C)}\n\\end{aligned}\n\\]"
     },
     "metadata": {}
    }
   ],
   "source": [
    "%%render\n",
    "t_AB = (t_A+t_B)/2  #°C"
   ]
  },
  {
   "source": [
    "Skutečný objemový průtok spalin"
   ],
   "cell_type": "markdown",
   "metadata": {}
  },
  {
   "cell_type": "code",
   "execution_count": 298,
   "metadata": {},
   "outputs": [
    {
     "output_type": "display_data",
     "data": {
      "text/plain": "<IPython.core.display.Latex object>",
      "text/latex": "\\[\n\\begin{aligned}\nV_{sp_{skut}} &= V_{sp} \\cdot \\left( \\frac{ t_{AB} + 273{,}15 }{ 273{,}15 } \\right)  = 102{,}534 \\cdot \\left( \\frac{ 555{,}5 + 273{,}15 }{ 273{,}15 } \\right) &= 311{,}054 \\; \\;\\textrm{(m3/s)}\n\\end{aligned}\n\\]"
     },
     "metadata": {}
    }
   ],
   "source": [
    "%%render\n",
    "V_sp_skut = V_sp * ((t_AB+273.15)/273.15)   #m3/s"
   ]
  },
  {
   "source": [
    "Skutečný průřez spalinového kanálu"
   ],
   "cell_type": "markdown",
   "metadata": {}
  },
  {
   "cell_type": "code",
   "execution_count": 299,
   "metadata": {},
   "outputs": [
    {
     "output_type": "display_data",
     "data": {
      "text/plain": "<IPython.core.display.Latex object>",
      "text/latex": "\\[\n\\begin{aligned}\nS_{kan} &= H \\cdot \\left( \\mathrm{sirka} - n_{tr} \\cdot D \\right)  = 13{,}6 \\cdot \\left( 3 - 34{,}0 \\cdot 4{,}450 \\times 10 ^ {-2 } \\right) &= 20{,}223 \\; \\;\\textrm{(m2)}\n\\end{aligned}\n\\]"
     },
     "metadata": {}
    }
   ],
   "source": [
    "%%render\n",
    "S_kan = H*(sirka-n_tr*D)    #m2"
   ]
  },
  {
   "source": [
    "Rychlost spalin"
   ],
   "cell_type": "markdown",
   "metadata": {}
  },
  {
   "cell_type": "code",
   "execution_count": 300,
   "metadata": {},
   "outputs": [
    {
     "output_type": "display_data",
     "data": {
      "text/plain": "<IPython.core.display.Latex object>",
      "text/latex": "\\[\n\\begin{aligned}\nw_{sp} &= \\frac{ V_{sp_{skut}} }{ S_{kan} }  = \\frac{ 311{,}054 }{ 20{,}223 } &= 15{,}381 \\; \\;\\textrm{(m/s)}\n\\end{aligned}\n\\]"
     },
     "metadata": {}
    }
   ],
   "source": [
    "%%render\n",
    "w_sp = V_sp_skut/S_kan  #m/s"
   ]
  },
  {
   "source": [
    "### Součinitel přestupu tepla ze strany spalin"
   ],
   "cell_type": "markdown",
   "metadata": {}
  },
  {
   "cell_type": "code",
   "execution_count": 301,
   "metadata": {},
   "outputs": [
    {
     "output_type": "display_data",
     "data": {
      "text/plain": "<IPython.core.display.Latex object>",
      "text/latex": "\\[\n\\begin{aligned}\nc_{t} &= 1 \\; \n\\\\[10pt]\nc_{l} &= 1 \\; \n\\\\[10pt]\nc_{m} &= 1 \\; \n\\end{aligned}\n\\]"
     },
     "metadata": {}
    }
   ],
   "source": [
    "%%render\n",
    "c_t = 1\n",
    "c_l = 1\n",
    "c_m = 1"
   ]
  },
  {
   "source": [
    "### Prostup tepla"
   ],
   "cell_type": "markdown",
   "metadata": {}
  },
  {
   "source": [
    "#### Tabulka $\\lambda$ pro obsah vody"
   ],
   "cell_type": "markdown",
   "metadata": {}
  },
  {
   "cell_type": "code",
   "execution_count": 302,
   "metadata": {},
   "outputs": [],
   "source": [
    "lambda_0 = 22.5+(8-5)*((22.7-22.5)/(10-5))\n",
    "lambda_100 = 30.5+(8-5)*((31.2-30.5)/(10-5))\n",
    "lambda_200 = 38.7+(8-5)*((39.8-38.7)/(10-5))\n",
    "lambda_300 = 46.4+(8-5)*((48.1-46.4)/(10-5))\n",
    "lambda_400 = 54.3+(8-5)*((56.6-54.3)/(10-5))\n",
    "lambda_500 = 62.2+(8-5)*((65.1-62.2)/(10-5))\n",
    "lambda_600 = 70+(8-5)*((73.5-70)/(10-5))\n",
    "\n",
    "lambda_tabulka = pd.DataFrame(\n",
    "{\n",
    "        \"T [°C]\": (0,100,200,300,400,500,600),\n",
    "        \"5 % H2O\": (22.5,30.5,38.7,46.4,54.3,62.2,70.0),\n",
    "        \"8 % H2O\": (lambda_0,lambda_100,lambda_200,lambda_300,lambda_400,lambda_500,lambda_600),\n",
    "        \"10 % H2O\": (22.7,31.2,39.8,48.1,56.6,65.1,73.5),\n",
    "    }\n",
    ")\n",
    "lambda_tabulka_print = lambda_tabulka.set_index(lambda_tabulka.columns[0])"
   ]
  },
  {
   "cell_type": "code",
   "execution_count": 303,
   "metadata": {},
   "outputs": [
    {
     "output_type": "execute_result",
     "data": {
      "text/plain": [
       "        5 % H2O  8 % H2O  10 % H2O\n",
       "T [°C]                            \n",
       "0          22.5    22.62      22.7\n",
       "100        30.5    30.92      31.2\n",
       "200        38.7    39.36      39.8\n",
       "300        46.4    47.42      48.1\n",
       "400        54.3    55.68      56.6\n",
       "500        62.2    63.94      65.1\n",
       "600        70.0    72.10      73.5"
      ],
      "text/html": "<div>\n<style scoped>\n    .dataframe tbody tr th:only-of-type {\n        vertical-align: middle;\n    }\n\n    .dataframe tbody tr th {\n        vertical-align: top;\n    }\n\n    .dataframe thead th {\n        text-align: right;\n    }\n</style>\n<table border=\"1\" class=\"dataframe\">\n  <thead>\n    <tr style=\"text-align: right;\">\n      <th></th>\n      <th>5 % H2O</th>\n      <th>8 % H2O</th>\n      <th>10 % H2O</th>\n    </tr>\n    <tr>\n      <th>T [°C]</th>\n      <th></th>\n      <th></th>\n      <th></th>\n    </tr>\n  </thead>\n  <tbody>\n    <tr>\n      <th>0</th>\n      <td>22.5</td>\n      <td>22.62</td>\n      <td>22.7</td>\n    </tr>\n    <tr>\n      <th>100</th>\n      <td>30.5</td>\n      <td>30.92</td>\n      <td>31.2</td>\n    </tr>\n    <tr>\n      <th>200</th>\n      <td>38.7</td>\n      <td>39.36</td>\n      <td>39.8</td>\n    </tr>\n    <tr>\n      <th>300</th>\n      <td>46.4</td>\n      <td>47.42</td>\n      <td>48.1</td>\n    </tr>\n    <tr>\n      <th>400</th>\n      <td>54.3</td>\n      <td>55.68</td>\n      <td>56.6</td>\n    </tr>\n    <tr>\n      <th>500</th>\n      <td>62.2</td>\n      <td>63.94</td>\n      <td>65.1</td>\n    </tr>\n    <tr>\n      <th>600</th>\n      <td>70.0</td>\n      <td>72.10</td>\n      <td>73.5</td>\n    </tr>\n  </tbody>\n</table>\n</div>"
     },
     "metadata": {},
     "execution_count": 303
    }
   ],
   "source": [
    "lambda_tabulka_print\n",
    "\n",
    "# print(lambda_tabulka_print.to_latex())"
   ]
  },
  {
   "source": [
    "#### Tabulka $\\nu$ pro daný obsah vody"
   ],
   "cell_type": "markdown",
   "metadata": {}
  },
  {
   "cell_type": "code",
   "execution_count": 304,
   "metadata": {},
   "outputs": [],
   "source": [
    "nu_0 = 12.2+(8-5)*((12.2-12.2)/(10-5))\n",
    "nu_100 = 21.3+(8-5)*((21.5-21.3)/(10-5))\n",
    "nu_200 = 31.8+(8-5)*((32.8-31.8)/(10-5))\n",
    "nu_300 = 45.0+(8-5)*((45.8-45.0)/(10-5))\n",
    "nu_400 = 59.2+(8-5)*((60.4-59.2)/(10-5))\n",
    "nu_500 = 74.6+(8-5)*((76.3-74.6)/(10-5))\n",
    "nu_600 = 91.4+(8-5)*((93.6-91.4)/(10-5))\n",
    "\n",
    "nu_tabulka = pd.DataFrame(\n",
    "{\n",
    "        \"T [°C]\": (0,100,200,300,400,500,600),\n",
    "        \"5 % H2O\": (12.2,21.3,31.8,45.0,59.2,74.6,91.4),\n",
    "        \"8 % H2O\": (nu_0,nu_100,nu_200,nu_300,nu_400,nu_500,nu_600),\n",
    "        \"10 % H2O\": (12.2,21.5,32.8,45.8,60.4,76.3,93.6),\n",
    "    }\n",
    ")\n",
    "nu_tabulka_print = nu_tabulka.set_index(nu_tabulka.columns[0])"
   ]
  },
  {
   "cell_type": "code",
   "execution_count": 305,
   "metadata": {},
   "outputs": [
    {
     "output_type": "execute_result",
     "data": {
      "text/plain": [
       "        5 % H2O  8 % H2O  10 % H2O\n",
       "T [°C]                            \n",
       "0          12.2    12.20      12.2\n",
       "100        21.3    21.42      21.5\n",
       "200        31.8    32.40      32.8\n",
       "300        45.0    45.48      45.8\n",
       "400        59.2    59.92      60.4\n",
       "500        74.6    75.62      76.3\n",
       "600        91.4    92.72      93.6"
      ],
      "text/html": "<div>\n<style scoped>\n    .dataframe tbody tr th:only-of-type {\n        vertical-align: middle;\n    }\n\n    .dataframe tbody tr th {\n        vertical-align: top;\n    }\n\n    .dataframe thead th {\n        text-align: right;\n    }\n</style>\n<table border=\"1\" class=\"dataframe\">\n  <thead>\n    <tr style=\"text-align: right;\">\n      <th></th>\n      <th>5 % H2O</th>\n      <th>8 % H2O</th>\n      <th>10 % H2O</th>\n    </tr>\n    <tr>\n      <th>T [°C]</th>\n      <th></th>\n      <th></th>\n      <th></th>\n    </tr>\n  </thead>\n  <tbody>\n    <tr>\n      <th>0</th>\n      <td>12.2</td>\n      <td>12.20</td>\n      <td>12.2</td>\n    </tr>\n    <tr>\n      <th>100</th>\n      <td>21.3</td>\n      <td>21.42</td>\n      <td>21.5</td>\n    </tr>\n    <tr>\n      <th>200</th>\n      <td>31.8</td>\n      <td>32.40</td>\n      <td>32.8</td>\n    </tr>\n    <tr>\n      <th>300</th>\n      <td>45.0</td>\n      <td>45.48</td>\n      <td>45.8</td>\n    </tr>\n    <tr>\n      <th>400</th>\n      <td>59.2</td>\n      <td>59.92</td>\n      <td>60.4</td>\n    </tr>\n    <tr>\n      <th>500</th>\n      <td>74.6</td>\n      <td>75.62</td>\n      <td>76.3</td>\n    </tr>\n    <tr>\n      <th>600</th>\n      <td>91.4</td>\n      <td>92.72</td>\n      <td>93.6</td>\n    </tr>\n  </tbody>\n</table>\n</div>"
     },
     "metadata": {},
     "execution_count": 305
    }
   ],
   "source": [
    "nu_tabulka_print\n",
    "\n",
    "# print(nu_tabulka_print.to_latex())"
   ]
  },
  {
   "source": [
    "#### Tabulka Pr pro daný obsah vody"
   ],
   "cell_type": "markdown",
   "metadata": {}
  },
  {
   "cell_type": "code",
   "execution_count": 306,
   "metadata": {},
   "outputs": [],
   "source": [
    "Pr_0 = 0.69+(8-5)*((0.72-0.69)/(10-5))\n",
    "Pr_100 = 0.67+(8-5)*((0.69-0.67)/(10-5))\n",
    "Pr_200 = 0.65+(8-5)*((0.67-0.65)/(10-5))\n",
    "Pr_300 = 0.63+(8-5)*((0.65-0.63)/(10-5))\n",
    "Pr_400 = 0.62+(8-5)*((0.64-0.62)/(10-5))\n",
    "Pr_500 = 0.61+(8-5)*((0.63-0.61)/(10-5))\n",
    "Pr_600 = 0.60+(8-5)*((0.62-0.60)/(10-5))\n",
    "\n",
    "Pr_tabulka = pd.DataFrame(\n",
    "{\n",
    "        \"T [°C]\": (0,100,200,300,400,500,600),\n",
    "        \"5 % H2O\": (0.69,0.67,0.65,0.63,0.62,0.61,0.60),\n",
    "        \"8 % H2O\": (Pr_0,Pr_100,Pr_200,Pr_300,Pr_400,Pr_500,Pr_600),\n",
    "        \"10 % H2O\": (0.72,0.69,0.67,0.65,0.64,0.63,0.62),\n",
    "    }\n",
    ")\n",
    "Pr_tabulka_print = Pr_tabulka.set_index(Pr_tabulka.columns[0])"
   ]
  },
  {
   "cell_type": "code",
   "execution_count": 307,
   "metadata": {},
   "outputs": [
    {
     "output_type": "execute_result",
     "data": {
      "text/plain": [
       "        5 % H2O  8 % H2O  10 % H2O\n",
       "T [°C]                            \n",
       "0          0.69    0.708      0.72\n",
       "100        0.67    0.682      0.69\n",
       "200        0.65    0.662      0.67\n",
       "300        0.63    0.642      0.65\n",
       "400        0.62    0.632      0.64\n",
       "500        0.61    0.622      0.63\n",
       "600        0.60    0.612      0.62"
      ],
      "text/html": "<div>\n<style scoped>\n    .dataframe tbody tr th:only-of-type {\n        vertical-align: middle;\n    }\n\n    .dataframe tbody tr th {\n        vertical-align: top;\n    }\n\n    .dataframe thead th {\n        text-align: right;\n    }\n</style>\n<table border=\"1\" class=\"dataframe\">\n  <thead>\n    <tr style=\"text-align: right;\">\n      <th></th>\n      <th>5 % H2O</th>\n      <th>8 % H2O</th>\n      <th>10 % H2O</th>\n    </tr>\n    <tr>\n      <th>T [°C]</th>\n      <th></th>\n      <th></th>\n      <th></th>\n    </tr>\n  </thead>\n  <tbody>\n    <tr>\n      <th>0</th>\n      <td>0.69</td>\n      <td>0.708</td>\n      <td>0.72</td>\n    </tr>\n    <tr>\n      <th>100</th>\n      <td>0.67</td>\n      <td>0.682</td>\n      <td>0.69</td>\n    </tr>\n    <tr>\n      <th>200</th>\n      <td>0.65</td>\n      <td>0.662</td>\n      <td>0.67</td>\n    </tr>\n    <tr>\n      <th>300</th>\n      <td>0.63</td>\n      <td>0.642</td>\n      <td>0.65</td>\n    </tr>\n    <tr>\n      <th>400</th>\n      <td>0.62</td>\n      <td>0.632</td>\n      <td>0.64</td>\n    </tr>\n    <tr>\n      <th>500</th>\n      <td>0.61</td>\n      <td>0.622</td>\n      <td>0.63</td>\n    </tr>\n    <tr>\n      <th>600</th>\n      <td>0.60</td>\n      <td>0.612</td>\n      <td>0.62</td>\n    </tr>\n  </tbody>\n</table>\n</div>"
     },
     "metadata": {},
     "execution_count": 307
    }
   ],
   "source": [
    "Pr_tabulka_print\n",
    "\n",
    "# print(Pr_tabulka_print.to_latex())"
   ]
  },
  {
   "cell_type": "code",
   "execution_count": 308,
   "metadata": {},
   "outputs": [],
   "source": [
    "lambda_AB = lambda_interpolate(t_AB)\n",
    "nu_AB = nu_interpolate(t_AB)\n",
    "Pr_AB = Pr_interpolate(t_AB)"
   ]
  },
  {
   "cell_type": "code",
   "execution_count": 309,
   "metadata": {},
   "outputs": [],
   "source": [
    "lambda_AB = 0.057\n",
    "nu_AB = 8.937*10**-5\n",
    "Pr_AB = 0.707"
   ]
  },
  {
   "cell_type": "code",
   "execution_count": 310,
   "metadata": {},
   "outputs": [
    {
     "output_type": "display_data",
     "data": {
      "text/plain": "<IPython.core.display.Latex object>",
      "text/latex": "\\[\n\\begin{aligned}\n\\mathrm{lambda}_{AB} &= 0{,}057 \\; \n\\\\[10pt]\n\\nu_{AB} &= 8{,}937 \\times 10 ^ {-5 } \\; \n\\\\[10pt]\n\\mathrm{Pr}_{AB} &= 0{,}707 \\; \n\\end{aligned}\n\\]"
     },
     "metadata": {}
    }
   ],
   "source": [
    "%%render\n",
    "lambda_AB\n",
    "nu_AB\n",
    "Pr_AB"
   ]
  },
  {
   "source": [
    "Výpočet korekčního součinitele $c_s$"
   ],
   "cell_type": "markdown",
   "metadata": {}
  },
  {
   "cell_type": "code",
   "execution_count": 390,
   "metadata": {},
   "outputs": [
    {
     "output_type": "display_data",
     "data": {
      "text/plain": "<IPython.core.display.Latex object>",
      "text/latex": "\\[\n\\begin{aligned}\n\\sigma_{1} &= \\frac{ s_{1} }{ D }  = \\frac{ 0{,}088 }{ 4{,}450 \\times 10 ^ {-2 } } &= 1{,}978  \n\\end{aligned}\n\\]"
     },
     "metadata": {}
    }
   ],
   "source": [
    "%%render\n",
    "sigma_1 = s_1/D"
   ]
  },
  {
   "cell_type": "code",
   "execution_count": 360,
   "metadata": {},
   "outputs": [
    {
     "output_type": "display_data",
     "data": {
      "text/plain": "<IPython.core.display.Latex object>",
      "text/latex": "\\[\n\\begin{aligned}\n\\sigma_{2} &= \\frac{ s_{2} }{ D }  = \\frac{ 0{,}117 }{ 4{,}450 \\times 10 ^ {-2 } } &= 2{,}629  \n\\end{aligned}\n\\]"
     },
     "metadata": {}
    }
   ],
   "source": [
    "%%render\n",
    "sigma_2 = s_2/D"
   ]
  },
  {
   "cell_type": "code",
   "execution_count": 392,
   "metadata": {},
   "outputs": [
    {
     "output_type": "display_data",
     "data": {
      "text/plain": "<IPython.core.display.Latex object>",
      "text/latex": "\\[\n\\begin{aligned}\n\\sigma_{2_{carka}} &= \\sqrt { \\frac{ \\left( \\sigma_{1} \\right) ^{ 2 } }{ 4 } + \\left( \\sigma_{2} \\right) ^{ 2 } }  = \\sqrt { \\frac{ \\left( 1{,}978 \\right) ^{ 2 } }{ 4 } + \\left( 2{,}629 \\right) ^{ 2 } } &= 2{,}809  \n\\end{aligned}\n\\]"
     },
     "metadata": {}
    }
   ],
   "source": [
    "%%render\n",
    "sigma_2_carka = sqrt(((sigma_1)**2/4 + (sigma_2)**2))"
   ]
  },
  {
   "cell_type": "code",
   "execution_count": 394,
   "metadata": {},
   "outputs": [
    {
     "output_type": "display_data",
     "data": {
      "text/plain": "<IPython.core.display.Latex object>",
      "text/latex": "\\[\n\\begin{aligned}\n\\phi_{\\sigma} &= \\frac{ \\sigma_{1} - 1 }{ \\sigma_{2_{carka}} - 1 }  = \\frac{ 1{,}978 - 1 }{ 2{,}809 - 1 } &= 5{,}404 \\times 10 ^ {-1 }  \n\\end{aligned}\n\\]"
     },
     "metadata": {}
    }
   ],
   "source": [
    "%%render\n",
    "phi_sigma = (sigma_1-1)/(sigma_2_carka-1)"
   ]
  },
  {
   "cell_type": "code",
   "execution_count": 398,
   "metadata": {},
   "outputs": [],
   "source": [
    "# cs = Oprava na uspořádání svazku (pro phi_sigma € <0,1 - 1,7>)\n",
    "# Oprava na počet podélných řad, pro víc jak 10 trubek je C_z = 1"
   ]
  },
  {
   "cell_type": "code",
   "execution_count": 399,
   "metadata": {},
   "outputs": [
    {
     "output_type": "display_data",
     "data": {
      "text/plain": "<IPython.core.display.Latex object>",
      "text/latex": "\\[\n\\begin{aligned}\nc_{s} &= 0{,}34 \\cdot \\left( \\phi_{\\sigma} \\right) ^{ 0{,}1 }  = 0{,}34 \\cdot \\left( 5{,}404 \\times 10 ^ {-1 } \\right) ^{ 0{,}1 } &= 3{,}197 \\times 10 ^ {-1 }  \n\\\\[10pt]\nc_{z} &= 1 \\; \n\\end{aligned}\n\\]"
     },
     "metadata": {}
    }
   ],
   "source": [
    "%%render\n",
    "c_s = 0.34*phi_sigma**0.1\n",
    "c_z = 1"
   ]
  },
  {
   "cell_type": "code",
   "execution_count": 401,
   "metadata": {},
   "outputs": [
    {
     "output_type": "display_data",
     "data": {
      "text/plain": "<IPython.core.display.Latex object>",
      "text/latex": "\\[\n\\begin{aligned}\n\\alpha_{k} &= c_{s} \\cdot c_{z} \\cdot \\left( \\frac{ \\mathrm{lambda}_{AB} }{ D } \\right) \\cdot \\left( w_{sp} \\cdot \\frac{ D }{ \\nu_{AB} } \\right) ^{ 0{,}6 } \\cdot \\left( \\mathrm{Pr}_{AB} \\right) ^{ 0{,}33 } \\\\&= 3{,}197 \\times 10 ^ {-1 } \\cdot 1 \\cdot \\left( \\frac{ 0{,}057 }{ 4{,}450 \\times 10 ^ {-2 } } \\right) \\cdot \\left( 15{,}381 \\cdot \\frac{ 4{,}450 \\times 10 ^ {-2 } }{ 8{,}937 \\times 10 ^ {-5 } } \\right) ^{ 0{,}6 } \\cdot \\left( 0{,}707 \\right) ^{ 0{,}33 } \\\\&= 78{,}174 \\; \\;\\textrm{(W/m2K)}\\\\\n\\end{aligned}\n\\]"
     },
     "metadata": {}
    }
   ],
   "source": [
    "%%render\n",
    "alpha_k = c_s*c_z* (lambda_AB/D) * (w_sp*D/nu_AB)**0.6 * Pr_AB**0.33    #W/m2K"
   ]
  },
  {
   "source": [
    "Součinitel přestupu tepla sáláním $\\alpha_{sal}$"
   ],
   "cell_type": "markdown",
   "metadata": {}
  },
  {
   "cell_type": "code",
   "execution_count": 403,
   "metadata": {},
   "outputs": [
    {
     "output_type": "display_data",
     "data": {
      "text/plain": "<IPython.core.display.Latex object>",
      "text/latex": "\\[\n\\begin{aligned}\n\\epsilon_{st} &= 0{,}82 \\; \n\\\\[10pt]\n\\epsilon_{s} &= 0{,}074 \\; \n\\\\[10pt]\nT_{AB} &= t_{AB} + 273{,}15  = 555{,}5 + 273{,}15 &= 828{,}65 \\; \\;\\textrm{(K)}\n\\\\[10pt]\nT_{st} &= t_{21} + 273{,}15 + 25  = 351{,}366 + 273{,}15 + 25 &= 649{,}516 \\; \\;\\textrm{(K)}\n\\end{aligned}\n\\]"
     },
     "metadata": {}
    }
   ],
   "source": [
    "%%render\n",
    "# strana 621 ČERNÝ\n",
    "# epsilon_st = Součinitel emisivity povrchu výhřevné plochy\n",
    "# epsilon_s = Součinitel emisivity spalin\n",
    "# T_AB_s = teplota stěny je o 25 °C vyšší než teplota spalin\n",
    "# epsilon_s = 0.074 z konzultací\n",
    "epsilon_st = 0.82\n",
    "epsilon_s = 0.074\n",
    "T_AB = t_AB + 273.15    #K\n",
    "T_st = t_21 + 273.15 + 25     #K"
   ]
  },
  {
   "cell_type": "code",
   "execution_count": 405,
   "metadata": {},
   "outputs": [
    {
     "output_type": "display_data",
     "data": {
      "text/plain": "<IPython.core.display.Latex object>",
      "text/latex": "\\[\n\\begin{aligned}\n\\alpha_{sal} &= 5{,}68 \\cdot \\left( 10 \\right) ^{ -8 } \\cdot \\frac{ \\epsilon_{st} + 1 }{ 2 } \\cdot \\epsilon_{s} \\cdot \\left( T_{AB} \\right) ^{ 3 } \\cdot \\left( \\frac{ 1 - \\left( \\frac{ T_{st} }{ T_{AB} } \\right) ^{ 3{,}6 } }{ 1 - \\frac{ T_{st} }{ T_{AB} } } \\right) \\\\&= 5{,}68 \\cdot \\left( 10 \\right) ^{ -8 } \\cdot \\frac{ 0{,}82 + 1 }{ 2 } \\cdot 0{,}074 \\cdot \\left( 828{,}65 \\right) ^{ 3 } \\cdot \\left( \\frac{ 1 - \\left( \\frac{ 649{,}516 }{ 828{,}65 } \\right) ^{ 3{,}6 } }{ 1 - \\frac{ 649{,}516 }{ 828{,}65 } } \\right) \\\\&= 5{,}879 \\; \\;\\textrm{(W/m2K)}\\\\\n\\end{aligned}\n\\]"
     },
     "metadata": {}
    }
   ],
   "source": [
    "%%render\n",
    "alpha_sal = 5.68*10**-8 * (epsilon_st+1)/2 * epsilon_s * T_AB**3 * ( (1-(T_st/T_AB)**3.6) / (1-T_st/T_AB))    #W/m2K"
   ]
  },
  {
   "cell_type": "code",
   "execution_count": 407,
   "metadata": {},
   "outputs": [
    {
     "output_type": "display_data",
     "data": {
      "text/plain": "<IPython.core.display.Latex object>",
      "text/latex": "\\[\n\\begin{aligned}\n\\alpha_{1r} &= \\alpha_{k} + \\alpha_{sal}  = 78{,}174 + 5{,}879 &= 84{,}053 \\; \\;\\textrm{((W/m2K))}\n\\end{aligned}\n\\]"
     },
     "metadata": {}
    }
   ],
   "source": [
    "%%render\n",
    "alpha_1r = alpha_k + alpha_sal  #(W/m2K)"
   ]
  },
  {
   "source": [
    "### Výpočet součinitele přestupu tepla ze strany páry"
   ],
   "cell_type": "markdown",
   "metadata": {}
  },
  {
   "source": [
    "Určení termofyzikálních vlastností páry"
   ],
   "cell_type": "markdown",
   "metadata": {}
  },
  {
   "cell_type": "code",
   "execution_count": 408,
   "metadata": {},
   "outputs": [
    {
     "output_type": "display_data",
     "data": {
      "text/plain": "<IPython.core.display.Latex object>",
      "text/latex": "\\[\n\\begin{aligned}\n\\mathrm{lambda}_{21} &= 5{,}253 \\times 10 ^ {-2 } \\; \\;\\textrm{(W/mK)}\n &\\mu_{21} &= 2{,}225 \\times 10 ^ {-5 } \\; \\;\\textrm{(Pas)}\n &\\mathrm{Pr}_{21} &= 1{,}008 \\; \\;\\textrm{(-)}\n\\\\[10pt]\n \\nu_{21} &= 1{,}877 \\times 10 ^ {-6 } \\; \\;\\textrm{(m2/s)}\\end{aligned}\n\\]"
     },
     "metadata": {}
    }
   ],
   "source": [
    "%%render params\n",
    "\n",
    "lambda_21 = steam.tc_pt(p_21*10, t_21)  #W/mK\n",
    "mu_21 = steam.my_pt(p_21*10, t_21)      #Pas\n",
    "Pr_21 = steam.pr_pt(p_21*10, t_21)      #-\n",
    "nu_21 = mu_21*v_21                      #m2/s"
   ]
  },
  {
   "cell_type": "code",
   "execution_count": 410,
   "metadata": {},
   "outputs": [
    {
     "output_type": "display_data",
     "data": {
      "text/plain": "<IPython.core.display.Latex object>",
      "text/latex": "\\[\n\\begin{aligned}\n\\alpha_{2r} &= 0{,}023 \\cdot \\left( \\frac{ \\mathrm{lambda}_{21} }{ d } \\right) \\cdot \\left( \\frac{ w_{p} \\cdot d }{ \\nu_{21} } \\right) ^{ 0{,}8 } \\cdot \\left( \\mathrm{Pr}_{21} \\right) ^{ 0{,}4 } \\cdot c_{t} \\cdot c_{l} \\cdot c_{m} \\\\&= 0{,}023 \\cdot \\left( \\frac{ 5{,}253 \\times 10 ^ {-2 } }{ 3{,}870 \\times 10 ^ {-2 } } \\right) \\cdot \\left( \\frac{ 22{,}263 \\cdot 3{,}870 \\times 10 ^ {-2 } }{ 1{,}877 \\times 10 ^ {-6 } } \\right) ^{ 0{,}8 } \\cdot \\left( 1{,}008 \\right) ^{ 0{,}4 } \\cdot 1 \\cdot 1 \\cdot 1 \\\\&= 1059{,}923 \\; \\;\\textrm{(W/m2K)}\\\\\n\\end{aligned}\n\\]"
     },
     "metadata": {}
    }
   ],
   "source": [
    "%%render\n",
    "alpha_2r = 0.023*(lambda_21/d)*((w_p*d)/nu_21)**0.8*Pr_21**0.4*c_t*c_l*c_m  #W/m2K"
   ]
  },
  {
   "source": [
    "Korekce"
   ],
   "cell_type": "markdown",
   "metadata": {}
  },
  {
   "cell_type": "code",
   "execution_count": 411,
   "metadata": {},
   "outputs": [],
   "source": [
    "alpha_2r = 884.43   #W/m2K"
   ]
  },
  {
   "source": [
    "### Součinitel prostupu tepla"
   ],
   "cell_type": "markdown",
   "metadata": {}
  },
  {
   "cell_type": "code",
   "execution_count": 412,
   "metadata": {},
   "outputs": [
    {
     "output_type": "display_data",
     "data": {
      "text/plain": "<IPython.core.display.Latex object>",
      "text/latex": "\\[\n\\begin{aligned}\n\\psi &= 0{,}85 \\; \n\\end{aligned}\n\\]"
     },
     "metadata": {}
    }
   ],
   "source": [
    "%%render\n",
    "# součinitel tepelné efektivnosti (Pro plyny je 0.85 na všech plochách. DLOUHÝ, str. 125)\n",
    "psi = 0.85"
   ]
  },
  {
   "cell_type": "code",
   "execution_count": 414,
   "metadata": {},
   "outputs": [
    {
     "output_type": "display_data",
     "data": {
      "text/plain": "<IPython.core.display.Latex object>",
      "text/latex": "\\[\n\\begin{aligned}\nk &= \\frac{ \\psi \\cdot \\alpha_{1r} }{ 1 + \\frac{ \\alpha_{1r} }{ \\alpha_{2r} } }  = \\frac{ 0{,}85 \\cdot 84{,}053 }{ 1 + \\frac{ 84{,}053 }{ 884{,}43 } } &= 65{,}244 \\; \\;\\textrm{(W/m2K)}\n\\end{aligned}\n\\]"
     },
     "metadata": {}
    }
   ],
   "source": [
    "%%render\n",
    "k = (psi*alpha_1r)/(1+alpha_1r/alpha_2r)  #W/m2K"
   ]
  },
  {
   "cell_type": "code",
   "execution_count": 415,
   "metadata": {},
   "outputs": [],
   "source": [
    "k = 73.8"
   ]
  },
  {
   "source": [
    "### Počet řad přehříváku 2"
   ],
   "cell_type": "markdown",
   "metadata": {}
  },
  {
   "source": [
    "Rozdíly teplot pro výpočet středního logaritmického spádu:"
   ],
   "cell_type": "markdown",
   "metadata": {}
  },
  {
   "cell_type": "code",
   "execution_count": 417,
   "metadata": {},
   "outputs": [
    {
     "output_type": "display_data",
     "data": {
      "text/plain": "<IPython.core.display.Latex object>",
      "text/latex": "\\[\n\\begin{aligned}\n\\Delta_{t_{1}} &= t_{A} - t_{1}  = 562{,}0 - 370 &= 192{,}0  \n\\\\[10pt]\n\\Delta_{t_{2}} &= t_{B} - t_{2}  = 549 - 332{,}731 &= 216{,}269  \n\\end{aligned}\n\\]"
     },
     "metadata": {}
    }
   ],
   "source": [
    "%%render\n",
    "Delta_t_1 = t_A-t_1\n",
    "Delta_t_2 = t_B-t_2"
   ]
  },
  {
   "source": [
    "Střední logaritmický teplotní spád"
   ],
   "cell_type": "markdown",
   "metadata": {}
  },
  {
   "cell_type": "code",
   "execution_count": 418,
   "metadata": {},
   "outputs": [
    {
     "output_type": "display_data",
     "data": {
      "text/plain": "<IPython.core.display.Latex object>",
      "text/latex": "\\[\n\\begin{aligned}\n\\Delta_{t_{LN}} &= \\frac{ \\Delta_{t_{1}} - \\Delta_{t_{2}} }{ \\ln \\left( \\frac{ \\Delta_{t_{1}} }{ \\Delta_{t_{2}} } \\right) }  = \\frac{ 192{,}0 - 216{,}269 }{ \\ln \\left( \\frac{ 192{,}0 }{ 216{,}269 } \\right) } &= 203{,}894 \\; \\;\\textrm{(K)}\n\\end{aligned}\n\\]"
     },
     "metadata": {}
    }
   ],
   "source": [
    "%%render\n",
    "Delta_t_LN = (Delta_t_1-Delta_t_2)/log(Delta_t_1/Delta_t_2) #K"
   ]
  },
  {
   "source": [
    "Vnější teplosměnná plocha"
   ],
   "cell_type": "markdown",
   "metadata": {}
  },
  {
   "cell_type": "code",
   "execution_count": 421,
   "metadata": {},
   "outputs": [
    {
     "output_type": "display_data",
     "data": {
      "text/plain": "<IPython.core.display.Latex object>",
      "text/latex": "\\[\n\\begin{aligned}\nS_{SP} &= \\frac{ 1000 \\cdot Q_{P2} }{ k \\cdot \\Delta_{t_{LN}} }  = \\frac{ 1000 \\cdot 1983{,}329 }{ 73{,}8 \\cdot 203{,}894 } &= 131{,}806 \\; \\;\\textrm{(m2)}\n\\end{aligned}\n\\]"
     },
     "metadata": {}
    }
   ],
   "source": [
    "%%render\n",
    "S_SP = (1000*Q_P2)/(k*Delta_t_LN)   #m2"
   ]
  },
  {
   "source": [
    "Vnější povrch jedné 1 m dlouhé trubky"
   ],
   "cell_type": "markdown",
   "metadata": {}
  },
  {
   "cell_type": "code",
   "execution_count": 423,
   "metadata": {},
   "outputs": [
    {
     "output_type": "display_data",
     "data": {
      "text/plain": "<IPython.core.display.Latex object>",
      "text/latex": "\\[\n\\begin{aligned}\nS_{1m} &= \\pi \\cdot D  = 3{,}142 \\cdot 4{,}450 \\times 10 ^ {-2 } &= 1{,}398 \\times 10 ^ {-1 } \\; \\;\\textrm{(m2)}\n\\end{aligned}\n\\]"
     },
     "metadata": {}
    }
   ],
   "source": [
    "%%render\n",
    "S_1m = pi*D #m2"
   ]
  },
  {
   "source": [
    "Počet řad"
   ],
   "cell_type": "markdown",
   "metadata": {}
  },
  {
   "cell_type": "code",
   "execution_count": 425,
   "metadata": {},
   "outputs": [
    {
     "output_type": "display_data",
     "data": {
      "text/plain": "<IPython.core.display.Latex object>",
      "text/latex": "\\[\n\\begin{aligned}\nn_{rad} &= \\frac{ S_{SP} }{ H \\cdot S_{1m} \\cdot n_{tr} }  = \\frac{ 131{,}806 }{ 13{,}6 \\cdot 1{,}398 \\times 10 ^ {-1 } \\cdot 34{,}0 } &= 2{,}039  \n\\end{aligned}\n\\]"
     },
     "metadata": {}
    }
   ],
   "source": [
    "%%render\n",
    "n_rad = S_SP/(H*S_1m*n_tr)"
   ]
  },
  {
   "cell_type": "code",
   "execution_count": 426,
   "metadata": {},
   "outputs": [],
   "source": [
    "n_rad = round(n_rad,0)"
   ]
  },
  {
   "source": [
    "### Skutečné hodnoty"
   ],
   "cell_type": "markdown",
   "metadata": {}
  },
  {
   "source": [
    "Plocha"
   ],
   "cell_type": "markdown",
   "metadata": {}
  },
  {
   "cell_type": "code",
   "execution_count": 428,
   "metadata": {},
   "outputs": [
    {
     "output_type": "display_data",
     "data": {
      "text/plain": "<IPython.core.display.Latex object>",
      "text/latex": "\\[\n\\begin{aligned}\nS_{SP_{skut}} &= n_{rad} \\cdot n_{tr} \\cdot H \\cdot S_{1m}  = 2{,}0 \\cdot 34{,}0 \\cdot 13{,}6 \\cdot 1{,}398 \\times 10 ^ {-1 } &= 129{,}288 \\; \\;\\textrm{(m2)}\n\\end{aligned}\n\\]"
     },
     "metadata": {}
    }
   ],
   "source": [
    "%%render\n",
    "S_SP_skut = n_rad*n_tr*H*S_1m   #m2"
   ]
  },
  {
   "source": [
    "Teplo"
   ],
   "cell_type": "markdown",
   "metadata": {}
  },
  {
   "cell_type": "code",
   "execution_count": 430,
   "metadata": {},
   "outputs": [
    {
     "output_type": "display_data",
     "data": {
      "text/plain": "<IPython.core.display.Latex object>",
      "text/latex": "\\[\n\\begin{aligned}\nQ_{P2_{skut}} &= \\frac{ k \\cdot S_{SP_{skut}} \\cdot \\Delta_{t_{LN}} }{ 1000 }  = \\frac{ 73{,}8 \\cdot 129{,}288 \\cdot 203{,}894 }{ 1000 } &= 1945{,}441 \\; \\;\\textrm{(kW)}\n\\end{aligned}\n\\]"
     },
     "metadata": {}
    }
   ],
   "source": [
    "%%render\n",
    "Q_P2_skut = (k*S_SP_skut*Delta_t_LN)/1000   #kW"
   ]
  },
  {
   "source": [
    "Kontrola (rozdíl tepel nesmí překročit 5 %)"
   ],
   "cell_type": "markdown",
   "metadata": {}
  },
  {
   "cell_type": "code",
   "execution_count": 437,
   "metadata": {},
   "outputs": [
    {
     "output_type": "display_data",
     "data": {
      "text/plain": "<IPython.core.display.Latex object>",
      "text/latex": "\\[\n\\begin{aligned}\n\\Delta_{Qcon} &= 100 \\cdot \\operatorname{abs} { \\left( \\frac{ Q_{P2_{skut}} - Q_{P2} }{ Q_{P2_{skut}} } \\right) }  = 100 \\cdot \\operatorname{abs} { \\left( \\frac{ 1945{,}441 - 1983{,}329 }{ 1945{,}441 } \\right) } &= 1{,}948 \\; \\;\\textrm{(%)}\n\\end{aligned}\n\\]"
     },
     "metadata": {}
    }
   ],
   "source": [
    "%%render\n",
    "Delta_Qcon = 100*(abs((Q_P2_skut-Q_P2)/Q_P2_skut))    #%"
   ]
  },
  {
   "source": [
    "#### Skutečné parametry spalin v bodě B"
   ],
   "cell_type": "markdown",
   "metadata": {}
  },
  {
   "cell_type": "code",
   "execution_count": 433,
   "metadata": {},
   "outputs": [
    {
     "output_type": "display_data",
     "data": {
      "text/plain": "<IPython.core.display.Latex object>",
      "text/latex": "\\[\n\\begin{aligned}\nI_{B_{skut}} &= I_{A_{sp}} - \\frac{ Q_{P2_{skut}} }{ V_{sp} \\cdot \\left( 1 - z_{s} \\right) }  = 782{,}789 - \\frac{ 1945{,}441 }{ 102{,}534 \\cdot \\left( 1 - 3{,}072 \\times 10 ^ {-3 } \\right) } &= 763{,}757 \\; \\;\\textrm{(kJ/m3)}\n\\end{aligned}\n\\]"
     },
     "metadata": {}
    }
   ],
   "source": [
    "%%render\n",
    "I_B_skut = I_A_sp - Q_P2_skut/(V_sp*(1-z_s))    #kJ/m3"
   ]
  },
  {
   "cell_type": "code",
   "execution_count": 435,
   "metadata": {},
   "outputs": [
    {
     "output_type": "display_data",
     "data": {
      "text/plain": "<IPython.core.display.Latex object>",
      "text/latex": "\\[\n\\begin{aligned}\nT_{B_{skut}} &= 500 + \\left( 600 - 500 \\right) &= 548{,}86 \\; \\;\\textrm{(°C)}\n\\end{aligned}\n\\]"
     },
     "metadata": {}
    }
   ],
   "source": [
    "%%render\n",
    "T_B_skut = 500 + (600-500)*((I_B_skut-entalpie_sp(500,'m3n')['sp'])/(entalpie_sp(600,'m3n')['sp']-entalpie_sp(500,'m3n')['sp']))    #°C"
   ]
  },
  {
   "source": [
    "Kontrola - teploty se nesmí lišit o více jak 3°C"
   ],
   "cell_type": "markdown",
   "metadata": {}
  },
  {
   "cell_type": "code",
   "execution_count": 439,
   "metadata": {},
   "outputs": [
    {
     "output_type": "display_data",
     "data": {
      "text/plain": "<IPython.core.display.Latex object>",
      "text/latex": "\\[\n\\begin{aligned}\n\\Delta_{Tcon} &= \\operatorname{abs} { \\left( T_{B_{skut}} - t_{B} \\right) }  = \\operatorname{abs} { \\left( 548{,}86 - 549 \\right) } &= 1{,}405 \\times 10 ^ {-1 } \\; \\;\\textrm{(°C)}\n\\end{aligned}\n\\]"
     },
     "metadata": {}
    }
   ],
   "source": [
    "%%render\n",
    "Delta_Tcon = abs(T_B_skut-t_B)  #°C"
   ]
  },
  {
   "cell_type": "code",
   "execution_count": 440,
   "metadata": {},
   "outputs": [],
   "source": [
    "MEZERA = ''\n",
    "material = '10CrMo9-10'\n",
    "material_z = '-'\n",
    "data_P2 = {\n",
    "    'Hodnota':\n",
    "    [1000*D,1000*t_tr,1000*d,1000*h_z,1000*t_z,1000*s_z, n_z,1000*s_1,1000*s_2,S_1m,S_SP, MEZERA,alpha_k,psi,alpha_2r,k,Delta_t_LN,MEZERA,Delta_Qcon,Delta_Tcon,MEZERA,n_tr,n_rad,material,material_z],\n",
    "\n",
    "    'Jednotka': \n",
    "    ['mm','mm','mm','mm','mm','mm','-','mm','mm','m2','m2',MEZERA,'kW/m2K','-','kW/m2K','kW/m2K','K',MEZERA,'%','K',MEZERA,'-','-','-','-']\n",
    "\n",
    "    }\n",
    "zkratky = ['D','t_tr','d','h_z','t_z','s_z','n_z','s_1','s_2','S_1m','S_SP',MEZERA,'alpha_k','psi','alpha_2r','k','Delta_t_LN',MEZERA,'Delta_Qcon','Delta_Tcon',MEZERA,'n_tr','n_rad','Materiál','Materiál žebra']\n",
    "output_table = pd.DataFrame(data_P2, index = zkratky)"
   ]
  },
  {
   "cell_type": "code",
   "execution_count": 442,
   "metadata": {},
   "outputs": [
    {
     "output_type": "execute_result",
     "data": {
      "text/plain": [
       "                   Hodnota Jednotka\n",
       "D                     44.5       mm\n",
       "t_tr                   2.9       mm\n",
       "d                     38.7       mm\n",
       "h_z                      0       mm\n",
       "t_z                      0       mm\n",
       "s_z                      0       mm\n",
       "n_z                      0        -\n",
       "s_1                     88       mm\n",
       "s_2                    117       mm\n",
       "S_1m                  0.14       m2\n",
       "S_SP                   132       m2\n",
       "                                   \n",
       "alpha_k               78.2   kW/m2K\n",
       "psi                   0.85        -\n",
       "alpha_2r               884   kW/m2K\n",
       "k                     73.8   kW/m2K\n",
       "Delta_t_LN             204        K\n",
       "                                   \n",
       "Delta_Qcon            1.95        %\n",
       "Delta_Tcon            0.14        K\n",
       "                                   \n",
       "n_tr                    34        -\n",
       "n_rad                    2        -\n",
       "Materiál        10CrMo9-10        -\n",
       "Materiál žebra           -        -"
      ],
      "text/html": "<div>\n<style scoped>\n    .dataframe tbody tr th:only-of-type {\n        vertical-align: middle;\n    }\n\n    .dataframe tbody tr th {\n        vertical-align: top;\n    }\n\n    .dataframe thead th {\n        text-align: right;\n    }\n</style>\n<table border=\"1\" class=\"dataframe\">\n  <thead>\n    <tr style=\"text-align: right;\">\n      <th></th>\n      <th>Hodnota</th>\n      <th>Jednotka</th>\n    </tr>\n  </thead>\n  <tbody>\n    <tr>\n      <th>D</th>\n      <td>44.5</td>\n      <td>mm</td>\n    </tr>\n    <tr>\n      <th>t_tr</th>\n      <td>2.9</td>\n      <td>mm</td>\n    </tr>\n    <tr>\n      <th>d</th>\n      <td>38.7</td>\n      <td>mm</td>\n    </tr>\n    <tr>\n      <th>h_z</th>\n      <td>0</td>\n      <td>mm</td>\n    </tr>\n    <tr>\n      <th>t_z</th>\n      <td>0</td>\n      <td>mm</td>\n    </tr>\n    <tr>\n      <th>s_z</th>\n      <td>0</td>\n      <td>mm</td>\n    </tr>\n    <tr>\n      <th>n_z</th>\n      <td>0</td>\n      <td>-</td>\n    </tr>\n    <tr>\n      <th>s_1</th>\n      <td>88</td>\n      <td>mm</td>\n    </tr>\n    <tr>\n      <th>s_2</th>\n      <td>117</td>\n      <td>mm</td>\n    </tr>\n    <tr>\n      <th>S_1m</th>\n      <td>0.14</td>\n      <td>m2</td>\n    </tr>\n    <tr>\n      <th>S_SP</th>\n      <td>132</td>\n      <td>m2</td>\n    </tr>\n    <tr>\n      <th></th>\n      <td></td>\n      <td></td>\n    </tr>\n    <tr>\n      <th>alpha_k</th>\n      <td>78.2</td>\n      <td>kW/m2K</td>\n    </tr>\n    <tr>\n      <th>psi</th>\n      <td>0.85</td>\n      <td>-</td>\n    </tr>\n    <tr>\n      <th>alpha_2r</th>\n      <td>884</td>\n      <td>kW/m2K</td>\n    </tr>\n    <tr>\n      <th>k</th>\n      <td>73.8</td>\n      <td>kW/m2K</td>\n    </tr>\n    <tr>\n      <th>Delta_t_LN</th>\n      <td>204</td>\n      <td>K</td>\n    </tr>\n    <tr>\n      <th></th>\n      <td></td>\n      <td></td>\n    </tr>\n    <tr>\n      <th>Delta_Qcon</th>\n      <td>1.95</td>\n      <td>%</td>\n    </tr>\n    <tr>\n      <th>Delta_Tcon</th>\n      <td>0.14</td>\n      <td>K</td>\n    </tr>\n    <tr>\n      <th></th>\n      <td></td>\n      <td></td>\n    </tr>\n    <tr>\n      <th>n_tr</th>\n      <td>34</td>\n      <td>-</td>\n    </tr>\n    <tr>\n      <th>n_rad</th>\n      <td>2</td>\n      <td>-</td>\n    </tr>\n    <tr>\n      <th>Materiál</th>\n      <td>10CrMo9-10</td>\n      <td>-</td>\n    </tr>\n    <tr>\n      <th>Materiál žebra</th>\n      <td>-</td>\n      <td>-</td>\n    </tr>\n  </tbody>\n</table>\n</div>"
     },
     "metadata": {},
     "execution_count": 442
    }
   ],
   "source": [
    "output_table\n",
    "\n",
    "# print(output_table.to_latex())"
   ]
  },
  {
   "cell_type": "code",
   "execution_count": null,
   "metadata": {},
   "outputs": [],
   "source": []
  }
 ],
 "metadata": {
  "kernelspec": {
   "name": "python381jvsc74a57bd05d51d6ae34598c0fb6c991a1d00f12281f94b7bdfbe904ddf7a4d1c958631cdc",
   "display_name": "Python 3.8.1 64-bit"
  },
  "language_info": {
   "codemirror_mode": {
    "name": "ipython",
    "version": 3
   },
   "file_extension": ".py",
   "mimetype": "text/x-python",
   "name": "python",
   "nbconvert_exporter": "python",
   "pygments_lexer": "ipython3",
   "version": "3.8.1"
  }
 },
 "nbformat": 4,
 "nbformat_minor": 4
}