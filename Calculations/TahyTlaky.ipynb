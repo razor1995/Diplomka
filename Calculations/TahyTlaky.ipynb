{
 "metadata": {
  "language_info": {
   "codemirror_mode": {
    "name": "ipython",
    "version": 3
   },
   "file_extension": ".py",
   "mimetype": "text/x-python",
   "name": "python",
   "nbconvert_exporter": "python",
   "pygments_lexer": "ipython3",
   "version": "3.8.1"
  },
  "orig_nbformat": 2,
  "kernelspec": {
   "name": "python381jvsc74a57bd05d51d6ae34598c0fb6c991a1d00f12281f94b7bdfbe904ddf7a4d1c958631cdc",
   "display_name": "Python 3.8.1 64-bit"
  }
 },
 "nbformat": 4,
 "nbformat_minor": 2,
 "cells": [
  {
   "cell_type": "code",
   "execution_count": 8,
   "metadata": {},
   "outputs": [],
   "source": [
    "import pandas as pd\n",
    "import handcalcs.render\n",
    "from math import pi, sqrt\n",
    "from pyXSteam.XSteam import XSteam\n",
    "\n",
    "steam = XSteam(XSteam.UNIT_SYSTEM_MKS) # Jednotky: m/kg/sec/°C/bar/W\n",
    "pd.set_option(\"display.precision\", 4)\n",
    "%decimal_separator ,"
   ]
  },
  {
   "cell_type": "code",
   "execution_count": 50,
   "metadata": {},
   "outputs": [],
   "source": [
    "def nu_interpolate(teplota):\n",
    "    t_min = (int(teplota/100))*100\n",
    "    t_max = (int(teplota/100)+1)*100\n",
    "\n",
    "    nu_init = float(nu_tabulka_print.loc[t_min,\"8 % H2O\"])\n",
    "    delta_T = teplota-t_min\n",
    "    delta_nu = nu_tabulka_print.loc[t_max,\"8 % H2O\"]-nu_tabulka_print.loc[t_min,\"8 % H2O\"]\n",
    "    vysledek = (nu_init + delta_T*(delta_nu/(t_max-t_min)))*10**-6\n",
    "    return vysledek"
   ]
  },
  {
   "cell_type": "code",
   "execution_count": 51,
   "metadata": {},
   "outputs": [],
   "source": [
    "nu_0 = 12.2+(8-5)*((12.2-12.2)/(10-5))\n",
    "nu_100 = 21.3+(8-5)*((21.5-21.3)/(10-5))\n",
    "nu_200 = 31.8+(8-5)*((32.8-31.8)/(10-5))\n",
    "nu_300 = 45.0+(8-5)*((45.8-45.0)/(10-5))\n",
    "nu_400 = 59.2+(8-5)*((60.4-59.2)/(10-5))\n",
    "nu_500 = 74.6+(8-5)*((76.3-74.6)/(10-5))\n",
    "nu_600 = 91.4+(8-5)*((93.6-91.4)/(10-5))\n",
    "\n",
    "nu_tabulka = pd.DataFrame(\n",
    "{\n",
    "        \"T [°C]\": (0,100,200,300,400,500,600),\n",
    "        \"5 % H2O\": (12.2,21.3,31.8,45.0,59.2,74.6,91.4),\n",
    "        \"8 % H2O\": (nu_0,nu_100,nu_200,nu_300,nu_400,nu_500,nu_600),\n",
    "        \"10 % H2O\": (12.2,21.5,32.8,45.8,60.4,76.3,93.6),\n",
    "    }\n",
    ")\n",
    "nu_tabulka_print = nu_tabulka.set_index(nu_tabulka.columns[0])"
   ]
  },
  {
   "source": [
    "Ekvivalentní průměr spalinového kanálu"
   ],
   "cell_type": "markdown",
   "metadata": {}
  },
  {
   "cell_type": "code",
   "execution_count": 3,
   "metadata": {},
   "outputs": [],
   "source": [
    "H = 13.6\n",
    "sirka = 3"
   ]
  },
  {
   "cell_type": "code",
   "execution_count": 5,
   "metadata": {},
   "outputs": [
    {
     "output_type": "display_data",
     "data": {
      "text/plain": "<IPython.core.display.Latex object>",
      "text/latex": "\\[\n\\begin{aligned}\nd_{E} &= \\frac{ 4 \\cdot \\mathrm{sirka} \\cdot H }{ 2 \\cdot \\left( H + \\mathrm{sirka} \\right) }  = \\frac{ 4 \\cdot 3 \\cdot 13.6 }{ 2 \\cdot \\left( 13.6 + 3 \\right) } &= 4.916 \\; \\;\\textrm{(m)}\n\\end{aligned}\n\\]"
     },
     "metadata": {}
    }
   ],
   "source": [
    "%%render\n",
    "d_E = (4*sirka*H) / (2*(H+sirka))   #m"
   ]
  },
  {
   "source": [
    "### TABULKA"
   ],
   "cell_type": "markdown",
   "metadata": {}
  },
  {
   "cell_type": "code",
   "execution_count": 83,
   "metadata": {},
   "outputs": [],
   "source": [
    "rho_sp = 1.26885344 #kg/m3\n",
    "m_sp = 130.1    #kg/s\n",
    "V_sp = m_sp/rho_sp #m3n/s\n",
    "\n",
    "#Teploty\n",
    "\n",
    "t1 = 370\n",
    "t2 = 332.7\n",
    "t3 = 348\n",
    "t4 = 240.6\n",
    "t5 = 240.6\n",
    "t6 = 236\n",
    "t7 = 217\n",
    "t8 = 71\n",
    "\n",
    "tA = 562.0\n",
    "tB = 549.0\n",
    "tC = 507.0\n",
    "tD = 366.0\n",
    "tE = 254.0\n",
    "tF = 241.0\n",
    "tG = 145.0"
   ]
  },
  {
   "cell_type": "code",
   "execution_count": 54,
   "metadata": {},
   "outputs": [],
   "source": [
    "D_P2 = 0.0445\n",
    "D_P1 = 0.0445\n",
    "D_V2 = 0.0380\n",
    "D_V1 = 0.0380\n",
    "D_EKO2 = 0.0318\n",
    "D_EKO1 = 0.0318\n",
    "\n",
    "h_P2 = 0\n",
    "h_P1 = 0.007\n",
    "h_V2 = 0.010\n",
    "h_V1 = 0.016\n",
    "h_EKO2 = 0.016\n",
    "h_EKO1 = 0.016\n",
    "\n",
    "s_P2 = 0\n",
    "s_P1 = 0.005\n",
    "s_V2 = 0.0044\n",
    "s_V1 = 0.0044\n",
    "s_EKO1 = 0.0044\n",
    "s_EKO2 = 0.0044\n",
    "\n",
    "n_P2 = 2\n",
    "n_P1 = 2\n",
    "n_V2 = 6\n",
    "n_V1 = 12\n",
    "n_EKO2 = 5\n",
    "n_EKO1 = 16\n",
    "\n",
    "# teploty na stěně\n",
    "T_P2 = (t1+t2)/2 + 25\n",
    "T_P1 = (t3+t4)/2 + 25\n",
    "T_V2 = (t4+t5)/2 + 25\n",
    "T_V1 = (t4+t5)/2 + 25\n",
    "T_EKO2 = (t6+t7)/2 + 25\n",
    "T_EKO1 = (t7+t8)/2 + 25\n",
    "\n",
    "#rychlosti spalin, viskozity a Reynolds\n",
    "w_P2 = 15.9\n",
    "t_AB = (tA+tB)/2\n",
    "nu_P2 = nu_interpolate(t_AB+25)\n",
    "Re_P2 = w_P2*d_E/nu_P2\n",
    "\n",
    "w_P1 = 15.381\n",
    "t_BC = (tB+tC)/2\n",
    "nu_P2 = nu_interpolate(t_BC+25)\n",
    "Re_P1 = w_P1*d_E/nu_P1\n",
    "\n",
    "w_V2 = 11.294\n",
    "t_CD = (tC+tD)/2\n",
    "nu_P2 = nu_interpolate(t_CD+25)\n",
    "Re_V2 = w_V2*d_E/nu_V2\n",
    "\n",
    "w_V1 = 12.679\n",
    "t_DE = (tD+tE)/2\n",
    "nu_P2 = nu_interpolate(t_DE+25)\n",
    "Re_V1 = w_V1*d_E/nu_V1\n",
    "\n",
    "w_EKO2 = 8.491\n",
    "t_EF = (tE+tF)/2\n",
    "nu_P2 = nu_interpolate(t_EF+25)\n",
    "Re_EKO2 = w_EKO2*d_E/nu_EKO2\n",
    "\n",
    "w_EKO1 = 7.602\n",
    "t_FG = (tF+tG)/2\n",
    "nu_P2 = nu_interpolate(t_FG+25)\n",
    "Re_EKO1 = w_EKO1*d_E/nu_EKO1"
   ]
  },
  {
   "cell_type": "code",
   "execution_count": 55,
   "metadata": {},
   "outputs": [],
   "source": [
    "data_protlaky = {\n",
    "    # 'Plocha':\n",
    "    # [\"Přehřívák 2\", \"Přehřívák 1\", \"Výparník 2\", \"Výparník 1\", \"Ekonomizér 2\", \"Ekonomizér 1\"],\n",
    "\n",
    "    'Průměr trubky [mm]':\n",
    "    [D_P2, D_P1, D_V2, D_V1, D_EKO2, D_EKO1],\n",
    "\n",
    "    'Výška zebra [mm]':\n",
    "    [h_P2, h_P1, h_V2, h_V1, h_EKO2, h_EKO1],\n",
    "\n",
    "    'Rozteč žebra [mm]':\n",
    "    [s_P2, s_P1, s_V2, s_V1, s_EKO2, s_EKO1],\n",
    "\n",
    "    'Počet řad [-]':\n",
    "    [n_P2, n_P1, n_V2, n_V1, n_EKO2, n_EKO1],\n",
    "\n",
    "    'Teplota povrchu stěny [°C]': \n",
    "    [T_P2, T_P1, T_V2, T_V1, T_EKO2, T_EKO1],\n",
    "\n",
    "    'Re [-]':\n",
    "    [Re_P2, Re_P1, Re_V2, Re_V1, Re_EKO2, Re_EKO1]\n",
    "\n",
    "    }\n",
    "zkratky = [\"Přehřívák 2\", \"Přehřívák 1\", \"Výparník 2\", \"Výparník 1\", \"Ekonomizér 2\", \"Ekonomizér 1\"]\n",
    "output_table = pd.DataFrame(data_protlaky, index = zkratky)"
   ]
  },
  {
   "cell_type": "code",
   "execution_count": 56,
   "metadata": {},
   "outputs": [
    {
     "output_type": "execute_result",
     "data": {
      "text/plain": [
       "              Průměr trubky [mm]  Výška zebra [mm]  Rozteč žebra [mm]  \\\n",
       "Přehřívák 2               0.0445             0.000             0.0000   \n",
       "Přehřívák 1               0.0445             0.007             0.0050   \n",
       "Výparník 2                0.0380             0.010             0.0044   \n",
       "Výparník 1                0.0380             0.016             0.0044   \n",
       "Ekonomizér 2              0.0318             0.016             0.0044   \n",
       "Ekonomizér 1              0.0318             0.016             0.0044   \n",
       "\n",
       "              Počet řad [-]  Teplota povrchu stěny [°C]      Re [-]  \n",
       "Přehřívák 2               2                      376.35  8.7440e+05  \n",
       "Přehřívák 1               2                      319.30  9.7722e+05  \n",
       "Výparník 2                6                      265.60  1.1832e+06  \n",
       "Výparník 1               12                      265.60  8.9838e+05  \n",
       "Ekonomizér 2              5                      251.50  1.0810e+06  \n",
       "Ekonomizér 1             16                      169.00  1.1814e+06  "
      ],
      "text/html": "<div>\n<style scoped>\n    .dataframe tbody tr th:only-of-type {\n        vertical-align: middle;\n    }\n\n    .dataframe tbody tr th {\n        vertical-align: top;\n    }\n\n    .dataframe thead th {\n        text-align: right;\n    }\n</style>\n<table border=\"1\" class=\"dataframe\">\n  <thead>\n    <tr style=\"text-align: right;\">\n      <th></th>\n      <th>Průměr trubky [mm]</th>\n      <th>Výška zebra [mm]</th>\n      <th>Rozteč žebra [mm]</th>\n      <th>Počet řad [-]</th>\n      <th>Teplota povrchu stěny [°C]</th>\n      <th>Re [-]</th>\n    </tr>\n  </thead>\n  <tbody>\n    <tr>\n      <th>Přehřívák 2</th>\n      <td>0.0445</td>\n      <td>0.000</td>\n      <td>0.0000</td>\n      <td>2</td>\n      <td>376.35</td>\n      <td>8.7440e+05</td>\n    </tr>\n    <tr>\n      <th>Přehřívák 1</th>\n      <td>0.0445</td>\n      <td>0.007</td>\n      <td>0.0050</td>\n      <td>2</td>\n      <td>319.30</td>\n      <td>9.7722e+05</td>\n    </tr>\n    <tr>\n      <th>Výparník 2</th>\n      <td>0.0380</td>\n      <td>0.010</td>\n      <td>0.0044</td>\n      <td>6</td>\n      <td>265.60</td>\n      <td>1.1832e+06</td>\n    </tr>\n    <tr>\n      <th>Výparník 1</th>\n      <td>0.0380</td>\n      <td>0.016</td>\n      <td>0.0044</td>\n      <td>12</td>\n      <td>265.60</td>\n      <td>8.9838e+05</td>\n    </tr>\n    <tr>\n      <th>Ekonomizér 2</th>\n      <td>0.0318</td>\n      <td>0.016</td>\n      <td>0.0044</td>\n      <td>5</td>\n      <td>251.50</td>\n      <td>1.0810e+06</td>\n    </tr>\n    <tr>\n      <th>Ekonomizér 1</th>\n      <td>0.0318</td>\n      <td>0.016</td>\n      <td>0.0044</td>\n      <td>16</td>\n      <td>169.00</td>\n      <td>1.1814e+06</td>\n    </tr>\n  </tbody>\n</table>\n</div>"
     },
     "metadata": {},
     "execution_count": 56
    }
   ],
   "source": [
    "output_table\n",
    "\n",
    "# print(output_table.to_latex())"
   ]
  },
  {
   "source": [
    "Součinitele závislé na uspořádání trubek - vše z Dlouhého skript"
   ],
   "cell_type": "markdown",
   "metadata": {}
  },
  {
   "cell_type": "code",
   "execution_count": 57,
   "metadata": {},
   "outputs": [
    {
     "output_type": "display_data",
     "data": {
      "text/plain": "<IPython.core.display.Latex object>",
      "text/latex": "\\[\n\\begin{aligned}\nk_{0} &= 2{,}7 \\; \n\\\\[10pt]\nk_{1} &= 0{,}0 \\; \n\\\\[10pt]\nk_{2} &= 0{,}72 \\; \n\\\\[10pt]\nk_{3} &= 0{,}24 \\; \n\\end{aligned}\n\\]"
     },
     "metadata": {}
    }
   ],
   "source": [
    "%%render\n",
    "k_0 = 2.70\n",
    "k_1 = 0.00\n",
    "k_2 = 0.72\n",
    "k_3 = 0.24"
   ]
  },
  {
   "source": [
    "#### Součinitel tlakové ztráty pro svazek žebrovaných trubek při kolmém proudění"
   ],
   "cell_type": "markdown",
   "metadata": {}
  },
  {
   "source": [
    "#### Přehřívák 2"
   ],
   "cell_type": "markdown",
   "metadata": {}
  },
  {
   "source": [
    "Součinitel tlakové ztráty $\\zeta$"
   ],
   "cell_type": "markdown",
   "metadata": {}
  },
  {
   "cell_type": "code",
   "execution_count": 59,
   "metadata": {},
   "outputs": [],
   "source": [
    "h_P2 = 0.006\n",
    "s_P2 = 0.0044"
   ]
  },
  {
   "cell_type": "code",
   "execution_count": 61,
   "metadata": {},
   "outputs": [
    {
     "output_type": "display_data",
     "data": {
      "text/plain": "<IPython.core.display.Latex object>",
      "text/latex": "\\[\n\\begin{aligned}\n\\zeta_{P2} &= k_{0} \\cdot n_{P2} \\cdot \\left( \\frac{ h_{P2} }{ D_{P2} } \\right) ^{ k_{1} } \\cdot \\left( \\frac{ s_{P2} }{ D_{P2} } \\right) \\\\&= 2{,}7 \\cdot 2 \\cdot \\left( \\frac{ 0{,}006 }{ 4{,}450 \\times 10 ^ {-2 } } \\right) ^{ 0{,}0 } \\cdot \\left( \\frac{ 4{,}400 \\times 10 ^ {-3 } }{ 4{,}450 \\times 10 ^ {-2 } } \\right) \\\\&= 1{,}071  \\\\\n\\end{aligned}\n\\]"
     },
     "metadata": {}
    }
   ],
   "source": [
    "%%render\n",
    "zeta_P2 = k_0*n_P2*(h_P2/D_P2)**k_1 * (s_P2/D_P2)**-k_2 * Re_P2**-k_3"
   ]
  },
  {
   "source": [
    "Tlaková ztráta"
   ],
   "cell_type": "markdown",
   "metadata": {}
  },
  {
   "cell_type": "code",
   "execution_count": 62,
   "metadata": {},
   "outputs": [
    {
     "output_type": "display_data",
     "data": {
      "text/plain": "<IPython.core.display.Latex object>",
      "text/latex": "\\[\n\\begin{aligned}\n\\Delta_{p_{P2}} &= \\zeta_{P2} \\cdot \\left( \\frac{ \\left( w_{P2} \\right) ^{ 2 } }{ 2 } \\right) \\cdot \\rho_{sp}  = 1{,}071 \\cdot \\left( \\frac{ \\left( 15{,}9 \\right) ^{ 2 } }{ 2 } \\right) \\cdot 1{,}269 &= 171{,}827 \\; \\;\\textrm{(Pa)}\n\\end{aligned}\n\\]"
     },
     "metadata": {}
    }
   ],
   "source": [
    "%%render\n",
    "Delta_p_P2 = zeta_P2 * ((w_P2)**2 / 2) * rho_sp #Pa"
   ]
  },
  {
   "cell_type": "code",
   "execution_count": 63,
   "metadata": {},
   "outputs": [
    {
     "output_type": "display_data",
     "data": {
      "text/plain": "<IPython.core.display.Latex object>",
      "text/latex": "\\[\n\\begin{aligned}\n\\zeta_{P1} &= k_{0} \\cdot n_{P1} \\cdot \\left( \\frac{ h_{P1} }{ D_{P1} } \\right) ^{ k_{1} } \\cdot \\left( \\frac{ s_{P1} }{ D_{P1} } \\right) \\\\&= 2{,}7 \\cdot 2 \\cdot \\left( \\frac{ 0{,}007 }{ 4{,}450 \\times 10 ^ {-2 } } \\right) ^{ 0{,}0 } \\cdot \\left( \\frac{ 0{,}005 }{ 4{,}450 \\times 10 ^ {-2 } } \\right) \\\\&= 9{,}514 \\times 10 ^ {-1 }  \\\\\n\\end{aligned}\n\\]"
     },
     "metadata": {}
    }
   ],
   "source": [
    "%%render\n",
    "zeta_P1 = k_0*n_P1*(h_P1/D_P1)**k_1 * (s_P1/D_P1)**-k_2 * Re_P1**-k_3"
   ]
  },
  {
   "cell_type": "code",
   "execution_count": 64,
   "metadata": {},
   "outputs": [
    {
     "output_type": "display_data",
     "data": {
      "text/plain": "<IPython.core.display.Latex object>",
      "text/latex": "\\[\n\\begin{aligned}\n\\Delta_{p_{P1}} &= \\zeta_{P1} \\cdot \\left( \\frac{ \\left( w_{P1} \\right) ^{ 2 } }{ 2 } \\right) \\cdot \\rho_{sp}  = 9{,}514 \\times 10 ^ {-1 } \\cdot \\left( \\frac{ \\left( 15{,}381 \\right) ^{ 2 } }{ 2 } \\right) \\cdot 1{,}269 &= 142{,}793 \\; \\;\\textrm{(Pa)}\n\\end{aligned}\n\\]"
     },
     "metadata": {}
    }
   ],
   "source": [
    "%%render\n",
    "Delta_p_P1 = zeta_P1 * ((w_P1)**2 / 2) * rho_sp #Pa"
   ]
  },
  {
   "cell_type": "code",
   "execution_count": 65,
   "metadata": {},
   "outputs": [
    {
     "output_type": "display_data",
     "data": {
      "text/plain": "<IPython.core.display.Latex object>",
      "text/latex": "\\[\n\\begin{aligned}\n\\zeta_{V2} &= k_{0} \\cdot n_{V2} \\cdot \\left( \\frac{ h_{V2} }{ D_{V2} } \\right) ^{ k_{1} } \\cdot \\left( \\frac{ s_{V2} }{ D_{V2} } \\right) \\\\&= 2{,}7 \\cdot 6 \\cdot \\left( \\frac{ 0{,}01 }{ 0{,}038 } \\right) ^{ 0{,}0 } \\cdot \\left( \\frac{ 4{,}400 \\times 10 ^ {-3 } }{ 0{,}038 } \\right) \\\\&= 2{,}668  \\\\\n\\end{aligned}\n\\]"
     },
     "metadata": {}
    }
   ],
   "source": [
    "%%render\n",
    "zeta_V2 = k_0*n_V2*(h_V2/D_V2)**k_1 * (s_V2/D_V2)**-k_2 * Re_V2**-k_3"
   ]
  },
  {
   "cell_type": "code",
   "execution_count": 66,
   "metadata": {},
   "outputs": [
    {
     "output_type": "display_data",
     "data": {
      "text/plain": "<IPython.core.display.Latex object>",
      "text/latex": "\\[\n\\begin{aligned}\n\\Delta_{p_{V2}} &= \\zeta_{V2} \\cdot \\left( \\frac{ \\left( w_{V2} \\right) ^{ 2 } }{ 2 } \\right) \\cdot \\rho_{sp}  = 2{,}668 \\cdot \\left( \\frac{ \\left( 11{,}294 \\right) ^{ 2 } }{ 2 } \\right) \\cdot 1{,}269 &= 215{,}88 \\; \\;\\textrm{(Pa)}\n\\end{aligned}\n\\]"
     },
     "metadata": {}
    }
   ],
   "source": [
    "%%render\n",
    "Delta_p_V2 = zeta_V2 * ((w_V2)**2 / 2) * rho_sp #Pa"
   ]
  },
  {
   "cell_type": "code",
   "execution_count": 67,
   "metadata": {},
   "outputs": [
    {
     "output_type": "display_data",
     "data": {
      "text/plain": "<IPython.core.display.Latex object>",
      "text/latex": "\\[\n\\begin{aligned}\n\\zeta_{V1} &= k_{0} \\cdot n_{V1} \\cdot \\left( \\frac{ h_{V1} }{ D_{V1} } \\right) ^{ k_{1} } \\cdot \\left( \\frac{ s_{V1} }{ D_{V1} } \\right) \\\\&= 2{,}7 \\cdot 12 \\cdot \\left( \\frac{ 0{,}016 }{ 0{,}038 } \\right) ^{ 0{,}0 } \\cdot \\left( \\frac{ 4{,}400 \\times 10 ^ {-3 } }{ 0{,}038 } \\right) \\\\&= 5{,}7  \\\\\n\\end{aligned}\n\\]"
     },
     "metadata": {}
    }
   ],
   "source": [
    "%%render\n",
    "zeta_V1 = k_0*n_V1*(h_V1/D_V1)**k_1 * (s_V1/D_V1)**-k_2 * Re_V1**-k_3"
   ]
  },
  {
   "cell_type": "code",
   "execution_count": 68,
   "metadata": {},
   "outputs": [
    {
     "output_type": "display_data",
     "data": {
      "text/plain": "<IPython.core.display.Latex object>",
      "text/latex": "\\[\n\\begin{aligned}\n\\Delta_{p_{V1}} &= \\zeta_{V1} \\cdot \\left( \\frac{ \\left( w_{V1} \\right) ^{ 2 } }{ 2 } \\right) \\cdot \\rho_{sp}  = 5{,}7 \\cdot \\left( \\frac{ \\left( 12{,}679 \\right) ^{ 2 } }{ 2 } \\right) \\cdot 1{,}269 &= 581{,}332 \\; \\;\\textrm{(Pa)}\n\\end{aligned}\n\\]"
     },
     "metadata": {}
    }
   ],
   "source": [
    "%%render\n",
    "Delta_p_V1 = zeta_V1 * ((w_V1)**2 / 2) * rho_sp #Pa"
   ]
  },
  {
   "cell_type": "code",
   "execution_count": 69,
   "metadata": {},
   "outputs": [
    {
     "output_type": "display_data",
     "data": {
      "text/plain": "<IPython.core.display.Latex object>",
      "text/latex": "\\[\n\\begin{aligned}\n\\zeta_{EKO2} &= k_{0} \\cdot n_{EKO2} \\cdot \\left( \\frac{ h_{EKO2} }{ D_{EKO2} } \\right) ^{ k_{1} } \\cdot \\left( \\frac{ s_{EKO2} }{ D_{EKO2} } \\right) \\\\&= 2{,}7 \\cdot 5 \\cdot \\left( \\frac{ 0{,}016 }{ 3{,}180 \\times 10 ^ {-2 } } \\right) ^{ 0{,}0 } \\cdot \\left( \\frac{ 4{,}400 \\times 10 ^ {-3 } }{ 3{,}180 \\times 10 ^ {-2 } } \\right) \\\\&= 1{,}998  \\\\\n\\end{aligned}\n\\]"
     },
     "metadata": {}
    }
   ],
   "source": [
    "%%render\n",
    "zeta_EKO2 = k_0*n_EKO2*(h_EKO2/D_EKO2)**k_1 * (s_EKO2/D_EKO2)**-k_2 * Re_EKO2**-k_3"
   ]
  },
  {
   "cell_type": "code",
   "execution_count": 70,
   "metadata": {},
   "outputs": [
    {
     "output_type": "display_data",
     "data": {
      "text/plain": "<IPython.core.display.Latex object>",
      "text/latex": "\\[\n\\begin{aligned}\n\\Delta_{p_{EKO2}} &= \\zeta_{EKO2} \\cdot \\left( \\frac{ \\left( w_{EKO2} \\right) ^{ 2 } }{ 2 } \\right) \\cdot \\rho_{sp}  = 1{,}998 \\cdot \\left( \\frac{ \\left( 8{,}491 \\right) ^{ 2 } }{ 2 } \\right) \\cdot 1{,}269 &= 91{,}406 \\; \\;\\textrm{(Pa)}\n\\end{aligned}\n\\]"
     },
     "metadata": {}
    }
   ],
   "source": [
    "%%render\n",
    "Delta_p_EKO2 = zeta_EKO2 * ((w_EKO2)**2 / 2) * rho_sp #Pa"
   ]
  },
  {
   "cell_type": "code",
   "execution_count": 71,
   "metadata": {},
   "outputs": [
    {
     "output_type": "display_data",
     "data": {
      "text/plain": "<IPython.core.display.Latex object>",
      "text/latex": "\\[\n\\begin{aligned}\n\\zeta_{EKO1} &= k_{0} \\cdot n_{EKO1} \\cdot \\left( \\frac{ h_{EKO1} }{ D_{EKO1} } \\right) ^{ k_{1} } \\cdot \\left( \\frac{ s_{EKO1} }{ D_{EKO1} } \\right) \\\\&= 2{,}7 \\cdot 16 \\cdot \\left( \\frac{ 0{,}016 }{ 3{,}180 \\times 10 ^ {-2 } } \\right) ^{ 0{,}0 } \\cdot \\left( \\frac{ 4{,}400 \\times 10 ^ {-3 } }{ 3{,}180 \\times 10 ^ {-2 } } \\right) \\\\&= 6{,}26  \\\\\n\\end{aligned}\n\\]"
     },
     "metadata": {}
    }
   ],
   "source": [
    "%%render\n",
    "zeta_EKO1 = k_0*n_EKO1*(h_EKO1/D_EKO1)**k_1 * (s_EKO1/D_EKO1)**-k_2 * Re_EKO1**-k_3"
   ]
  },
  {
   "cell_type": "code",
   "execution_count": 72,
   "metadata": {},
   "outputs": [
    {
     "output_type": "display_data",
     "data": {
      "text/plain": "<IPython.core.display.Latex object>",
      "text/latex": "\\[\n\\begin{aligned}\n\\Delta_{p_{EKO1}} &= \\zeta_{EKO1} \\cdot \\left( \\frac{ \\left( w_{EKO1} \\right) ^{ 2 } }{ 2 } \\right) \\cdot \\rho_{sp}  = 6{,}26 \\cdot \\left( \\frac{ \\left( 7{,}602 \\right) ^{ 2 } }{ 2 } \\right) \\cdot 1{,}269 &= 229{,}511 \\; \\;\\textrm{(Pa)}\n\\end{aligned}\n\\]"
     },
     "metadata": {}
    }
   ],
   "source": [
    "%%render\n",
    "Delta_p_EKO1 = zeta_EKO1 * ((w_EKO1)**2 / 2) * rho_sp #Pa"
   ]
  },
  {
   "source": [
    "## Tlaková ztráta komína"
   ],
   "cell_type": "markdown",
   "metadata": {}
  },
  {
   "source": [
    "Tlaková ztráta klapky a tlumiče"
   ],
   "cell_type": "markdown",
   "metadata": {}
  },
  {
   "cell_type": "code",
   "execution_count": 73,
   "metadata": {},
   "outputs": [
    {
     "output_type": "display_data",
     "data": {
      "text/plain": "<IPython.core.display.Latex object>",
      "text/latex": "\\[\n\\begin{aligned}\n\\Delta_{p_{0}} &= 500 \\; \\;\\textrm{(Pa)}\n\\end{aligned}\n\\]"
     },
     "metadata": {}
    }
   ],
   "source": [
    "%%render\n",
    "Delta_p_0 = 500 #Pa"
   ]
  },
  {
   "source": [
    "Průtočná plocha komína"
   ],
   "cell_type": "markdown",
   "metadata": {}
  },
  {
   "cell_type": "code",
   "execution_count": 74,
   "metadata": {},
   "outputs": [],
   "source": [
    "d_kom = 3.2 # z výkresu Heat Balance"
   ]
  },
  {
   "cell_type": "code",
   "execution_count": 75,
   "metadata": {},
   "outputs": [
    {
     "output_type": "display_data",
     "data": {
      "text/plain": "<IPython.core.display.Latex object>",
      "text/latex": "\\[\n\\begin{aligned}\nS_{kom} &= \\frac{ \\pi \\cdot \\left( d_{kom} \\right) ^{ 2 } }{ 4 }  = \\frac{ 3{,}142 \\cdot \\left( 3{,}2 \\right) ^{ 2 } }{ 4 } &= 8{,}042 \\; \\;\\textrm{(m2)}\n\\end{aligned}\n\\]"
     },
     "metadata": {}
    }
   ],
   "source": [
    "%%render\n",
    "S_kom = (pi*d_kom**2) / 4   #m2"
   ]
  },
  {
   "source": [
    "Objemový průtok spalin na vstupu do komína"
   ],
   "cell_type": "markdown",
   "metadata": {}
  },
  {
   "cell_type": "code",
   "execution_count": 86,
   "metadata": {},
   "outputs": [
    {
     "output_type": "display_data",
     "data": {
      "text/plain": "<IPython.core.display.Latex object>",
      "text/latex": "\\[\n\\begin{aligned}\nV_{kom} &= V_{sp} \\cdot \\left( \\frac{ \\mathrm{tG} + 273{,}15 }{ 273{,}15 } \\right)  = 102{,}534 \\cdot \\left( \\frac{ 145{,}0 + 273{,}15 }{ 273{,}15 } \\right) &= 156{,}963 \\; \\;\\textrm{(m3/s)}\n\\end{aligned}\n\\]"
     },
     "metadata": {}
    }
   ],
   "source": [
    "%%render\n",
    "V_kom = V_sp * ((tG+273.15)/273.15) #m3/s"
   ]
  },
  {
   "source": [
    "Rychlost spalin v komíně"
   ],
   "cell_type": "markdown",
   "metadata": {}
  },
  {
   "cell_type": "code",
   "execution_count": 90,
   "metadata": {},
   "outputs": [
    {
     "output_type": "display_data",
     "data": {
      "text/plain": "<IPython.core.display.Latex object>",
      "text/latex": "\\[\n\\begin{aligned}\nw_{kom} &= \\frac{ V_{kom} }{ S_{kom} }  = \\frac{ 156{,}963 }{ 8{,}042 } &= 19{,}517 \\; \\;\\textrm{(m/s)}\n\\end{aligned}\n\\]"
     },
     "metadata": {}
    }
   ],
   "source": [
    "%%render\n",
    "w_kom = V_kom / S_kom   #m/s"
   ]
  },
  {
   "source": [
    "#### Místní tlaková ztráta na vstupu a výstupu z komína\n",
    "\n",
    "$\\zeta_vstup$ a $\\zeta_{výstup} = 1$ pro vstup i výstup z komína (Dlouhý skripta)"
   ],
   "cell_type": "markdown",
   "metadata": {}
  },
  {
   "cell_type": "code",
   "execution_count": 91,
   "metadata": {},
   "outputs": [],
   "source": [
    "zeta_in = 1\n",
    "zeta_out = 1"
   ]
  },
  {
   "cell_type": "code",
   "execution_count": 94,
   "metadata": {},
   "outputs": [
    {
     "output_type": "display_data",
     "data": {
      "text/plain": "<IPython.core.display.Latex object>",
      "text/latex": "\\[\n\\begin{aligned}\n\\Delta_{p_{1}} &= \\left( \\zeta_{in} + \\zeta_{out} \\right) \\cdot \\left( \\frac{ \\left( w_{kom} \\right) ^{ 2 } }{ 2 } \\right) \\cdot \\rho_{sp} \\\\&= \\left( 1 + 1 \\right) \\cdot \\left( \\frac{ \\left( 19{,}517 \\right) ^{ 2 } }{ 2 } \\right) \\cdot 1{,}269 \\\\&= 483{,}309 \\; \\;\\textrm{(Pa)}\\\\\n\\end{aligned}\n\\]"
     },
     "metadata": {}
    }
   ],
   "source": [
    "%%render\n",
    "Delta_p_1 = (zeta_in+zeta_out) * (w_kom**2 / 2) * rho_sp    #Pa"
   ]
  },
  {
   "source": [
    "#### Tlaková ztráta třením v komíně\n",
    "\n",
    "$\\lambda_{kom}$ pro cihly je 0.04 a pro plech je 0.03. Uvažuju cihly, tzn. 0.04"
   ],
   "cell_type": "markdown",
   "metadata": {}
  },
  {
   "cell_type": "code",
   "execution_count": 96,
   "metadata": {},
   "outputs": [],
   "source": [
    "lambda_kom = 0.04\n",
    "H_kom = 49.5    #m Výška komína od místa vstupu spalin"
   ]
  },
  {
   "cell_type": "code",
   "execution_count": 98,
   "metadata": {},
   "outputs": [
    {
     "output_type": "display_data",
     "data": {
      "text/plain": "<IPython.core.display.Latex object>",
      "text/latex": "\\[\n\\begin{aligned}\n\\Delta_{p_{2}} &= \\mathrm{lambda}_{kom} \\cdot \\left( \\frac{ H_{kom} }{ d_{kom} } \\right) \\cdot \\left( \\frac{ \\left( w_{kom} \\right) ^{ 2 } }{ 2 } \\right) \\cdot \\rho_{sp} \\\\&= 0{,}04 \\cdot \\left( \\frac{ 49{,}5 }{ 3{,}2 } \\right) \\cdot \\left( \\frac{ \\left( 19{,}517 \\right) ^{ 2 } }{ 2 } \\right) \\cdot 1{,}269 \\\\&= 149{,}524 \\; \\;\\textrm{(Pa)}\\\\\n\\end{aligned}\n\\]"
     },
     "metadata": {}
    }
   ],
   "source": [
    "%%render\n",
    "Delta_p_2 = lambda_kom * (H_kom / d_kom) * (w_kom**2 / 2) * rho_sp  #Pa"
   ]
  },
  {
   "source": [
    "#### Vztlak komína"
   ],
   "cell_type": "markdown",
   "metadata": {}
  },
  {
   "cell_type": "code",
   "execution_count": 116,
   "metadata": {},
   "outputs": [],
   "source": [
    "rho_vz = 1.226  #pro tlak 1 atm a teplotu 15 °C\n",
    "g = 9.81"
   ]
  },
  {
   "cell_type": "code",
   "execution_count": 117,
   "metadata": {},
   "outputs": [
    {
     "output_type": "display_data",
     "data": {
      "text/plain": "<IPython.core.display.Latex object>",
      "text/latex": "\\[\n\\begin{aligned}\n\\Delta_{p_{vz}} &= H_{kom} \\cdot \\left( \\rho_{vz} - \\rho_{sp} \\cdot \\left( \\frac{ 273{,}15 }{ 273{,}15 + \\mathrm{tG} } \\right) \\right) \\cdot g \\\\&= 49{,}5 \\cdot \\left( 1{,}226 - 1{,}269 \\cdot \\left( \\frac{ 273{,}15 }{ 273{,}15 + 145{,}0 } \\right) \\right) \\cdot 9{,}81 \\\\&= 192{,}85 \\; \\;\\textrm{(Pa)}\\\\\n\\end{aligned}\n\\]"
     },
     "metadata": {}
    }
   ],
   "source": [
    "%%render\n",
    "Delta_p_vz = H_kom * (rho_vz-rho_sp* (273.15/(273.15+tG))) * g  #Pa"
   ]
  },
  {
   "source": [
    "#### Celková ztráta komína"
   ],
   "cell_type": "markdown",
   "metadata": {}
  },
  {
   "cell_type": "code",
   "execution_count": 118,
   "metadata": {},
   "outputs": [
    {
     "output_type": "display_data",
     "data": {
      "text/plain": "<IPython.core.display.Latex object>",
      "text/latex": "\\[\n\\begin{aligned}\n\\Delta_{p_{kom}} &= \\Delta_{p_{0}} + \\Delta_{p_{1}} + \\Delta_{p_{2}} - \\Delta_{p_{vz}}  = 500 + 483{,}309 + 149{,}524 - 192{,}85 &= 939{,}983 \\; \\;\\textrm{(Pa)}\n\\end{aligned}\n\\]"
     },
     "metadata": {}
    }
   ],
   "source": [
    "%%render\n",
    "Delta_p_kom = Delta_p_0 + Delta_p_1 + Delta_p_2 - Delta_p_vz    #Pa"
   ]
  },
  {
   "source": [
    "#### Celková tahová ztráta"
   ],
   "cell_type": "markdown",
   "metadata": {}
  },
  {
   "cell_type": "code",
   "execution_count": 119,
   "metadata": {},
   "outputs": [
    {
     "output_type": "display_data",
     "data": {
      "text/plain": "<IPython.core.display.Latex object>",
      "text/latex": "\\[\n\\begin{aligned}\n\\Delta_{p} &= \\Delta_{p_{P2}} + \\Delta_{p_{P1}} + \\Delta_{p_{V2}} + \\Delta_{p_{V1}} + \\Delta_{p_{EKO2}} + \\Delta_{p_{EKO1}} + \\Delta_{p_{kom}} \\\\&= 171{,}827 + 142{,}793 + 215{,}88 + 581{,}332 + 91{,}406 + 229{,}511 + 939{,}983 \\\\&= 2372{,}733 \\; \\;\\textrm{(Pa)}\\\\\n\\end{aligned}\n\\]"
     },
     "metadata": {}
    }
   ],
   "source": [
    "%%render\n",
    "Delta_p = Delta_p_P2 + Delta_p_P1 + Delta_p_V2 + Delta_p_V1 + Delta_p_EKO2 + Delta_p_EKO1 + Delta_p_kom #Pa"
   ]
  },
  {
   "cell_type": "code",
   "execution_count": null,
   "metadata": {},
   "outputs": [],
   "source": []
  }
 ]
}